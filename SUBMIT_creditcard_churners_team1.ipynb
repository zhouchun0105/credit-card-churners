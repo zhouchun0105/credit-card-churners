{
  "nbformat": 4,
  "nbformat_minor": 0,
  "metadata": {
    "colab": {
      "name": "SUBMIT: creditcard-churners-team1.ipynb",
      "provenance": [],
      "collapsed_sections": [],
      "include_colab_link": true
    },
    "kernelspec": {
      "name": "python3",
      "display_name": "Python 3"
    },
    "language_info": {
      "name": "python"
    }
  },
  "cells": [
    {
      "cell_type": "markdown",
      "metadata": {
        "id": "view-in-github",
        "colab_type": "text"
      },
      "source": [
        "<a href=\"https://colab.research.google.com/github/zhouchun0105/credit-card-churners/blob/main/SUBMIT_creditcard_churners_team1.ipynb\" target=\"_parent\"><img src=\"https://colab.research.google.com/assets/colab-badge.svg\" alt=\"Open In Colab\"/></a>"
      ]
    },
    {
      "cell_type": "markdown",
      "metadata": {
        "id": "3t25mxp-rh3j"
      },
      "source": [
        "# **Credit Card Customer Churn Analysis**"
      ]
    },
    {
      "cell_type": "markdown",
      "metadata": {
        "id": "YZEBJkkurplZ"
      },
      "source": [
        "Team 1, Afternoon Session\n",
        "\n",
        "Ana Maharjan, Ann Lu, Chun Zhou, Phyllis Cao, Yuhan Wang, Zijing Wang\n",
        "\n",
        "2021/08/26\n",
        "\n",
        "\n",
        "\n"
      ]
    },
    {
      "cell_type": "markdown",
      "metadata": {
        "id": "IHqOosRxhK5q"
      },
      "source": [
        "# **Introduction**"
      ]
    },
    {
      "cell_type": "markdown",
      "metadata": {
        "id": "aSKOtv6YhNh9"
      },
      "source": [
        "A manager at the bank wants to know why customers stop their credit card services. Our goal is to perform churn rate analysis to find the relationship between churning with customer attributes, customer activities, credit card attributes and bank services. This helps the bank reduce the cost of customer retention."
      ]
    },
    {
      "cell_type": "markdown",
      "metadata": {
        "id": "GGyvbXs3r4sN"
      },
      "source": [
        "## **Following are a few questions that we aim to answer through our analysis**"
      ]
    },
    {
      "cell_type": "markdown",
      "metadata": {
        "id": "pdx-eZ3LdsCP"
      },
      "source": [
        "\n",
        "1.\tWhat is the overall churn rate of our customer?\n",
        "2.\tWhat is our user portrait like in terms of age, gender, educational level and income?\n",
        "3.\tWhat age group of customers has a higher tendency to churn?\n",
        "4.\tWhich education category of customers has a higher tendency to churn?\n",
        "5.\tWhich income category of customers has a higher tendency to churn?\n",
        "6.\tWhich marriage type of customers has a higher tendency to churn?\n",
        "7.\tHow does dependent count influence churn rate?\n",
        "8.\tWhich card type of customers has a higher tendency to churn?\n",
        "9.\tHow does credit limit affect churn rate?\n",
        "10.\tHow does the number of contacts by sales representative in the past 12 month affect churn rate?\n",
        "11.\tHow does time length as being our customer affect churn rate?\n",
        "12.\tHow does the number of other existing service affect churn rate?\n",
        "13.\tHow does transaction amount affect churn rate?\n",
        "14.\tHow does revolving balance affect churn rate?\n"
      ]
    },
    {
      "cell_type": "markdown",
      "metadata": {
        "id": "zulwSLiLYmHt"
      },
      "source": [
        "# **Data Source**"
      ]
    },
    {
      "cell_type": "markdown",
      "metadata": {
        "id": "iNd2ufSSYokl"
      },
      "source": [
        "The dataset is from:\n",
        "LEAPS https://leaps.analyttica.com/\n",
        "\n",
        "Kaggle URL for your reference:\n",
        ": https://www.kaggle.com/sakshigoyal7/credit-card-customers"
      ]
    },
    {
      "cell_type": "markdown",
      "metadata": {
        "id": "bFQWTUWGeTpa"
      },
      "source": [
        "# **Description of Data**"
      ]
    },
    {
      "cell_type": "markdown",
      "metadata": {
        "id": "R368iixlDcWi"
      },
      "source": [
        "The data is about credit card customer, product and service. It has 21 features and 10128 rows. Customer demographic feature, customer card activity, credit card feature, and service feature are included. The detailed feature names and their explanations are shown below:\n",
        "\n"
      ]
    },
    {
      "cell_type": "markdown",
      "metadata": {
        "id": "Xp6trzQNhZrs"
      },
      "source": [
        "*CLIENTNUM*: Client number. Unique identifier for the customer holding the account\n",
        "\n",
        "*Attrition_Flag*: customer activity variable - if the account is closed then 1 else 0\n",
        "\n",
        "*Customer_Age*: Demographic variable - Customer's Age in Years\n",
        "\n",
        "*Gender*: Demographic variable - M=Male, F=Female\n",
        "\n",
        "*Dependent_count*: Demographic variable - Number of dependents\n",
        "\n",
        "*Education_Level*: Demographic variable - Educational Qualification of the account holder (example: high school, college graduate, etc.)\n",
        "\n",
        "*Marital_Status*: Demographic variable - Married, Single, Divorced, Unknown\n",
        "\n",
        "*Income_Category*: Demographic variable - Annual Income Category of the account holder (<  40𝐾,\n",
        "40\n",
        "K\n",
        ",\n",
        " 40K - 60K,  60𝐾−\n",
        "60\n",
        "K\n",
        "−\n",
        " 80K,  80𝐾−\n",
        "80\n",
        "K\n",
        "−\n",
        " 120K, > $120K, Unknown)\n",
        "\n",
        "*Card_Category*: Product Variable - Type of Card (Blue, Silver, Gold, Platinum)\n",
        "\n",
        "*Months_on_book*: Period of relationship with bank\n",
        "\n",
        "*Total_Relationship_Count*: Total no. of products held by the customer\n",
        "\n",
        "*Months_Inactive_12_mon*: No. of months inactive in the last 12 months\n",
        "\n",
        "*Contacts_Count_12_mon*: No. of Contacts in the last 12 months\n",
        "\n",
        "*Credit_Limit*: Credit Limit on the Credit Card\n",
        "\n",
        "*Total_Revolving_Bal*: Total Revolving Balance on the Credit Card\n",
        "\n",
        "*Avg_Open_To_Buy*: Open to Buy Credit Line (Average of last 12 months)\n",
        "\n",
        "*Total_Amt_Chng_Q4_Q1*: Change in Transaction Amount (Q4 over Q1)\n",
        "\n",
        "*Total_Trans_Amt*: Total Transaction Amount (Last 12 months)\n",
        "\n",
        "*Total_Trans_Ct*: Total Transaction Count (Last 12 months)\n",
        "\n",
        "*Total_Ct_Chng_Q4_Q1*: Change in Transaction Count (Q4 over Q1)\n",
        "\n",
        "*Avg_Utilization_Ratio*: Average Card Utilization Ratio"
      ]
    },
    {
      "cell_type": "markdown",
      "metadata": {
        "id": "9ngs5TTvZQrb"
      },
      "source": [
        "#**Preliminary**"
      ]
    },
    {
      "cell_type": "markdown",
      "metadata": {
        "id": "3UBxtIzRZaod"
      },
      "source": [
        "We first connect google colab with the Bigquery dataset. And we also import packages for later use."
      ]
    },
    {
      "cell_type": "code",
      "metadata": {
        "id": "CAuPh33xcc8J"
      },
      "source": [
        "from google.colab import auth\n",
        "auth.authenticate_user()"
      ],
      "execution_count": 1,
      "outputs": []
    },
    {
      "cell_type": "code",
      "metadata": {
        "id": "nRy5KzG2ZrPy"
      },
      "source": [
        "from IPython.display import Image"
      ],
      "execution_count": null,
      "outputs": []
    },
    {
      "cell_type": "markdown",
      "metadata": {
        "id": "mw1t1PfqZyse"
      },
      "source": [
        "Then we take a preview of the dataset."
      ]
    },
    {
      "cell_type": "code",
      "metadata": {
        "colab": {
          "base_uri": "https://localhost:8080/",
          "height": 379
        },
        "id": "-l5xKc9288YM",
        "outputId": "79b9c040-cccd-4abc-ff3f-63de71aa5380"
      },
      "source": [
        "%%bigquery --project=ba775-team-project\n",
        "SELECT *\n",
        "FROM `ba775-team-project.bankchurners.bankchurners`\n",
        "LIMIT 10;"
      ],
      "execution_count": null,
      "outputs": [
        {
          "output_type": "execute_result",
          "data": {
            "text/html": [
              "<div>\n",
              "<style scoped>\n",
              "    .dataframe tbody tr th:only-of-type {\n",
              "        vertical-align: middle;\n",
              "    }\n",
              "\n",
              "    .dataframe tbody tr th {\n",
              "        vertical-align: top;\n",
              "    }\n",
              "\n",
              "    .dataframe thead th {\n",
              "        text-align: right;\n",
              "    }\n",
              "</style>\n",
              "<table border=\"1\" class=\"dataframe\">\n",
              "  <thead>\n",
              "    <tr style=\"text-align: right;\">\n",
              "      <th></th>\n",
              "      <th>CLIENTNUM</th>\n",
              "      <th>Attrition_Flag</th>\n",
              "      <th>Customer_Age</th>\n",
              "      <th>Gender</th>\n",
              "      <th>Dependent_count</th>\n",
              "      <th>Education_Level</th>\n",
              "      <th>Marital_Status</th>\n",
              "      <th>Income_Category</th>\n",
              "      <th>Card_Category</th>\n",
              "      <th>Months_on_book</th>\n",
              "      <th>Total_Relationship_Count</th>\n",
              "      <th>Months_Inactive_12_mon</th>\n",
              "      <th>Contacts_Count_12_mon</th>\n",
              "      <th>Credit_Limit</th>\n",
              "      <th>Total_Revolving_Bal</th>\n",
              "      <th>Avg_Open_To_Buy</th>\n",
              "      <th>Total_Amt_Chng_Q4_Q1</th>\n",
              "      <th>Total_Trans_Amt</th>\n",
              "      <th>Total_Trans_Ct</th>\n",
              "      <th>Total_Ct_Chng_Q4_Q1</th>\n",
              "      <th>Avg_Utilization_Ratio</th>\n",
              "      <th>Naive_Bayes_Classifier_Attrition_Flag_Card_Category_Contacts_Count_12_mon_Dependent_count_Education_Level_Months_Inactive_12_mon_1</th>\n",
              "      <th>Naive_Bayes_Classifier_Attrition_Flag_Card_Category_Contacts_Count_12_mon_Dependent_count_Education_Level_Months_Inactive_12_mon_2</th>\n",
              "    </tr>\n",
              "  </thead>\n",
              "  <tbody>\n",
              "    <tr>\n",
              "      <th>0</th>\n",
              "      <td>826077033</td>\n",
              "      <td>Attrited Customer</td>\n",
              "      <td>46</td>\n",
              "      <td>F</td>\n",
              "      <td>2</td>\n",
              "      <td>Unknown</td>\n",
              "      <td>Married</td>\n",
              "      <td>Less than $40K</td>\n",
              "      <td>Blue</td>\n",
              "      <td>42</td>\n",
              "      <td>1</td>\n",
              "      <td>0</td>\n",
              "      <td>4</td>\n",
              "      <td>2002.0</td>\n",
              "      <td>0</td>\n",
              "      <td>2002.0</td>\n",
              "      <td>0.803</td>\n",
              "      <td>2423</td>\n",
              "      <td>39</td>\n",
              "      <td>0.857</td>\n",
              "      <td>0.000</td>\n",
              "      <td>0.984680</td>\n",
              "      <td>0.01532</td>\n",
              "    </tr>\n",
              "    <tr>\n",
              "      <th>1</th>\n",
              "      <td>709918158</td>\n",
              "      <td>Existing Customer</td>\n",
              "      <td>43</td>\n",
              "      <td>M</td>\n",
              "      <td>3</td>\n",
              "      <td>High School</td>\n",
              "      <td>Married</td>\n",
              "      <td>$80K - $120K</td>\n",
              "      <td>Blue</td>\n",
              "      <td>23</td>\n",
              "      <td>5</td>\n",
              "      <td>6</td>\n",
              "      <td>1</td>\n",
              "      <td>12315.0</td>\n",
              "      <td>0</td>\n",
              "      <td>12315.0</td>\n",
              "      <td>0.895</td>\n",
              "      <td>2028</td>\n",
              "      <td>51</td>\n",
              "      <td>0.545</td>\n",
              "      <td>0.000</td>\n",
              "      <td>0.000086</td>\n",
              "      <td>0.99991</td>\n",
              "    </tr>\n",
              "    <tr>\n",
              "      <th>2</th>\n",
              "      <td>714757908</td>\n",
              "      <td>Existing Customer</td>\n",
              "      <td>46</td>\n",
              "      <td>M</td>\n",
              "      <td>4</td>\n",
              "      <td>Graduate</td>\n",
              "      <td>Married</td>\n",
              "      <td>$120K +</td>\n",
              "      <td>Silver</td>\n",
              "      <td>36</td>\n",
              "      <td>4</td>\n",
              "      <td>1</td>\n",
              "      <td>3</td>\n",
              "      <td>34516.0</td>\n",
              "      <td>1380</td>\n",
              "      <td>33136.0</td>\n",
              "      <td>0.660</td>\n",
              "      <td>2163</td>\n",
              "      <td>56</td>\n",
              "      <td>0.400</td>\n",
              "      <td>0.040</td>\n",
              "      <td>0.000088</td>\n",
              "      <td>0.99991</td>\n",
              "    </tr>\n",
              "    <tr>\n",
              "      <th>3</th>\n",
              "      <td>721067658</td>\n",
              "      <td>Existing Customer</td>\n",
              "      <td>40</td>\n",
              "      <td>M</td>\n",
              "      <td>4</td>\n",
              "      <td>Graduate</td>\n",
              "      <td>Married</td>\n",
              "      <td>$60K - $80K</td>\n",
              "      <td>Silver</td>\n",
              "      <td>36</td>\n",
              "      <td>6</td>\n",
              "      <td>1</td>\n",
              "      <td>3</td>\n",
              "      <td>27436.0</td>\n",
              "      <td>642</td>\n",
              "      <td>26794.0</td>\n",
              "      <td>0.705</td>\n",
              "      <td>4051</td>\n",
              "      <td>81</td>\n",
              "      <td>0.761</td>\n",
              "      <td>0.023</td>\n",
              "      <td>0.000088</td>\n",
              "      <td>0.99991</td>\n",
              "    </tr>\n",
              "    <tr>\n",
              "      <th>4</th>\n",
              "      <td>826451433</td>\n",
              "      <td>Existing Customer</td>\n",
              "      <td>42</td>\n",
              "      <td>M</td>\n",
              "      <td>4</td>\n",
              "      <td>Graduate</td>\n",
              "      <td>Single</td>\n",
              "      <td>$80K - $120K</td>\n",
              "      <td>Silver</td>\n",
              "      <td>38</td>\n",
              "      <td>2</td>\n",
              "      <td>1</td>\n",
              "      <td>3</td>\n",
              "      <td>34516.0</td>\n",
              "      <td>2273</td>\n",
              "      <td>32243.0</td>\n",
              "      <td>0.860</td>\n",
              "      <td>8502</td>\n",
              "      <td>103</td>\n",
              "      <td>0.717</td>\n",
              "      <td>0.066</td>\n",
              "      <td>0.000088</td>\n",
              "      <td>0.99991</td>\n",
              "    </tr>\n",
              "    <tr>\n",
              "      <th>5</th>\n",
              "      <td>708248358</td>\n",
              "      <td>Existing Customer</td>\n",
              "      <td>42</td>\n",
              "      <td>M</td>\n",
              "      <td>4</td>\n",
              "      <td>Graduate</td>\n",
              "      <td>Unknown</td>\n",
              "      <td>$60K - $80K</td>\n",
              "      <td>Silver</td>\n",
              "      <td>30</td>\n",
              "      <td>3</td>\n",
              "      <td>1</td>\n",
              "      <td>3</td>\n",
              "      <td>29937.0</td>\n",
              "      <td>0</td>\n",
              "      <td>29937.0</td>\n",
              "      <td>0.746</td>\n",
              "      <td>14863</td>\n",
              "      <td>109</td>\n",
              "      <td>0.627</td>\n",
              "      <td>0.000</td>\n",
              "      <td>0.000088</td>\n",
              "      <td>0.99991</td>\n",
              "    </tr>\n",
              "    <tr>\n",
              "      <th>6</th>\n",
              "      <td>717359208</td>\n",
              "      <td>Existing Customer</td>\n",
              "      <td>57</td>\n",
              "      <td>F</td>\n",
              "      <td>0</td>\n",
              "      <td>College</td>\n",
              "      <td>Married</td>\n",
              "      <td>Less than $40K</td>\n",
              "      <td>Blue</td>\n",
              "      <td>47</td>\n",
              "      <td>2</td>\n",
              "      <td>3</td>\n",
              "      <td>1</td>\n",
              "      <td>4945.0</td>\n",
              "      <td>1779</td>\n",
              "      <td>3166.0</td>\n",
              "      <td>0.536</td>\n",
              "      <td>4037</td>\n",
              "      <td>72</td>\n",
              "      <td>0.756</td>\n",
              "      <td>0.360</td>\n",
              "      <td>0.000091</td>\n",
              "      <td>0.99991</td>\n",
              "    </tr>\n",
              "    <tr>\n",
              "      <th>7</th>\n",
              "      <td>710822808</td>\n",
              "      <td>Existing Customer</td>\n",
              "      <td>51</td>\n",
              "      <td>M</td>\n",
              "      <td>0</td>\n",
              "      <td>College</td>\n",
              "      <td>Single</td>\n",
              "      <td>$80K - $120K</td>\n",
              "      <td>Blue</td>\n",
              "      <td>33</td>\n",
              "      <td>1</td>\n",
              "      <td>3</td>\n",
              "      <td>1</td>\n",
              "      <td>34516.0</td>\n",
              "      <td>1228</td>\n",
              "      <td>33288.0</td>\n",
              "      <td>0.747</td>\n",
              "      <td>7854</td>\n",
              "      <td>89</td>\n",
              "      <td>0.648</td>\n",
              "      <td>0.036</td>\n",
              "      <td>0.000091</td>\n",
              "      <td>0.99991</td>\n",
              "    </tr>\n",
              "    <tr>\n",
              "      <th>8</th>\n",
              "      <td>818235408</td>\n",
              "      <td>Existing Customer</td>\n",
              "      <td>30</td>\n",
              "      <td>M</td>\n",
              "      <td>0</td>\n",
              "      <td>College</td>\n",
              "      <td>Married</td>\n",
              "      <td>$60K - $80K</td>\n",
              "      <td>Blue</td>\n",
              "      <td>25</td>\n",
              "      <td>2</td>\n",
              "      <td>3</td>\n",
              "      <td>1</td>\n",
              "      <td>19534.0</td>\n",
              "      <td>0</td>\n",
              "      <td>19534.0</td>\n",
              "      <td>0.616</td>\n",
              "      <td>15634</td>\n",
              "      <td>118</td>\n",
              "      <td>0.639</td>\n",
              "      <td>0.000</td>\n",
              "      <td>0.000091</td>\n",
              "      <td>0.99991</td>\n",
              "    </tr>\n",
              "    <tr>\n",
              "      <th>9</th>\n",
              "      <td>789334458</td>\n",
              "      <td>Existing Customer</td>\n",
              "      <td>43</td>\n",
              "      <td>F</td>\n",
              "      <td>3</td>\n",
              "      <td>Graduate</td>\n",
              "      <td>Unknown</td>\n",
              "      <td>Unknown</td>\n",
              "      <td>Silver</td>\n",
              "      <td>33</td>\n",
              "      <td>3</td>\n",
              "      <td>1</td>\n",
              "      <td>3</td>\n",
              "      <td>34516.0</td>\n",
              "      <td>1858</td>\n",
              "      <td>32658.0</td>\n",
              "      <td>0.622</td>\n",
              "      <td>4197</td>\n",
              "      <td>67</td>\n",
              "      <td>0.523</td>\n",
              "      <td>0.054</td>\n",
              "      <td>0.000087</td>\n",
              "      <td>0.99991</td>\n",
              "    </tr>\n",
              "  </tbody>\n",
              "</table>\n",
              "</div>"
            ],
            "text/plain": [
              "   CLIENTNUM  ... Naive_Bayes_Classifier_Attrition_Flag_Card_Category_Contacts_Count_12_mon_Dependent_count_Education_Level_Months_Inactive_12_mon_2\n",
              "0  826077033  ...                                            0.01532                                                                                \n",
              "1  709918158  ...                                            0.99991                                                                                \n",
              "2  714757908  ...                                            0.99991                                                                                \n",
              "3  721067658  ...                                            0.99991                                                                                \n",
              "4  826451433  ...                                            0.99991                                                                                \n",
              "5  708248358  ...                                            0.99991                                                                                \n",
              "6  717359208  ...                                            0.99991                                                                                \n",
              "7  710822808  ...                                            0.99991                                                                                \n",
              "8  818235408  ...                                            0.99991                                                                                \n",
              "9  789334458  ...                                            0.99991                                                                                \n",
              "\n",
              "[10 rows x 23 columns]"
            ]
          },
          "metadata": {},
          "execution_count": 3
        }
      ]
    },
    {
      "cell_type": "markdown",
      "metadata": {
        "id": "tJqrY4JKhcAb"
      },
      "source": [
        "### **Question 1: What is the overall churn rate of our customer?**"
      ]
    },
    {
      "cell_type": "markdown",
      "metadata": {
        "id": "0as4zrtYXSOw"
      },
      "source": [
        "We want to find the churn rate for all customers regardless of their attributes. "
      ]
    },
    {
      "cell_type": "code",
      "metadata": {
        "id": "nIoCkgfikagF"
      },
      "source": [
        "%%bigquery churn_rate --project=ba775-team-project\n",
        "/* churn rate */\n",
        "SELECT SUM(CAST(Attrition_Flag = 'Attrited Customer' AS INT)) AS closed_account, \n",
        "COUNT(Attrition_Flag) AS total_account, \n",
        "SUM(CAST(Attrition_Flag = 'Attrited Customer' AS INT))/COUNT(Attrition_Flag)*100 \n",
        "AS Churn_rate\n",
        "FROM `ba775-team-project.bankchurners.bankchurners`\n",
        "WHERE Attrition_Flag IS NOT NULL;"
      ],
      "execution_count": null,
      "outputs": []
    },
    {
      "cell_type": "code",
      "metadata": {
        "id": "mb77K2d0zxHl",
        "colab": {
          "base_uri": "https://localhost:8080/",
          "height": 80
        },
        "outputId": "8cd40c5b-041e-4c79-f90b-1c1535045a1a"
      },
      "source": [
        "churn_rate"
      ],
      "execution_count": null,
      "outputs": [
        {
          "output_type": "execute_result",
          "data": {
            "text/html": [
              "<div>\n",
              "<style scoped>\n",
              "    .dataframe tbody tr th:only-of-type {\n",
              "        vertical-align: middle;\n",
              "    }\n",
              "\n",
              "    .dataframe tbody tr th {\n",
              "        vertical-align: top;\n",
              "    }\n",
              "\n",
              "    .dataframe thead th {\n",
              "        text-align: right;\n",
              "    }\n",
              "</style>\n",
              "<table border=\"1\" class=\"dataframe\">\n",
              "  <thead>\n",
              "    <tr style=\"text-align: right;\">\n",
              "      <th></th>\n",
              "      <th>closed_account</th>\n",
              "      <th>total_account</th>\n",
              "      <th>Churn_rate</th>\n",
              "    </tr>\n",
              "  </thead>\n",
              "  <tbody>\n",
              "    <tr>\n",
              "      <th>0</th>\n",
              "      <td>1627</td>\n",
              "      <td>10127</td>\n",
              "      <td>16.065962</td>\n",
              "    </tr>\n",
              "  </tbody>\n",
              "</table>\n",
              "</div>"
            ],
            "text/plain": [
              "   closed_account  total_account  Churn_rate\n",
              "0            1627          10127   16.065962"
            ]
          },
          "metadata": {},
          "execution_count": 5
        }
      ]
    },
    {
      "cell_type": "markdown",
      "metadata": {
        "id": "mzvP6hxBaRpa"
      },
      "source": [
        "As shown in the table, there are 1627 closed accounts and 10127 total accounts, so the churn rate is 16.065962%."
      ]
    },
    {
      "cell_type": "code",
      "metadata": {
        "id": "UO3F8SuKOZpk",
        "colab": {
          "base_uri": "https://localhost:8080/",
          "height": 248
        },
        "outputId": "c3d16387-7533-4a8b-a6fd-166642f92a19"
      },
      "source": [
        "import matplotlib.pyplot as plt\n",
        "labels = 'closed account', 'remainning account'\n",
        "sizes=[1627,10127-1627]\n",
        "fig1, ax1 = plt.subplots()\n",
        "ax1.pie(sizes,labels=labels)\n",
        "plt.show()"
      ],
      "execution_count": null,
      "outputs": [
        {
          "output_type": "display_data",
          "data": {
            "image/png": "[encoded data removed]",
            "text/plain": [
              "<Figure size 432x288 with 1 Axes>"
            ]
          },
          "metadata": {}
        }
      ]
    },
    {
      "cell_type": "markdown",
      "metadata": {
        "id": "oaocYiQ9yN9e"
      },
      "source": [
        "### **Question 2: What is our user portrait like in terms of age, gender, educational level and income?**"
      ]
    },
    {
      "cell_type": "markdown",
      "metadata": {
        "id": "jQg15zgf1NzF"
      },
      "source": [
        "Before we analyze how different features relate with churn rate, we perform customer portrait analysis. An overall analysis of our customer demographic demonstrate the following findings:"
      ]
    },
    {
      "cell_type": "markdown",
      "metadata": {
        "id": "op_iGFzvzgHu"
      },
      "source": [
        "\n",
        "- Gender distribution: Distribution between male and female is close to equivalent with slightly more females than males\n",
        "\n",
        "- Product and Gender Breakdown: Females tend to have more blue cards while male clients had the silver, gold and platinum cards\n",
        "\n",
        "- Education: Majority of our client base have post secondary education (high school graduates) \n",
        "\n",
        "- Income: Majority of clients make less than $40,000 per year \n",
        "\n",
        "- Marital Status: Half of our client base are divorced, while 33% are single\n",
        "\n",
        "- Age: Majority of customers are between the ages of 36-55"
      ]
    },
    {
      "cell_type": "code",
      "metadata": {
        "id": "ZfAn1hLSoG9a",
        "colab": {
          "base_uri": "https://localhost:8080/",
          "height": 307
        },
        "outputId": "b61f606e-2bfb-4a34-d2ea-d00baf6fc571"
      },
      "source": [
        "Image(filename='/content/F.png')"
      ],
      "execution_count": null,
      "outputs": [
        {
          "output_type": "error",
          "ename": "FileNotFoundError",
          "evalue": "ignored",
          "traceback": [
            "\u001b[0;31m---------------------------------------------------------------------------\u001b[0m",
            "\u001b[0;31mFileNotFoundError\u001b[0m                         Traceback (most recent call last)",
            "\u001b[0;32m<ipython-input-7-9dd1ebea15fe>\u001b[0m in \u001b[0;36m<module>\u001b[0;34m()\u001b[0m\n\u001b[0;32m----> 1\u001b[0;31m \u001b[0mImage\u001b[0m\u001b[0;34m(\u001b[0m\u001b[0mfilename\u001b[0m\u001b[0;34m=\u001b[0m\u001b[0;34m'/content/F.png'\u001b[0m\u001b[0;34m)\u001b[0m\u001b[0;34m\u001b[0m\u001b[0;34m\u001b[0m\u001b[0m\n\u001b[0m",
            "\u001b[0;32m/usr/local/lib/python3.7/dist-packages/IPython/core/display.py\u001b[0m in \u001b[0;36m__init__\u001b[0;34m(self, data, url, filename, format, embed, width, height, retina, unconfined, metadata)\u001b[0m\n\u001b[1;32m   1019\u001b[0m         \u001b[0mself\u001b[0m\u001b[0;34m.\u001b[0m\u001b[0munconfined\u001b[0m \u001b[0;34m=\u001b[0m \u001b[0munconfined\u001b[0m\u001b[0;34m\u001b[0m\u001b[0;34m\u001b[0m\u001b[0m\n\u001b[1;32m   1020\u001b[0m         \u001b[0mself\u001b[0m\u001b[0;34m.\u001b[0m\u001b[0mmetadata\u001b[0m \u001b[0;34m=\u001b[0m \u001b[0mmetadata\u001b[0m\u001b[0;34m\u001b[0m\u001b[0;34m\u001b[0m\u001b[0m\n\u001b[0;32m-> 1021\u001b[0;31m         \u001b[0msuper\u001b[0m\u001b[0;34m(\u001b[0m\u001b[0mImage\u001b[0m\u001b[0;34m,\u001b[0m \u001b[0mself\u001b[0m\u001b[0;34m)\u001b[0m\u001b[0;34m.\u001b[0m\u001b[0m__init__\u001b[0m\u001b[0;34m(\u001b[0m\u001b[0mdata\u001b[0m\u001b[0;34m=\u001b[0m\u001b[0mdata\u001b[0m\u001b[0;34m,\u001b[0m \u001b[0murl\u001b[0m\u001b[0;34m=\u001b[0m\u001b[0murl\u001b[0m\u001b[0;34m,\u001b[0m \u001b[0mfilename\u001b[0m\u001b[0;34m=\u001b[0m\u001b[0mfilename\u001b[0m\u001b[0;34m)\u001b[0m\u001b[0;34m\u001b[0m\u001b[0;34m\u001b[0m\u001b[0m\n\u001b[0m\u001b[1;32m   1022\u001b[0m \u001b[0;34m\u001b[0m\u001b[0m\n\u001b[1;32m   1023\u001b[0m         \u001b[0;32mif\u001b[0m \u001b[0mretina\u001b[0m\u001b[0;34m:\u001b[0m\u001b[0;34m\u001b[0m\u001b[0;34m\u001b[0m\u001b[0m\n",
            "\u001b[0;32m/usr/local/lib/python3.7/dist-packages/IPython/core/display.py\u001b[0m in \u001b[0;36m__init__\u001b[0;34m(self, data, url, filename)\u001b[0m\n\u001b[1;32m    611\u001b[0m         \u001b[0mself\u001b[0m\u001b[0;34m.\u001b[0m\u001b[0mfilename\u001b[0m \u001b[0;34m=\u001b[0m \u001b[0;32mNone\u001b[0m \u001b[0;32mif\u001b[0m \u001b[0mfilename\u001b[0m \u001b[0;32mis\u001b[0m \u001b[0;32mNone\u001b[0m \u001b[0;32melse\u001b[0m \u001b[0municode_type\u001b[0m\u001b[0;34m(\u001b[0m\u001b[0mfilename\u001b[0m\u001b[0;34m)\u001b[0m\u001b[0;34m\u001b[0m\u001b[0;34m\u001b[0m\u001b[0m\n\u001b[1;32m    612\u001b[0m \u001b[0;34m\u001b[0m\u001b[0m\n\u001b[0;32m--> 613\u001b[0;31m         \u001b[0mself\u001b[0m\u001b[0;34m.\u001b[0m\u001b[0mreload\u001b[0m\u001b[0;34m(\u001b[0m\u001b[0;34m)\u001b[0m\u001b[0;34m\u001b[0m\u001b[0;34m\u001b[0m\u001b[0m\n\u001b[0m\u001b[1;32m    614\u001b[0m         \u001b[0mself\u001b[0m\u001b[0;34m.\u001b[0m\u001b[0m_check_data\u001b[0m\u001b[0;34m(\u001b[0m\u001b[0;34m)\u001b[0m\u001b[0;34m\u001b[0m\u001b[0;34m\u001b[0m\u001b[0m\n\u001b[1;32m    615\u001b[0m \u001b[0;34m\u001b[0m\u001b[0m\n",
            "\u001b[0;32m/usr/local/lib/python3.7/dist-packages/IPython/core/display.py\u001b[0m in \u001b[0;36mreload\u001b[0;34m(self)\u001b[0m\n\u001b[1;32m   1041\u001b[0m         \u001b[0;34m\"\"\"Reload the raw data from file or URL.\"\"\"\u001b[0m\u001b[0;34m\u001b[0m\u001b[0;34m\u001b[0m\u001b[0m\n\u001b[1;32m   1042\u001b[0m         \u001b[0;32mif\u001b[0m \u001b[0mself\u001b[0m\u001b[0;34m.\u001b[0m\u001b[0membed\u001b[0m\u001b[0;34m:\u001b[0m\u001b[0;34m\u001b[0m\u001b[0;34m\u001b[0m\u001b[0m\n\u001b[0;32m-> 1043\u001b[0;31m             \u001b[0msuper\u001b[0m\u001b[0;34m(\u001b[0m\u001b[0mImage\u001b[0m\u001b[0;34m,\u001b[0m\u001b[0mself\u001b[0m\u001b[0;34m)\u001b[0m\u001b[0;34m.\u001b[0m\u001b[0mreload\u001b[0m\u001b[0;34m(\u001b[0m\u001b[0;34m)\u001b[0m\u001b[0;34m\u001b[0m\u001b[0;34m\u001b[0m\u001b[0m\n\u001b[0m\u001b[1;32m   1044\u001b[0m             \u001b[0;32mif\u001b[0m \u001b[0mself\u001b[0m\u001b[0;34m.\u001b[0m\u001b[0mretina\u001b[0m\u001b[0;34m:\u001b[0m\u001b[0;34m\u001b[0m\u001b[0;34m\u001b[0m\u001b[0m\n\u001b[1;32m   1045\u001b[0m                 \u001b[0mself\u001b[0m\u001b[0;34m.\u001b[0m\u001b[0m_retina_shape\u001b[0m\u001b[0;34m(\u001b[0m\u001b[0;34m)\u001b[0m\u001b[0;34m\u001b[0m\u001b[0;34m\u001b[0m\u001b[0m\n",
            "\u001b[0;32m/usr/local/lib/python3.7/dist-packages/IPython/core/display.py\u001b[0m in \u001b[0;36mreload\u001b[0;34m(self)\u001b[0m\n\u001b[1;32m    629\u001b[0m         \u001b[0;34m\"\"\"Reload the raw data from file or URL.\"\"\"\u001b[0m\u001b[0;34m\u001b[0m\u001b[0;34m\u001b[0m\u001b[0m\n\u001b[1;32m    630\u001b[0m         \u001b[0;32mif\u001b[0m \u001b[0mself\u001b[0m\u001b[0;34m.\u001b[0m\u001b[0mfilename\u001b[0m \u001b[0;32mis\u001b[0m \u001b[0;32mnot\u001b[0m \u001b[0;32mNone\u001b[0m\u001b[0;34m:\u001b[0m\u001b[0;34m\u001b[0m\u001b[0;34m\u001b[0m\u001b[0m\n\u001b[0;32m--> 631\u001b[0;31m             \u001b[0;32mwith\u001b[0m \u001b[0mopen\u001b[0m\u001b[0;34m(\u001b[0m\u001b[0mself\u001b[0m\u001b[0;34m.\u001b[0m\u001b[0mfilename\u001b[0m\u001b[0;34m,\u001b[0m \u001b[0mself\u001b[0m\u001b[0;34m.\u001b[0m\u001b[0m_read_flags\u001b[0m\u001b[0;34m)\u001b[0m \u001b[0;32mas\u001b[0m \u001b[0mf\u001b[0m\u001b[0;34m:\u001b[0m\u001b[0;34m\u001b[0m\u001b[0;34m\u001b[0m\u001b[0m\n\u001b[0m\u001b[1;32m    632\u001b[0m                 \u001b[0mself\u001b[0m\u001b[0;34m.\u001b[0m\u001b[0mdata\u001b[0m \u001b[0;34m=\u001b[0m \u001b[0mf\u001b[0m\u001b[0;34m.\u001b[0m\u001b[0mread\u001b[0m\u001b[0;34m(\u001b[0m\u001b[0;34m)\u001b[0m\u001b[0;34m\u001b[0m\u001b[0;34m\u001b[0m\u001b[0m\n\u001b[1;32m    633\u001b[0m         \u001b[0;32melif\u001b[0m \u001b[0mself\u001b[0m\u001b[0;34m.\u001b[0m\u001b[0murl\u001b[0m \u001b[0;32mis\u001b[0m \u001b[0;32mnot\u001b[0m \u001b[0;32mNone\u001b[0m\u001b[0;34m:\u001b[0m\u001b[0;34m\u001b[0m\u001b[0;34m\u001b[0m\u001b[0m\n",
            "\u001b[0;31mFileNotFoundError\u001b[0m: [Errno 2] No such file or directory: '/content/F.png'"
          ]
        }
      ]
    },
    {
      "cell_type": "markdown",
      "metadata": {
        "id": "G2L-_gBw1_sR"
      },
      "source": [
        "Most of our customers have graduate degree, followed by the second as high school degree. "
      ]
    },
    {
      "cell_type": "code",
      "metadata": {
        "id": "Cqbap7tWoEwq"
      },
      "source": [
        "Image(filename='/content/E.png')"
      ],
      "execution_count": null,
      "outputs": []
    },
    {
      "cell_type": "code",
      "metadata": {
        "id": "9-8q1vJ3n1_r"
      },
      "source": [
        "Image(filename='/content/B.png')"
      ],
      "execution_count": null,
      "outputs": []
    },
    {
      "cell_type": "markdown",
      "metadata": {
        "id": "K_Uv7Q0x2cHY"
      },
      "source": [
        "The age distribution of our customer is mostly between 36 to 55 years old."
      ]
    },
    {
      "cell_type": "code",
      "metadata": {
        "id": "PUjUjp50nWEt"
      },
      "source": [
        "Image(filename='/content/A.png')"
      ],
      "execution_count": null,
      "outputs": []
    },
    {
      "cell_type": "markdown",
      "metadata": {
        "id": "ViXVvrPs2m8f"
      },
      "source": [
        "50% of our customers are married, followed by 33.3% as being single."
      ]
    },
    {
      "cell_type": "code",
      "metadata": {
        "id": "6Fdwo9h-oAAc"
      },
      "source": [
        "Image(filename='/content/C.png')"
      ],
      "execution_count": null,
      "outputs": []
    },
    {
      "cell_type": "markdown",
      "metadata": {
        "id": "UBQkLpOx2unK"
      },
      "source": [
        "Majority of our customers have income lower than 40k, followed by those with income between 40k to 60k."
      ]
    },
    {
      "cell_type": "code",
      "metadata": {
        "id": "fbH8OdNfoDWB"
      },
      "source": [
        "Image(filename='/content/D.png')"
      ],
      "execution_count": null,
      "outputs": []
    },
    {
      "cell_type": "markdown",
      "metadata": {
        "id": "hI4sjUUbyWeJ"
      },
      "source": [
        "### **Question 3: What age group of customers has a higher tendency to churn?**"
      ]
    },
    {
      "cell_type": "markdown",
      "metadata": {
        "id": "QXR9GHfsnOp4"
      },
      "source": [
        "We group customers by the age category to see if each group has different churn rate."
      ]
    },
    {
      "cell_type": "code",
      "metadata": {
        "id": "LB_KmbiVk91m"
      },
      "source": [
        "%%bigquery age_tendency --project=ba775-team-project\n",
        "/* age group tendency */\n",
        "SELECT SUM(CAST(Attrition_Flag = 'Attrited Customer'AS INT)) AS\n",
        "closed_account,COUNT(*) AS total_account,\n",
        "SUM(CAST(Attrition_Flag = 'Attrited Customer'AS INT))/COUNT(*)*100 AS Churn_rate,\n",
        "CASE\n",
        "      WHEN Customer_Age <10 THEN '0-10'\n",
        "      WHEN Customer_Age <20 THEN '10-20'\n",
        "      WHEN Customer_Age <30 THEN '20-30'\n",
        "      WHEN Customer_Age <40 THEN '30-40'\n",
        "      WHEN Customer_Age <50 THEN '40-50'\n",
        "      WHEN Customer_Age <60 THEN '50-60'\n",
        "      WHEN Customer_Age <70 THEN '60-70'\n",
        "      ELSE '70-80'\n",
        "End AS Customer_Age\n",
        "    \n",
        "FROM `ba775-team-project.bankchurners.bankchurners`\n",
        "GROUP BY Customer_Age\n",
        "ORDER BY Customer_Age"
      ],
      "execution_count": null,
      "outputs": []
    },
    {
      "cell_type": "code",
      "metadata": {
        "id": "JsMM8aZpnZ2F"
      },
      "source": [
        "age_tendency"
      ],
      "execution_count": null,
      "outputs": []
    },
    {
      "cell_type": "markdown",
      "metadata": {
        "id": "zModh2Mdngl-"
      },
      "source": [
        "Then we create graphs to see how the age tendency relates with churn rate. We can see the 40-60 group has higher tendency to churn."
      ]
    },
    {
      "cell_type": "code",
      "metadata": {
        "id": "PkhcOiRvnu4X"
      },
      "source": [
        "age_tendency.plot(title = 'The relationship between age category and churn rate',kind='bar', x='Customer_Age', y='Churn_rate',color = ['#5ba3cf','#8fc1de','#3181bd','#125ca4','#8fc3de'], figsize=(9, 5));\n",
        "age_tendency.plot(kind='line', x='Customer_Age', y='Churn_rate', figsize=(9, 5));\n",
        "labels='20-30','30-40','40-50','50-60','60-70','70-80'\n",
        "age_tendency.plot(kind='pie', x='Customer_Age', y='Churn_rate', labels=labels);"
      ],
      "execution_count": null,
      "outputs": []
    },
    {
      "cell_type": "markdown",
      "metadata": {
        "id": "LEGD2a7dydq3"
      },
      "source": [
        "### **Question 4: Which education category of customers has a higher tendency to churn?**"
      ]
    },
    {
      "cell_type": "markdown",
      "metadata": {
        "id": "1vAxIAlb_RyZ"
      },
      "source": [
        "We group customers by educational level to see if it is related with churn rate."
      ]
    },
    {
      "cell_type": "code",
      "metadata": {
        "id": "eGcdqRLxk_tt"
      },
      "source": [
        "%%bigquery Education_Level --project=ba775-team-project\n",
        "/*educational level tendency*/\n",
        "SELECT Education_Level, COUNT(*) AS total_account, \n",
        "SUM(CAST(Attrition_Flag = 'Attrited Customer' AS INT))\n",
        "AS closed_account,\n",
        "SUM(CAST(Attrition_Flag = 'Attrited Customer'AS INT))/COUNT(*)*100 AS Churn_rate,\n",
        "FROM `ba775-team-project.bankchurners.bankchurners`\n",
        "WHERE Education_Level  NOT LIKE 'Unknown'\n",
        "GROUP BY Education_Level"
      ],
      "execution_count": null,
      "outputs": []
    },
    {
      "cell_type": "code",
      "metadata": {
        "id": "v3adeLliqf_V"
      },
      "source": [
        "Education_Level"
      ],
      "execution_count": null,
      "outputs": []
    },
    {
      "cell_type": "markdown",
      "metadata": {
        "id": "6I8EtuwdqjgH"
      },
      "source": [
        "Then we create graphs to see how education level is related with churn rate. We can see people with doctorate degree has highest tendency to churncompare to other groups."
      ]
    },
    {
      "cell_type": "code",
      "metadata": {
        "id": "jMF8tchFqxut"
      },
      "source": [
        "Education_Level.plot(title = 'The relationship between educational level and churn rate',kind='bar', x='Education_Level', y='Churn_rate',color = ['#137c39','#60ba6c','#41a75b','#a0d89b','#bbe4b5','#81ca82'], figsize=(9, 5));\n",
        "Education_Level.plot(kind='line', x='Education_Level', y='Churn_rate', color=['#41a75b'],figsize=(9, 5));\n",
        "labels='High School','Graduate','College','Doctorate','Uneducated','Post_Graduate'\n",
        "Education_Level.plot(kind='pie', x='Education_Level', y='Churn_rate', labels=labels);"
      ],
      "execution_count": null,
      "outputs": []
    },
    {
      "cell_type": "markdown",
      "metadata": {
        "id": "TxvZCDQoyiaT"
      },
      "source": [
        "### **Question 5: Which income category of customers has a higher tendency to churn?**"
      ]
    },
    {
      "cell_type": "markdown",
      "metadata": {
        "id": "UiU9Oj_-_rHg"
      },
      "source": [
        "We group customer by income category to see if it is related with churn rate."
      ]
    },
    {
      "cell_type": "code",
      "metadata": {
        "id": "tBY7HB-BlEmY"
      },
      "source": [
        "%%bigquery Income_Category --project=ba775-team-project\n",
        "/*income tendency*/\n",
        "SELECT Income_Category, COUNT(*) AS total_account, \n",
        "SUM(CAST(Attrition_Flag = 'Attrited Customer'AS INT)) AS closed_account,\n",
        "SUM(CAST(Attrition_Flag = 'Attrited Customer'AS INT))/COUNT(*)*100 AS Churn_rate,\n",
        "FROM `ba775-team-project.bankchurners.bankchurners`\n",
        "WHERE Income_Category  NOT LIKE 'Unknown'\n",
        "GROUP BY Income_Category\n",
        "ORDER BY Income_Category"
      ],
      "execution_count": null,
      "outputs": []
    },
    {
      "cell_type": "code",
      "metadata": {
        "id": "MOEIrBVIsGKS"
      },
      "source": [
        "Income_Category"
      ],
      "execution_count": null,
      "outputs": []
    },
    {
      "cell_type": "markdown",
      "metadata": {
        "id": "vPSPTOt5sIt4"
      },
      "source": [
        "Then we create graphs to see the income level tendency. We can see middle class income poeple($60k-80K) have lowest tendency to churn. "
      ]
    },
    {
      "cell_type": "code",
      "metadata": {
        "id": "5wwHqC_iup18"
      },
      "source": [
        "Income_Category.plot(title = 'The relationship between income level and churn rate',kind='bar', x='Income_Category', y='Churn_rate',color = ['#fc8767', '#f6573f', '#b21218', '#dc2a25'], figsize=(9, 5));\n",
        "Income_Category.plot(kind='line', x='Income_Category', y='Churn_rate', color=['#fc8767'],figsize=(9, 5));\n",
        "labels='$120K+','$40K-$60K','$60K-$80K','$80K-$120K','Less than $40K'\n",
        "Income_Category.plot(kind='pie', x='Income_Category', y='Churn_rate', labels=labels);"
      ],
      "execution_count": null,
      "outputs": []
    },
    {
      "cell_type": "markdown",
      "metadata": {
        "id": "at-QUfTUymyC"
      },
      "source": [
        "### **Question 6: Which marriage type of customers has a higher tendency to churn?**"
      ]
    },
    {
      "cell_type": "markdown",
      "metadata": {
        "id": "XeQKyfw9AGsZ"
      },
      "source": [
        "We group customers by the marital status to see if it is related with churn rate."
      ]
    },
    {
      "cell_type": "code",
      "metadata": {
        "id": "x0Lo-TIAlKZx"
      },
      "source": [
        "%%bigquery Marital_Status --project=ba775-team-project\n",
        "/*marital status tendency*/\n",
        "SELECT Marital_Status, COUNT(*) AS total_account, \n",
        "SUM(CAST(Attrition_Flag = 'Attrited Customer'AS INT)) AS closed_account,\n",
        "SUM(CAST(Attrition_Flag = 'Attrited Customer'AS INT))/COUNT(*)*100 AS Churn_rate,\n",
        "FROM `ba775-team-project.bankchurners.bankchurners`\n",
        "WHERE Marital_Status NOT LIKE 'Unknown'\n",
        "GROUP BY Marital_Status\n",
        "ORDER BY Marital_Status;"
      ],
      "execution_count": null,
      "outputs": []
    },
    {
      "cell_type": "code",
      "metadata": {
        "id": "K9hYSt3qsoZB"
      },
      "source": [
        "Marital_Status"
      ],
      "execution_count": null,
      "outputs": []
    },
    {
      "cell_type": "markdown",
      "metadata": {
        "id": "Qaeuofltsq2s"
      },
      "source": [
        "Then we create graphs for the marital status. We can see the divorced or single status people have relatively higher tendency to attrite."
      ]
    },
    {
      "cell_type": "code",
      "metadata": {
        "id": "e0_37tgXu_6W"
      },
      "source": [
        "Marital_Status.plot(title = 'The relationship between marital status and churn rate',kind='bar', x='Marital_Status', y='Churn_rate',color = ['#ffc0cb','#ff81c0','#ffc4cb'], figsize=(9, 5));\n",
        "Marital_Status.plot(kind='line', x='Marital_Status', y='Churn_rate', color=['#ffc0cb'],figsize=(9, 5));\n",
        "labels='Divorced','Married','Single'\n",
        "Marital_Status.plot(kind='pie', x='Marital_Status', y='Churn_rate',labels=labels);"
      ],
      "execution_count": null,
      "outputs": []
    },
    {
      "cell_type": "markdown",
      "metadata": {
        "id": "cTslL70GyoJI"
      },
      "source": [
        "### **Question 7: How does dependent count influence churn rate?**"
      ]
    },
    {
      "cell_type": "markdown",
      "metadata": {
        "id": "pkq2WJ2UAZMh"
      },
      "source": [
        "We group the customers by how many dependent they carry to see what's the churn rate of each group."
      ]
    },
    {
      "cell_type": "code",
      "metadata": {
        "id": "uxwW4bJPlOZh"
      },
      "source": [
        "%%bigquery Dependent_count --project=ba775-team-project\n",
        "/*dependent tendency*/\n",
        "SELECT Dependent_count, COUNT(*) AS total_account, \n",
        "SUM(CAST(Attrition_Flag = 'Attrited Customer'AS INT)) AS closed_account,\n",
        "SUM(CAST(Attrition_Flag = 'Attrited Customer'AS INT))/COUNT(*)*100 AS Churn_rate,\n",
        "FROM `ba775-team-project.bankchurners.bankchurners`\n",
        "WHERE Dependent_count IS NOT NULL\n",
        "GROUP BY Dependent_count\n",
        "ORDER BY Dependent_count;"
      ],
      "execution_count": null,
      "outputs": []
    },
    {
      "cell_type": "code",
      "metadata": {
        "id": "geC-aTRWuIm1"
      },
      "source": [
        "Dependent_count"
      ],
      "execution_count": null,
      "outputs": []
    },
    {
      "cell_type": "markdown",
      "metadata": {
        "id": "Uy3mP8VHuK0K"
      },
      "source": [
        "Then we create graphs to see how amount of dependent peopel carry influence the tendency. We can see people with 3-4 dependent have higher tendency to attrite compare to other groups"
      ]
    },
    {
      "cell_type": "code",
      "metadata": {
        "id": "dW7DRMGlvb5c"
      },
      "source": [
        "Dependent_count.plot(title = 'The relationship between amount of dependet carried and churn rate',kind='bar', x='Dependent_count', y='Churn_rate',color = ['#00ffff','#13eac9','#7fffd4','#04d8b2','#40e0d0','#06c2ac'], figsize=(9, 5));\n",
        "Dependent_count.plot(kind='line', x='Dependent_count', y='Churn_rate', color=['#40e0d0'],figsize=(9, 5));\n",
        "Dependent_count.plot(kind='pie', x='Dependent_count', y='Churn_rate');"
      ],
      "execution_count": null,
      "outputs": []
    },
    {
      "cell_type": "markdown",
      "metadata": {
        "id": "xchRGgTBypfa"
      },
      "source": [
        "### **Question 8: Which card type of customers has a higher tendency to churn?**"
      ]
    },
    {
      "cell_type": "markdown",
      "metadata": {
        "id": "v6vepgSeI7zS"
      },
      "source": [
        "We group customers by the card category to see if it's related with churn rate."
      ]
    },
    {
      "cell_type": "markdown",
      "metadata": {
        "id": "6gwMMYXKecR4"
      },
      "source": [
        "Firstly we calculate the number of customers in different Card_Category to see the contribution of the variable itself."
      ]
    },
    {
      "cell_type": "code",
      "metadata": {
        "id": "yTUFBtoYdVLc"
      },
      "source": [
        "%%bigquery Card_distribution --project=ba775-team-project\n",
        "SELECT\n",
        "Card_Category, \n",
        "COUNT(Card_Category) AS Customer_num,\n",
        "FROM `ba775-team-project.bankchurners.bankchurners`\n",
        "GROUP BY Card_Category\n",
        "ORDER BY Customer_num DESC"
      ],
      "execution_count": 19,
      "outputs": []
    },
    {
      "cell_type": "code",
      "metadata": {
        "id": "mXzNb62Ddr0S",
        "colab": {
          "base_uri": "https://localhost:8080/",
          "height": 173
        },
        "outputId": "c3b93a5f-c1ec-4331-cc94-c985f8000726"
      },
      "source": [
        "Card_distribution"
      ],
      "execution_count": 20,
      "outputs": [
        {
          "output_type": "execute_result",
          "data": {
            "text/html": [
              "<div>\n",
              "<style scoped>\n",
              "    .dataframe tbody tr th:only-of-type {\n",
              "        vertical-align: middle;\n",
              "    }\n",
              "\n",
              "    .dataframe tbody tr th {\n",
              "        vertical-align: top;\n",
              "    }\n",
              "\n",
              "    .dataframe thead th {\n",
              "        text-align: right;\n",
              "    }\n",
              "</style>\n",
              "<table border=\"1\" class=\"dataframe\">\n",
              "  <thead>\n",
              "    <tr style=\"text-align: right;\">\n",
              "      <th></th>\n",
              "      <th>Card_Category</th>\n",
              "      <th>Customer_num</th>\n",
              "    </tr>\n",
              "  </thead>\n",
              "  <tbody>\n",
              "    <tr>\n",
              "      <th>0</th>\n",
              "      <td>Blue</td>\n",
              "      <td>9436</td>\n",
              "    </tr>\n",
              "    <tr>\n",
              "      <th>1</th>\n",
              "      <td>Silver</td>\n",
              "      <td>555</td>\n",
              "    </tr>\n",
              "    <tr>\n",
              "      <th>2</th>\n",
              "      <td>Gold</td>\n",
              "      <td>116</td>\n",
              "    </tr>\n",
              "    <tr>\n",
              "      <th>3</th>\n",
              "      <td>Platinum</td>\n",
              "      <td>20</td>\n",
              "    </tr>\n",
              "  </tbody>\n",
              "</table>\n",
              "</div>"
            ],
            "text/plain": [
              "  Card_Category  Customer_num\n",
              "0          Blue          9436\n",
              "1        Silver           555\n",
              "2          Gold           116\n",
              "3      Platinum            20"
            ]
          },
          "metadata": {},
          "execution_count": 20
        }
      ]
    },
    {
      "cell_type": "code",
      "metadata": {
        "colab": {
          "base_uri": "https://localhost:8080/",
          "height": 385
        },
        "id": "hf7PfZQIqj7h",
        "outputId": "e9df3674-9a84-4a6c-a41d-22402603006f"
      },
      "source": [
        "Card_distribution.plot(title = 'The distribution of card category',kind='bar', \n",
        "                       x='Card_Category', y='Customer_num',\n",
        "                 color = ['#125ca4','#3181bd','#8fc1de','#5ba3cf'], figsize=(9, 5));"
      ],
      "execution_count": 21,
      "outputs": [
        {
          "output_type": "display_data",
          "data": {
            "image/png": "[encoded data removed]",
            "text/plain": [
              "<Figure size 648x360 with 1 Axes>"
            ]
          },
          "metadata": {
            "needs_background": "light"
          }
        }
      ]
    },
    {
      "cell_type": "code",
      "metadata": {
        "id": "_ZUrW-UHcZEi"
      },
      "source": [
        "%%bigquery Card_impact --project=ba775-team-project\n",
        "SELECT\n",
        "Card_Category, \n",
        "COUNT(CLIENTNUM) AS Total_Customer,\n",
        "SUM(CASE WHEN Attrition_Flag = \"Attrited Customer\" THEN 1 ELSE 0 END) AS Churn_Customer,\n",
        "SUM(CASE WHEN Attrition_Flag = \"Attrited Customer\" THEN 1 ELSE 0 END)/COUNT(CLIENTNUM)*100 AS Churn_Rate\n",
        "FROM `ba775-team-project.bankchurners.bankchurners`\n",
        "GROUP BY Card_Category\n",
        "ORDER BY Total_Customer DESC"
      ],
      "execution_count": null,
      "outputs": []
    },
    {
      "cell_type": "code",
      "metadata": {
        "id": "cZe1FfvMck7y",
        "colab": {
          "base_uri": "https://localhost:8080/",
          "height": 173
        },
        "outputId": "7ede961b-eedf-492a-b965-eb88e35b6d1d"
      },
      "source": [
        "Card_impact"
      ],
      "execution_count": null,
      "outputs": [
        {
          "output_type": "execute_result",
          "data": {
            "text/html": [
              "<div>\n",
              "<style scoped>\n",
              "    .dataframe tbody tr th:only-of-type {\n",
              "        vertical-align: middle;\n",
              "    }\n",
              "\n",
              "    .dataframe tbody tr th {\n",
              "        vertical-align: top;\n",
              "    }\n",
              "\n",
              "    .dataframe thead th {\n",
              "        text-align: right;\n",
              "    }\n",
              "</style>\n",
              "<table border=\"1\" class=\"dataframe\">\n",
              "  <thead>\n",
              "    <tr style=\"text-align: right;\">\n",
              "      <th></th>\n",
              "      <th>Card_Category</th>\n",
              "      <th>Total_Customer</th>\n",
              "      <th>Churn_Customer</th>\n",
              "      <th>Churn_Rate</th>\n",
              "    </tr>\n",
              "  </thead>\n",
              "  <tbody>\n",
              "    <tr>\n",
              "      <th>0</th>\n",
              "      <td>Blue</td>\n",
              "      <td>9436</td>\n",
              "      <td>1519</td>\n",
              "      <td>16.097923</td>\n",
              "    </tr>\n",
              "    <tr>\n",
              "      <th>1</th>\n",
              "      <td>Silver</td>\n",
              "      <td>555</td>\n",
              "      <td>82</td>\n",
              "      <td>14.774775</td>\n",
              "    </tr>\n",
              "    <tr>\n",
              "      <th>2</th>\n",
              "      <td>Gold</td>\n",
              "      <td>116</td>\n",
              "      <td>21</td>\n",
              "      <td>18.103448</td>\n",
              "    </tr>\n",
              "    <tr>\n",
              "      <th>3</th>\n",
              "      <td>Platinum</td>\n",
              "      <td>20</td>\n",
              "      <td>5</td>\n",
              "      <td>25.000000</td>\n",
              "    </tr>\n",
              "  </tbody>\n",
              "</table>\n",
              "</div>"
            ],
            "text/plain": [
              "  Card_Category  Total_Customer  Churn_Customer  Churn_Rate\n",
              "0          Blue            9436            1519   16.097923\n",
              "1        Silver             555              82   14.774775\n",
              "2          Gold             116              21   18.103448\n",
              "3      Platinum              20               5   25.000000"
            ]
          },
          "metadata": {},
          "execution_count": 12
        }
      ]
    },
    {
      "cell_type": "markdown",
      "metadata": {
        "id": "IrjD_6a9cxBA"
      },
      "source": [
        "We create graphs to see the tendency. We can see the customers who have blue card or platinum card are more likely to attrite."
      ]
    },
    {
      "cell_type": "code",
      "metadata": {
        "id": "-vBtHfPacoWh",
        "colab": {
          "base_uri": "https://localhost:8080/",
          "height": 385
        },
        "outputId": "da6733cd-950b-4844-f6a9-8b2d28973e31"
      },
      "source": [
        "Card_impact.plot(title = 'The relationship between card category and churn rate',\n",
        "                 kind='bar', x='Card_Category', y='Churn_Rate',\n",
        "                 color = ['#5ba3cf','#8fc1de','#3181bd','#125ca4'], figsize=(9, 5));"
      ],
      "execution_count": null,
      "outputs": [
        {
          "output_type": "display_data",
          "data": {
            "image/png": "[encoded data removed]",
            "text/plain": [
              "<Figure size 648x360 with 1 Axes>"
            ]
          },
          "metadata": {
            "needs_background": "light"
          }
        }
      ]
    },
    {
      "cell_type": "code",
      "metadata": {
        "id": "O9ejcmRfcp8I",
        "colab": {
          "base_uri": "https://localhost:8080/",
          "height": 80
        },
        "outputId": "3b972231-468a-473a-bc60-c28f91196ec8"
      },
      "source": [
        "%%bigquery --project=ba775-team-project\n",
        "SELECT ((SUM(cards * attrition_flag)-(SUM(cards) * SUM(attrition_flag)) / COUNT(*)))\n",
        "  / (SQRT(SUM(cards * cards)-(SUM(cards) * SUM (cards)) / COUNT(*) ) * SQRT(SUM(attrition_flag * attrition_flag)\n",
        "  -(SUM(attrition_flag) * SUM(attrition_flag)) / COUNT(*))) AS corr\n",
        "FROM \n",
        "(\n",
        "  SELECT \n",
        "  CASE WHEN card_category = 'Blue' THEN 1\n",
        "       WHEN card_category = 'Silver' THEN 2\n",
        "       WHEN card_category = 'Gold' THEN 3\n",
        "       ELSE 4 END as cards,    \n",
        "  CAST(Attrition_Flag = 'Attrited Customer' AS INT) As attrition_flag\n",
        "  FROM ba775-team-project.bankchurners.bankchurners\n",
        ")"
      ],
      "execution_count": null,
      "outputs": [
        {
          "output_type": "execute_result",
          "data": {
            "text/html": [
              "<div>\n",
              "<style scoped>\n",
              "    .dataframe tbody tr th:only-of-type {\n",
              "        vertical-align: middle;\n",
              "    }\n",
              "\n",
              "    .dataframe tbody tr th {\n",
              "        vertical-align: top;\n",
              "    }\n",
              "\n",
              "    .dataframe thead th {\n",
              "        text-align: right;\n",
              "    }\n",
              "</style>\n",
              "<table border=\"1\" class=\"dataframe\">\n",
              "  <thead>\n",
              "    <tr style=\"text-align: right;\">\n",
              "      <th></th>\n",
              "      <th>corr</th>\n",
              "    </tr>\n",
              "  </thead>\n",
              "  <tbody>\n",
              "    <tr>\n",
              "      <th>0</th>\n",
              "      <td>0.002354</td>\n",
              "    </tr>\n",
              "  </tbody>\n",
              "</table>\n",
              "</div>"
            ],
            "text/plain": [
              "       corr\n",
              "0  0.002354"
            ]
          },
          "metadata": {},
          "execution_count": 89
        }
      ]
    },
    {
      "cell_type": "markdown",
      "metadata": {
        "id": "TPzri89Vc2XA"
      },
      "source": [
        "When we assign each card category a value (assending as the category becomes more prestigious), the calculation below shows that there is no correlation between card category and whether the customer will churn."
      ]
    },
    {
      "cell_type": "markdown",
      "metadata": {
        "id": "rHgafYVjyq1F"
      },
      "source": [
        "### **Question 9: How does credit limit affect churn rate?**"
      ]
    },
    {
      "cell_type": "markdown",
      "metadata": {
        "id": "-tf3to-2gvP3"
      },
      "source": [
        "Firstly we calculate the number of customers in different Credit_Limit to see the contribution of the variable itself."
      ]
    },
    {
      "cell_type": "code",
      "metadata": {
        "id": "YXh3xJX8fW1V"
      },
      "source": [
        "%%bigquery Credit_distribution --project=ba775-team-project\n",
        "SELECT\n",
        "CASE\n",
        "    WHEN Credit_Limit>=0 AND Credit_Limit <5000 THEN '0-5000'\n",
        "    WHEN Credit_Limit>=5000 AND Credit_Limit <10000 THEN '05000-10000'\n",
        "    WHEN Credit_Limit>=10000 AND Credit_Limit <15000 THEN '10000-15000'\n",
        "    WHEN Credit_Limit>=15000 AND Credit_Limit <20000 THEN '15000-20000'\n",
        "    WHEN Credit_Limit>=20000 AND Credit_Limit <25000 THEN '20000-25000'\n",
        "    WHEN Credit_Limit>=25000 AND Credit_Limit <30000 THEN '25000-30000'\n",
        "    WHEN Credit_Limit>=30000 AND Credit_Limit <35000 THEN '30000-35000'\n",
        "END as Credit_Limit,\n",
        "COUNT(Credit_Limit) AS Customer_num,\n",
        "FROM `ba775-team-project.bankchurners.bankchurners`\n",
        "GROUP BY Credit_Limit\n",
        "ORDER BY Credit_Limit"
      ],
      "execution_count": 22,
      "outputs": []
    },
    {
      "cell_type": "code",
      "metadata": {
        "id": "aimDW57wgKtR",
        "colab": {
          "base_uri": "https://localhost:8080/",
          "height": 266
        },
        "outputId": "91e888bb-c49d-42a0-8f45-36b1ac7a054a"
      },
      "source": [
        "Credit_distribution"
      ],
      "execution_count": 23,
      "outputs": [
        {
          "output_type": "execute_result",
          "data": {
            "text/html": [
              "<div>\n",
              "<style scoped>\n",
              "    .dataframe tbody tr th:only-of-type {\n",
              "        vertical-align: middle;\n",
              "    }\n",
              "\n",
              "    .dataframe tbody tr th {\n",
              "        vertical-align: top;\n",
              "    }\n",
              "\n",
              "    .dataframe thead th {\n",
              "        text-align: right;\n",
              "    }\n",
              "</style>\n",
              "<table border=\"1\" class=\"dataframe\">\n",
              "  <thead>\n",
              "    <tr style=\"text-align: right;\">\n",
              "      <th></th>\n",
              "      <th>Credit_Limit</th>\n",
              "      <th>Customer_num</th>\n",
              "    </tr>\n",
              "  </thead>\n",
              "  <tbody>\n",
              "    <tr>\n",
              "      <th>0</th>\n",
              "      <td>0-5000</td>\n",
              "      <td>5358</td>\n",
              "    </tr>\n",
              "    <tr>\n",
              "      <th>1</th>\n",
              "      <td>05000-10000</td>\n",
              "      <td>2015</td>\n",
              "    </tr>\n",
              "    <tr>\n",
              "      <th>2</th>\n",
              "      <td>10000-15000</td>\n",
              "      <td>941</td>\n",
              "    </tr>\n",
              "    <tr>\n",
              "      <th>3</th>\n",
              "      <td>15000-20000</td>\n",
              "      <td>549</td>\n",
              "    </tr>\n",
              "    <tr>\n",
              "      <th>4</th>\n",
              "      <td>20000-25000</td>\n",
              "      <td>372</td>\n",
              "    </tr>\n",
              "    <tr>\n",
              "      <th>5</th>\n",
              "      <td>25000-30000</td>\n",
              "      <td>225</td>\n",
              "    </tr>\n",
              "    <tr>\n",
              "      <th>6</th>\n",
              "      <td>30000-35000</td>\n",
              "      <td>667</td>\n",
              "    </tr>\n",
              "  </tbody>\n",
              "</table>\n",
              "</div>"
            ],
            "text/plain": [
              "  Credit_Limit  Customer_num\n",
              "0       0-5000          5358\n",
              "1  05000-10000          2015\n",
              "2  10000-15000           941\n",
              "3  15000-20000           549\n",
              "4  20000-25000           372\n",
              "5  25000-30000           225\n",
              "6  30000-35000           667"
            ]
          },
          "metadata": {},
          "execution_count": 23
        }
      ]
    },
    {
      "cell_type": "code",
      "metadata": {
        "colab": {
          "base_uri": "https://localhost:8080/",
          "height": 407
        },
        "id": "Iaj_LQtIrb1F",
        "outputId": "289ea724-b7a2-4836-a8b5-ee0d297b7f7a"
      },
      "source": [
        "Credit_distribution.plot(title = 'The distribution of Credit_Limit',kind='bar', x='Credit_Limit', y='Customer_num',\n",
        "                 color = ['#137c39','#60ba6c','#41a75b','#a0d89b','#bbe4b5','#81ca82','#29924a'], figsize=(9, 5));"
      ],
      "execution_count": 24,
      "outputs": [
        {
          "output_type": "display_data",
          "data": {
            "image/png": "[encoded data removed]",
            "text/plain": [
              "<Figure size 648x360 with 1 Axes>"
            ]
          },
          "metadata": {
            "needs_background": "light"
          }
        }
      ]
    },
    {
      "cell_type": "markdown",
      "metadata": {
        "id": "VvYSCCV3Jr3k"
      },
      "source": [
        "We divide the number of attrited customers by the total number of customers group by the Credit_Limit to see whether the credit limit will affect the churn rate."
      ]
    },
    {
      "cell_type": "code",
      "metadata": {
        "id": "JNo58ta3ds_m"
      },
      "source": [
        "%%bigquery Credit_impact --project=ba775-team-project\n",
        "SELECT\n",
        "CASE\n",
        "    WHEN Credit_Limit>=0 AND Credit_Limit <5000 THEN '0-5000'\n",
        "    WHEN Credit_Limit>=5000 AND Credit_Limit <10000 THEN '05000-10000'\n",
        "    WHEN Credit_Limit>=10000 AND Credit_Limit <15000 THEN '10000-15000'\n",
        "    WHEN Credit_Limit>=15000 AND Credit_Limit <20000 THEN '15000-20000'\n",
        "    WHEN Credit_Limit>=20000 AND Credit_Limit <25000 THEN '20000-25000'\n",
        "    WHEN Credit_Limit>=25000 AND Credit_Limit <30000 THEN '25000-30000'\n",
        "    WHEN Credit_Limit>=30000 AND Credit_Limit <35000 THEN '30000-35000'\n",
        "END as Credit_Limit,\n",
        "SUM(CAST(Attrition_Flag = 'Attrited Customer' AS INT)) AS Churn_Customer,\n",
        "COUNT(*) AS Total_Customer,\n",
        "SUM(CAST(Attrition_Flag = 'Attrited Customer' AS INT))/COUNT(*)*100 AS Churn_Rate\n",
        "\n",
        "FROM `ba775-team-project.bankchurners.bankchurners`\n",
        "GROUP BY Credit_Limit\n",
        "ORDER BY Credit_Limit"
      ],
      "execution_count": null,
      "outputs": []
    },
    {
      "cell_type": "code",
      "metadata": {
        "id": "qc0RPKtndwi_",
        "colab": {
          "base_uri": "https://localhost:8080/",
          "height": 266
        },
        "outputId": "c769b2ba-4513-4a34-a793-b3ce20f34935"
      },
      "source": [
        "Credit_impact"
      ],
      "execution_count": null,
      "outputs": [
        {
          "output_type": "execute_result",
          "data": {
            "text/html": [
              "<div>\n",
              "<style scoped>\n",
              "    .dataframe tbody tr th:only-of-type {\n",
              "        vertical-align: middle;\n",
              "    }\n",
              "\n",
              "    .dataframe tbody tr th {\n",
              "        vertical-align: top;\n",
              "    }\n",
              "\n",
              "    .dataframe thead th {\n",
              "        text-align: right;\n",
              "    }\n",
              "</style>\n",
              "<table border=\"1\" class=\"dataframe\">\n",
              "  <thead>\n",
              "    <tr style=\"text-align: right;\">\n",
              "      <th></th>\n",
              "      <th>Credit_Limit</th>\n",
              "      <th>Churn_Customer</th>\n",
              "      <th>Total_Customer</th>\n",
              "      <th>Churn_Rate</th>\n",
              "    </tr>\n",
              "  </thead>\n",
              "  <tbody>\n",
              "    <tr>\n",
              "      <th>0</th>\n",
              "      <td>0-5000</td>\n",
              "      <td>926</td>\n",
              "      <td>5358</td>\n",
              "      <td>17.282568</td>\n",
              "    </tr>\n",
              "    <tr>\n",
              "      <th>1</th>\n",
              "      <td>05000-10000</td>\n",
              "      <td>302</td>\n",
              "      <td>2015</td>\n",
              "      <td>14.987593</td>\n",
              "    </tr>\n",
              "    <tr>\n",
              "      <th>2</th>\n",
              "      <td>10000-15000</td>\n",
              "      <td>145</td>\n",
              "      <td>941</td>\n",
              "      <td>15.409139</td>\n",
              "    </tr>\n",
              "    <tr>\n",
              "      <th>3</th>\n",
              "      <td>15000-20000</td>\n",
              "      <td>70</td>\n",
              "      <td>549</td>\n",
              "      <td>12.750455</td>\n",
              "    </tr>\n",
              "    <tr>\n",
              "      <th>4</th>\n",
              "      <td>20000-25000</td>\n",
              "      <td>43</td>\n",
              "      <td>372</td>\n",
              "      <td>11.559140</td>\n",
              "    </tr>\n",
              "    <tr>\n",
              "      <th>5</th>\n",
              "      <td>25000-30000</td>\n",
              "      <td>33</td>\n",
              "      <td>225</td>\n",
              "      <td>14.666667</td>\n",
              "    </tr>\n",
              "    <tr>\n",
              "      <th>6</th>\n",
              "      <td>30000-35000</td>\n",
              "      <td>108</td>\n",
              "      <td>667</td>\n",
              "      <td>16.191904</td>\n",
              "    </tr>\n",
              "  </tbody>\n",
              "</table>\n",
              "</div>"
            ],
            "text/plain": [
              "  Credit_Limit  Churn_Customer  Total_Customer  Churn_Rate\n",
              "0       0-5000             926            5358   17.282568\n",
              "1  05000-10000             302            2015   14.987593\n",
              "2  10000-15000             145             941   15.409139\n",
              "3  15000-20000              70             549   12.750455\n",
              "4  20000-25000              43             372   11.559140\n",
              "5  25000-30000              33             225   14.666667\n",
              "6  30000-35000             108             667   16.191904"
            ]
          },
          "metadata": {},
          "execution_count": 91
        }
      ]
    },
    {
      "cell_type": "code",
      "metadata": {
        "id": "wCOi6uBNdywX",
        "colab": {
          "base_uri": "https://localhost:8080/",
          "height": 407
        },
        "outputId": "2edd1f11-7806-4c7f-f4e7-f77aa1619ccc"
      },
      "source": [
        "Credit_impact.plot(title = 'The relationship between credit limit and churn rate', kind='bar', \n",
        "                   x='Credit_Limit', y='Churn_Rate', \n",
        "                   color = ['#137c39','#60ba6c','#41a75b','#a0d89b','#bbe4b5','#81ca82','#29924a'], figsize=(9, 5));"
      ],
      "execution_count": null,
      "outputs": [
        {
          "output_type": "display_data",
          "data": {
            "image/png": "[encoded data removed]",
            "text/plain": [
              "<Figure size 648x360 with 1 Axes>"
            ]
          },
          "metadata": {
            "needs_background": "light"
          }
        }
      ]
    },
    {
      "cell_type": "markdown",
      "metadata": {
        "id": "YcM3GnkFd1UW"
      },
      "source": [
        "Create graphs to see the tendency. We can see there is no significant relationship between credit limit and churn rate."
      ]
    },
    {
      "cell_type": "code",
      "metadata": {
        "id": "W9hZVmFmd3Xm",
        "colab": {
          "base_uri": "https://localhost:8080/",
          "height": 80
        },
        "outputId": "a9bab860-7d0a-4124-def0-f0cafce2325e"
      },
      "source": [
        "%%bigquery --project=ba775-team-project\n",
        "SELECT ((SUM(credit_limit * attrition_flag)-(SUM(credit_limit) * SUM(attrition_flag)) / COUNT(*)))\n",
        "  / (SQRT(SUM(credit_limit * credit_limit)-(SUM(credit_limit) * SUM (credit_limit)) / COUNT(*) ) * SQRT(SUM(attrition_flag * attrition_flag)\n",
        "  -(SUM(attrition_flag) * SUM(attrition_flag)) / COUNT(*))) AS corr\n",
        "FROM\n",
        "(\n",
        "  SELECT\n",
        "  credit_limit,\n",
        "  CAST(Attrition_Flag = 'Attrited Customer' AS INT) As attrition_flag\n",
        "  FROM ba775-team-project.bankchurners.bankchurners\n",
        ")"
      ],
      "execution_count": null,
      "outputs": [
        {
          "output_type": "execute_result",
          "data": {
            "text/html": [
              "<div>\n",
              "<style scoped>\n",
              "    .dataframe tbody tr th:only-of-type {\n",
              "        vertical-align: middle;\n",
              "    }\n",
              "\n",
              "    .dataframe tbody tr th {\n",
              "        vertical-align: top;\n",
              "    }\n",
              "\n",
              "    .dataframe thead th {\n",
              "        text-align: right;\n",
              "    }\n",
              "</style>\n",
              "<table border=\"1\" class=\"dataframe\">\n",
              "  <thead>\n",
              "    <tr style=\"text-align: right;\">\n",
              "      <th></th>\n",
              "      <th>corr</th>\n",
              "    </tr>\n",
              "  </thead>\n",
              "  <tbody>\n",
              "    <tr>\n",
              "      <th>0</th>\n",
              "      <td>-0.023873</td>\n",
              "    </tr>\n",
              "  </tbody>\n",
              "</table>\n",
              "</div>"
            ],
            "text/plain": [
              "       corr\n",
              "0 -0.023873"
            ]
          },
          "metadata": {},
          "execution_count": 94
        }
      ]
    },
    {
      "cell_type": "markdown",
      "metadata": {
        "id": "9K2vsFEPd5sX"
      },
      "source": [
        "The calculation of correlation coefficient also shows that there is no significant relationship between credit limit and loss of customer."
      ]
    },
    {
      "cell_type": "markdown",
      "metadata": {
        "id": "fJDPaMLByr-6"
      },
      "source": [
        "### **Question 10: How does the number of contacts by sales representative in the past 12 month affect churn rate?**"
      ]
    },
    {
      "cell_type": "code",
      "metadata": {
        "id": "0o4CkrnIg809"
      },
      "source": [
        "%%bigquery ContactNum_distribution --project=ba775-team-project\n",
        "SELECT \n",
        "CASE\n",
        "  WHEN Contacts_Count_12_mon=0 THEN 'Contacts_0'\n",
        "  WHEN Contacts_Count_12_mon=1 THEN 'Contacts_1'\n",
        "  WHEN Contacts_Count_12_mon=2 THEN 'Contacts_2'\n",
        "  WHEN Contacts_Count_12_mon=3 THEN 'Contacts_3'\n",
        "  WHEN Contacts_Count_12_mon=4 THEN 'Contacts_4'\n",
        "  WHEN Contacts_Count_12_mon=5 THEN 'Contacts_5'\n",
        "  WHEN Contacts_Count_12_mon=6 THEN 'Contacts_6'\n",
        "END as Contacts_Count_12_mon,\n",
        "COUNT(Contacts_Count_12_mon) AS Customer_num,\n",
        "FROM `ba775-team-project.bankchurners.bankchurners`\n",
        "GROUP BY Contacts_Count_12_mon\n",
        "ORDER BY Contacts_Count_12_mon"
      ],
      "execution_count": 25,
      "outputs": []
    },
    {
      "cell_type": "code",
      "metadata": {
        "id": "A4iJLigghi3j",
        "colab": {
          "base_uri": "https://localhost:8080/",
          "height": 266
        },
        "outputId": "c4f54cfe-f687-4128-f6a1-2fae611d97c5"
      },
      "source": [
        "ContactNum_distribution"
      ],
      "execution_count": 26,
      "outputs": [
        {
          "output_type": "execute_result",
          "data": {
            "text/html": [
              "<div>\n",
              "<style scoped>\n",
              "    .dataframe tbody tr th:only-of-type {\n",
              "        vertical-align: middle;\n",
              "    }\n",
              "\n",
              "    .dataframe tbody tr th {\n",
              "        vertical-align: top;\n",
              "    }\n",
              "\n",
              "    .dataframe thead th {\n",
              "        text-align: right;\n",
              "    }\n",
              "</style>\n",
              "<table border=\"1\" class=\"dataframe\">\n",
              "  <thead>\n",
              "    <tr style=\"text-align: right;\">\n",
              "      <th></th>\n",
              "      <th>Contacts_Count_12_mon</th>\n",
              "      <th>Customer_num</th>\n",
              "    </tr>\n",
              "  </thead>\n",
              "  <tbody>\n",
              "    <tr>\n",
              "      <th>0</th>\n",
              "      <td>Contacts_0</td>\n",
              "      <td>399</td>\n",
              "    </tr>\n",
              "    <tr>\n",
              "      <th>1</th>\n",
              "      <td>Contacts_1</td>\n",
              "      <td>1499</td>\n",
              "    </tr>\n",
              "    <tr>\n",
              "      <th>2</th>\n",
              "      <td>Contacts_2</td>\n",
              "      <td>3227</td>\n",
              "    </tr>\n",
              "    <tr>\n",
              "      <th>3</th>\n",
              "      <td>Contacts_3</td>\n",
              "      <td>3380</td>\n",
              "    </tr>\n",
              "    <tr>\n",
              "      <th>4</th>\n",
              "      <td>Contacts_4</td>\n",
              "      <td>1392</td>\n",
              "    </tr>\n",
              "    <tr>\n",
              "      <th>5</th>\n",
              "      <td>Contacts_5</td>\n",
              "      <td>176</td>\n",
              "    </tr>\n",
              "    <tr>\n",
              "      <th>6</th>\n",
              "      <td>Contacts_6</td>\n",
              "      <td>54</td>\n",
              "    </tr>\n",
              "  </tbody>\n",
              "</table>\n",
              "</div>"
            ],
            "text/plain": [
              "  Contacts_Count_12_mon  Customer_num\n",
              "0            Contacts_0           399\n",
              "1            Contacts_1          1499\n",
              "2            Contacts_2          3227\n",
              "3            Contacts_3          3380\n",
              "4            Contacts_4          1392\n",
              "5            Contacts_5           176\n",
              "6            Contacts_6            54"
            ]
          },
          "metadata": {},
          "execution_count": 26
        }
      ]
    },
    {
      "cell_type": "code",
      "metadata": {
        "colab": {
          "base_uri": "https://localhost:8080/",
          "height": 396
        },
        "id": "tMU0-1tDry-n",
        "outputId": "8b2ae3fc-4592-4f48-fbb9-43a44c4d9e41"
      },
      "source": [
        "ContactNum_distribution.plot(title = 'The distribution of Contact number in last 12 months',kind='bar', \n",
        "                           x='Contacts_Count_12_mon', y='Customer_num',\n",
        "                 color = ['#d0d0e6','#bcbcdb','#a7a5cf','#928ec8','#7f77b6','#6f5aa8','#5f3c99'], figsize=(9, 5));"
      ],
      "execution_count": 27,
      "outputs": [
        {
          "output_type": "display_data",
          "data": {
            "image/png": "[encoded data removed]",
            "text/plain": [
              "<Figure size 648x360 with 1 Axes>"
            ]
          },
          "metadata": {
            "needs_background": "light"
          }
        }
      ]
    },
    {
      "cell_type": "markdown",
      "metadata": {
        "id": "IqM4xK6-J5tP"
      },
      "source": [
        "We divide the number of attrited customers by the total number of customers group by the Contacts_Count_12_mon to see whether the number of contacts in last 12 months will affect the churn rate."
      ]
    },
    {
      "cell_type": "code",
      "metadata": {
        "id": "OpkulCDnd8Y-"
      },
      "source": [
        "%%bigquery ContactNum_impact --project=ba775-team-project\n",
        "SELECT \n",
        "CASE\n",
        "  WHEN Contacts_Count_12_mon=0 THEN 'Contacts_0'\n",
        "  WHEN Contacts_Count_12_mon=1 THEN 'Contacts_1'\n",
        "  WHEN Contacts_Count_12_mon=2 THEN 'Contacts_2'\n",
        "  WHEN Contacts_Count_12_mon=3 THEN 'Contacts_3'\n",
        "  WHEN Contacts_Count_12_mon=4 THEN 'Contacts_4'\n",
        "  WHEN Contacts_Count_12_mon=5 THEN 'Contacts_5'\n",
        "  WHEN Contacts_Count_12_mon=6 THEN 'Contacts_6'\n",
        "END as Contacts_Count_12_mon,\n",
        "SUM(CAST(Attrition_flag='Attrited Customer' AS INT)) AS Churn_Customer,\n",
        "COUNT(*) AS Total_Customer,\n",
        "SUM(CAST(Attrition_flag='Attrited Customer' AS INT))/COUNT(*)*100 AS Churn_Rate\n",
        "FROM `ba775-team-project.bankchurners.bankchurners`\n",
        "GROUP BY Contacts_Count_12_mon\n",
        "ORDER BY Contacts_Count_12_mon"
      ],
      "execution_count": null,
      "outputs": []
    },
    {
      "cell_type": "code",
      "metadata": {
        "id": "dNX1v6tveLu9",
        "colab": {
          "base_uri": "https://localhost:8080/",
          "height": 266
        },
        "outputId": "b5166182-7928-4ee4-dbae-fd059bbbab2e"
      },
      "source": [
        "ContactNum_impact"
      ],
      "execution_count": null,
      "outputs": [
        {
          "output_type": "execute_result",
          "data": {
            "text/html": [
              "<div>\n",
              "<style scoped>\n",
              "    .dataframe tbody tr th:only-of-type {\n",
              "        vertical-align: middle;\n",
              "    }\n",
              "\n",
              "    .dataframe tbody tr th {\n",
              "        vertical-align: top;\n",
              "    }\n",
              "\n",
              "    .dataframe thead th {\n",
              "        text-align: right;\n",
              "    }\n",
              "</style>\n",
              "<table border=\"1\" class=\"dataframe\">\n",
              "  <thead>\n",
              "    <tr style=\"text-align: right;\">\n",
              "      <th></th>\n",
              "      <th>Contacts_Count_12_mon</th>\n",
              "      <th>Churn_Customer</th>\n",
              "      <th>Total_Customer</th>\n",
              "      <th>Churn_Rate</th>\n",
              "    </tr>\n",
              "  </thead>\n",
              "  <tbody>\n",
              "    <tr>\n",
              "      <th>0</th>\n",
              "      <td>Contacts_0</td>\n",
              "      <td>7</td>\n",
              "      <td>399</td>\n",
              "      <td>1.754386</td>\n",
              "    </tr>\n",
              "    <tr>\n",
              "      <th>1</th>\n",
              "      <td>Contacts_1</td>\n",
              "      <td>108</td>\n",
              "      <td>1499</td>\n",
              "      <td>7.204803</td>\n",
              "    </tr>\n",
              "    <tr>\n",
              "      <th>2</th>\n",
              "      <td>Contacts_2</td>\n",
              "      <td>403</td>\n",
              "      <td>3227</td>\n",
              "      <td>12.488379</td>\n",
              "    </tr>\n",
              "    <tr>\n",
              "      <th>3</th>\n",
              "      <td>Contacts_3</td>\n",
              "      <td>681</td>\n",
              "      <td>3380</td>\n",
              "      <td>20.147929</td>\n",
              "    </tr>\n",
              "    <tr>\n",
              "      <th>4</th>\n",
              "      <td>Contacts_4</td>\n",
              "      <td>315</td>\n",
              "      <td>1392</td>\n",
              "      <td>22.629310</td>\n",
              "    </tr>\n",
              "    <tr>\n",
              "      <th>5</th>\n",
              "      <td>Contacts_5</td>\n",
              "      <td>59</td>\n",
              "      <td>176</td>\n",
              "      <td>33.522727</td>\n",
              "    </tr>\n",
              "    <tr>\n",
              "      <th>6</th>\n",
              "      <td>Contacts_6</td>\n",
              "      <td>54</td>\n",
              "      <td>54</td>\n",
              "      <td>100.000000</td>\n",
              "    </tr>\n",
              "  </tbody>\n",
              "</table>\n",
              "</div>"
            ],
            "text/plain": [
              "  Contacts_Count_12_mon  Churn_Customer  Total_Customer  Churn_Rate\n",
              "0            Contacts_0               7             399    1.754386\n",
              "1            Contacts_1             108            1499    7.204803\n",
              "2            Contacts_2             403            3227   12.488379\n",
              "3            Contacts_3             681            3380   20.147929\n",
              "4            Contacts_4             315            1392   22.629310\n",
              "5            Contacts_5              59             176   33.522727\n",
              "6            Contacts_6              54              54  100.000000"
            ]
          },
          "metadata": {},
          "execution_count": 96
        }
      ]
    },
    {
      "cell_type": "code",
      "metadata": {
        "id": "hAnmpZiteNVX",
        "colab": {
          "base_uri": "https://localhost:8080/",
          "height": 396
        },
        "outputId": "0d5cd280-2fe9-4007-ea9a-f36520118a0f"
      },
      "source": [
        "ContactNum_impact.plot(title = 'The relationship between contact number and churn rate', kind='bar', \n",
        "                       x='Contacts_Count_12_mon', y='Churn_Rate', \n",
        "                       color = ['#d0d0e6','#bcbcdb','#a7a5cf','#928ec8','#7f77b6','#6f5aa8','#5f3c99'], figsize=(9, 5));"
      ],
      "execution_count": null,
      "outputs": [
        {
          "output_type": "display_data",
          "data": {
            "image/png": "[encoded data removed]",
            "text/plain": [
              "<Figure size 648x360 with 1 Axes>"
            ]
          },
          "metadata": {
            "needs_background": "light"
          }
        }
      ]
    },
    {
      "cell_type": "markdown",
      "metadata": {
        "id": "keU7oLcneP_1"
      },
      "source": [
        "Create graphs to see the tendency. We can see there is a positive relationship between the number of contacts and churn rate."
      ]
    },
    {
      "cell_type": "code",
      "metadata": {
        "id": "H9g1Do4_ekQ3",
        "colab": {
          "base_uri": "https://localhost:8080/",
          "height": 80
        },
        "outputId": "77ded672-4127-45ba-ded0-9bc3c93b9ec8"
      },
      "source": [
        "%%bigquery --project=ba775-team-project\n",
        "SELECT ((SUM(Contacts_Count_12_mon * attrition_flag)-(SUM(Contacts_Count_12_mon) * SUM(attrition_flag)) / COUNT(*)))\n",
        "  / (SQRT(SUM(Contacts_Count_12_mon * Contacts_Count_12_mon)-(SUM(Contacts_Count_12_mon) * \n",
        "  SUM (Contacts_Count_12_mon)) / COUNT(*) ) * SQRT(SUM(attrition_flag * attrition_flag)\n",
        "  -(SUM(attrition_flag) * SUM(attrition_flag)) / COUNT(*))) AS corr\n",
        "FROM \n",
        "(\n",
        "  SELECT\n",
        "  Contacts_Count_12_mon,\n",
        "  CAST(Attrition_Flag = 'Attrited Customer' AS INT) AS attrition_flag\n",
        "  FROM ba775-team-project.bankchurners.bankchurners\n",
        ")"
      ],
      "execution_count": null,
      "outputs": [
        {
          "output_type": "execute_result",
          "data": {
            "text/html": [
              "<div>\n",
              "<style scoped>\n",
              "    .dataframe tbody tr th:only-of-type {\n",
              "        vertical-align: middle;\n",
              "    }\n",
              "\n",
              "    .dataframe tbody tr th {\n",
              "        vertical-align: top;\n",
              "    }\n",
              "\n",
              "    .dataframe thead th {\n",
              "        text-align: right;\n",
              "    }\n",
              "</style>\n",
              "<table border=\"1\" class=\"dataframe\">\n",
              "  <thead>\n",
              "    <tr style=\"text-align: right;\">\n",
              "      <th></th>\n",
              "      <th>corr</th>\n",
              "    </tr>\n",
              "  </thead>\n",
              "  <tbody>\n",
              "    <tr>\n",
              "      <th>0</th>\n",
              "      <td>0.204491</td>\n",
              "    </tr>\n",
              "  </tbody>\n",
              "</table>\n",
              "</div>"
            ],
            "text/plain": [
              "       corr\n",
              "0  0.204491"
            ]
          },
          "metadata": {},
          "execution_count": 99
        }
      ]
    },
    {
      "cell_type": "markdown",
      "metadata": {
        "id": "FO-HcYqEjMwE"
      },
      "source": [
        "The correlation coefficient of contacts and attrition flag shows that there is a positive relationship between the two rows."
      ]
    },
    {
      "cell_type": "markdown",
      "metadata": {
        "id": "kYqeM_j-ytOA"
      },
      "source": [
        "### **Question 11: How does time length as being our customer affect churn rate?**"
      ]
    },
    {
      "cell_type": "code",
      "metadata": {
        "id": "v8BHKWxCsQEa"
      },
      "source": [
        "%%bigquery Month_distribution --project=ba775-team-project\n",
        "SELECT \n",
        "CASE\n",
        "      WHEN Months_on_Book>=10 AND Months_on_Book <20 then '10-19'\n",
        "      WHEN Months_on_Book>=20 AND Months_on_Book <30 then '20-29'\n",
        "      WHEN Months_on_Book>=30 AND Months_on_Book <40 then '30-39'\n",
        "      ELSE '>= 40'\n",
        "End as Months_on_Book,\n",
        "COUNT(Months_on_Book) AS Customer_num,\n",
        "FROM `ba775-team-project.bankchurners.bankchurners`\n",
        "GROUP BY Months_on_Book\n",
        "ORDER BY Months_on_Book"
      ],
      "execution_count": 29,
      "outputs": []
    },
    {
      "cell_type": "code",
      "metadata": {
        "colab": {
          "base_uri": "https://localhost:8080/",
          "height": 173
        },
        "id": "rhJjX39us7gg",
        "outputId": "1f53ccd5-7db9-453c-8e92-d0c618db94f7"
      },
      "source": [
        "Month_distribution"
      ],
      "execution_count": 30,
      "outputs": [
        {
          "output_type": "execute_result",
          "data": {
            "text/html": [
              "<div>\n",
              "<style scoped>\n",
              "    .dataframe tbody tr th:only-of-type {\n",
              "        vertical-align: middle;\n",
              "    }\n",
              "\n",
              "    .dataframe tbody tr th {\n",
              "        vertical-align: top;\n",
              "    }\n",
              "\n",
              "    .dataframe thead th {\n",
              "        text-align: right;\n",
              "    }\n",
              "</style>\n",
              "<table border=\"1\" class=\"dataframe\">\n",
              "  <thead>\n",
              "    <tr style=\"text-align: right;\">\n",
              "      <th></th>\n",
              "      <th>Months_on_Book</th>\n",
              "      <th>Customer_num</th>\n",
              "    </tr>\n",
              "  </thead>\n",
              "  <tbody>\n",
              "    <tr>\n",
              "      <th>0</th>\n",
              "      <td>10-19</td>\n",
              "      <td>309</td>\n",
              "    </tr>\n",
              "    <tr>\n",
              "      <th>1</th>\n",
              "      <td>20-29</td>\n",
              "      <td>1611</td>\n",
              "    </tr>\n",
              "    <tr>\n",
              "      <th>2</th>\n",
              "      <td>30-39</td>\n",
              "      <td>5391</td>\n",
              "    </tr>\n",
              "    <tr>\n",
              "      <th>3</th>\n",
              "      <td>&gt;= 40</td>\n",
              "      <td>2816</td>\n",
              "    </tr>\n",
              "  </tbody>\n",
              "</table>\n",
              "</div>"
            ],
            "text/plain": [
              "  Months_on_Book  Customer_num\n",
              "0          10-19           309\n",
              "1          20-29          1611\n",
              "2          30-39          5391\n",
              "3          >= 40          2816"
            ]
          },
          "metadata": {},
          "execution_count": 30
        }
      ]
    },
    {
      "cell_type": "code",
      "metadata": {
        "colab": {
          "base_uri": "https://localhost:8080/",
          "height": 373
        },
        "id": "b2-Z8wR4s-Ax",
        "outputId": "e211c039-b577-4840-a9d4-4378958a7adb"
      },
      "source": [
        "Month_distribution.plot(title = 'The distribution of time length as being our customer',kind='bar', \n",
        "                           x='Months_on_Book', y='Customer_num',\n",
        "                 color = ['#fc8767', '#f6573f', '#b21218', '#dc2a25'], figsize=(9, 5));"
      ],
      "execution_count": 31,
      "outputs": [
        {
          "output_type": "display_data",
          "data": {
            "image/png": "[encoded data removed]",
            "text/plain": [
              "<Figure size 648x360 with 1 Axes>"
            ]
          },
          "metadata": {
            "needs_background": "light"
          }
        }
      ]
    },
    {
      "cell_type": "markdown",
      "metadata": {
        "id": "w40n_Ho0KFIh"
      },
      "source": [
        "We divide the number of attrited customers by the total number of customers group by the Months_on_book to see whether the time length as being our customer will affect the churn rate."
      ]
    },
    {
      "cell_type": "code",
      "metadata": {
        "id": "T08uNR0aip2-"
      },
      "source": [
        "%%bigquery Time_impact --project=ba775-team-project\n",
        "SELECT\n",
        "CASE\n",
        "      WHEN Months_on_Book>=10 AND Months_on_Book <20 then '10-19'\n",
        "      WHEN Months_on_Book>=20 AND Months_on_Book <30 then '20-29'\n",
        "      WHEN Months_on_Book>=30 AND Months_on_Book <40 then '30-39'\n",
        "      ELSE '>= 40'\n",
        "End as Months_on_Book,\n",
        "SUM(CAST(Attrition_Flag = 'Attrited Customer' AS INT)) AS Churn_Customer,\n",
        "COUNT(*) AS Total_Customer,\n",
        "SUM(CAST(Attrition_Flag = 'Attrited Customer'AS INT))/COUNT(*)*100 AS Churn_Rate\n",
        "\n",
        "FROM `ba775-team-project.bankchurners.bankchurners`\n",
        "GROUP BY Months_on_Book\n",
        "ORDER BY Months_on_Book"
      ],
      "execution_count": null,
      "outputs": []
    },
    {
      "cell_type": "code",
      "metadata": {
        "id": "1WzGwrzjit8m",
        "colab": {
          "base_uri": "https://localhost:8080/",
          "height": 173
        },
        "outputId": "e7024c64-2f4a-4db0-ddd6-3d31d4e3f3dd"
      },
      "source": [
        "Time_impact"
      ],
      "execution_count": null,
      "outputs": [
        {
          "output_type": "execute_result",
          "data": {
            "text/html": [
              "<div>\n",
              "<style scoped>\n",
              "    .dataframe tbody tr th:only-of-type {\n",
              "        vertical-align: middle;\n",
              "    }\n",
              "\n",
              "    .dataframe tbody tr th {\n",
              "        vertical-align: top;\n",
              "    }\n",
              "\n",
              "    .dataframe thead th {\n",
              "        text-align: right;\n",
              "    }\n",
              "</style>\n",
              "<table border=\"1\" class=\"dataframe\">\n",
              "  <thead>\n",
              "    <tr style=\"text-align: right;\">\n",
              "      <th></th>\n",
              "      <th>Months_on_Book</th>\n",
              "      <th>Churn_Customer</th>\n",
              "      <th>Total_Customer</th>\n",
              "      <th>Churn_Rate</th>\n",
              "    </tr>\n",
              "  </thead>\n",
              "  <tbody>\n",
              "    <tr>\n",
              "      <th>0</th>\n",
              "      <td>10-19</td>\n",
              "      <td>43</td>\n",
              "      <td>309</td>\n",
              "      <td>13.915858</td>\n",
              "    </tr>\n",
              "    <tr>\n",
              "      <th>1</th>\n",
              "      <td>20-29</td>\n",
              "      <td>238</td>\n",
              "      <td>1611</td>\n",
              "      <td>14.773433</td>\n",
              "    </tr>\n",
              "    <tr>\n",
              "      <th>2</th>\n",
              "      <td>30-39</td>\n",
              "      <td>899</td>\n",
              "      <td>5391</td>\n",
              "      <td>16.675941</td>\n",
              "    </tr>\n",
              "    <tr>\n",
              "      <th>3</th>\n",
              "      <td>&gt;= 40</td>\n",
              "      <td>447</td>\n",
              "      <td>2816</td>\n",
              "      <td>15.873580</td>\n",
              "    </tr>\n",
              "  </tbody>\n",
              "</table>\n",
              "</div>"
            ],
            "text/plain": [
              "  Months_on_Book  Churn_Customer  Total_Customer  Churn_Rate\n",
              "0          10-19              43             309   13.915858\n",
              "1          20-29             238            1611   14.773433\n",
              "2          30-39             899            5391   16.675941\n",
              "3          >= 40             447            2816   15.873580"
            ]
          },
          "metadata": {},
          "execution_count": 101
        }
      ]
    },
    {
      "cell_type": "code",
      "metadata": {
        "id": "AofBZlKaivqw",
        "colab": {
          "base_uri": "https://localhost:8080/",
          "height": 373
        },
        "outputId": "40b6e726-348b-4161-fbb9-637dd29c63f8"
      },
      "source": [
        "Time_impact.plot(title = 'The relationship between time length as being our customer and churn rate', kind='bar', \n",
        "                 x='Months_on_Book', y='Churn_Rate', color = ['#fc8767', '#f6573f', '#b21218', '#dc2a25'],figsize=(9, 5));"
      ],
      "execution_count": null,
      "outputs": [
        {
          "output_type": "display_data",
          "data": {
            "image/png": "[encoded data removed]",
            "text/plain": [
              "<Figure size 648x360 with 1 Axes>"
            ]
          },
          "metadata": {
            "needs_background": "light"
          }
        }
      ]
    },
    {
      "cell_type": "markdown",
      "metadata": {
        "id": "oLQztvwqix1u"
      },
      "source": [
        "Create graphs to see the tendency. We can see the time lengh does affect the churn rate below 39 months, however, it seems to be less influential when it's longer 40 months."
      ]
    },
    {
      "cell_type": "code",
      "metadata": {
        "id": "SxoAb_Exizll",
        "colab": {
          "base_uri": "https://localhost:8080/",
          "height": 80
        },
        "outputId": "eb5ddaa9-6d95-4010-ceeb-dbf3d89b626f"
      },
      "source": [
        "%%bigquery --project=ba775-team-project\n",
        "SELECT ((SUM(months_on_book * attrition_flag)-(SUM(months_on_book) * SUM(attrition_flag)) / COUNT(*)))\n",
        "  / (SQRT(SUM(months_on_book * months_on_book)-(SUM(months_on_book) * SUM (months_on_book)) / COUNT(*) ) \n",
        "  * SQRT(SUM(attrition_flag * attrition_flag)\n",
        "  -(SUM(attrition_flag) * SUM(attrition_flag)) / COUNT(*))) AS corr\n",
        "FROM \n",
        "(\n",
        "  SELECT \n",
        "  months_on_book,\n",
        "  CAST(Attrition_Flag = 'Attrited Customer' AS INT) AS attrition_flag\n",
        "  FROM ba775-team-project.bankchurners.bankchurners\n",
        ")"
      ],
      "execution_count": null,
      "outputs": [
        {
          "output_type": "execute_result",
          "data": {
            "text/html": [
              "<div>\n",
              "<style scoped>\n",
              "    .dataframe tbody tr th:only-of-type {\n",
              "        vertical-align: middle;\n",
              "    }\n",
              "\n",
              "    .dataframe tbody tr th {\n",
              "        vertical-align: top;\n",
              "    }\n",
              "\n",
              "    .dataframe thead th {\n",
              "        text-align: right;\n",
              "    }\n",
              "</style>\n",
              "<table border=\"1\" class=\"dataframe\">\n",
              "  <thead>\n",
              "    <tr style=\"text-align: right;\">\n",
              "      <th></th>\n",
              "      <th>corr</th>\n",
              "    </tr>\n",
              "  </thead>\n",
              "  <tbody>\n",
              "    <tr>\n",
              "      <th>0</th>\n",
              "      <td>0.013687</td>\n",
              "    </tr>\n",
              "  </tbody>\n",
              "</table>\n",
              "</div>"
            ],
            "text/plain": [
              "       corr\n",
              "0  0.013687"
            ]
          },
          "metadata": {},
          "execution_count": 104
        }
      ]
    },
    {
      "cell_type": "markdown",
      "metadata": {
        "id": "RNRLxu8Ci3MW"
      },
      "source": [
        "Below is the correlation between months on book and whether it is a churned customer. Similar to the results of the graphs, there is no significant correlation between the two rows. "
      ]
    },
    {
      "cell_type": "markdown",
      "metadata": {
        "id": "5FBSSl2KyuXy"
      },
      "source": [
        "### **Question 12: How does the number of other existing service affect churn rate?**"
      ]
    },
    {
      "cell_type": "code",
      "metadata": {
        "id": "0bNigksZEUTe"
      },
      "source": [
        "%%bigquery Relation_Impact --project=ba775-team-project\n",
        "SELECT \n",
        "  Total_Relationship_Count AS Total_Products, \n",
        "  SUM(CAST(Attrition_Flag = 'Attrited Customer'AS INT)) AS Churned_Accounts,\n",
        "  COUNT(*) AS Total_Accounts, \n",
        "  SUM(CAST(Attrition_Flag = 'Attrited Customer'AS INT))/COUNT(*)*100 AS Churn_Rate,\n",
        "FROM `ba775-team-project.bankchurners.bankchurners`\n",
        "GROUP BY Total_Relationship_Count\n",
        "ORDER BY Total_Relationship_Count;"
      ],
      "execution_count": null,
      "outputs": []
    },
    {
      "cell_type": "markdown",
      "metadata": {
        "id": "elV-VZWXEgcq"
      },
      "source": [
        "As seen in the table below, customers in the 1-2 product category have the highest churn rates whereas churn rates are observed to be lower for customers with higher number of products."
      ]
    },
    {
      "cell_type": "code",
      "metadata": {
        "id": "DlC4iPVpo3zI"
      },
      "source": [
        "Relation_Impact.plot(title = 'Relationship Between Number of Products & Churn Rates',kind='bar', x='Total_Products', y='Churn_Rate',color = ['#5ba3cf','#8fc1de','#3181bd','#125ca4','#8fc3de'], figsize=(9, 5));"
      ],
      "execution_count": null,
      "outputs": []
    },
    {
      "cell_type": "code",
      "metadata": {
        "id": "tZKykfTJEtut"
      },
      "source": [
        "Relation_Impact"
      ],
      "execution_count": null,
      "outputs": []
    },
    {
      "cell_type": "markdown",
      "metadata": {
        "id": "o7EMZzBrEv8n"
      },
      "source": [
        "Correlation analysis between total number of products and churn rates: -0.15 which shows a negative but weak correlation between the two variables."
      ]
    },
    {
      "cell_type": "code",
      "metadata": {
        "id": "3qX4BoGSEyrV"
      },
      "source": [
        "%%bigquery --project=ba775-team-project\n",
        "SELECT ((SUM(Total_Relationship_Count * attrition_flag)\n",
        "  -(SUM(Total_Relationship_Count) * SUM(attrition_flag)) / COUNT(*))) / (SQRT(SUM(Total_Relationship_Count * Total_Relationship_Count) \n",
        "  -(SUM(Total_Relationship_Count) * SUM (Total_Relationship_Count)) / COUNT(*) ) * SQRT(SUM(attrition_flag * attrition_flag)\n",
        "  -(SUM(attrition_flag) * SUM(attrition_flag)) / COUNT(*))) AS corr\n",
        "FROM\n",
        "(SELECT \n",
        "  Total_Relationship_Count,\n",
        "  CAST(Attrition_Flag = 'Attrited Customer' AS INT) AS attrition_flag\n",
        "  FROM ba775-team-project.bankchurners.bankchurners)"
      ],
      "execution_count": null,
      "outputs": []
    },
    {
      "cell_type": "markdown",
      "metadata": {
        "id": "aWnEIquRyvxO"
      },
      "source": [
        "### **Question 13: How does transaction amount affect churn rate?**"
      ]
    },
    {
      "cell_type": "markdown",
      "metadata": {
        "id": "VXX15CwpKvpz"
      },
      "source": [
        "We divide the number of attrited customers by the total number of customers group by the total transcation amount to see whether the amount our customer spend will affect the churn rate."
      ]
    },
    {
      "cell_type": "code",
      "metadata": {
        "id": "_9kEYWZMleTN"
      },
      "source": [
        "%%bigquery Total_Trans_Amt --project=ba775-team-project\n",
        "/* transacation amount tendency */\n",
        "SELECT SUM(CAST(Attrition_Flag = 'Attrited Customer'AS INT)) AS closed_account,\n",
        "COUNT(*) AS total_account,SUM(CAST(Attrition_Flag = 'Attrited Customer'AS INT))/\n",
        "COUNT(*)*100 AS Churn_rate,\n",
        "CASE\n",
        "      WHEN Total_Trans_Amt <4000 THEN '0-4000'\n",
        "      WHEN Total_Trans_Amt <8000 THEN '4000-8000'\n",
        "      WHEN Total_Trans_Amt <12000 THEN '8000-12000'\n",
        "      WHEN Total_Trans_Amt <16000 THEN '12000-16000'\n",
        "      ELSE '16000-20000'\n",
        "End AS Total_Trans_Amt\n",
        "    \n",
        "FROM `ba775-team-project.bankchurners.bankchurners`\n",
        "GROUP BY Total_Trans_Amt"
      ],
      "execution_count": null,
      "outputs": []
    },
    {
      "cell_type": "code",
      "metadata": {
        "id": "4oCIPz5-wGED"
      },
      "source": [
        "Total_Trans_Amt"
      ],
      "execution_count": null,
      "outputs": []
    },
    {
      "cell_type": "markdown",
      "metadata": {
        "id": "HPUDKdTtwzXX"
      },
      "source": [
        "Create graphs to see the tendency. We can see the customers with transacation amount below 4k tend to have a high churn rate. and customers with transcation amount between 8k to 12K have the highest churn rate. Moreover customers with transcation amount above 12k tend to stuck with us."
      ]
    },
    {
      "cell_type": "code",
      "metadata": {
        "id": "r6alKv2oyT3A"
      },
      "source": [
        "Total_Trans_Amt.plot(title = 'The relationship between transcation amount and churn rate', kind='bar', \n",
        "                       x='Total_Trans_Amt', y='Churn_rate', \n",
        "                       color = ['#9acd32','#bbf90f','#aaff32','#ffff14','#ffff00'], figsize=(9, 5));\n",
        "Total_Trans_Amt.plot(kind='line', x='Total_Trans_Amt', y='Churn_rate', color = '#aaff32', figsize=(9, 5));"
      ],
      "execution_count": null,
      "outputs": []
    },
    {
      "cell_type": "markdown",
      "metadata": {
        "id": "_OKUfe-Dyw8T"
      },
      "source": [
        "### **Question 14: How does revolving balance affect churn rate?**"
      ]
    },
    {
      "cell_type": "markdown",
      "metadata": {
        "id": "p-t1uqIcK8OP"
      },
      "source": [
        "We divide the number of attrited customers by the total number of customers group by the total revolving balance to see whether the revolving balance will affect the churn rate."
      ]
    },
    {
      "cell_type": "code",
      "metadata": {
        "id": "fbN1gCTTlhf6"
      },
      "source": [
        "%%bigquery Total_Revolving_Bal --project=ba775-team-project\n",
        "/* revolving amount tendency */\n",
        "SELECT SUM(CAST(Attrition_Flag = 'Attrited Customer'AS INT)) AS closed_account,\n",
        "COUNT(*) AS total_account,SUM(CAST(Attrition_Flag = 'Attrited Customer'AS int))/\n",
        "COUNT(*)*100 AS Churn_rate,\n",
        "CASE\n",
        "      WHEN Total_Revolving_Bal <500 THEN  '0-500'\n",
        "      WHEN Total_Revolving_Bal <1000 THEN '0500-1000'\n",
        "      WHEN Total_Revolving_Bal <1500 THEN '1000-1500'\n",
        "      WHEN Total_Revolving_Bal <2000 THEN '1500-2000'\n",
        "      ELSE '2000-2500'\n",
        "End AS Total_Revolving_Bal\n",
        "    \n",
        "FROM `ba775-team-project.bankchurners.bankchurners`\n",
        "GROUP BY Total_Revolving_Bal\n",
        "ORDER BY Total_Revolving_Bal"
      ],
      "execution_count": 35,
      "outputs": []
    },
    {
      "cell_type": "code",
      "metadata": {
        "id": "bhNpeSSkwrTU",
        "colab": {
          "base_uri": "https://localhost:8080/",
          "height": 204
        },
        "outputId": "b5f79980-1473-4338-b32a-94769321a779"
      },
      "source": [
        "Total_Revolving_Bal"
      ],
      "execution_count": 36,
      "outputs": [
        {
          "output_type": "execute_result",
          "data": {
            "text/html": [
              "<div>\n",
              "<style scoped>\n",
              "    .dataframe tbody tr th:only-of-type {\n",
              "        vertical-align: middle;\n",
              "    }\n",
              "\n",
              "    .dataframe tbody tr th {\n",
              "        vertical-align: top;\n",
              "    }\n",
              "\n",
              "    .dataframe thead th {\n",
              "        text-align: right;\n",
              "    }\n",
              "</style>\n",
              "<table border=\"1\" class=\"dataframe\">\n",
              "  <thead>\n",
              "    <tr style=\"text-align: right;\">\n",
              "      <th></th>\n",
              "      <th>closed_account</th>\n",
              "      <th>total_account</th>\n",
              "      <th>Churn_rate</th>\n",
              "      <th>Total_Revolving_Bal</th>\n",
              "    </tr>\n",
              "  </thead>\n",
              "  <tbody>\n",
              "    <tr>\n",
              "      <th>0</th>\n",
              "      <td>998</td>\n",
              "      <td>2595</td>\n",
              "      <td>38.458574</td>\n",
              "      <td>0-500</td>\n",
              "    </tr>\n",
              "    <tr>\n",
              "      <th>1</th>\n",
              "      <td>163</td>\n",
              "      <td>1316</td>\n",
              "      <td>12.386018</td>\n",
              "      <td>0500-1000</td>\n",
              "    </tr>\n",
              "    <tr>\n",
              "      <th>2</th>\n",
              "      <td>103</td>\n",
              "      <td>2257</td>\n",
              "      <td>4.563580</td>\n",
              "      <td>1000-1500</td>\n",
              "    </tr>\n",
              "    <tr>\n",
              "      <th>3</th>\n",
              "      <td>108</td>\n",
              "      <td>2287</td>\n",
              "      <td>4.722344</td>\n",
              "      <td>1500-2000</td>\n",
              "    </tr>\n",
              "    <tr>\n",
              "      <th>4</th>\n",
              "      <td>255</td>\n",
              "      <td>1672</td>\n",
              "      <td>15.251196</td>\n",
              "      <td>2000-2500</td>\n",
              "    </tr>\n",
              "  </tbody>\n",
              "</table>\n",
              "</div>"
            ],
            "text/plain": [
              "   closed_account  total_account  Churn_rate Total_Revolving_Bal\n",
              "0             998           2595   38.458574               0-500\n",
              "1             163           1316   12.386018           0500-1000\n",
              "2             103           2257    4.563580           1000-1500\n",
              "3             108           2287    4.722344           1500-2000\n",
              "4             255           1672   15.251196           2000-2500"
            ]
          },
          "metadata": {},
          "execution_count": 36
        }
      ]
    },
    {
      "cell_type": "markdown",
      "metadata": {
        "id": "EfaaFyJdxyeO"
      },
      "source": [
        "Create graphs to see the tendency. We can see the revolving balance does affect the churn rate. customers with very low revolving balance tends to have a very high churn rate."
      ]
    },
    {
      "cell_type": "code",
      "metadata": {
        "id": "HAJu_RAeyyJw",
        "colab": {
          "base_uri": "https://localhost:8080/",
          "height": 715
        },
        "outputId": "85e03cf5-4216-4ced-b24f-4be11f3d3122"
      },
      "source": [
        "Total_Revolving_Bal.plot(title = 'The relationship between revolving balance and churn rate', kind='bar', \n",
        "                       x='Total_Revolving_Bal', y='Churn_rate', \n",
        "                       color = ['#d0d0e6','#bcbcdb','#a7a5cf','#928ec8','#7f77b6'], figsize=(9, 5));\n",
        "Total_Revolving_Bal.plot(kind='line', x='Total_Revolving_Bal', y='Churn_rate', color = '#6a3d9a', figsize=(9, 5));"
      ],
      "execution_count": null,
      "outputs": [
        {
          "output_type": "display_data",
          "data": {
            "image/png": "[encoded data removed]",
            "text/plain": [
              "<Figure size 648x360 with 1 Axes>"
            ]
          },
          "metadata": {
            "needs_background": "light"
          }
        },
        {
          "output_type": "display_data",
          "data": {
            "image/png": "[encoded data removed]",
            "text/plain": [
              "<Figure size 648x360 with 1 Axes>"
            ]
          },
          "metadata": {
            "needs_background": "light"
          }
        }
      ]
    },
    {
      "cell_type": "markdown",
      "metadata": {
        "id": "i1eRXGYL9TPX"
      },
      "source": [
        "Ann: I just put all the variables to see the relationship with revolving balance. But I think it's too much because the customer_count is really small. I think it's better to remove one of them(maybe age?) but I'm not sure. What do you think?"
      ]
    },
    {
      "cell_type": "code",
      "metadata": {
        "id": "XoMhg3yRsqBh"
      },
      "source": [
        "%%bigquery RevBal_high --project=ba775-team-project\n",
        "SELECT\n",
        "CASE \n",
        "      WHEN Customer_Age >20 AND Customer_Age <=30 THEN '21-30'\n",
        "      WHEN Customer_Age >30 AND Customer_Age <=40 THEN '31-40'\n",
        "      WHEN Customer_Age >40 AND Customer_Age <=50 THEN '41-50'\n",
        "      WHEN Customer_Age >50 AND Customer_Age <=60 THEN '51-60'\n",
        "      ELSE '>61'\n",
        "End AS Customer_Age,\n",
        "Income_Category, Education_Level, Card_Category, COUNT(Card_Category) AS Customer_count FROM `ba775-team-project.bankchurners.bankchurners`\n",
        "WHERE Total_Revolving_Bal >= 2000 AND Income_Category NOT LIKE '%Unknown' AND Education_Level NOT LIKE '%Unknown' AND Card_Category NOT LIKE '%Unknown'\n",
        "GROUP BY Customer_Age, Income_Category, Education_Level, Card_Category\n",
        "ORDER BY Customer_count DESC\n",
        "LIMIT 4"
      ],
      "execution_count": null,
      "outputs": []
    },
    {
      "cell_type": "code",
      "metadata": {
        "id": "Q0cLZ-mF1qEr",
        "colab": {
          "base_uri": "https://localhost:8080/",
          "height": 173
        },
        "outputId": "1969de42-d99c-4e31-aa71-b97467df0120"
      },
      "source": [
        "RevBal_high"
      ],
      "execution_count": null,
      "outputs": [
        {
          "output_type": "execute_result",
          "data": {
            "text/html": [
              "<div>\n",
              "<style scoped>\n",
              "    .dataframe tbody tr th:only-of-type {\n",
              "        vertical-align: middle;\n",
              "    }\n",
              "\n",
              "    .dataframe tbody tr th {\n",
              "        vertical-align: top;\n",
              "    }\n",
              "\n",
              "    .dataframe thead th {\n",
              "        text-align: right;\n",
              "    }\n",
              "</style>\n",
              "<table border=\"1\" class=\"dataframe\">\n",
              "  <thead>\n",
              "    <tr style=\"text-align: right;\">\n",
              "      <th></th>\n",
              "      <th>Customer_Age</th>\n",
              "      <th>Income_Category</th>\n",
              "      <th>Education_Level</th>\n",
              "      <th>Card_Category</th>\n",
              "      <th>Customer_count</th>\n",
              "    </tr>\n",
              "  </thead>\n",
              "  <tbody>\n",
              "    <tr>\n",
              "      <th>0</th>\n",
              "      <td>41-50</td>\n",
              "      <td>Less than $40K</td>\n",
              "      <td>Graduate</td>\n",
              "      <td>Blue</td>\n",
              "      <td>75</td>\n",
              "    </tr>\n",
              "    <tr>\n",
              "      <th>1</th>\n",
              "      <td>51-60</td>\n",
              "      <td>Less than $40K</td>\n",
              "      <td>Graduate</td>\n",
              "      <td>Blue</td>\n",
              "      <td>47</td>\n",
              "    </tr>\n",
              "    <tr>\n",
              "      <th>2</th>\n",
              "      <td>41-50</td>\n",
              "      <td>Less than $40K</td>\n",
              "      <td>High School</td>\n",
              "      <td>Blue</td>\n",
              "      <td>47</td>\n",
              "    </tr>\n",
              "    <tr>\n",
              "      <th>3</th>\n",
              "      <td>41-50</td>\n",
              "      <td>$80K - $120K</td>\n",
              "      <td>Graduate</td>\n",
              "      <td>Blue</td>\n",
              "      <td>39</td>\n",
              "    </tr>\n",
              "  </tbody>\n",
              "</table>\n",
              "</div>"
            ],
            "text/plain": [
              "  Customer_Age Income_Category Education_Level Card_Category  Customer_count\n",
              "0        41-50  Less than $40K        Graduate          Blue              75\n",
              "1        51-60  Less than $40K        Graduate          Blue              47\n",
              "2        41-50  Less than $40K     High School          Blue              47\n",
              "3        41-50    $80K - $120K        Graduate          Blue              39"
            ]
          },
          "metadata": {},
          "execution_count": 109
        }
      ]
    },
    {
      "cell_type": "code",
      "metadata": {
        "id": "oyz3h1m137a3"
      },
      "source": [
        "%%bigquery RevBal_low --project=ba775-team-project\n",
        "SELECT \n",
        "CASE \n",
        "      WHEN Customer_Age >20 AND Customer_Age <=30 THEN '21-30'\n",
        "      WHEN Customer_Age >30 AND Customer_Age <=40 THEN '31-40'\n",
        "      WHEN Customer_Age >40 AND Customer_Age <=50 THEN '41-50'\n",
        "      WHEN Customer_Age >50 AND Customer_Age <=60 THEN '51-60'\n",
        "      ELSE '>61'\n",
        "End AS Customer_Age,\n",
        "Income_Category, Education_Level, Card_Category, COUNT(Card_Category) AS Customer_count FROM `ba775-team-project.bankchurners.bankchurners`\n",
        "WHERE Total_Revolving_Bal < 1000 AND Income_Category NOT LIKE '%Unknown' AND Education_Level NOT LIKE '%Unknown' AND Card_Category NOT LIKE '%Unknown'\n",
        "GROUP BY Customer_Age, Income_Category, Education_Level, Card_Category\n",
        "ORDER BY Customer_count DESC\n",
        "LIMIT 4"
      ],
      "execution_count": null,
      "outputs": []
    },
    {
      "cell_type": "code",
      "metadata": {
        "id": "-nNyO2Ak4Cxz",
        "colab": {
          "base_uri": "https://localhost:8080/",
          "height": 173
        },
        "outputId": "096d4e09-8457-428a-ba1d-32a996c76e06"
      },
      "source": [
        "RevBal_low"
      ],
      "execution_count": null,
      "outputs": [
        {
          "output_type": "execute_result",
          "data": {
            "text/html": [
              "<div>\n",
              "<style scoped>\n",
              "    .dataframe tbody tr th:only-of-type {\n",
              "        vertical-align: middle;\n",
              "    }\n",
              "\n",
              "    .dataframe tbody tr th {\n",
              "        vertical-align: top;\n",
              "    }\n",
              "\n",
              "    .dataframe thead th {\n",
              "        text-align: right;\n",
              "    }\n",
              "</style>\n",
              "<table border=\"1\" class=\"dataframe\">\n",
              "  <thead>\n",
              "    <tr style=\"text-align: right;\">\n",
              "      <th></th>\n",
              "      <th>Customer_Age</th>\n",
              "      <th>Income_Category</th>\n",
              "      <th>Education_Level</th>\n",
              "      <th>Card_Category</th>\n",
              "      <th>Customer_count</th>\n",
              "    </tr>\n",
              "  </thead>\n",
              "  <tbody>\n",
              "    <tr>\n",
              "      <th>0</th>\n",
              "      <td>41-50</td>\n",
              "      <td>Less than $40K</td>\n",
              "      <td>Graduate</td>\n",
              "      <td>Blue</td>\n",
              "      <td>183</td>\n",
              "    </tr>\n",
              "    <tr>\n",
              "      <th>1</th>\n",
              "      <td>41-50</td>\n",
              "      <td>Less than $40K</td>\n",
              "      <td>High School</td>\n",
              "      <td>Blue</td>\n",
              "      <td>115</td>\n",
              "    </tr>\n",
              "    <tr>\n",
              "      <th>2</th>\n",
              "      <td>51-60</td>\n",
              "      <td>Less than $40K</td>\n",
              "      <td>Graduate</td>\n",
              "      <td>Blue</td>\n",
              "      <td>105</td>\n",
              "    </tr>\n",
              "    <tr>\n",
              "      <th>3</th>\n",
              "      <td>31-40</td>\n",
              "      <td>Less than $40K</td>\n",
              "      <td>Graduate</td>\n",
              "      <td>Blue</td>\n",
              "      <td>99</td>\n",
              "    </tr>\n",
              "  </tbody>\n",
              "</table>\n",
              "</div>"
            ],
            "text/plain": [
              "  Customer_Age Income_Category Education_Level Card_Category  Customer_count\n",
              "0        41-50  Less than $40K        Graduate          Blue             183\n",
              "1        41-50  Less than $40K     High School          Blue             115\n",
              "2        51-60  Less than $40K        Graduate          Blue             105\n",
              "3        31-40  Less than $40K        Graduate          Blue              99"
            ]
          },
          "metadata": {},
          "execution_count": 114
        }
      ]
    },
    {
      "cell_type": "code",
      "metadata": {
        "id": "HR61QGf6yVg7"
      },
      "source": [
        "%%bigquery regression --project=ba775-team-project\n",
        "WITH regression AS (\n",
        "\t\tSELECT \n",
        "\t\t\tslope, \n",
        "            ymS - xmS * slope AS intercept\n",
        "\t\tFROM (\n",
        "\t\t\tSELECT\n",
        "\t\t\t\tSUM((x - xm) * (y - ym)) / SUM((x - xm) * (x - xm)) AS slope,\n",
        "\t\t\t\tMAX(xm) AS xmS,\n",
        "\t\t\t\tMAX(ym) AS ymS\n",
        "\t\t\tFROM (\n",
        "\t\t\t\tselect\n",
        "\t\t\t\t\tCredit_Limit AS x, AVG(Credit_Limit) OVER() AS xm,\n",
        "\t\t\t\t\tTotal_Revolving_Bal AS y, AVG(Total_Revolving_Bal) OVER() AS ym\n",
        "\t\t\t\tFROM ba775-team-project.bankchurners.bankchurners\n",
        "\t\t\t) table1\n",
        "\t\t) table2\n",
        ")\n",
        "SELECT\n",
        "\tCredit_Limit, Total_Revolving_Bal,\n",
        "\t(Credit_Limit * (select slope from regression) + (select intercept from regression)) as predicted_RevolBal\n",
        "FROM ba775-team-project.bankchurners.bankchurners"
      ],
      "execution_count": 46,
      "outputs": []
    },
    {
      "cell_type": "code",
      "metadata": {
        "colab": {
          "base_uri": "https://localhost:8080/",
          "height": 419
        },
        "id": "v04nVihiycG6",
        "outputId": "44684b3c-a25d-433e-bfb6-3597513f75a0"
      },
      "source": [
        "regression"
      ],
      "execution_count": 47,
      "outputs": [
        {
          "output_type": "execute_result",
          "data": {
            "text/html": [
              "<div>\n",
              "<style scoped>\n",
              "    .dataframe tbody tr th:only-of-type {\n",
              "        vertical-align: middle;\n",
              "    }\n",
              "\n",
              "    .dataframe tbody tr th {\n",
              "        vertical-align: top;\n",
              "    }\n",
              "\n",
              "    .dataframe thead th {\n",
              "        text-align: right;\n",
              "    }\n",
              "</style>\n",
              "<table border=\"1\" class=\"dataframe\">\n",
              "  <thead>\n",
              "    <tr style=\"text-align: right;\">\n",
              "      <th></th>\n",
              "      <th>Credit_Limit</th>\n",
              "      <th>Total_Revolving_Bal</th>\n",
              "      <th>predicted_RevolBal</th>\n",
              "    </tr>\n",
              "  </thead>\n",
              "  <tbody>\n",
              "    <tr>\n",
              "      <th>0</th>\n",
              "      <td>2002.0</td>\n",
              "      <td>0</td>\n",
              "      <td>1137.551970</td>\n",
              "    </tr>\n",
              "    <tr>\n",
              "      <th>1</th>\n",
              "      <td>12315.0</td>\n",
              "      <td>0</td>\n",
              "      <td>1176.847561</td>\n",
              "    </tr>\n",
              "    <tr>\n",
              "      <th>2</th>\n",
              "      <td>34516.0</td>\n",
              "      <td>1380</td>\n",
              "      <td>1261.439961</td>\n",
              "    </tr>\n",
              "    <tr>\n",
              "      <th>3</th>\n",
              "      <td>27436.0</td>\n",
              "      <td>642</td>\n",
              "      <td>1234.463059</td>\n",
              "    </tr>\n",
              "    <tr>\n",
              "      <th>4</th>\n",
              "      <td>34516.0</td>\n",
              "      <td>2273</td>\n",
              "      <td>1261.439961</td>\n",
              "    </tr>\n",
              "    <tr>\n",
              "      <th>...</th>\n",
              "      <td>...</td>\n",
              "      <td>...</td>\n",
              "      <td>...</td>\n",
              "    </tr>\n",
              "    <tr>\n",
              "      <th>10122</th>\n",
              "      <td>4742.0</td>\n",
              "      <td>2221</td>\n",
              "      <td>1147.992183</td>\n",
              "    </tr>\n",
              "    <tr>\n",
              "      <th>10123</th>\n",
              "      <td>5542.0</td>\n",
              "      <td>0</td>\n",
              "      <td>1151.040421</td>\n",
              "    </tr>\n",
              "    <tr>\n",
              "      <th>10124</th>\n",
              "      <td>1438.3</td>\n",
              "      <td>0</td>\n",
              "      <td>1135.404106</td>\n",
              "    </tr>\n",
              "    <tr>\n",
              "      <th>10125</th>\n",
              "      <td>9909.0</td>\n",
              "      <td>0</td>\n",
              "      <td>1167.679987</td>\n",
              "    </tr>\n",
              "    <tr>\n",
              "      <th>10126</th>\n",
              "      <td>2475.0</td>\n",
              "      <td>0</td>\n",
              "      <td>1139.354240</td>\n",
              "    </tr>\n",
              "  </tbody>\n",
              "</table>\n",
              "<p>10127 rows × 3 columns</p>\n",
              "</div>"
            ],
            "text/plain": [
              "       Credit_Limit  Total_Revolving_Bal  predicted_RevolBal\n",
              "0            2002.0                    0         1137.551970\n",
              "1           12315.0                    0         1176.847561\n",
              "2           34516.0                 1380         1261.439961\n",
              "3           27436.0                  642         1234.463059\n",
              "4           34516.0                 2273         1261.439961\n",
              "...             ...                  ...                 ...\n",
              "10122        4742.0                 2221         1147.992183\n",
              "10123        5542.0                    0         1151.040421\n",
              "10124        1438.3                    0         1135.404106\n",
              "10125        9909.0                    0         1167.679987\n",
              "10126        2475.0                    0         1139.354240\n",
              "\n",
              "[10127 rows x 3 columns]"
            ]
          },
          "metadata": {},
          "execution_count": 47
        }
      ]
    },
    {
      "cell_type": "code",
      "metadata": {
        "colab": {
          "base_uri": "https://localhost:8080/",
          "height": 335
        },
        "id": "9R3LtKl4ybfi",
        "outputId": "9139d064-6b59-4260-ebf5-3a22e31b6b28"
      },
      "source": [
        "regression.plot(kind='scatter', x='Credit_Limit', y='Total_Revolving_Bal', figsize=(9, 5));"
      ],
      "execution_count": 49,
      "outputs": [
        {
          "output_type": "display_data",
          "data": {
            "image/png": "[encoded data removed]",
            "text/plain": [
              "<Figure size 648x360 with 1 Axes>"
            ]
          },
          "metadata": {
            "needs_background": "light"
          }
        }
      ]
    },
    {
      "cell_type": "code",
      "metadata": {
        "colab": {
          "base_uri": "https://localhost:8080/",
          "height": 335
        },
        "id": "DlsR2eWf2zrM",
        "outputId": "49a0e7f9-3ac9-4544-eb59-d313f460100a"
      },
      "source": [
        "regression.plot(kind='scatter', x='Credit_Limit', y='predicted_RevolBal', figsize=(9, 5));"
      ],
      "execution_count": 50,
      "outputs": [
        {
          "output_type": "display_data",
          "data": {
            "image/png": "[encoded data removed]",
            "text/plain": [
              "<Figure size 648x360 with 1 Axes>"
            ]
          },
          "metadata": {
            "needs_background": "light"
          }
        }
      ]
    },
    {
      "cell_type": "markdown",
      "metadata": {
        "id": "0yhtwJiMIccd"
      },
      "source": [
        "# **Conclusions**"
      ]
    },
    {
      "cell_type": "markdown",
      "metadata": {
        "id": "aVuN9l3PT6xy"
      },
      "source": [
        "Through churn analysis, we found that customers in middle age, with doctorate degrees, holding platinum(highest category) cards, having extremely low or high income, and having extremely high or low credit limit have high tendency to churn. The manager should spend more efforts on customers retention for those with these attributes. \n",
        "\n",
        "In addition, customers with increased engagement with sales representative, customers with few other bank products, and customers with low revolving balance tend to have high churn rate. We recommend the manager to provide promotion bundles to sell more bank products to increase loyalty, prioritize customers with low balance, and optimize customer service efficiency and quality to reduce churn rate.\n",
        "\n",
        "While the results of this analysis produced many interesting insights, there are still some limitations in this study. For example, many of the correlation coefficients as mentioned in the analysis are close to zero, which show that there is no significant relationship between the variables and churn rate. This may be because the relationship between the variables and churn rate is non-linear. \n",
        "\n",
        "\n"
      ]
    },
    {
      "cell_type": "markdown",
      "metadata": {
        "id": "KnW17rquWexP"
      },
      "source": [
        "# **Future Studies**"
      ]
    },
    {
      "cell_type": "markdown",
      "metadata": {
        "id": "H9gS6O3TWj0i"
      },
      "source": [
        "The text or audio analysis can be performed to study why customer service leads to high churn rate. \n",
        "\n",
        "Also, a machine learning model can be built with features of age, educational level, card type, income, credit limit, contacts with sales reprepresentative, holdings of other bank products, and revolving balance. With this machine learning model, the manager can predict whether certain customer will tend to attrite in order to prevent attrition beforehead and reduce customer rentention cost."
      ]
    }
  ]
}