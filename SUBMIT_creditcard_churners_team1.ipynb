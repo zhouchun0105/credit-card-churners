{
  "nbformat": 4,
  "nbformat_minor": 0,
  "metadata": {
    "colab": {
      "name": "SUBMIT: creditcard-churners-team1.ipynb",
      "provenance": [],
      "authorship_tag": "ABX9TyOYLe54WeKR7MTbLcm8TP4K",
      "include_colab_link": true
    },
    "kernelspec": {
      "name": "python3",
      "display_name": "Python 3"
    },
    "language_info": {
      "name": "python"
    }
  },
  "cells": [
    {
      "cell_type": "markdown",
      "metadata": {
        "id": "view-in-github",
        "colab_type": "text"
      },
      "source": [
        "<a href=\"https://colab.research.google.com/github/zhouchun0105/credit-card-churners/blob/main/SUBMIT_creditcard_churners_team1.ipynb\" target=\"_parent\"><img src=\"https://colab.research.google.com/assets/colab-badge.svg\" alt=\"Open In Colab\"/></a>"
      ]
    },
    {
      "cell_type": "code",
      "metadata": {
        "id": "kngu_rU0om2O"
      },
      "source": [
        ""
      ],
      "execution_count": null,
      "outputs": []
    },
    {
      "cell_type": "markdown",
      "metadata": {
        "id": "C02XoOdl1oTp"
      },
      "source": [
        "Task:\n",
        "1. Finish this documentation by Wednesday\n",
        "2. One person at least choose to answer 2-3 questions regarding to the dataset. Specify the question in the \"Following are a few questions that we aim to answer through our analysis:\" session\n",
        "3. Meeting on Tuesday once and Wednesday again to confirm final submission\n",
        "\n",
        "Note:\n",
        "- Chun works for Overall Documentation and ML (optional)\n",
        "- Ana works for 1-2 simple data exploration problem and ML (optional)\n",
        "- For Ann Lu, Phyllis, Zijing and Yuhan, try to finish 2-4 questions, depend on the complexity of your question\n",
        "- Chun will finish the layout/formatting of documentation on Monday evening so everyone can fill in your part"
      ]
    },
    {
      "cell_type": "markdown",
      "metadata": {
        "id": "3t25mxp-rh3j"
      },
      "source": [
        "# **Credit card customer churn analysis and predictions**"
      ]
    },
    {
      "cell_type": "markdown",
      "metadata": {
        "id": "YZEBJkkurplZ"
      },
      "source": [
        "Team 1, Afternoon Session\n",
        "Ana Maharjan, Ann Lu, Chun Zhou, \n",
        "\n"
      ]
    },
    {
      "cell_type": "markdown",
      "metadata": {
        "id": "GGyvbXs3r4sN"
      },
      "source": [
        ""
      ]
    }
  ]
}