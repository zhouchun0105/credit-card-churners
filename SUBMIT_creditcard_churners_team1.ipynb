{
  "nbformat": 4,
  "nbformat_minor": 0,
  "metadata": {
    "colab": {
      "name": "SUBMIT: creditcard-churners-team1.ipynb",
      "provenance": [],
      "collapsed_sections": [],
      "include_colab_link": true
    },
    "kernelspec": {
      "name": "python3",
      "display_name": "Python 3"
    },
    "language_info": {
      "name": "python"
    }
  },
  "cells": [
    {
      "cell_type": "markdown",
      "metadata": {
        "id": "view-in-github",
        "colab_type": "text"
      },
      "source": [
        "<a href=\"https://colab.research.google.com/github/zhouchun0105/credit-card-churners/blob/main/SUBMIT_creditcard_churners_team1.ipynb\" target=\"_parent\"><img src=\"https://colab.research.google.com/assets/colab-badge.svg\" alt=\"Open In Colab\"/></a>"
      ]
    },
    {
      "cell_type": "markdown",
      "metadata": {
        "id": "3t25mxp-rh3j"
      },
      "source": [
        "# **Credit Card Customer Churn Analysis**"
      ]
    },
    {
      "cell_type": "markdown",
      "metadata": {
        "id": "YZEBJkkurplZ"
      },
      "source": [
        "Team 1, Afternoon Session\n",
        "\n",
        "Ana Maharjan, Ann Lu, Chun Zhou, Phyllis Cao, Yuhan Wang, Zijing Wang\n",
        "\n",
        "2021/08/26\n",
        "\n",
        "\n",
        "\n"
      ]
    },
    {
      "cell_type": "markdown",
      "metadata": {
        "id": "IHqOosRxhK5q"
      },
      "source": [
        "# **Introduction**"
      ]
    },
    {
      "cell_type": "markdown",
      "metadata": {
        "id": "aSKOtv6YhNh9"
      },
      "source": [
        "A manager at the bank wants to know why customers stop their credit card services. Our goal is to perform churn rate analysis to find the relationship between churning with customer attributes, customer activities, credit card attributes and bank services. This helps the bank reduce the cost of customer retention."
      ]
    },
    {
      "cell_type": "markdown",
      "metadata": {
        "id": "GGyvbXs3r4sN"
      },
      "source": [
        "## **Following are a few questions that we aim to answer through our analysis**"
      ]
    },
    {
      "cell_type": "markdown",
      "metadata": {
        "id": "pdx-eZ3LdsCP"
      },
      "source": [
        "\n",
        "1.\tWhat is the overall churn rate of our customer?\n",
        "2.\tWhat is our user portrait like in terms of age, gender, educational level and income?\n",
        "3.\tWhat age group of customers has a higher tendency to churn?\n",
        "4.\tWhich education category of customers has a higher tendency to churn?\n",
        "5.\tWhich income category of customers has a higher tendency to churn?\n",
        "6.\tWhich marriage type of customers has a higher tendency to churn?\n",
        "7.\tHow does dependent count influence churn rate?\n",
        "8.\tWhich card type of customers has a higher tendency to churn?\n",
        "9.\tHow does credit limit affect churn rate?\n",
        "10.\tHow does the number of contacts by sales representative in the past 12 month affect churn rate?\n",
        "11.\tHow does time length as being our customer affect churn rate?\n",
        "12.\tHow does the number of other existing service affect churn rate?\n",
        "13.\tHow does transaction amount affect churn rate?\n",
        "14.\tHow does revolving balance affect churn rate?\n"
      ]
    },
    {
      "cell_type": "markdown",
      "metadata": {
        "id": "zulwSLiLYmHt"
      },
      "source": [
        "# **Data Source**"
      ]
    },
    {
      "cell_type": "markdown",
      "metadata": {
        "id": "iNd2ufSSYokl"
      },
      "source": [
        "The dataset is from:\n",
        "LEAPS https://leaps.analyttica.com/\n",
        "\n",
        "Kaggle URL for your reference:\n",
        ": https://www.kaggle.com/sakshigoyal7/credit-card-customers"
      ]
    },
    {
      "cell_type": "markdown",
      "metadata": {
        "id": "bFQWTUWGeTpa"
      },
      "source": [
        "# **Description of Data**"
      ]
    },
    {
      "cell_type": "markdown",
      "metadata": {
        "id": "R368iixlDcWi"
      },
      "source": [
        "The data is about credit card customer, product and service. It has 21 features and 10128 rows. Customer demographic feature, customer card activity, credit card feature, and service feature are included. The detailed feature names and their explanations are shown below:\n",
        "\n"
      ]
    },
    {
      "cell_type": "markdown",
      "metadata": {
        "id": "Xp6trzQNhZrs"
      },
      "source": [
        "*CLIENTNUM*: Client number. Unique identifier for the customer holding the account\n",
        "\n",
        "*Attrition_Flag*: customer activity variable - if the account is closed then 1 else 0\n",
        "\n",
        "*Customer_Age*: Demographic variable - Customer's Age in Years\n",
        "\n",
        "*Gender*: Demographic variable - M=Male, F=Female\n",
        "\n",
        "*Dependent_count*: Demographic variable - Number of dependents\n",
        "\n",
        "*Education_Level*: Demographic variable - Educational Qualification of the account holder (example: high school, college graduate, etc.)\n",
        "\n",
        "*Marital_Status*: Demographic variable - Married, Single, Divorced, Unknown\n",
        "\n",
        "*Income_Category*: Demographic variable - Annual Income Category of the account holder (<  40𝐾,\n",
        "40\n",
        "K\n",
        ",\n",
        " 40K - 60K,  60𝐾−\n",
        "60\n",
        "K\n",
        "−\n",
        " 80K,  80𝐾−\n",
        "80\n",
        "K\n",
        "−\n",
        " 120K, > $120K, Unknown)\n",
        "\n",
        "*Card_Category*: Product Variable - Type of Card (Blue, Silver, Gold, Platinum)\n",
        "\n",
        "*Months_on_book*: Period of relationship with bank\n",
        "\n",
        "*Total_Relationship_Count*: Total no. of products held by the customer\n",
        "\n",
        "*Months_Inactive_12_mon*: No. of months inactive in the last 12 months\n",
        "\n",
        "*Contacts_Count_12_mon*: No. of Contacts in the last 12 months\n",
        "\n",
        "*Credit_Limit*: Credit Limit on the Credit Card\n",
        "\n",
        "*Total_Revolving_Bal*: Total Revolving Balance on the Credit Card\n",
        "\n",
        "*Avg_Open_To_Buy*: Open to Buy Credit Line (Average of last 12 months)\n",
        "\n",
        "*Total_Amt_Chng_Q4_Q1*: Change in Transaction Amount (Q4 over Q1)\n",
        "\n",
        "*Total_Trans_Amt*: Total Transaction Amount (Last 12 months)\n",
        "\n",
        "*Total_Trans_Ct*: Total Transaction Count (Last 12 months)\n",
        "\n",
        "*Total_Ct_Chng_Q4_Q1*: Change in Transaction Count (Q4 over Q1)\n",
        "\n",
        "*Avg_Utilization_Ratio*: Average Card Utilization Ratio"
      ]
    },
    {
      "cell_type": "markdown",
      "metadata": {
        "id": "9ngs5TTvZQrb"
      },
      "source": [
        "#**Preliminary**"
      ]
    },
    {
      "cell_type": "markdown",
      "metadata": {
        "id": "3UBxtIzRZaod"
      },
      "source": [
        "We first connect google colab with the Bigquery dataset. And we also import packages for later use."
      ]
    },
    {
      "cell_type": "code",
      "metadata": {
        "id": "CAuPh33xcc8J"
      },
      "source": [
        "from google.colab import auth\n",
        "auth.authenticate_user()"
      ],
      "execution_count": null,
      "outputs": []
    },
    {
      "cell_type": "code",
      "metadata": {
        "id": "nRy5KzG2ZrPy"
      },
      "source": [
        "from IPython.display import Image"
      ],
      "execution_count": null,
      "outputs": []
    },
    {
      "cell_type": "markdown",
      "metadata": {
        "id": "mw1t1PfqZyse"
      },
      "source": [
        "Then we take a preview of the dataset."
      ]
    },
    {
      "cell_type": "code",
      "metadata": {
        "colab": {
          "base_uri": "https://localhost:8080/",
          "height": 379
        },
        "id": "-l5xKc9288YM",
        "outputId": "6a416517-0cc8-46ea-e7d7-3ecd4129903d"
      },
      "source": [
        "%%bigquery --project=ba775-team-project\n",
        "SELECT *\n",
        "FROM `ba775-team-project.bankchurners.bankchurners`\n",
        "LIMIT 10;"
      ],
      "execution_count": null,
      "outputs": [
        {
          "output_type": "execute_result",
          "data": {
            "text/html": [
              "<div>\n",
              "<style scoped>\n",
              "    .dataframe tbody tr th:only-of-type {\n",
              "        vertical-align: middle;\n",
              "    }\n",
              "\n",
              "    .dataframe tbody tr th {\n",
              "        vertical-align: top;\n",
              "    }\n",
              "\n",
              "    .dataframe thead th {\n",
              "        text-align: right;\n",
              "    }\n",
              "</style>\n",
              "<table border=\"1\" class=\"dataframe\">\n",
              "  <thead>\n",
              "    <tr style=\"text-align: right;\">\n",
              "      <th></th>\n",
              "      <th>CLIENTNUM</th>\n",
              "      <th>Attrition_Flag</th>\n",
              "      <th>Customer_Age</th>\n",
              "      <th>Gender</th>\n",
              "      <th>Dependent_count</th>\n",
              "      <th>Education_Level</th>\n",
              "      <th>Marital_Status</th>\n",
              "      <th>Income_Category</th>\n",
              "      <th>Card_Category</th>\n",
              "      <th>Months_on_book</th>\n",
              "      <th>Total_Relationship_Count</th>\n",
              "      <th>Months_Inactive_12_mon</th>\n",
              "      <th>Contacts_Count_12_mon</th>\n",
              "      <th>Credit_Limit</th>\n",
              "      <th>Total_Revolving_Bal</th>\n",
              "      <th>Avg_Open_To_Buy</th>\n",
              "      <th>Total_Amt_Chng_Q4_Q1</th>\n",
              "      <th>Total_Trans_Amt</th>\n",
              "      <th>Total_Trans_Ct</th>\n",
              "      <th>Total_Ct_Chng_Q4_Q1</th>\n",
              "      <th>Avg_Utilization_Ratio</th>\n",
              "      <th>Naive_Bayes_Classifier_Attrition_Flag_Card_Category_Contacts_Count_12_mon_Dependent_count_Education_Level_Months_Inactive_12_mon_1</th>\n",
              "      <th>Naive_Bayes_Classifier_Attrition_Flag_Card_Category_Contacts_Count_12_mon_Dependent_count_Education_Level_Months_Inactive_12_mon_2</th>\n",
              "    </tr>\n",
              "  </thead>\n",
              "  <tbody>\n",
              "    <tr>\n",
              "      <th>0</th>\n",
              "      <td>826077033</td>\n",
              "      <td>Attrited Customer</td>\n",
              "      <td>46</td>\n",
              "      <td>F</td>\n",
              "      <td>2</td>\n",
              "      <td>Unknown</td>\n",
              "      <td>Married</td>\n",
              "      <td>Less than $40K</td>\n",
              "      <td>Blue</td>\n",
              "      <td>42</td>\n",
              "      <td>1</td>\n",
              "      <td>0</td>\n",
              "      <td>4</td>\n",
              "      <td>2002.0</td>\n",
              "      <td>0</td>\n",
              "      <td>2002.0</td>\n",
              "      <td>0.803</td>\n",
              "      <td>2423</td>\n",
              "      <td>39</td>\n",
              "      <td>0.857</td>\n",
              "      <td>0.000</td>\n",
              "      <td>0.984680</td>\n",
              "      <td>0.01532</td>\n",
              "    </tr>\n",
              "    <tr>\n",
              "      <th>1</th>\n",
              "      <td>709918158</td>\n",
              "      <td>Existing Customer</td>\n",
              "      <td>43</td>\n",
              "      <td>M</td>\n",
              "      <td>3</td>\n",
              "      <td>High School</td>\n",
              "      <td>Married</td>\n",
              "      <td>$80K - $120K</td>\n",
              "      <td>Blue</td>\n",
              "      <td>23</td>\n",
              "      <td>5</td>\n",
              "      <td>6</td>\n",
              "      <td>1</td>\n",
              "      <td>12315.0</td>\n",
              "      <td>0</td>\n",
              "      <td>12315.0</td>\n",
              "      <td>0.895</td>\n",
              "      <td>2028</td>\n",
              "      <td>51</td>\n",
              "      <td>0.545</td>\n",
              "      <td>0.000</td>\n",
              "      <td>0.000086</td>\n",
              "      <td>0.99991</td>\n",
              "    </tr>\n",
              "    <tr>\n",
              "      <th>2</th>\n",
              "      <td>714757908</td>\n",
              "      <td>Existing Customer</td>\n",
              "      <td>46</td>\n",
              "      <td>M</td>\n",
              "      <td>4</td>\n",
              "      <td>Graduate</td>\n",
              "      <td>Married</td>\n",
              "      <td>$120K +</td>\n",
              "      <td>Silver</td>\n",
              "      <td>36</td>\n",
              "      <td>4</td>\n",
              "      <td>1</td>\n",
              "      <td>3</td>\n",
              "      <td>34516.0</td>\n",
              "      <td>1380</td>\n",
              "      <td>33136.0</td>\n",
              "      <td>0.660</td>\n",
              "      <td>2163</td>\n",
              "      <td>56</td>\n",
              "      <td>0.400</td>\n",
              "      <td>0.040</td>\n",
              "      <td>0.000088</td>\n",
              "      <td>0.99991</td>\n",
              "    </tr>\n",
              "    <tr>\n",
              "      <th>3</th>\n",
              "      <td>721067658</td>\n",
              "      <td>Existing Customer</td>\n",
              "      <td>40</td>\n",
              "      <td>M</td>\n",
              "      <td>4</td>\n",
              "      <td>Graduate</td>\n",
              "      <td>Married</td>\n",
              "      <td>$60K - $80K</td>\n",
              "      <td>Silver</td>\n",
              "      <td>36</td>\n",
              "      <td>6</td>\n",
              "      <td>1</td>\n",
              "      <td>3</td>\n",
              "      <td>27436.0</td>\n",
              "      <td>642</td>\n",
              "      <td>26794.0</td>\n",
              "      <td>0.705</td>\n",
              "      <td>4051</td>\n",
              "      <td>81</td>\n",
              "      <td>0.761</td>\n",
              "      <td>0.023</td>\n",
              "      <td>0.000088</td>\n",
              "      <td>0.99991</td>\n",
              "    </tr>\n",
              "    <tr>\n",
              "      <th>4</th>\n",
              "      <td>826451433</td>\n",
              "      <td>Existing Customer</td>\n",
              "      <td>42</td>\n",
              "      <td>M</td>\n",
              "      <td>4</td>\n",
              "      <td>Graduate</td>\n",
              "      <td>Single</td>\n",
              "      <td>$80K - $120K</td>\n",
              "      <td>Silver</td>\n",
              "      <td>38</td>\n",
              "      <td>2</td>\n",
              "      <td>1</td>\n",
              "      <td>3</td>\n",
              "      <td>34516.0</td>\n",
              "      <td>2273</td>\n",
              "      <td>32243.0</td>\n",
              "      <td>0.860</td>\n",
              "      <td>8502</td>\n",
              "      <td>103</td>\n",
              "      <td>0.717</td>\n",
              "      <td>0.066</td>\n",
              "      <td>0.000088</td>\n",
              "      <td>0.99991</td>\n",
              "    </tr>\n",
              "    <tr>\n",
              "      <th>5</th>\n",
              "      <td>708248358</td>\n",
              "      <td>Existing Customer</td>\n",
              "      <td>42</td>\n",
              "      <td>M</td>\n",
              "      <td>4</td>\n",
              "      <td>Graduate</td>\n",
              "      <td>Unknown</td>\n",
              "      <td>$60K - $80K</td>\n",
              "      <td>Silver</td>\n",
              "      <td>30</td>\n",
              "      <td>3</td>\n",
              "      <td>1</td>\n",
              "      <td>3</td>\n",
              "      <td>29937.0</td>\n",
              "      <td>0</td>\n",
              "      <td>29937.0</td>\n",
              "      <td>0.746</td>\n",
              "      <td>14863</td>\n",
              "      <td>109</td>\n",
              "      <td>0.627</td>\n",
              "      <td>0.000</td>\n",
              "      <td>0.000088</td>\n",
              "      <td>0.99991</td>\n",
              "    </tr>\n",
              "    <tr>\n",
              "      <th>6</th>\n",
              "      <td>717359208</td>\n",
              "      <td>Existing Customer</td>\n",
              "      <td>57</td>\n",
              "      <td>F</td>\n",
              "      <td>0</td>\n",
              "      <td>College</td>\n",
              "      <td>Married</td>\n",
              "      <td>Less than $40K</td>\n",
              "      <td>Blue</td>\n",
              "      <td>47</td>\n",
              "      <td>2</td>\n",
              "      <td>3</td>\n",
              "      <td>1</td>\n",
              "      <td>4945.0</td>\n",
              "      <td>1779</td>\n",
              "      <td>3166.0</td>\n",
              "      <td>0.536</td>\n",
              "      <td>4037</td>\n",
              "      <td>72</td>\n",
              "      <td>0.756</td>\n",
              "      <td>0.360</td>\n",
              "      <td>0.000091</td>\n",
              "      <td>0.99991</td>\n",
              "    </tr>\n",
              "    <tr>\n",
              "      <th>7</th>\n",
              "      <td>710822808</td>\n",
              "      <td>Existing Customer</td>\n",
              "      <td>51</td>\n",
              "      <td>M</td>\n",
              "      <td>0</td>\n",
              "      <td>College</td>\n",
              "      <td>Single</td>\n",
              "      <td>$80K - $120K</td>\n",
              "      <td>Blue</td>\n",
              "      <td>33</td>\n",
              "      <td>1</td>\n",
              "      <td>3</td>\n",
              "      <td>1</td>\n",
              "      <td>34516.0</td>\n",
              "      <td>1228</td>\n",
              "      <td>33288.0</td>\n",
              "      <td>0.747</td>\n",
              "      <td>7854</td>\n",
              "      <td>89</td>\n",
              "      <td>0.648</td>\n",
              "      <td>0.036</td>\n",
              "      <td>0.000091</td>\n",
              "      <td>0.99991</td>\n",
              "    </tr>\n",
              "    <tr>\n",
              "      <th>8</th>\n",
              "      <td>818235408</td>\n",
              "      <td>Existing Customer</td>\n",
              "      <td>30</td>\n",
              "      <td>M</td>\n",
              "      <td>0</td>\n",
              "      <td>College</td>\n",
              "      <td>Married</td>\n",
              "      <td>$60K - $80K</td>\n",
              "      <td>Blue</td>\n",
              "      <td>25</td>\n",
              "      <td>2</td>\n",
              "      <td>3</td>\n",
              "      <td>1</td>\n",
              "      <td>19534.0</td>\n",
              "      <td>0</td>\n",
              "      <td>19534.0</td>\n",
              "      <td>0.616</td>\n",
              "      <td>15634</td>\n",
              "      <td>118</td>\n",
              "      <td>0.639</td>\n",
              "      <td>0.000</td>\n",
              "      <td>0.000091</td>\n",
              "      <td>0.99991</td>\n",
              "    </tr>\n",
              "    <tr>\n",
              "      <th>9</th>\n",
              "      <td>789334458</td>\n",
              "      <td>Existing Customer</td>\n",
              "      <td>43</td>\n",
              "      <td>F</td>\n",
              "      <td>3</td>\n",
              "      <td>Graduate</td>\n",
              "      <td>Unknown</td>\n",
              "      <td>Unknown</td>\n",
              "      <td>Silver</td>\n",
              "      <td>33</td>\n",
              "      <td>3</td>\n",
              "      <td>1</td>\n",
              "      <td>3</td>\n",
              "      <td>34516.0</td>\n",
              "      <td>1858</td>\n",
              "      <td>32658.0</td>\n",
              "      <td>0.622</td>\n",
              "      <td>4197</td>\n",
              "      <td>67</td>\n",
              "      <td>0.523</td>\n",
              "      <td>0.054</td>\n",
              "      <td>0.000087</td>\n",
              "      <td>0.99991</td>\n",
              "    </tr>\n",
              "  </tbody>\n",
              "</table>\n",
              "</div>"
            ],
            "text/plain": [
              "   CLIENTNUM  ... Naive_Bayes_Classifier_Attrition_Flag_Card_Category_Contacts_Count_12_mon_Dependent_count_Education_Level_Months_Inactive_12_mon_2\n",
              "0  826077033  ...                                            0.01532                                                                                \n",
              "1  709918158  ...                                            0.99991                                                                                \n",
              "2  714757908  ...                                            0.99991                                                                                \n",
              "3  721067658  ...                                            0.99991                                                                                \n",
              "4  826451433  ...                                            0.99991                                                                                \n",
              "5  708248358  ...                                            0.99991                                                                                \n",
              "6  717359208  ...                                            0.99991                                                                                \n",
              "7  710822808  ...                                            0.99991                                                                                \n",
              "8  818235408  ...                                            0.99991                                                                                \n",
              "9  789334458  ...                                            0.99991                                                                                \n",
              "\n",
              "[10 rows x 23 columns]"
            ]
          },
          "metadata": {},
          "execution_count": 3
        }
      ]
    },
    {
      "cell_type": "markdown",
      "metadata": {
        "id": "tJqrY4JKhcAb"
      },
      "source": [
        "### **Question 1: What is the overall churn rate of our customer?**"
      ]
    },
    {
      "cell_type": "markdown",
      "metadata": {
        "id": "0as4zrtYXSOw"
      },
      "source": [
        "We want to find the churn rate for all customers regardless of their attributes. "
      ]
    },
    {
      "cell_type": "code",
      "metadata": {
        "id": "nIoCkgfikagF"
      },
      "source": [
        "%%bigquery churn_rate --project=ba775-team-project\n",
        "/* churn rate */\n",
        "SELECT SUM(CAST(Attrition_Flag = 'Attrited Customer' AS INT)) AS closed_account, \n",
        "COUNT(Attrition_Flag) AS total_account, \n",
        "SUM(CAST(Attrition_Flag = 'Attrited Customer' AS INT))/COUNT(Attrition_Flag)*100 \n",
        "as Churn_rate\n",
        "FROM `ba775-team-project.bankchurners.bankchurners`\n",
        "WHERE Attrition_Flag IS NOT NULL;"
      ],
      "execution_count": 84,
      "outputs": []
    },
    {
      "cell_type": "code",
      "metadata": {
        "id": "mb77K2d0zxHl",
        "colab": {
          "base_uri": "https://localhost:8080/",
          "height": 80
        },
        "outputId": "a3f3609a-f25b-47da-ad18-a1521a503ab3"
      },
      "source": [
        "churn_rate"
      ],
      "execution_count": null,
      "outputs": [
        {
          "output_type": "execute_result",
          "data": {
            "text/html": [
              "<div>\n",
              "<style scoped>\n",
              "    .dataframe tbody tr th:only-of-type {\n",
              "        vertical-align: middle;\n",
              "    }\n",
              "\n",
              "    .dataframe tbody tr th {\n",
              "        vertical-align: top;\n",
              "    }\n",
              "\n",
              "    .dataframe thead th {\n",
              "        text-align: right;\n",
              "    }\n",
              "</style>\n",
              "<table border=\"1\" class=\"dataframe\">\n",
              "  <thead>\n",
              "    <tr style=\"text-align: right;\">\n",
              "      <th></th>\n",
              "      <th>closed_account</th>\n",
              "      <th>total_account</th>\n",
              "      <th>Churn_rate</th>\n",
              "    </tr>\n",
              "  </thead>\n",
              "  <tbody>\n",
              "    <tr>\n",
              "      <th>0</th>\n",
              "      <td>1627</td>\n",
              "      <td>10127</td>\n",
              "      <td>16.065962</td>\n",
              "    </tr>\n",
              "  </tbody>\n",
              "</table>\n",
              "</div>"
            ],
            "text/plain": [
              "   closed_account  total_account  Churn_rate\n",
              "0            1627          10127   16.065962"
            ]
          },
          "metadata": {},
          "execution_count": 5
        }
      ]
    },
    {
      "cell_type": "markdown",
      "metadata": {
        "id": "mzvP6hxBaRpa"
      },
      "source": [
        "As shown in the table, there are 1627 closed accounts and 10127 total accounts, so the churn rate is 16.065962%."
      ]
    },
    {
      "cell_type": "markdown",
      "metadata": {
        "id": "oaocYiQ9yN9e"
      },
      "source": [
        "### **Question 2: What is our user portrait like in terms of age, gender, educational level and income?**"
      ]
    },
    {
      "cell_type": "markdown",
      "metadata": {
        "id": "jQg15zgf1NzF"
      },
      "source": [
        "Before we analyze how different features relate with churn rate, we perform customer portrait analysis. An overall analysis of our customer demographic demonstrate the following findings:"
      ]
    },
    {
      "cell_type": "markdown",
      "metadata": {
        "id": "op_iGFzvzgHu"
      },
      "source": [
        "\n",
        "- Gender distribution: Distribution between male and female is close to equivalent with slightly more females than males\n",
        "\n",
        "- Product and Gender Breakdown: Females tend to have more blue cards while male clients had the silver, gold and platinum cards\n",
        "\n",
        "- Education: Majority of our client base have post secondary education (high school graduates) \n",
        "\n",
        "- Income: Majority of clients make less than $40,000 per year \n",
        "Marital Status: Half of our client base are divorced, while 33% are single\n",
        "\n",
        "- Age: Majority of customers are between the ages of 36-55"
      ]
    },
    {
      "cell_type": "markdown",
      "metadata": {
        "id": "J0520th81b_4"
      },
      "source": [
        "The gender distribution of our customer is close to equivalent, with slightly more female than male. Regarding to card type, we found female tends to have more blue cards meanwhile male tends to have more silver, gold and platinum cards."
      ]
    },
    {
      "cell_type": "code",
      "metadata": {
        "id": "ZfAn1hLSoG9a",
        "colab": {
          "base_uri": "https://localhost:8080/",
          "height": 307
        },
        "outputId": "dea52f64-64b7-474a-8463-92156e56360a"
      },
      "source": [
        "Image(filename='/content/F.png')"
      ],
      "execution_count": null,
      "outputs": [
        {
          "output_type": "error",
          "ename": "FileNotFoundError",
          "evalue": "ignored",
          "traceback": [
            "\u001b[0;31m---------------------------------------------------------------------------\u001b[0m",
            "\u001b[0;31mFileNotFoundError\u001b[0m                         Traceback (most recent call last)",
            "\u001b[0;32m<ipython-input-77-9dd1ebea15fe>\u001b[0m in \u001b[0;36m<module>\u001b[0;34m()\u001b[0m\n\u001b[0;32m----> 1\u001b[0;31m \u001b[0mImage\u001b[0m\u001b[0;34m(\u001b[0m\u001b[0mfilename\u001b[0m\u001b[0;34m=\u001b[0m\u001b[0;34m'/content/F.png'\u001b[0m\u001b[0;34m)\u001b[0m\u001b[0;34m\u001b[0m\u001b[0;34m\u001b[0m\u001b[0m\n\u001b[0m",
            "\u001b[0;32m/usr/local/lib/python3.7/dist-packages/IPython/core/display.py\u001b[0m in \u001b[0;36m__init__\u001b[0;34m(self, data, url, filename, format, embed, width, height, retina, unconfined, metadata)\u001b[0m\n\u001b[1;32m   1019\u001b[0m         \u001b[0mself\u001b[0m\u001b[0;34m.\u001b[0m\u001b[0munconfined\u001b[0m \u001b[0;34m=\u001b[0m \u001b[0munconfined\u001b[0m\u001b[0;34m\u001b[0m\u001b[0;34m\u001b[0m\u001b[0m\n\u001b[1;32m   1020\u001b[0m         \u001b[0mself\u001b[0m\u001b[0;34m.\u001b[0m\u001b[0mmetadata\u001b[0m \u001b[0;34m=\u001b[0m \u001b[0mmetadata\u001b[0m\u001b[0;34m\u001b[0m\u001b[0;34m\u001b[0m\u001b[0m\n\u001b[0;32m-> 1021\u001b[0;31m         \u001b[0msuper\u001b[0m\u001b[0;34m(\u001b[0m\u001b[0mImage\u001b[0m\u001b[0;34m,\u001b[0m \u001b[0mself\u001b[0m\u001b[0;34m)\u001b[0m\u001b[0;34m.\u001b[0m\u001b[0m__init__\u001b[0m\u001b[0;34m(\u001b[0m\u001b[0mdata\u001b[0m\u001b[0;34m=\u001b[0m\u001b[0mdata\u001b[0m\u001b[0;34m,\u001b[0m \u001b[0murl\u001b[0m\u001b[0;34m=\u001b[0m\u001b[0murl\u001b[0m\u001b[0;34m,\u001b[0m \u001b[0mfilename\u001b[0m\u001b[0;34m=\u001b[0m\u001b[0mfilename\u001b[0m\u001b[0;34m)\u001b[0m\u001b[0;34m\u001b[0m\u001b[0;34m\u001b[0m\u001b[0m\n\u001b[0m\u001b[1;32m   1022\u001b[0m \u001b[0;34m\u001b[0m\u001b[0m\n\u001b[1;32m   1023\u001b[0m         \u001b[0;32mif\u001b[0m \u001b[0mretina\u001b[0m\u001b[0;34m:\u001b[0m\u001b[0;34m\u001b[0m\u001b[0;34m\u001b[0m\u001b[0m\n",
            "\u001b[0;32m/usr/local/lib/python3.7/dist-packages/IPython/core/display.py\u001b[0m in \u001b[0;36m__init__\u001b[0;34m(self, data, url, filename)\u001b[0m\n\u001b[1;32m    611\u001b[0m         \u001b[0mself\u001b[0m\u001b[0;34m.\u001b[0m\u001b[0mfilename\u001b[0m \u001b[0;34m=\u001b[0m \u001b[0;32mNone\u001b[0m \u001b[0;32mif\u001b[0m \u001b[0mfilename\u001b[0m \u001b[0;32mis\u001b[0m \u001b[0;32mNone\u001b[0m \u001b[0;32melse\u001b[0m \u001b[0municode_type\u001b[0m\u001b[0;34m(\u001b[0m\u001b[0mfilename\u001b[0m\u001b[0;34m)\u001b[0m\u001b[0;34m\u001b[0m\u001b[0;34m\u001b[0m\u001b[0m\n\u001b[1;32m    612\u001b[0m \u001b[0;34m\u001b[0m\u001b[0m\n\u001b[0;32m--> 613\u001b[0;31m         \u001b[0mself\u001b[0m\u001b[0;34m.\u001b[0m\u001b[0mreload\u001b[0m\u001b[0;34m(\u001b[0m\u001b[0;34m)\u001b[0m\u001b[0;34m\u001b[0m\u001b[0;34m\u001b[0m\u001b[0m\n\u001b[0m\u001b[1;32m    614\u001b[0m         \u001b[0mself\u001b[0m\u001b[0;34m.\u001b[0m\u001b[0m_check_data\u001b[0m\u001b[0;34m(\u001b[0m\u001b[0;34m)\u001b[0m\u001b[0;34m\u001b[0m\u001b[0;34m\u001b[0m\u001b[0m\n\u001b[1;32m    615\u001b[0m \u001b[0;34m\u001b[0m\u001b[0m\n",
            "\u001b[0;32m/usr/local/lib/python3.7/dist-packages/IPython/core/display.py\u001b[0m in \u001b[0;36mreload\u001b[0;34m(self)\u001b[0m\n\u001b[1;32m   1041\u001b[0m         \u001b[0;34m\"\"\"Reload the raw data from file or URL.\"\"\"\u001b[0m\u001b[0;34m\u001b[0m\u001b[0;34m\u001b[0m\u001b[0m\n\u001b[1;32m   1042\u001b[0m         \u001b[0;32mif\u001b[0m \u001b[0mself\u001b[0m\u001b[0;34m.\u001b[0m\u001b[0membed\u001b[0m\u001b[0;34m:\u001b[0m\u001b[0;34m\u001b[0m\u001b[0;34m\u001b[0m\u001b[0m\n\u001b[0;32m-> 1043\u001b[0;31m             \u001b[0msuper\u001b[0m\u001b[0;34m(\u001b[0m\u001b[0mImage\u001b[0m\u001b[0;34m,\u001b[0m\u001b[0mself\u001b[0m\u001b[0;34m)\u001b[0m\u001b[0;34m.\u001b[0m\u001b[0mreload\u001b[0m\u001b[0;34m(\u001b[0m\u001b[0;34m)\u001b[0m\u001b[0;34m\u001b[0m\u001b[0;34m\u001b[0m\u001b[0m\n\u001b[0m\u001b[1;32m   1044\u001b[0m             \u001b[0;32mif\u001b[0m \u001b[0mself\u001b[0m\u001b[0;34m.\u001b[0m\u001b[0mretina\u001b[0m\u001b[0;34m:\u001b[0m\u001b[0;34m\u001b[0m\u001b[0;34m\u001b[0m\u001b[0m\n\u001b[1;32m   1045\u001b[0m                 \u001b[0mself\u001b[0m\u001b[0;34m.\u001b[0m\u001b[0m_retina_shape\u001b[0m\u001b[0;34m(\u001b[0m\u001b[0;34m)\u001b[0m\u001b[0;34m\u001b[0m\u001b[0;34m\u001b[0m\u001b[0m\n",
            "\u001b[0;32m/usr/local/lib/python3.7/dist-packages/IPython/core/display.py\u001b[0m in \u001b[0;36mreload\u001b[0;34m(self)\u001b[0m\n\u001b[1;32m    629\u001b[0m         \u001b[0;34m\"\"\"Reload the raw data from file or URL.\"\"\"\u001b[0m\u001b[0;34m\u001b[0m\u001b[0;34m\u001b[0m\u001b[0m\n\u001b[1;32m    630\u001b[0m         \u001b[0;32mif\u001b[0m \u001b[0mself\u001b[0m\u001b[0;34m.\u001b[0m\u001b[0mfilename\u001b[0m \u001b[0;32mis\u001b[0m \u001b[0;32mnot\u001b[0m \u001b[0;32mNone\u001b[0m\u001b[0;34m:\u001b[0m\u001b[0;34m\u001b[0m\u001b[0;34m\u001b[0m\u001b[0m\n\u001b[0;32m--> 631\u001b[0;31m             \u001b[0;32mwith\u001b[0m \u001b[0mopen\u001b[0m\u001b[0;34m(\u001b[0m\u001b[0mself\u001b[0m\u001b[0;34m.\u001b[0m\u001b[0mfilename\u001b[0m\u001b[0;34m,\u001b[0m \u001b[0mself\u001b[0m\u001b[0;34m.\u001b[0m\u001b[0m_read_flags\u001b[0m\u001b[0;34m)\u001b[0m \u001b[0;32mas\u001b[0m \u001b[0mf\u001b[0m\u001b[0;34m:\u001b[0m\u001b[0;34m\u001b[0m\u001b[0;34m\u001b[0m\u001b[0m\n\u001b[0m\u001b[1;32m    632\u001b[0m                 \u001b[0mself\u001b[0m\u001b[0;34m.\u001b[0m\u001b[0mdata\u001b[0m \u001b[0;34m=\u001b[0m \u001b[0mf\u001b[0m\u001b[0;34m.\u001b[0m\u001b[0mread\u001b[0m\u001b[0;34m(\u001b[0m\u001b[0;34m)\u001b[0m\u001b[0;34m\u001b[0m\u001b[0;34m\u001b[0m\u001b[0m\n\u001b[1;32m    633\u001b[0m         \u001b[0;32melif\u001b[0m \u001b[0mself\u001b[0m\u001b[0;34m.\u001b[0m\u001b[0murl\u001b[0m \u001b[0;32mis\u001b[0m \u001b[0;32mnot\u001b[0m \u001b[0;32mNone\u001b[0m\u001b[0;34m:\u001b[0m\u001b[0;34m\u001b[0m\u001b[0;34m\u001b[0m\u001b[0m\n",
            "\u001b[0;31mFileNotFoundError\u001b[0m: [Errno 2] No such file or directory: '/content/F.png'"
          ]
        }
      ]
    },
    {
      "cell_type": "markdown",
      "metadata": {
        "id": "G2L-_gBw1_sR"
      },
      "source": [
        "Most of our customers have graduate degree, followed by the second as high school degree. "
      ]
    },
    {
      "cell_type": "code",
      "metadata": {
        "id": "Cqbap7tWoEwq"
      },
      "source": [
        "Image(filename='/content/E.png')"
      ],
      "execution_count": null,
      "outputs": []
    },
    {
      "cell_type": "code",
      "metadata": {
        "id": "9-8q1vJ3n1_r",
        "colab": {
          "base_uri": "https://localhost:8080/",
          "height": 307
        },
        "outputId": "c59df031-f016-43cf-9019-a04d12a6aad2"
      },
      "source": [
        "Image(filename='/content/B.png')"
      ],
      "execution_count": null,
      "outputs": [
        {
          "output_type": "error",
          "ename": "FileNotFoundError",
          "evalue": "ignored",
          "traceback": [
            "\u001b[0;31m---------------------------------------------------------------------------\u001b[0m",
            "\u001b[0;31mFileNotFoundError\u001b[0m                         Traceback (most recent call last)",
            "\u001b[0;32m<ipython-input-78-8b821a011845>\u001b[0m in \u001b[0;36m<module>\u001b[0;34m()\u001b[0m\n\u001b[0;32m----> 1\u001b[0;31m \u001b[0mImage\u001b[0m\u001b[0;34m(\u001b[0m\u001b[0mfilename\u001b[0m\u001b[0;34m=\u001b[0m\u001b[0;34m'/content/B.png'\u001b[0m\u001b[0;34m)\u001b[0m\u001b[0;34m\u001b[0m\u001b[0;34m\u001b[0m\u001b[0m\n\u001b[0m",
            "\u001b[0;32m/usr/local/lib/python3.7/dist-packages/IPython/core/display.py\u001b[0m in \u001b[0;36m__init__\u001b[0;34m(self, data, url, filename, format, embed, width, height, retina, unconfined, metadata)\u001b[0m\n\u001b[1;32m   1019\u001b[0m         \u001b[0mself\u001b[0m\u001b[0;34m.\u001b[0m\u001b[0munconfined\u001b[0m \u001b[0;34m=\u001b[0m \u001b[0munconfined\u001b[0m\u001b[0;34m\u001b[0m\u001b[0;34m\u001b[0m\u001b[0m\n\u001b[1;32m   1020\u001b[0m         \u001b[0mself\u001b[0m\u001b[0;34m.\u001b[0m\u001b[0mmetadata\u001b[0m \u001b[0;34m=\u001b[0m \u001b[0mmetadata\u001b[0m\u001b[0;34m\u001b[0m\u001b[0;34m\u001b[0m\u001b[0m\n\u001b[0;32m-> 1021\u001b[0;31m         \u001b[0msuper\u001b[0m\u001b[0;34m(\u001b[0m\u001b[0mImage\u001b[0m\u001b[0;34m,\u001b[0m \u001b[0mself\u001b[0m\u001b[0;34m)\u001b[0m\u001b[0;34m.\u001b[0m\u001b[0m__init__\u001b[0m\u001b[0;34m(\u001b[0m\u001b[0mdata\u001b[0m\u001b[0;34m=\u001b[0m\u001b[0mdata\u001b[0m\u001b[0;34m,\u001b[0m \u001b[0murl\u001b[0m\u001b[0;34m=\u001b[0m\u001b[0murl\u001b[0m\u001b[0;34m,\u001b[0m \u001b[0mfilename\u001b[0m\u001b[0;34m=\u001b[0m\u001b[0mfilename\u001b[0m\u001b[0;34m)\u001b[0m\u001b[0;34m\u001b[0m\u001b[0;34m\u001b[0m\u001b[0m\n\u001b[0m\u001b[1;32m   1022\u001b[0m \u001b[0;34m\u001b[0m\u001b[0m\n\u001b[1;32m   1023\u001b[0m         \u001b[0;32mif\u001b[0m \u001b[0mretina\u001b[0m\u001b[0;34m:\u001b[0m\u001b[0;34m\u001b[0m\u001b[0;34m\u001b[0m\u001b[0m\n",
            "\u001b[0;32m/usr/local/lib/python3.7/dist-packages/IPython/core/display.py\u001b[0m in \u001b[0;36m__init__\u001b[0;34m(self, data, url, filename)\u001b[0m\n\u001b[1;32m    611\u001b[0m         \u001b[0mself\u001b[0m\u001b[0;34m.\u001b[0m\u001b[0mfilename\u001b[0m \u001b[0;34m=\u001b[0m \u001b[0;32mNone\u001b[0m \u001b[0;32mif\u001b[0m \u001b[0mfilename\u001b[0m \u001b[0;32mis\u001b[0m \u001b[0;32mNone\u001b[0m \u001b[0;32melse\u001b[0m \u001b[0municode_type\u001b[0m\u001b[0;34m(\u001b[0m\u001b[0mfilename\u001b[0m\u001b[0;34m)\u001b[0m\u001b[0;34m\u001b[0m\u001b[0;34m\u001b[0m\u001b[0m\n\u001b[1;32m    612\u001b[0m \u001b[0;34m\u001b[0m\u001b[0m\n\u001b[0;32m--> 613\u001b[0;31m         \u001b[0mself\u001b[0m\u001b[0;34m.\u001b[0m\u001b[0mreload\u001b[0m\u001b[0;34m(\u001b[0m\u001b[0;34m)\u001b[0m\u001b[0;34m\u001b[0m\u001b[0;34m\u001b[0m\u001b[0m\n\u001b[0m\u001b[1;32m    614\u001b[0m         \u001b[0mself\u001b[0m\u001b[0;34m.\u001b[0m\u001b[0m_check_data\u001b[0m\u001b[0;34m(\u001b[0m\u001b[0;34m)\u001b[0m\u001b[0;34m\u001b[0m\u001b[0;34m\u001b[0m\u001b[0m\n\u001b[1;32m    615\u001b[0m \u001b[0;34m\u001b[0m\u001b[0m\n",
            "\u001b[0;32m/usr/local/lib/python3.7/dist-packages/IPython/core/display.py\u001b[0m in \u001b[0;36mreload\u001b[0;34m(self)\u001b[0m\n\u001b[1;32m   1041\u001b[0m         \u001b[0;34m\"\"\"Reload the raw data from file or URL.\"\"\"\u001b[0m\u001b[0;34m\u001b[0m\u001b[0;34m\u001b[0m\u001b[0m\n\u001b[1;32m   1042\u001b[0m         \u001b[0;32mif\u001b[0m \u001b[0mself\u001b[0m\u001b[0;34m.\u001b[0m\u001b[0membed\u001b[0m\u001b[0;34m:\u001b[0m\u001b[0;34m\u001b[0m\u001b[0;34m\u001b[0m\u001b[0m\n\u001b[0;32m-> 1043\u001b[0;31m             \u001b[0msuper\u001b[0m\u001b[0;34m(\u001b[0m\u001b[0mImage\u001b[0m\u001b[0;34m,\u001b[0m\u001b[0mself\u001b[0m\u001b[0;34m)\u001b[0m\u001b[0;34m.\u001b[0m\u001b[0mreload\u001b[0m\u001b[0;34m(\u001b[0m\u001b[0;34m)\u001b[0m\u001b[0;34m\u001b[0m\u001b[0;34m\u001b[0m\u001b[0m\n\u001b[0m\u001b[1;32m   1044\u001b[0m             \u001b[0;32mif\u001b[0m \u001b[0mself\u001b[0m\u001b[0;34m.\u001b[0m\u001b[0mretina\u001b[0m\u001b[0;34m:\u001b[0m\u001b[0;34m\u001b[0m\u001b[0;34m\u001b[0m\u001b[0m\n\u001b[1;32m   1045\u001b[0m                 \u001b[0mself\u001b[0m\u001b[0;34m.\u001b[0m\u001b[0m_retina_shape\u001b[0m\u001b[0;34m(\u001b[0m\u001b[0;34m)\u001b[0m\u001b[0;34m\u001b[0m\u001b[0;34m\u001b[0m\u001b[0m\n",
            "\u001b[0;32m/usr/local/lib/python3.7/dist-packages/IPython/core/display.py\u001b[0m in \u001b[0;36mreload\u001b[0;34m(self)\u001b[0m\n\u001b[1;32m    629\u001b[0m         \u001b[0;34m\"\"\"Reload the raw data from file or URL.\"\"\"\u001b[0m\u001b[0;34m\u001b[0m\u001b[0;34m\u001b[0m\u001b[0m\n\u001b[1;32m    630\u001b[0m         \u001b[0;32mif\u001b[0m \u001b[0mself\u001b[0m\u001b[0;34m.\u001b[0m\u001b[0mfilename\u001b[0m \u001b[0;32mis\u001b[0m \u001b[0;32mnot\u001b[0m \u001b[0;32mNone\u001b[0m\u001b[0;34m:\u001b[0m\u001b[0;34m\u001b[0m\u001b[0;34m\u001b[0m\u001b[0m\n\u001b[0;32m--> 631\u001b[0;31m             \u001b[0;32mwith\u001b[0m \u001b[0mopen\u001b[0m\u001b[0;34m(\u001b[0m\u001b[0mself\u001b[0m\u001b[0;34m.\u001b[0m\u001b[0mfilename\u001b[0m\u001b[0;34m,\u001b[0m \u001b[0mself\u001b[0m\u001b[0;34m.\u001b[0m\u001b[0m_read_flags\u001b[0m\u001b[0;34m)\u001b[0m \u001b[0;32mas\u001b[0m \u001b[0mf\u001b[0m\u001b[0;34m:\u001b[0m\u001b[0;34m\u001b[0m\u001b[0;34m\u001b[0m\u001b[0m\n\u001b[0m\u001b[1;32m    632\u001b[0m                 \u001b[0mself\u001b[0m\u001b[0;34m.\u001b[0m\u001b[0mdata\u001b[0m \u001b[0;34m=\u001b[0m \u001b[0mf\u001b[0m\u001b[0;34m.\u001b[0m\u001b[0mread\u001b[0m\u001b[0;34m(\u001b[0m\u001b[0;34m)\u001b[0m\u001b[0;34m\u001b[0m\u001b[0;34m\u001b[0m\u001b[0m\n\u001b[1;32m    633\u001b[0m         \u001b[0;32melif\u001b[0m \u001b[0mself\u001b[0m\u001b[0;34m.\u001b[0m\u001b[0murl\u001b[0m \u001b[0;32mis\u001b[0m \u001b[0;32mnot\u001b[0m \u001b[0;32mNone\u001b[0m\u001b[0;34m:\u001b[0m\u001b[0;34m\u001b[0m\u001b[0;34m\u001b[0m\u001b[0m\n",
            "\u001b[0;31mFileNotFoundError\u001b[0m: [Errno 2] No such file or directory: '/content/B.png'"
          ]
        }
      ]
    },
    {
      "cell_type": "markdown",
      "metadata": {
        "id": "K_Uv7Q0x2cHY"
      },
      "source": [
        "The age distribution of our customer is mostly between 36 to 55 years old."
      ]
    },
    {
      "cell_type": "code",
      "metadata": {
        "id": "PUjUjp50nWEt"
      },
      "source": [
        "Image(filename='/content/A.png')"
      ],
      "execution_count": null,
      "outputs": []
    },
    {
      "cell_type": "markdown",
      "metadata": {
        "id": "ViXVvrPs2m8f"
      },
      "source": [
        "50% of our customers are married, followed by 33.3% as being single."
      ]
    },
    {
      "cell_type": "code",
      "metadata": {
        "id": "6Fdwo9h-oAAc"
      },
      "source": [
        "Image(filename='/content/C.png')"
      ],
      "execution_count": null,
      "outputs": []
    },
    {
      "cell_type": "markdown",
      "metadata": {
        "id": "UBQkLpOx2unK"
      },
      "source": [
        "Majority of our customers have income lower than 40k, followed by those with income between 40k to 60k."
      ]
    },
    {
      "cell_type": "code",
      "metadata": {
        "id": "fbH8OdNfoDWB"
      },
      "source": [
        "Image(filename='/content/D.png')"
      ],
      "execution_count": null,
      "outputs": []
    },
    {
      "cell_type": "markdown",
      "metadata": {
        "id": "hI4sjUUbyWeJ"
      },
      "source": [
        "### **Question 3: What age group of customers has a higher tendency to churn?**"
      ]
    },
    {
      "cell_type": "markdown",
      "metadata": {
        "id": "QXR9GHfsnOp4"
      },
      "source": [
        "We group customers by the age category to see if each group has different churn rate."
      ]
    },
    {
      "cell_type": "code",
      "metadata": {
        "id": "LB_KmbiVk91m"
      },
      "source": [
        "%%bigquery age_tendency --project=ba775-team-project\n",
        "/* age group tendency */\n",
        "SELECT SUM(CAST(Attrition_Flag = 'Attrited Customer'AS INT)) AS\n",
        "closed_account,COUNT(*) AS total_account,\n",
        "SUM(CAST(Attrition_Flag = 'Attrited Customer'AS INT))/COUNT(*)*100 AS Churn_rate,\n",
        "CASE\n",
        "      WHEN Customer_Age <10 THEN '0-10'\n",
        "      WHEN Customer_Age <20 THEN '10-20'\n",
        "      WHEN Customer_Age <30 THEN '20-30'\n",
        "      WHEN Customer_Age <40 THEN '30-40'\n",
        "      WHEN Customer_Age <50 THEN '40-50'\n",
        "      WHEN Customer_Age <60 THEN '50-60'\n",
        "      WHEN Customer_Age <70 THEN '60-70'\n",
        "      ELSE '70-80'\n",
        "End as Customer_Age\n",
        "    \n",
        "FROM `ba775-team-project.bankchurners.bankchurners`\n",
        "GROUP BY Customer_Age\n",
        "ORDER BY Customer_Age"
      ],
      "execution_count": 82,
      "outputs": []
    },
    {
      "cell_type": "code",
      "metadata": {
        "colab": {
          "base_uri": "https://localhost:8080/",
          "height": 235
        },
        "id": "JsMM8aZpnZ2F",
        "outputId": "86a839e6-4bd8-4b17-ef3c-a211d6578c55"
      },
      "source": [
        "age_tendency"
      ],
      "execution_count": null,
      "outputs": [
        {
          "output_type": "execute_result",
          "data": {
            "text/html": [
              "<div>\n",
              "<style scoped>\n",
              "    .dataframe tbody tr th:only-of-type {\n",
              "        vertical-align: middle;\n",
              "    }\n",
              "\n",
              "    .dataframe tbody tr th {\n",
              "        vertical-align: top;\n",
              "    }\n",
              "\n",
              "    .dataframe thead th {\n",
              "        text-align: right;\n",
              "    }\n",
              "</style>\n",
              "<table border=\"1\" class=\"dataframe\">\n",
              "  <thead>\n",
              "    <tr style=\"text-align: right;\">\n",
              "      <th></th>\n",
              "      <th>closed_account</th>\n",
              "      <th>total_account</th>\n",
              "      <th>Churn_rate</th>\n",
              "      <th>Customer_Age</th>\n",
              "    </tr>\n",
              "  </thead>\n",
              "  <tbody>\n",
              "    <tr>\n",
              "      <th>0</th>\n",
              "      <td>17</td>\n",
              "      <td>195</td>\n",
              "      <td>8.717949</td>\n",
              "      <td>20-30</td>\n",
              "    </tr>\n",
              "    <tr>\n",
              "      <th>1</th>\n",
              "      <td>261</td>\n",
              "      <td>1841</td>\n",
              "      <td>14.177078</td>\n",
              "      <td>30-40</td>\n",
              "    </tr>\n",
              "    <tr>\n",
              "      <th>2</th>\n",
              "      <td>772</td>\n",
              "      <td>4561</td>\n",
              "      <td>16.926113</td>\n",
              "      <td>40-50</td>\n",
              "    </tr>\n",
              "    <tr>\n",
              "      <th>3</th>\n",
              "      <td>506</td>\n",
              "      <td>2998</td>\n",
              "      <td>16.877919</td>\n",
              "      <td>50-60</td>\n",
              "    </tr>\n",
              "    <tr>\n",
              "      <th>4</th>\n",
              "      <td>71</td>\n",
              "      <td>530</td>\n",
              "      <td>13.396226</td>\n",
              "      <td>60-70</td>\n",
              "    </tr>\n",
              "    <tr>\n",
              "      <th>5</th>\n",
              "      <td>0</td>\n",
              "      <td>2</td>\n",
              "      <td>0.000000</td>\n",
              "      <td>70-80</td>\n",
              "    </tr>\n",
              "  </tbody>\n",
              "</table>\n",
              "</div>"
            ],
            "text/plain": [
              "   closed_account  total_account  Churn_rate Customer_Age\n",
              "0              17            195    8.717949        20-30\n",
              "1             261           1841   14.177078        30-40\n",
              "2             772           4561   16.926113        40-50\n",
              "3             506           2998   16.877919        50-60\n",
              "4              71            530   13.396226        60-70\n",
              "5               0              2    0.000000        70-80"
            ]
          },
          "metadata": {},
          "execution_count": 8
        }
      ]
    },
    {
      "cell_type": "markdown",
      "metadata": {
        "id": "zModh2Mdngl-"
      },
      "source": [
        "Then we create graphs to see how the age tendency relates with churn rate. We can see the 40-60 group has higher tendency to churn."
      ]
    },
    {
      "cell_type": "code",
      "metadata": {
        "colab": {
          "base_uri": "https://localhost:8080/",
          "height": 918
        },
        "id": "PkhcOiRvnu4X",
        "outputId": "0bafc23e-c377-44ef-8268-2162c9c1aa4b"
      },
      "source": [
        "age_tendency.plot(title = 'The relationship between age category and churn rate',kind='bar', x='Customer_Age', y='Churn_rate',color = ['#5ba3cf','#8fc1de','#3181bd','#125ca4','#8fc3de'], figsize=(9, 5));\n",
        "age_tendency.plot(kind='line', x='Customer_Age', y='Churn_rate', figsize=(9, 5));\n",
        "age_tendency.plot(kind='pie', x='Customer_Age', y='Churn_rate');"
      ],
      "execution_count": null,
      "outputs": [
        {
          "output_type": "display_data",
          "data": {
            "image/png": "[encoded data removed]",
            "text/plain": [
              "<Figure size 648x360 with 1 Axes>"
            ]
          },
          "metadata": {
            "needs_background": "light"
          }
        },
        {
          "output_type": "display_data",
          "data": {
            "image/png": "[encoded data removed]",
            "text/plain": [
              "<Figure size 648x360 with 1 Axes>"
            ]
          },
          "metadata": {
            "needs_background": "light"
          }
        },
        {
          "output_type": "display_data",
          "data": {
            "image/png": "[encoded data removed]",
            "text/plain": [
              "<Figure size 432x288 with 1 Axes>"
            ]
          },
          "metadata": {}
        }
      ]
    },
    {
      "cell_type": "markdown",
      "metadata": {
        "id": "LEGD2a7dydq3"
      },
      "source": [
        "### **Question 4: Which education category of customers has a higher tendency to churn?**"
      ]
    },
    {
      "cell_type": "markdown",
      "metadata": {
        "id": "1vAxIAlb_RyZ"
      },
      "source": [
        "We group customers by educational level to see if it is related with churn rate."
      ]
    },
    {
      "cell_type": "code",
      "metadata": {
        "id": "eGcdqRLxk_tt"
      },
      "source": [
        "%%bigquery Education_Level --project=ba775-team-project\n",
        "/*educational level tendency*/\n",
        "SELECT Education_Level, count(*) AS total_account, \n",
        "SUM(CAST(Attrition_Flag = 'Attrited Customer' AS INT))\n",
        "AS closed_account,\n",
        "SUM(CAST(Attrition_Flag = 'Attrited Customer'AS INT))/count(*)*100 AS Churn_rate,\n",
        "FROM `ba775-team-project.bankchurners.bankchurners`\n",
        "WHERE Education_Level  NOT LIKE 'Unknown'\n",
        "GROUP BY Education_Level"
      ],
      "execution_count": 83,
      "outputs": []
    },
    {
      "cell_type": "code",
      "metadata": {
        "id": "v3adeLliqf_V",
        "colab": {
          "base_uri": "https://localhost:8080/",
          "height": 235
        },
        "outputId": "6af913e7-f83b-4e31-fd51-c05df8ac385b"
      },
      "source": [
        "Education_Level"
      ],
      "execution_count": null,
      "outputs": [
        {
          "output_type": "execute_result",
          "data": {
            "text/html": [
              "<div>\n",
              "<style scoped>\n",
              "    .dataframe tbody tr th:only-of-type {\n",
              "        vertical-align: middle;\n",
              "    }\n",
              "\n",
              "    .dataframe tbody tr th {\n",
              "        vertical-align: top;\n",
              "    }\n",
              "\n",
              "    .dataframe thead th {\n",
              "        text-align: right;\n",
              "    }\n",
              "</style>\n",
              "<table border=\"1\" class=\"dataframe\">\n",
              "  <thead>\n",
              "    <tr style=\"text-align: right;\">\n",
              "      <th></th>\n",
              "      <th>Education_Level</th>\n",
              "      <th>total_account</th>\n",
              "      <th>closed_account</th>\n",
              "      <th>Churn_rate</th>\n",
              "    </tr>\n",
              "  </thead>\n",
              "  <tbody>\n",
              "    <tr>\n",
              "      <th>0</th>\n",
              "      <td>High School</td>\n",
              "      <td>2013</td>\n",
              "      <td>306</td>\n",
              "      <td>15.201192</td>\n",
              "    </tr>\n",
              "    <tr>\n",
              "      <th>1</th>\n",
              "      <td>Graduate</td>\n",
              "      <td>3128</td>\n",
              "      <td>487</td>\n",
              "      <td>15.569054</td>\n",
              "    </tr>\n",
              "    <tr>\n",
              "      <th>2</th>\n",
              "      <td>College</td>\n",
              "      <td>1013</td>\n",
              "      <td>154</td>\n",
              "      <td>15.202369</td>\n",
              "    </tr>\n",
              "    <tr>\n",
              "      <th>3</th>\n",
              "      <td>Doctorate</td>\n",
              "      <td>451</td>\n",
              "      <td>95</td>\n",
              "      <td>21.064302</td>\n",
              "    </tr>\n",
              "    <tr>\n",
              "      <th>4</th>\n",
              "      <td>Uneducated</td>\n",
              "      <td>1487</td>\n",
              "      <td>237</td>\n",
              "      <td>15.938130</td>\n",
              "    </tr>\n",
              "    <tr>\n",
              "      <th>5</th>\n",
              "      <td>Post-Graduate</td>\n",
              "      <td>516</td>\n",
              "      <td>92</td>\n",
              "      <td>17.829457</td>\n",
              "    </tr>\n",
              "  </tbody>\n",
              "</table>\n",
              "</div>"
            ],
            "text/plain": [
              "  Education_Level  total_account  closed_account  Churn_rate\n",
              "0     High School           2013             306   15.201192\n",
              "1        Graduate           3128             487   15.569054\n",
              "2         College           1013             154   15.202369\n",
              "3       Doctorate            451              95   21.064302\n",
              "4      Uneducated           1487             237   15.938130\n",
              "5   Post-Graduate            516              92   17.829457"
            ]
          },
          "metadata": {},
          "execution_count": 11
        }
      ]
    },
    {
      "cell_type": "markdown",
      "metadata": {
        "id": "6I8EtuwdqjgH"
      },
      "source": [
        "Then we create graphs to see how education level is related with churn rate. We can see people with doctorate degree has highest tendency to churncompare to other groups."
      ]
    },
    {
      "cell_type": "code",
      "metadata": {
        "id": "jMF8tchFqxut",
        "colab": {
          "base_uri": "https://localhost:8080/",
          "height": 961
        },
        "outputId": "c9dae47f-75e1-4706-97fa-477cb4ab42f7"
      },
      "source": [
        "Education_Level.plot(title = 'The relationship between educational level and churn rate',kind='bar', x='Education_Level', y='Churn_rate',color = ['#137c39','#60ba6c','#41a75b','#a0d89b','#bbe4b5','#81ca82'], figsize=(9, 5));\n",
        "Education_Level.plot(kind='line', x='Education_Level', y='Churn_rate', color=['#41a75b'],figsize=(9, 5));\n",
        "Education_Level.plot(kind='pie', x='Education_Level', y='Churn_rate');"
      ],
      "execution_count": null,
      "outputs": [
        {
          "output_type": "display_data",
          "data": {
            "image/png": "[encoded data removed]",
            "text/plain": [
              "<Figure size 648x360 with 1 Axes>"
            ]
          },
          "metadata": {
            "needs_background": "light"
          }
        },
        {
          "output_type": "display_data",
          "data": {
            "image/png": "[encoded data removed]",
            "text/plain": [
              "<Figure size 648x360 with 1 Axes>"
            ]
          },
          "metadata": {
            "needs_background": "light"
          }
        },
        {
          "output_type": "display_data",
          "data": {
            "image/png": "[encoded data removed]",
            "text/plain": [
              "<Figure size 432x288 with 1 Axes>"
            ]
          },
          "metadata": {}
        }
      ]
    },
    {
      "cell_type": "markdown",
      "metadata": {
        "id": "TxvZCDQoyiaT"
      },
      "source": [
        "### **Question 5: Which income category of customers has a higher tendency to churn?**"
      ]
    },
    {
      "cell_type": "markdown",
      "metadata": {
        "id": "UiU9Oj_-_rHg"
      },
      "source": [
        "We group customer by income category to see if it is related with churn rate."
      ]
    },
    {
      "cell_type": "code",
      "metadata": {
        "id": "tBY7HB-BlEmY"
      },
      "source": [
        "%%bigquery Income_Category --project=ba775-team-project\n",
        "/*income tendency*/\n",
        "SELECT Income_Category, count(*) AS total_account, \n",
        "SUM(CAST(Attrition_Flag = 'Attrited Customer'AS INT)) AS closed_account,\n",
        "SUM(CAST(Attrition_Flag = 'Attrited Customer'AS INT))/COUNT(*)*100 AS Churn_rate,\n",
        "FROM `ba775-team-project.bankchurners.bankchurners`\n",
        "WHERE Income_Category  NOT LIKE 'Unknown'\n",
        "GROUP BY Income_Category\n",
        "ORDER BY Income_Category"
      ],
      "execution_count": null,
      "outputs": []
    },
    {
      "cell_type": "code",
      "metadata": {
        "id": "MOEIrBVIsGKS",
        "colab": {
          "base_uri": "https://localhost:8080/",
          "height": 204
        },
        "outputId": "4cc4a9be-f770-40bc-e4b7-4728335a2dcf"
      },
      "source": [
        "Income_Category"
      ],
      "execution_count": null,
      "outputs": [
        {
          "output_type": "execute_result",
          "data": {
            "text/html": [
              "<div>\n",
              "<style scoped>\n",
              "    .dataframe tbody tr th:only-of-type {\n",
              "        vertical-align: middle;\n",
              "    }\n",
              "\n",
              "    .dataframe tbody tr th {\n",
              "        vertical-align: top;\n",
              "    }\n",
              "\n",
              "    .dataframe thead th {\n",
              "        text-align: right;\n",
              "    }\n",
              "</style>\n",
              "<table border=\"1\" class=\"dataframe\">\n",
              "  <thead>\n",
              "    <tr style=\"text-align: right;\">\n",
              "      <th></th>\n",
              "      <th>Income_Category</th>\n",
              "      <th>total_account</th>\n",
              "      <th>closed_account</th>\n",
              "      <th>Churn_rate</th>\n",
              "    </tr>\n",
              "  </thead>\n",
              "  <tbody>\n",
              "    <tr>\n",
              "      <th>0</th>\n",
              "      <td>$120K +</td>\n",
              "      <td>727</td>\n",
              "      <td>126</td>\n",
              "      <td>17.331499</td>\n",
              "    </tr>\n",
              "    <tr>\n",
              "      <th>1</th>\n",
              "      <td>$40K - $60K</td>\n",
              "      <td>1790</td>\n",
              "      <td>271</td>\n",
              "      <td>15.139665</td>\n",
              "    </tr>\n",
              "    <tr>\n",
              "      <th>2</th>\n",
              "      <td>$60K - $80K</td>\n",
              "      <td>1402</td>\n",
              "      <td>189</td>\n",
              "      <td>13.480742</td>\n",
              "    </tr>\n",
              "    <tr>\n",
              "      <th>3</th>\n",
              "      <td>$80K - $120K</td>\n",
              "      <td>1535</td>\n",
              "      <td>242</td>\n",
              "      <td>15.765472</td>\n",
              "    </tr>\n",
              "    <tr>\n",
              "      <th>4</th>\n",
              "      <td>Less than $40K</td>\n",
              "      <td>3561</td>\n",
              "      <td>612</td>\n",
              "      <td>17.186184</td>\n",
              "    </tr>\n",
              "  </tbody>\n",
              "</table>\n",
              "</div>"
            ],
            "text/plain": [
              "  Income_Category  total_account  closed_account  Churn_rate\n",
              "0         $120K +            727             126   17.331499\n",
              "1     $40K - $60K           1790             271   15.139665\n",
              "2     $60K - $80K           1402             189   13.480742\n",
              "3    $80K - $120K           1535             242   15.765472\n",
              "4  Less than $40K           3561             612   17.186184"
            ]
          },
          "metadata": {},
          "execution_count": 14
        }
      ]
    },
    {
      "cell_type": "markdown",
      "metadata": {
        "id": "vPSPTOt5sIt4"
      },
      "source": [
        "Then we create graphs to see the income level tendency. We can see middle class income poeple($60k-80K) have lowest tendency to churn. "
      ]
    },
    {
      "cell_type": "code",
      "metadata": {
        "id": "5wwHqC_iup18"
      },
      "source": [
        "Income_Category.plot(title = 'The relationship between income level and churn rate',kind='bar', x='Income_Category', y='Churn_rate',color = ['#fc8767', '#f6573f', '#b21218', '#dc2a25'], figsize=(9, 5));\n",
        "Income_Category.plot(kind='line', x='Income_Category', y='Churn_rate', color=['#fc8767'],figsize=(9, 5));\n",
        "Income_Category.plot(kind='pie', x='Income_Category', y='Churn_rate');"
      ],
      "execution_count": null,
      "outputs": []
    },
    {
      "cell_type": "markdown",
      "metadata": {
        "id": "at-QUfTUymyC"
      },
      "source": [
        "### **Question 6: Which marriage type of customers has a higher tendency to churn?**"
      ]
    },
    {
      "cell_type": "markdown",
      "metadata": {
        "id": "XeQKyfw9AGsZ"
      },
      "source": [
        "We group customers by the marital status to see if it is related with churn rate."
      ]
    },
    {
      "cell_type": "code",
      "metadata": {
        "id": "x0Lo-TIAlKZx"
      },
      "source": [
        "%%bigquery Marital_Status --project=ba775-team-project\n",
        "/*marital status tendency*/\n",
        "SELECT Marital_Status, count(*) AS total_account, \n",
        "SUM(CAST(Attrition_Flag = 'Attrited Customer'AS int)) AS closed_account,\n",
        "SUM(CAST(Attrition_Flag = 'Attrited Customer'AS int))/count(*)*100 AS Churn_rate,\n",
        "FROM `ba775-team-project.bankchurners.bankchurners`\n",
        "WHERE Marital_Status not like 'Unknown'\n",
        "GROUP BY Marital_Status\n",
        "ORDER BY Marital_Status;"
      ],
      "execution_count": null,
      "outputs": []
    },
    {
      "cell_type": "code",
      "metadata": {
        "id": "K9hYSt3qsoZB",
        "colab": {
          "base_uri": "https://localhost:8080/",
          "height": 142
        },
        "outputId": "215a2e8e-7319-42a2-c7d2-d14cfe19f7a6"
      },
      "source": [
        "Marital_Status"
      ],
      "execution_count": null,
      "outputs": [
        {
          "output_type": "execute_result",
          "data": {
            "text/html": [
              "<div>\n",
              "<style scoped>\n",
              "    .dataframe tbody tr th:only-of-type {\n",
              "        vertical-align: middle;\n",
              "    }\n",
              "\n",
              "    .dataframe tbody tr th {\n",
              "        vertical-align: top;\n",
              "    }\n",
              "\n",
              "    .dataframe thead th {\n",
              "        text-align: right;\n",
              "    }\n",
              "</style>\n",
              "<table border=\"1\" class=\"dataframe\">\n",
              "  <thead>\n",
              "    <tr style=\"text-align: right;\">\n",
              "      <th></th>\n",
              "      <th>Marital_Status</th>\n",
              "      <th>total_account</th>\n",
              "      <th>closed_account</th>\n",
              "      <th>Churn_rate</th>\n",
              "    </tr>\n",
              "  </thead>\n",
              "  <tbody>\n",
              "    <tr>\n",
              "      <th>0</th>\n",
              "      <td>Divorced</td>\n",
              "      <td>748</td>\n",
              "      <td>121</td>\n",
              "      <td>16.176471</td>\n",
              "    </tr>\n",
              "    <tr>\n",
              "      <th>1</th>\n",
              "      <td>Married</td>\n",
              "      <td>4687</td>\n",
              "      <td>709</td>\n",
              "      <td>15.126947</td>\n",
              "    </tr>\n",
              "    <tr>\n",
              "      <th>2</th>\n",
              "      <td>Single</td>\n",
              "      <td>3943</td>\n",
              "      <td>668</td>\n",
              "      <td>16.941415</td>\n",
              "    </tr>\n",
              "  </tbody>\n",
              "</table>\n",
              "</div>"
            ],
            "text/plain": [
              "  Marital_Status  total_account  closed_account  Churn_rate\n",
              "0       Divorced            748             121   16.176471\n",
              "1        Married           4687             709   15.126947\n",
              "2         Single           3943             668   16.941415"
            ]
          },
          "metadata": {},
          "execution_count": 16
        }
      ]
    },
    {
      "cell_type": "markdown",
      "metadata": {
        "id": "Qaeuofltsq2s"
      },
      "source": [
        "Then we create graphs for the marital status. We can see the divorced or single status people have relatively higher tendency to attrite."
      ]
    },
    {
      "cell_type": "code",
      "metadata": {
        "id": "e0_37tgXu_6W",
        "colab": {
          "base_uri": "https://localhost:8080/",
          "height": 934
        },
        "outputId": "8e77a26f-690b-4e71-a5da-94176573f598"
      },
      "source": [
        "Marital_Status.plot(title = 'The relationship between marital status and churn rate',kind='bar', x='Marital_Status', y='Churn_rate',color = ['#ffc0cb','#ff81c0','#ffc4cb'], figsize=(9, 5));\n",
        "Marital_Status.plot(kind='line', x='Marital_Status', y='Churn_rate', color=['#ffc0cb'],figsize=(9, 5));\n",
        "Marital_Status.plot(kind='pie', x='Marital_Status', y='Churn_rate');"
      ],
      "execution_count": null,
      "outputs": [
        {
          "output_type": "display_data",
          "data": {
            "image/png": "[encoded data removed]",
            "text/plain": [
              "<Figure size 648x360 with 1 Axes>"
            ]
          },
          "metadata": {
            "needs_background": "light"
          }
        },
        {
          "output_type": "display_data",
          "data": {
            "image/png": "[encoded data removed]",
            "text/plain": [
              "<Figure size 648x360 with 1 Axes>"
            ]
          },
          "metadata": {
            "needs_background": "light"
          }
        },
        {
          "output_type": "display_data",
          "data": {
            "image/png": "[encoded data removed]",
            "text/plain": [
              "<Figure size 432x288 with 1 Axes>"
            ]
          },
          "metadata": {}
        }
      ]
    },
    {
      "cell_type": "markdown",
      "metadata": {
        "id": "cTslL70GyoJI"
      },
      "source": [
        "### **Question 7: How does dependent count influence churn rate?**"
      ]
    },
    {
      "cell_type": "markdown",
      "metadata": {
        "id": "pkq2WJ2UAZMh"
      },
      "source": [
        "We group the customers by how many dependent they carry to see what's the churn rate of each group."
      ]
    },
    {
      "cell_type": "code",
      "metadata": {
        "id": "uxwW4bJPlOZh"
      },
      "source": [
        "%%bigquery Dependent_count --project=ba775-team-project\n",
        "/*dependent tendency*/\n",
        "SELECT Dependent_count, COUNT(*) AS total_account, \n",
        "SUM(CAST(Attrition_Flag = 'Attrited Customer'AS int)) AS closed_account,\n",
        "SUM(CAST(Attrition_Flag = 'Attrited Customer'AS int))/COUNT(*)*100 AS Churn_rate,\n",
        "FROM `ba775-team-project.bankchurners.bankchurners`\n",
        "WHERE Dependent_count IS NOT NULL\n",
        "GROUP BY Dependent_count\n",
        "ORDER BY Dependent_count;"
      ],
      "execution_count": null,
      "outputs": []
    },
    {
      "cell_type": "code",
      "metadata": {
        "id": "geC-aTRWuIm1",
        "colab": {
          "base_uri": "https://localhost:8080/",
          "height": 235
        },
        "outputId": "2f96e27a-9438-4049-e442-b77820d2b1ad"
      },
      "source": [
        "Dependent_count"
      ],
      "execution_count": null,
      "outputs": [
        {
          "output_type": "execute_result",
          "data": {
            "text/html": [
              "<div>\n",
              "<style scoped>\n",
              "    .dataframe tbody tr th:only-of-type {\n",
              "        vertical-align: middle;\n",
              "    }\n",
              "\n",
              "    .dataframe tbody tr th {\n",
              "        vertical-align: top;\n",
              "    }\n",
              "\n",
              "    .dataframe thead th {\n",
              "        text-align: right;\n",
              "    }\n",
              "</style>\n",
              "<table border=\"1\" class=\"dataframe\">\n",
              "  <thead>\n",
              "    <tr style=\"text-align: right;\">\n",
              "      <th></th>\n",
              "      <th>Dependent_count</th>\n",
              "      <th>total_account</th>\n",
              "      <th>closed_account</th>\n",
              "      <th>Churn_rate</th>\n",
              "    </tr>\n",
              "  </thead>\n",
              "  <tbody>\n",
              "    <tr>\n",
              "      <th>0</th>\n",
              "      <td>0</td>\n",
              "      <td>904</td>\n",
              "      <td>135</td>\n",
              "      <td>14.933628</td>\n",
              "    </tr>\n",
              "    <tr>\n",
              "      <th>1</th>\n",
              "      <td>1</td>\n",
              "      <td>1838</td>\n",
              "      <td>269</td>\n",
              "      <td>14.635473</td>\n",
              "    </tr>\n",
              "    <tr>\n",
              "      <th>2</th>\n",
              "      <td>2</td>\n",
              "      <td>2655</td>\n",
              "      <td>417</td>\n",
              "      <td>15.706215</td>\n",
              "    </tr>\n",
              "    <tr>\n",
              "      <th>3</th>\n",
              "      <td>3</td>\n",
              "      <td>2732</td>\n",
              "      <td>482</td>\n",
              "      <td>17.642753</td>\n",
              "    </tr>\n",
              "    <tr>\n",
              "      <th>4</th>\n",
              "      <td>4</td>\n",
              "      <td>1574</td>\n",
              "      <td>260</td>\n",
              "      <td>16.518424</td>\n",
              "    </tr>\n",
              "    <tr>\n",
              "      <th>5</th>\n",
              "      <td>5</td>\n",
              "      <td>424</td>\n",
              "      <td>64</td>\n",
              "      <td>15.094340</td>\n",
              "    </tr>\n",
              "  </tbody>\n",
              "</table>\n",
              "</div>"
            ],
            "text/plain": [
              "   Dependent_count  total_account  closed_account  Churn_rate\n",
              "0                0            904             135   14.933628\n",
              "1                1           1838             269   14.635473\n",
              "2                2           2655             417   15.706215\n",
              "3                3           2732             482   17.642753\n",
              "4                4           1574             260   16.518424\n",
              "5                5            424              64   15.094340"
            ]
          },
          "metadata": {},
          "execution_count": 19
        }
      ]
    },
    {
      "cell_type": "markdown",
      "metadata": {
        "id": "Uy3mP8VHuK0K"
      },
      "source": [
        "Then we create graphs to see how amount of dependent peopel carry influence the tendency. We can see people with 3-4 dependent have higher tendency to attrite compare to other groups"
      ]
    },
    {
      "cell_type": "code",
      "metadata": {
        "id": "dW7DRMGlvb5c"
      },
      "source": [
        "Dependent_count.plot(title = 'The relationship between amount of dependet carried and churn rate',kind='bar', x='Dependent_count', y='Churn_rate',color = ['#00ffff','#13eac9','#7fffd4','#04d8b2','#40e0d0','#06c2ac'], figsize=(9, 5));\n",
        "Dependent_count.plot(kind='line', x='Dependent_count', y='Churn_rate', color=['#40e0d0'],figsize=(9, 5));\n",
        "Dependent_count.plot(kind='pie', x='Dependent_count', y='Churn_rate');"
      ],
      "execution_count": null,
      "outputs": []
    },
    {
      "cell_type": "markdown",
      "metadata": {
        "id": "xchRGgTBypfa"
      },
      "source": [
        "### **Question 8: Which card type of customers has a higher tendency to churn?**"
      ]
    },
    {
      "cell_type": "markdown",
      "metadata": {
        "id": "v6vepgSeI7zS"
      },
      "source": [
        "We group customers by the card category to see if it's related with churn rate."
      ]
    },
    {
      "cell_type": "code",
      "metadata": {
        "id": "_ZUrW-UHcZEi"
      },
      "source": [
        "%%bigquery Card_impact --project=ba775-team-project\n",
        "SELECT\n",
        "Card_Category, \n",
        "COUNT(CLIENTNUM) AS Total_Customer,\n",
        "SUM(CASE WHEN Attrition_Flag = \"Attrited Customer\" then 1 else 0 end) AS Churn_Customer,\n",
        "SUM(CASE WHEN Attrition_Flag = \"Attrited Customer\" then 1 else 0 end)/COUNT(CLIENTNUM)*100 AS Churn_Rate\n",
        "FROM `ba775-team-project.bankchurners.bankchurners`\n",
        "GROUP BY Card_Category\n",
        "ORDER BY Total_Customer DESC"
      ],
      "execution_count": null,
      "outputs": []
    },
    {
      "cell_type": "code",
      "metadata": {
        "id": "cZe1FfvMck7y",
        "colab": {
          "base_uri": "https://localhost:8080/",
          "height": 173
        },
        "outputId": "19fe3913-5cfd-476d-ed83-a131b9744734"
      },
      "source": [
        "Card_impact"
      ],
      "execution_count": null,
      "outputs": [
        {
          "output_type": "execute_result",
          "data": {
            "text/html": [
              "<div>\n",
              "<style scoped>\n",
              "    .dataframe tbody tr th:only-of-type {\n",
              "        vertical-align: middle;\n",
              "    }\n",
              "\n",
              "    .dataframe tbody tr th {\n",
              "        vertical-align: top;\n",
              "    }\n",
              "\n",
              "    .dataframe thead th {\n",
              "        text-align: right;\n",
              "    }\n",
              "</style>\n",
              "<table border=\"1\" class=\"dataframe\">\n",
              "  <thead>\n",
              "    <tr style=\"text-align: right;\">\n",
              "      <th></th>\n",
              "      <th>Card_Category</th>\n",
              "      <th>Total_Customer</th>\n",
              "      <th>Churn_Customer</th>\n",
              "      <th>Churn_Rate</th>\n",
              "    </tr>\n",
              "  </thead>\n",
              "  <tbody>\n",
              "    <tr>\n",
              "      <th>0</th>\n",
              "      <td>Blue</td>\n",
              "      <td>9436</td>\n",
              "      <td>1519</td>\n",
              "      <td>16.097923</td>\n",
              "    </tr>\n",
              "    <tr>\n",
              "      <th>1</th>\n",
              "      <td>Silver</td>\n",
              "      <td>555</td>\n",
              "      <td>82</td>\n",
              "      <td>14.774775</td>\n",
              "    </tr>\n",
              "    <tr>\n",
              "      <th>2</th>\n",
              "      <td>Gold</td>\n",
              "      <td>116</td>\n",
              "      <td>21</td>\n",
              "      <td>18.103448</td>\n",
              "    </tr>\n",
              "    <tr>\n",
              "      <th>3</th>\n",
              "      <td>Platinum</td>\n",
              "      <td>20</td>\n",
              "      <td>5</td>\n",
              "      <td>25.000000</td>\n",
              "    </tr>\n",
              "  </tbody>\n",
              "</table>\n",
              "</div>"
            ],
            "text/plain": [
              "  Card_Category  Total_Customer  Churn_Customer  Churn_Rate\n",
              "0          Blue            9436            1519   16.097923\n",
              "1        Silver             555              82   14.774775\n",
              "2          Gold             116              21   18.103448\n",
              "3      Platinum              20               5   25.000000"
            ]
          },
          "metadata": {},
          "execution_count": 21
        }
      ]
    },
    {
      "cell_type": "markdown",
      "metadata": {
        "id": "IrjD_6a9cxBA"
      },
      "source": [
        "We create graphs to see the tendency. We can see the customers who have blue card or platinum card are more likely to attrite."
      ]
    },
    {
      "cell_type": "code",
      "metadata": {
        "id": "-vBtHfPacoWh",
        "colab": {
          "base_uri": "https://localhost:8080/",
          "height": 648
        },
        "outputId": "957163f8-9604-4470-a59f-3e133ba95ebe"
      },
      "source": [
        "Card_impact.plot(title = 'The relationship between card category and churn rate',kind='bar', x='Card_Category', y='Churn_Rate',\n",
        "                 color = ['#5ba3cf','#8fc1de','#3181bd','#125ca4'], figsize=(9, 5));\n",
        "Card_impact.plot(kind='line', x='Card_Category', y='Churn_Rate',color = '#5ba3cf');"
      ],
      "execution_count": null,
      "outputs": [
        {
          "output_type": "display_data",
          "data": {
            "image/png": "[encoded data removed]",
            "text/plain": [
              "<Figure size 648x360 with 1 Axes>"
            ]
          },
          "metadata": {
            "needs_background": "light"
          }
        },
        {
          "output_type": "display_data",
          "data": {
            "image/png": "[encoded data removed]",
            "text/plain": [
              "<Figure size 432x288 with 1 Axes>"
            ]
          },
          "metadata": {
            "needs_background": "light"
          }
        }
      ]
    },
    {
      "cell_type": "code",
      "metadata": {
        "id": "O9ejcmRfcp8I",
        "colab": {
          "base_uri": "https://localhost:8080/",
          "height": 80
        },
        "outputId": "a1be6db2-a0f8-4f9a-942b-313e27b785f0"
      },
      "source": [
        "%%bigquery --project=ba775-team-project\n",
        "SELECT ((SUM(cards * attrition_flag)-(SUM(cards) * SUM(attrition_flag)) / COUNT(*)))\n",
        "  / (SQRT(SUM(cards * cards)-(SUM(cards) * SUM (cards)) / COUNT(*) ) * SQRT(SUM(attrition_flag * attrition_flag)\n",
        "  -(SUM(attrition_flag) * SUM(attrition_flag)) / COUNT(*))) AS corr\n",
        "FROM \n",
        "(\n",
        "  SELECT \n",
        "  CASE WHEN card_category = 'Blue' then 1\n",
        "       WHEN card_category = 'Silver' then 2\n",
        "       WHEN card_category = 'Gold' then 3\n",
        "       ELSE 4 END as cards,    \n",
        "  CAST(Attrition_Flag = 'Attrited Customer' AS INT) As attrition_flag\n",
        "  FROM ba775-team-project.bankchurners.bankchurners\n",
        ")"
      ],
      "execution_count": null,
      "outputs": [
        {
          "output_type": "execute_result",
          "data": {
            "text/html": [
              "<div>\n",
              "<style scoped>\n",
              "    .dataframe tbody tr th:only-of-type {\n",
              "        vertical-align: middle;\n",
              "    }\n",
              "\n",
              "    .dataframe tbody tr th {\n",
              "        vertical-align: top;\n",
              "    }\n",
              "\n",
              "    .dataframe thead th {\n",
              "        text-align: right;\n",
              "    }\n",
              "</style>\n",
              "<table border=\"1\" class=\"dataframe\">\n",
              "  <thead>\n",
              "    <tr style=\"text-align: right;\">\n",
              "      <th></th>\n",
              "      <th>corr</th>\n",
              "    </tr>\n",
              "  </thead>\n",
              "  <tbody>\n",
              "    <tr>\n",
              "      <th>0</th>\n",
              "      <td>0.002354</td>\n",
              "    </tr>\n",
              "  </tbody>\n",
              "</table>\n",
              "</div>"
            ],
            "text/plain": [
              "       corr\n",
              "0  0.002354"
            ]
          },
          "metadata": {},
          "execution_count": 23
        }
      ]
    },
    {
      "cell_type": "markdown",
      "metadata": {
        "id": "TPzri89Vc2XA"
      },
      "source": [
        "When we assign each card category a value (assending as the category becomes more prestigious), the calculation below shows that there is no correlation between card category and whether the customer will churn."
      ]
    },
    {
      "cell_type": "markdown",
      "metadata": {
        "id": "rHgafYVjyq1F"
      },
      "source": [
        "### **Question 9: How does credit limit affect churn rate?**"
      ]
    },
    {
      "cell_type": "markdown",
      "metadata": {
        "id": "VvYSCCV3Jr3k"
      },
      "source": [
        "We divide the number of attrited customers by the total number of customers group by the Credit_Limit to see whether the credit limit will affect the churn rate."
      ]
    },
    {
      "cell_type": "code",
      "metadata": {
        "id": "JNo58ta3ds_m"
      },
      "source": [
        "%%bigquery Credit_impact --project=ba775-team-project\n",
        "SELECT\n",
        "CASE\n",
        "    WHEN Credit_Limit>=0 AND Credit_Limit <5000 THEN '0-5000'\n",
        "    WHEN Credit_Limit>=5000 AND Credit_Limit <10000 THEN '05000-10000'\n",
        "    WHEN Credit_Limit>=10000 AND Credit_Limit <15000 THEN '10000-15000'\n",
        "    WHEN Credit_Limit>=15000 AND Credit_Limit <20000 THEN '15000-20000'\n",
        "    WHEN Credit_Limit>=20000 AND Credit_Limit <25000 THEN '20000-25000'\n",
        "    WHEN Credit_Limit>=25000 AND Credit_Limit <30000 THEN '25000-30000'\n",
        "    WHEN Credit_Limit>=30000 AND Credit_Limit <35000 THEN '30000-35000'\n",
        "END as Credit_Limit,\n",
        "SUM(CAST(Attrition_Flag = 'Attrited Customer' AS INT)) AS Churn_Customer,\n",
        "COUNT(*) AS Total_Customer,\n",
        "SUM(CAST(Attrition_Flag = 'Attrited Customer' AS INT))/COUNT(*)*100 AS Churn_Rate\n",
        "\n",
        "FROM `ba775-team-project.bankchurners.bankchurners`\n",
        "GROUP BY Credit_Limit\n",
        "ORDER BY Credit_Limit"
      ],
      "execution_count": null,
      "outputs": []
    },
    {
      "cell_type": "code",
      "metadata": {
        "id": "qc0RPKtndwi_",
        "colab": {
          "base_uri": "https://localhost:8080/",
          "height": 266
        },
        "outputId": "91380898-0653-4414-a80e-2038423d0ea9"
      },
      "source": [
        "Credit_impact"
      ],
      "execution_count": null,
      "outputs": [
        {
          "output_type": "execute_result",
          "data": {
            "text/html": [
              "<div>\n",
              "<style scoped>\n",
              "    .dataframe tbody tr th:only-of-type {\n",
              "        vertical-align: middle;\n",
              "    }\n",
              "\n",
              "    .dataframe tbody tr th {\n",
              "        vertical-align: top;\n",
              "    }\n",
              "\n",
              "    .dataframe thead th {\n",
              "        text-align: right;\n",
              "    }\n",
              "</style>\n",
              "<table border=\"1\" class=\"dataframe\">\n",
              "  <thead>\n",
              "    <tr style=\"text-align: right;\">\n",
              "      <th></th>\n",
              "      <th>Credit_Limit</th>\n",
              "      <th>Churn_Customer</th>\n",
              "      <th>Total_Customer</th>\n",
              "      <th>Churn_Rate</th>\n",
              "    </tr>\n",
              "  </thead>\n",
              "  <tbody>\n",
              "    <tr>\n",
              "      <th>0</th>\n",
              "      <td>0-5000</td>\n",
              "      <td>926</td>\n",
              "      <td>5358</td>\n",
              "      <td>17.282568</td>\n",
              "    </tr>\n",
              "    <tr>\n",
              "      <th>1</th>\n",
              "      <td>05000-10000</td>\n",
              "      <td>302</td>\n",
              "      <td>2015</td>\n",
              "      <td>14.987593</td>\n",
              "    </tr>\n",
              "    <tr>\n",
              "      <th>2</th>\n",
              "      <td>10000-15000</td>\n",
              "      <td>145</td>\n",
              "      <td>941</td>\n",
              "      <td>15.409139</td>\n",
              "    </tr>\n",
              "    <tr>\n",
              "      <th>3</th>\n",
              "      <td>15000-20000</td>\n",
              "      <td>70</td>\n",
              "      <td>549</td>\n",
              "      <td>12.750455</td>\n",
              "    </tr>\n",
              "    <tr>\n",
              "      <th>4</th>\n",
              "      <td>20000-25000</td>\n",
              "      <td>43</td>\n",
              "      <td>372</td>\n",
              "      <td>11.559140</td>\n",
              "    </tr>\n",
              "    <tr>\n",
              "      <th>5</th>\n",
              "      <td>25000-30000</td>\n",
              "      <td>33</td>\n",
              "      <td>225</td>\n",
              "      <td>14.666667</td>\n",
              "    </tr>\n",
              "    <tr>\n",
              "      <th>6</th>\n",
              "      <td>30000-35000</td>\n",
              "      <td>108</td>\n",
              "      <td>667</td>\n",
              "      <td>16.191904</td>\n",
              "    </tr>\n",
              "  </tbody>\n",
              "</table>\n",
              "</div>"
            ],
            "text/plain": [
              "  Credit_Limit  Churn_Customer  Total_Customer  Churn_Rate\n",
              "0       0-5000             926            5358   17.282568\n",
              "1  05000-10000             302            2015   14.987593\n",
              "2  10000-15000             145             941   15.409139\n",
              "3  15000-20000              70             549   12.750455\n",
              "4  20000-25000              43             372   11.559140\n",
              "5  25000-30000              33             225   14.666667\n",
              "6  30000-35000             108             667   16.191904"
            ]
          },
          "metadata": {},
          "execution_count": 25
        }
      ]
    },
    {
      "cell_type": "code",
      "metadata": {
        "id": "wCOi6uBNdywX",
        "colab": {
          "base_uri": "https://localhost:8080/",
          "height": 670
        },
        "outputId": "b418ecdd-bfca-48d7-bd65-2c9ff107a947"
      },
      "source": [
        "Credit_impact.plot(title = 'The relationship between credit limit and churn rate', kind='bar', \n",
        "                   x='Credit_Limit', y='Churn_Rate', \n",
        "                   color = ['#137c39','#60ba6c','#41a75b','#a0d89b','#bbe4b5','#81ca82','#29924a'], figsize=(9, 5));\n",
        "Credit_impact.plot(kind='line', x='Credit_Limit', y='Churn_Rate',color = '#60ba6c');"
      ],
      "execution_count": null,
      "outputs": [
        {
          "output_type": "display_data",
          "data": {
            "image/png": "[encoded data removed]",
            "text/plain": [
              "<Figure size 648x360 with 1 Axes>"
            ]
          },
          "metadata": {
            "needs_background": "light"
          }
        },
        {
          "output_type": "display_data",
          "data": {
            "image/png": "[encoded data removed]",
            "text/plain": [
              "<Figure size 432x288 with 1 Axes>"
            ]
          },
          "metadata": {
            "needs_background": "light"
          }
        }
      ]
    },
    {
      "cell_type": "markdown",
      "metadata": {
        "id": "YcM3GnkFd1UW"
      },
      "source": [
        "Create graphs to see the tendency. We can see there is no significant relationship between credit limit and churn rate."
      ]
    },
    {
      "cell_type": "code",
      "metadata": {
        "id": "W9hZVmFmd3Xm",
        "colab": {
          "base_uri": "https://localhost:8080/",
          "height": 80
        },
        "outputId": "0fae1ee9-6555-4b7d-b186-39a144e057e7"
      },
      "source": [
        "%%bigquery --project=ba775-team-project\n",
        "SELECT ((SUM(credit_limit * attrition_flag)-(SUM(credit_limit) * SUM(attrition_flag)) / COUNT(*)))\n",
        "  / (SQRT(SUM(credit_limit * credit_limit)-(SUM(credit_limit) * SUM (credit_limit)) / COUNT(*) ) * SQRT(SUM(attrition_flag * attrition_flag)\n",
        "  -(SUM(attrition_flag) * SUM(attrition_flag)) / COUNT(*))) AS corr\n",
        "FROM\n",
        "(\n",
        "  SELECT\n",
        "  credit_limit,\n",
        "  CAST(Attrition_Flag = 'Attrited Customer' AS INT) As attrition_flag\n",
        "  FROM ba775-team-project.bankchurners.bankchurners\n",
        ")"
      ],
      "execution_count": null,
      "outputs": [
        {
          "output_type": "execute_result",
          "data": {
            "text/html": [
              "<div>\n",
              "<style scoped>\n",
              "    .dataframe tbody tr th:only-of-type {\n",
              "        vertical-align: middle;\n",
              "    }\n",
              "\n",
              "    .dataframe tbody tr th {\n",
              "        vertical-align: top;\n",
              "    }\n",
              "\n",
              "    .dataframe thead th {\n",
              "        text-align: right;\n",
              "    }\n",
              "</style>\n",
              "<table border=\"1\" class=\"dataframe\">\n",
              "  <thead>\n",
              "    <tr style=\"text-align: right;\">\n",
              "      <th></th>\n",
              "      <th>corr</th>\n",
              "    </tr>\n",
              "  </thead>\n",
              "  <tbody>\n",
              "    <tr>\n",
              "      <th>0</th>\n",
              "      <td>-0.023873</td>\n",
              "    </tr>\n",
              "  </tbody>\n",
              "</table>\n",
              "</div>"
            ],
            "text/plain": [
              "       corr\n",
              "0 -0.023873"
            ]
          },
          "metadata": {},
          "execution_count": 28
        }
      ]
    },
    {
      "cell_type": "markdown",
      "metadata": {
        "id": "9K2vsFEPd5sX"
      },
      "source": [
        "The calculation of correlation coefficient also shows that there is no significant relationship between credit limit and loss of customer."
      ]
    },
    {
      "cell_type": "markdown",
      "metadata": {
        "id": "fJDPaMLByr-6"
      },
      "source": [
        "### **Question 10: How does the number of contacts by sales representative in the past 12 month affect churn rate?**"
      ]
    },
    {
      "cell_type": "markdown",
      "metadata": {
        "id": "IqM4xK6-J5tP"
      },
      "source": [
        "We divide the number of attrited customers by the total number of customers group by the Contacts_Count_12_mon to see whether the number of contacts in last 12 months will affect the churn rate."
      ]
    },
    {
      "cell_type": "code",
      "metadata": {
        "id": "OpkulCDnd8Y-"
      },
      "source": [
        "%%bigquery ContactNum_impact --project=ba775-team-project\n",
        "SELECT \n",
        "CASE\n",
        "  WHEN Contacts_Count_12_mon=0 THEN 'Contacts_0'\n",
        "  WHEN Contacts_Count_12_mon=1 THEN 'Contacts_1'\n",
        "  WHEN Contacts_Count_12_mon=2 THEN 'Contacts_2'\n",
        "  WHEN Contacts_Count_12_mon=3 THEN 'Contacts_3'\n",
        "  WHEN Contacts_Count_12_mon=4 THEN 'Contacts_4'\n",
        "  WHEN Contacts_Count_12_mon=5 THEN 'Contacts_5'\n",
        "  WHEN Contacts_Count_12_mon=6 THEN 'Contacts_6'\n",
        "END as Contacts_Count_12_mon,\n",
        "SUM(CAST(Attrition_flag='Attrited Customer' AS INT)) AS Churn_Customer,\n",
        "COUNT(*) AS Total_Customer,\n",
        "SUM(CAST(Attrition_flag='Attrited Customer' AS INT))/COUNT(*)*100 AS Churn_Rate\n",
        "FROM `ba775-team-project.bankchurners.bankchurners`\n",
        "GROUP BY Contacts_Count_12_mon\n",
        "ORDER BY Contacts_Count_12_mon"
      ],
      "execution_count": null,
      "outputs": []
    },
    {
      "cell_type": "code",
      "metadata": {
        "id": "dNX1v6tveLu9",
        "colab": {
          "base_uri": "https://localhost:8080/",
          "height": 266
        },
        "outputId": "5abce4fd-0358-45cd-c472-4b040244b84f"
      },
      "source": [
        "ContactNum_impact"
      ],
      "execution_count": null,
      "outputs": [
        {
          "output_type": "execute_result",
          "data": {
            "text/html": [
              "<div>\n",
              "<style scoped>\n",
              "    .dataframe tbody tr th:only-of-type {\n",
              "        vertical-align: middle;\n",
              "    }\n",
              "\n",
              "    .dataframe tbody tr th {\n",
              "        vertical-align: top;\n",
              "    }\n",
              "\n",
              "    .dataframe thead th {\n",
              "        text-align: right;\n",
              "    }\n",
              "</style>\n",
              "<table border=\"1\" class=\"dataframe\">\n",
              "  <thead>\n",
              "    <tr style=\"text-align: right;\">\n",
              "      <th></th>\n",
              "      <th>Contacts_Count_12_mon</th>\n",
              "      <th>Churn_Customer</th>\n",
              "      <th>Total_Customer</th>\n",
              "      <th>Churn_Rate</th>\n",
              "    </tr>\n",
              "  </thead>\n",
              "  <tbody>\n",
              "    <tr>\n",
              "      <th>0</th>\n",
              "      <td>Contacts_0</td>\n",
              "      <td>7</td>\n",
              "      <td>399</td>\n",
              "      <td>1.754386</td>\n",
              "    </tr>\n",
              "    <tr>\n",
              "      <th>1</th>\n",
              "      <td>Contacts_1</td>\n",
              "      <td>108</td>\n",
              "      <td>1499</td>\n",
              "      <td>7.204803</td>\n",
              "    </tr>\n",
              "    <tr>\n",
              "      <th>2</th>\n",
              "      <td>Contacts_2</td>\n",
              "      <td>403</td>\n",
              "      <td>3227</td>\n",
              "      <td>12.488379</td>\n",
              "    </tr>\n",
              "    <tr>\n",
              "      <th>3</th>\n",
              "      <td>Contacts_3</td>\n",
              "      <td>681</td>\n",
              "      <td>3380</td>\n",
              "      <td>20.147929</td>\n",
              "    </tr>\n",
              "    <tr>\n",
              "      <th>4</th>\n",
              "      <td>Contacts_4</td>\n",
              "      <td>315</td>\n",
              "      <td>1392</td>\n",
              "      <td>22.629310</td>\n",
              "    </tr>\n",
              "    <tr>\n",
              "      <th>5</th>\n",
              "      <td>Contacts_5</td>\n",
              "      <td>59</td>\n",
              "      <td>176</td>\n",
              "      <td>33.522727</td>\n",
              "    </tr>\n",
              "    <tr>\n",
              "      <th>6</th>\n",
              "      <td>Contacts_6</td>\n",
              "      <td>54</td>\n",
              "      <td>54</td>\n",
              "      <td>100.000000</td>\n",
              "    </tr>\n",
              "  </tbody>\n",
              "</table>\n",
              "</div>"
            ],
            "text/plain": [
              "  Contacts_Count_12_mon  Churn_Customer  Total_Customer  Churn_Rate\n",
              "0            Contacts_0               7             399    1.754386\n",
              "1            Contacts_1             108            1499    7.204803\n",
              "2            Contacts_2             403            3227   12.488379\n",
              "3            Contacts_3             681            3380   20.147929\n",
              "4            Contacts_4             315            1392   22.629310\n",
              "5            Contacts_5              59             176   33.522727\n",
              "6            Contacts_6              54              54  100.000000"
            ]
          },
          "metadata": {},
          "execution_count": 30
        }
      ]
    },
    {
      "cell_type": "code",
      "metadata": {
        "id": "hAnmpZiteNVX",
        "colab": {
          "base_uri": "https://localhost:8080/",
          "height": 660
        },
        "outputId": "6e2b69ad-0f9c-45a1-911a-b05b104389f9"
      },
      "source": [
        "ContactNum_impact.plot(title = 'The relationship between contact number and churn rate', kind='bar', \n",
        "                       x='Contacts_Count_12_mon', y='Churn_Rate', \n",
        "                       color = ['#d0d0e6','#bcbcdb','#a7a5cf','#928ec8','#7f77b6','#6f5aa8','#5f3c99'], figsize=(9, 5));\n",
        "ContactNum_impact.plot(kind='line', x='Contacts_Count_12_mon', y='Churn_Rate',color = '#6f5aa8');"
      ],
      "execution_count": null,
      "outputs": [
        {
          "output_type": "display_data",
          "data": {
            "image/png": "[encoded data removed]",
            "text/plain": [
              "<Figure size 648x360 with 1 Axes>"
            ]
          },
          "metadata": {
            "needs_background": "light"
          }
        },
        {
          "output_type": "display_data",
          "data": {
            "image/png": "[encoded data removed]",
            "text/plain": [
              "<Figure size 432x288 with 1 Axes>"
            ]
          },
          "metadata": {
            "needs_background": "light"
          }
        }
      ]
    },
    {
      "cell_type": "markdown",
      "metadata": {
        "id": "keU7oLcneP_1"
      },
      "source": [
        "Create graphs to see the tendency. We can see there is a positive relationship between the number of contacts and churn rate."
      ]
    },
    {
      "cell_type": "code",
      "metadata": {
        "id": "H9g1Do4_ekQ3",
        "colab": {
          "base_uri": "https://localhost:8080/",
          "height": 80
        },
        "outputId": "945670f9-83d0-462c-a352-a8aa216da5a3"
      },
      "source": [
        "%%bigquery --project=ba775-team-project\n",
        "SELECT ((SUM(Contacts_Count_12_mon * attrition_flag)-(SUM(Contacts_Count_12_mon) * SUM(attrition_flag)) / COUNT(*)))\n",
        "  / (SQRT(SUM(Contacts_Count_12_mon * Contacts_Count_12_mon)-(SUM(Contacts_Count_12_mon) * \n",
        "  SUM (Contacts_Count_12_mon)) / COUNT(*) ) * SQRT(SUM(attrition_flag * attrition_flag)\n",
        "  -(SUM(attrition_flag) * SUM(attrition_flag)) / COUNT(*))) AS corr\n",
        "FROM \n",
        "(\n",
        "  SELECT\n",
        "  Contacts_Count_12_mon,\n",
        "  CAST(Attrition_Flag = 'Attrited Customer' AS INT) AS attrition_flag\n",
        "  FROM ba775-team-project.bankchurners.bankchurners\n",
        ")"
      ],
      "execution_count": null,
      "outputs": [
        {
          "output_type": "execute_result",
          "data": {
            "text/html": [
              "<div>\n",
              "<style scoped>\n",
              "    .dataframe tbody tr th:only-of-type {\n",
              "        vertical-align: middle;\n",
              "    }\n",
              "\n",
              "    .dataframe tbody tr th {\n",
              "        vertical-align: top;\n",
              "    }\n",
              "\n",
              "    .dataframe thead th {\n",
              "        text-align: right;\n",
              "    }\n",
              "</style>\n",
              "<table border=\"1\" class=\"dataframe\">\n",
              "  <thead>\n",
              "    <tr style=\"text-align: right;\">\n",
              "      <th></th>\n",
              "      <th>corr</th>\n",
              "    </tr>\n",
              "  </thead>\n",
              "  <tbody>\n",
              "    <tr>\n",
              "      <th>0</th>\n",
              "      <td>0.204491</td>\n",
              "    </tr>\n",
              "  </tbody>\n",
              "</table>\n",
              "</div>"
            ],
            "text/plain": [
              "       corr\n",
              "0  0.204491"
            ]
          },
          "metadata": {},
          "execution_count": 32
        }
      ]
    },
    {
      "cell_type": "markdown",
      "metadata": {
        "id": "FO-HcYqEjMwE"
      },
      "source": [
        "The correlation coefficient of contacts and attrition flag shows that there is a positive relationship between the two rows."
      ]
    },
    {
      "cell_type": "markdown",
      "metadata": {
        "id": "kYqeM_j-ytOA"
      },
      "source": [
        "### **Question 11: How does time length as being our customer affect churn rate?**"
      ]
    },
    {
      "cell_type": "markdown",
      "metadata": {
        "id": "w40n_Ho0KFIh"
      },
      "source": [
        "We divide the number of attrited customers by the total number of customers group by the Months_on_book to see whether the time length as being our customer will affect the churn rate."
      ]
    },
    {
      "cell_type": "code",
      "metadata": {
        "id": "T08uNR0aip2-"
      },
      "source": [
        "%%bigquery Time_impact --project=ba775-team-project\n",
        "SELECT\n",
        "CASE\n",
        "      WHEN Months_on_Book>=10 AND Months_on_Book <20 then '10-19'\n",
        "      WHEN Months_on_Book>=20 AND Months_on_Book <30 then '20-29'\n",
        "      WHEN Months_on_Book>=30 AND Months_on_Book <40 then '30-39'\n",
        "      ELSE '>= 40'\n",
        "End as Months_on_Book,\n",
        "SUM(CAST(Attrition_Flag = 'Attrited Customer' AS int)) AS Churn_Customer,\n",
        "COUNT(*) AS Total_Customer,\n",
        "SUM(CAST(Attrition_Flag = 'Attrited Customer'AS int))/count(*)*100 AS Churn_Rate\n",
        "\n",
        "FROM `ba775-team-project.bankchurners.bankchurners`\n",
        "GROUP BY Months_on_Book\n",
        "ORDER BY Months_on_Book"
      ],
      "execution_count": null,
      "outputs": []
    },
    {
      "cell_type": "code",
      "metadata": {
        "id": "1WzGwrzjit8m",
        "colab": {
          "base_uri": "https://localhost:8080/",
          "height": 173
        },
        "outputId": "5204dc13-33f0-4f3b-b90a-358bae94797b"
      },
      "source": [
        "Time_impact"
      ],
      "execution_count": null,
      "outputs": [
        {
          "output_type": "execute_result",
          "data": {
            "text/html": [
              "<div>\n",
              "<style scoped>\n",
              "    .dataframe tbody tr th:only-of-type {\n",
              "        vertical-align: middle;\n",
              "    }\n",
              "\n",
              "    .dataframe tbody tr th {\n",
              "        vertical-align: top;\n",
              "    }\n",
              "\n",
              "    .dataframe thead th {\n",
              "        text-align: right;\n",
              "    }\n",
              "</style>\n",
              "<table border=\"1\" class=\"dataframe\">\n",
              "  <thead>\n",
              "    <tr style=\"text-align: right;\">\n",
              "      <th></th>\n",
              "      <th>Months_on_Book</th>\n",
              "      <th>Churn_Customer</th>\n",
              "      <th>Total_Customer</th>\n",
              "      <th>Churn_Rate</th>\n",
              "    </tr>\n",
              "  </thead>\n",
              "  <tbody>\n",
              "    <tr>\n",
              "      <th>0</th>\n",
              "      <td>10-19</td>\n",
              "      <td>43</td>\n",
              "      <td>309</td>\n",
              "      <td>13.915858</td>\n",
              "    </tr>\n",
              "    <tr>\n",
              "      <th>1</th>\n",
              "      <td>20-29</td>\n",
              "      <td>238</td>\n",
              "      <td>1611</td>\n",
              "      <td>14.773433</td>\n",
              "    </tr>\n",
              "    <tr>\n",
              "      <th>2</th>\n",
              "      <td>30-39</td>\n",
              "      <td>899</td>\n",
              "      <td>5391</td>\n",
              "      <td>16.675941</td>\n",
              "    </tr>\n",
              "    <tr>\n",
              "      <th>3</th>\n",
              "      <td>&gt;= 40</td>\n",
              "      <td>447</td>\n",
              "      <td>2816</td>\n",
              "      <td>15.873580</td>\n",
              "    </tr>\n",
              "  </tbody>\n",
              "</table>\n",
              "</div>"
            ],
            "text/plain": [
              "  Months_on_Book  Churn_Customer  Total_Customer  Churn_Rate\n",
              "0          10-19              43             309   13.915858\n",
              "1          20-29             238            1611   14.773433\n",
              "2          30-39             899            5391   16.675941\n",
              "3          >= 40             447            2816   15.873580"
            ]
          },
          "metadata": {},
          "execution_count": 34
        }
      ]
    },
    {
      "cell_type": "code",
      "metadata": {
        "id": "AofBZlKaivqw",
        "colab": {
          "base_uri": "https://localhost:8080/",
          "height": 636
        },
        "outputId": "a8bc6363-f2b3-4ee2-cffc-68e31297049e"
      },
      "source": [
        "Time_impact.plot(title = 'The relationship between time length as being our customer and churn rate', kind='bar', \n",
        "                 x='Months_on_Book', y='Churn_Rate', color = ['#fc8767', '#f6573f', '#b21218', '#dc2a25'],figsize=(9, 5));\n",
        "Time_impact.plot(kind='line', x='Months_on_Book', y='Churn_Rate',color = '#b21218');"
      ],
      "execution_count": null,
      "outputs": [
        {
          "output_type": "display_data",
          "data": {
            "image/png": "[encoded data removed]",
            "text/plain": [
              "<Figure size 648x360 with 1 Axes>"
            ]
          },
          "metadata": {
            "needs_background": "light"
          }
        },
        {
          "output_type": "display_data",
          "data": {
            "image/png": "[encoded data removed]",
            "text/plain": [
              "<Figure size 432x288 with 1 Axes>"
            ]
          },
          "metadata": {
            "needs_background": "light"
          }
        }
      ]
    },
    {
      "cell_type": "markdown",
      "metadata": {
        "id": "oLQztvwqix1u"
      },
      "source": [
        "Create graphs to see the tendency. We can see the time lengh does affect the churn rate below 39 months, however, it seems to be less influential when it's longer 40 months."
      ]
    },
    {
      "cell_type": "code",
      "metadata": {
        "id": "SxoAb_Exizll",
        "colab": {
          "base_uri": "https://localhost:8080/",
          "height": 80
        },
        "outputId": "8ed8ef72-e2a4-4ef9-ea75-aa1fbcdda64e"
      },
      "source": [
        "%%bigquery --project=ba775-team-project\n",
        "SELECT ((SUM(months_on_book * attrition_flag)-(SUM(months_on_book) * SUM(attrition_flag)) / COUNT(*)))\n",
        "  / (SQRT(SUM(months_on_book * months_on_book)-(SUM(months_on_book) * SUM (months_on_book)) / COUNT(*) ) \n",
        "  * SQRT(SUM(attrition_flag * attrition_flag)\n",
        "  -(SUM(attrition_flag) * SUM(attrition_flag)) / COUNT(*))) AS corr\n",
        "FROM \n",
        "(\n",
        "  SELECT \n",
        "  months_on_book,\n",
        "  CAST(Attrition_Flag = 'Attrited Customer' AS INT) AS attrition_flag\n",
        "  FROM ba775-team-project.bankchurners.bankchurners\n",
        ")"
      ],
      "execution_count": null,
      "outputs": [
        {
          "output_type": "execute_result",
          "data": {
            "text/html": [
              "<div>\n",
              "<style scoped>\n",
              "    .dataframe tbody tr th:only-of-type {\n",
              "        vertical-align: middle;\n",
              "    }\n",
              "\n",
              "    .dataframe tbody tr th {\n",
              "        vertical-align: top;\n",
              "    }\n",
              "\n",
              "    .dataframe thead th {\n",
              "        text-align: right;\n",
              "    }\n",
              "</style>\n",
              "<table border=\"1\" class=\"dataframe\">\n",
              "  <thead>\n",
              "    <tr style=\"text-align: right;\">\n",
              "      <th></th>\n",
              "      <th>corr</th>\n",
              "    </tr>\n",
              "  </thead>\n",
              "  <tbody>\n",
              "    <tr>\n",
              "      <th>0</th>\n",
              "      <td>0.013687</td>\n",
              "    </tr>\n",
              "  </tbody>\n",
              "</table>\n",
              "</div>"
            ],
            "text/plain": [
              "       corr\n",
              "0  0.013687"
            ]
          },
          "metadata": {},
          "execution_count": 36
        }
      ]
    },
    {
      "cell_type": "markdown",
      "metadata": {
        "id": "RNRLxu8Ci3MW"
      },
      "source": [
        "Below is the correlation between months on book and whether it is a churned customer. Similar to the results of the graphs, there is no significant correlation between the two rows. "
      ]
    },
    {
      "cell_type": "markdown",
      "metadata": {
        "id": "5FBSSl2KyuXy"
      },
      "source": [
        "### **Question 12: How does the number of other existing service affect churn rate?**"
      ]
    },
    {
      "cell_type": "code",
      "metadata": {
        "id": "0bNigksZEUTe"
      },
      "source": [
        "%%bigquery Relation_Impact --project=ba775-team-project\n",
        "SELECT \n",
        "  Total_Relationship_Count AS Total_Products, \n",
        "  SUM(CAST(Attrition_Flag = 'Attrited Customer'AS int)) AS Churned_Accounts,\n",
        "  COUNT(*) AS Total_Accounts, \n",
        "  SUM(CAST(Attrition_Flag = 'Attrited Customer'AS int))/count(*)*100 AS Churn_Rate,\n",
        "FROM `ba775-team-project.bankchurners.bankchurners`\n",
        "GROUP BY Total_Relationship_Count\n",
        "ORDER BY Total_Relationship_Count;"
      ],
      "execution_count": null,
      "outputs": []
    },
    {
      "cell_type": "markdown",
      "metadata": {
        "id": "elV-VZWXEgcq"
      },
      "source": [
        "As seen in the table below, customers in the 1-2 product category have the highest churn rates whereas churn rates are observed to be lower for customers with higher number of products."
      ]
    },
    {
      "cell_type": "code",
      "metadata": {
        "id": "DlC4iPVpo3zI",
        "colab": {
          "base_uri": "https://localhost:8080/",
          "height": 347
        },
        "outputId": "d4a3aada-a3e5-43c8-d1e1-880a38f3ce35"
      },
      "source": [
        "Relation_Impact.plot(title = 'Relationship Between Number of Products & Churn Rates',kind='bar', x='Total_Products', y='Churn_Rate',color = ['#5ba3cf','#8fc1de','#3181bd','#125ca4','#8fc3de'], figsize=(9, 5));"
      ],
      "execution_count": null,
      "outputs": [
        {
          "output_type": "display_data",
          "data": {
            "image/png": "[encoded data removed]",
            "text/plain": [
              "<Figure size 648x360 with 1 Axes>"
            ]
          },
          "metadata": {
            "needs_background": "light"
          }
        }
      ]
    },
    {
      "cell_type": "code",
      "metadata": {
        "id": "tZKykfTJEtut",
        "colab": {
          "base_uri": "https://localhost:8080/",
          "height": 235
        },
        "outputId": "a93c7f55-9b30-49c1-98de-40c92570f3b5"
      },
      "source": [
        "Relation_Impact"
      ],
      "execution_count": null,
      "outputs": [
        {
          "output_type": "execute_result",
          "data": {
            "text/html": [
              "<div>\n",
              "<style scoped>\n",
              "    .dataframe tbody tr th:only-of-type {\n",
              "        vertical-align: middle;\n",
              "    }\n",
              "\n",
              "    .dataframe tbody tr th {\n",
              "        vertical-align: top;\n",
              "    }\n",
              "\n",
              "    .dataframe thead th {\n",
              "        text-align: right;\n",
              "    }\n",
              "</style>\n",
              "<table border=\"1\" class=\"dataframe\">\n",
              "  <thead>\n",
              "    <tr style=\"text-align: right;\">\n",
              "      <th></th>\n",
              "      <th>Total_Products</th>\n",
              "      <th>Churned_Accounts</th>\n",
              "      <th>Total_Accounts</th>\n",
              "      <th>Churn_Rate</th>\n",
              "    </tr>\n",
              "  </thead>\n",
              "  <tbody>\n",
              "    <tr>\n",
              "      <th>0</th>\n",
              "      <td>1</td>\n",
              "      <td>233</td>\n",
              "      <td>910</td>\n",
              "      <td>25.604396</td>\n",
              "    </tr>\n",
              "    <tr>\n",
              "      <th>1</th>\n",
              "      <td>2</td>\n",
              "      <td>346</td>\n",
              "      <td>1243</td>\n",
              "      <td>27.835881</td>\n",
              "    </tr>\n",
              "    <tr>\n",
              "      <th>2</th>\n",
              "      <td>3</td>\n",
              "      <td>400</td>\n",
              "      <td>2305</td>\n",
              "      <td>17.353579</td>\n",
              "    </tr>\n",
              "    <tr>\n",
              "      <th>3</th>\n",
              "      <td>4</td>\n",
              "      <td>225</td>\n",
              "      <td>1912</td>\n",
              "      <td>11.767782</td>\n",
              "    </tr>\n",
              "    <tr>\n",
              "      <th>4</th>\n",
              "      <td>5</td>\n",
              "      <td>227</td>\n",
              "      <td>1891</td>\n",
              "      <td>12.004231</td>\n",
              "    </tr>\n",
              "    <tr>\n",
              "      <th>5</th>\n",
              "      <td>6</td>\n",
              "      <td>196</td>\n",
              "      <td>1866</td>\n",
              "      <td>10.503751</td>\n",
              "    </tr>\n",
              "  </tbody>\n",
              "</table>\n",
              "</div>"
            ],
            "text/plain": [
              "   Total_Products  Churned_Accounts  Total_Accounts  Churn_Rate\n",
              "0               1               233             910   25.604396\n",
              "1               2               346            1243   27.835881\n",
              "2               3               400            2305   17.353579\n",
              "3               4               225            1912   11.767782\n",
              "4               5               227            1891   12.004231\n",
              "5               6               196            1866   10.503751"
            ]
          },
          "metadata": {},
          "execution_count": 39
        }
      ]
    },
    {
      "cell_type": "markdown",
      "metadata": {
        "id": "o7EMZzBrEv8n"
      },
      "source": [
        "Correlation analysis between total number of products and churn rates: -0.15 which shows a negative but weak correlation between the two variables."
      ]
    },
    {
      "cell_type": "code",
      "metadata": {
        "id": "3qX4BoGSEyrV",
        "colab": {
          "base_uri": "https://localhost:8080/",
          "height": 80
        },
        "outputId": "faa1a0b7-aae8-4c6d-a4be-dc8aba6a1f7f"
      },
      "source": [
        "%%bigquery --project=ba775-team-project\n",
        "SELECT ((SUM(Total_Relationship_Count * attrition_flag)\n",
        "  -(SUM(Total_Relationship_Count) * SUM(attrition_flag)) / COUNT(*))) / (SQRT(SUM(Total_Relationship_Count * Total_Relationship_Count) \n",
        "  -(SUM(Total_Relationship_Count) * SUM (Total_Relationship_Count)) / COUNT(*) ) * SQRT(SUM(attrition_flag * attrition_flag)\n",
        "  -(SUM(attrition_flag) * SUM(attrition_flag)) / COUNT(*))) AS corr\n",
        "FROM\n",
        "(SELECT \n",
        "  Total_Relationship_Count,\n",
        "  CAST(Attrition_Flag = 'Attrited Customer' AS INT) AS attrition_flag\n",
        "  FROM ba775-team-project.bankchurners.bankchurners)"
      ],
      "execution_count": null,
      "outputs": [
        {
          "output_type": "execute_result",
          "data": {
            "text/html": [
              "<div>\n",
              "<style scoped>\n",
              "    .dataframe tbody tr th:only-of-type {\n",
              "        vertical-align: middle;\n",
              "    }\n",
              "\n",
              "    .dataframe tbody tr th {\n",
              "        vertical-align: top;\n",
              "    }\n",
              "\n",
              "    .dataframe thead th {\n",
              "        text-align: right;\n",
              "    }\n",
              "</style>\n",
              "<table border=\"1\" class=\"dataframe\">\n",
              "  <thead>\n",
              "    <tr style=\"text-align: right;\">\n",
              "      <th></th>\n",
              "      <th>corr</th>\n",
              "    </tr>\n",
              "  </thead>\n",
              "  <tbody>\n",
              "    <tr>\n",
              "      <th>0</th>\n",
              "      <td>-0.150005</td>\n",
              "    </tr>\n",
              "  </tbody>\n",
              "</table>\n",
              "</div>"
            ],
            "text/plain": [
              "       corr\n",
              "0 -0.150005"
            ]
          },
          "metadata": {},
          "execution_count": 40
        }
      ]
    },
    {
      "cell_type": "markdown",
      "metadata": {
        "id": "aWnEIquRyvxO"
      },
      "source": [
        "### **Question 13: How does transaction amount affect churn rate?**"
      ]
    },
    {
      "cell_type": "markdown",
      "metadata": {
        "id": "VXX15CwpKvpz"
      },
      "source": [
        "We divide the number of attrited customers by the total number of customers group by the total transcation amount to see whether the amount our customer spend will affect the churn rate."
      ]
    },
    {
      "cell_type": "code",
      "metadata": {
        "id": "_9kEYWZMleTN"
      },
      "source": [
        "%%bigquery Total_Trans_Amt --project=ba775-team-project\n",
        "/* transacation amount tendency */\n",
        "SELECT sum(CAST(Attrition_Flag = 'Attrited Customer'as int)) as closed_account,count(*) as total_account,sum(CAST(Attrition_Flag = 'Attrited Customer'as int))/count(*)*100 as Churn_rate,\n",
        "CASE\n",
        "      WHEN Total_Trans_Amt <4000 then '0-4000'\n",
        "      WHEN Total_Trans_Amt <8000 then '4000-8000'\n",
        "      WHEN Total_Trans_Amt <12000 then '8000-12000'\n",
        "      WHEN Total_Trans_Amt <16000 then '12000-16000'\n",
        "      ELSE '16000-20000'\n",
        "End as Total_Trans_Amt\n",
        "    \n",
        "FROM `ba775-team-project.bankchurners.bankchurners`\n",
        "GROUP BY Total_Trans_Amt"
      ],
      "execution_count": null,
      "outputs": []
    },
    {
      "cell_type": "code",
      "metadata": {
        "id": "4oCIPz5-wGED",
        "colab": {
          "base_uri": "https://localhost:8080/",
          "height": 204
        },
        "outputId": "f0730065-79ee-43e6-bef4-36b2a56cae41"
      },
      "source": [
        "Total_Trans_Amt"
      ],
      "execution_count": null,
      "outputs": [
        {
          "output_type": "execute_result",
          "data": {
            "text/html": [
              "<div>\n",
              "<style scoped>\n",
              "    .dataframe tbody tr th:only-of-type {\n",
              "        vertical-align: middle;\n",
              "    }\n",
              "\n",
              "    .dataframe tbody tr th {\n",
              "        vertical-align: top;\n",
              "    }\n",
              "\n",
              "    .dataframe thead th {\n",
              "        text-align: right;\n",
              "    }\n",
              "</style>\n",
              "<table border=\"1\" class=\"dataframe\">\n",
              "  <thead>\n",
              "    <tr style=\"text-align: right;\">\n",
              "      <th></th>\n",
              "      <th>closed_account</th>\n",
              "      <th>total_account</th>\n",
              "      <th>Churn_rate</th>\n",
              "      <th>Total_Trans_Amt</th>\n",
              "    </tr>\n",
              "  </thead>\n",
              "  <tbody>\n",
              "    <tr>\n",
              "      <th>0</th>\n",
              "      <td>1318</td>\n",
              "      <td>5287</td>\n",
              "      <td>24.929071</td>\n",
              "      <td>0-4000</td>\n",
              "    </tr>\n",
              "    <tr>\n",
              "      <th>1</th>\n",
              "      <td>156</td>\n",
              "      <td>3751</td>\n",
              "      <td>4.158891</td>\n",
              "      <td>4000-8000</td>\n",
              "    </tr>\n",
              "    <tr>\n",
              "      <th>2</th>\n",
              "      <td>153</td>\n",
              "      <td>343</td>\n",
              "      <td>44.606414</td>\n",
              "      <td>8000-12000</td>\n",
              "    </tr>\n",
              "    <tr>\n",
              "      <th>3</th>\n",
              "      <td>0</td>\n",
              "      <td>657</td>\n",
              "      <td>0.000000</td>\n",
              "      <td>12000-16000</td>\n",
              "    </tr>\n",
              "    <tr>\n",
              "      <th>4</th>\n",
              "      <td>0</td>\n",
              "      <td>89</td>\n",
              "      <td>0.000000</td>\n",
              "      <td>16000-20000</td>\n",
              "    </tr>\n",
              "  </tbody>\n",
              "</table>\n",
              "</div>"
            ],
            "text/plain": [
              "   closed_account  total_account  Churn_rate Total_Trans_Amt\n",
              "0            1318           5287   24.929071          0-4000\n",
              "1             156           3751    4.158891       4000-8000\n",
              "2             153            343   44.606414      8000-12000\n",
              "3               0            657    0.000000     12000-16000\n",
              "4               0             89    0.000000     16000-20000"
            ]
          },
          "metadata": {},
          "execution_count": 42
        }
      ]
    },
    {
      "cell_type": "markdown",
      "metadata": {
        "id": "HPUDKdTtwzXX"
      },
      "source": [
        "Create graphs to see the tendency. We can see the customers with transacation amount below 4k tend to have a high churn rate. and customers with transcation amount between 8k to 12K have the highest churn rate. Moreover customers with transcation amount above 12k tend to stuck with us."
      ]
    },
    {
      "cell_type": "code",
      "metadata": {
        "id": "r6alKv2oyT3A",
        "colab": {
          "base_uri": "https://localhost:8080/",
          "height": 725
        },
        "outputId": "35ca1e19-c83a-4d00-863b-30091e3e9dfc"
      },
      "source": [
        "Total_Trans_Amt.plot(title = 'The relationship between transcation amount and churn rate', kind='bar', \n",
        "                       x='Total_Trans_Amt', y='Churn_rate', \n",
        "                       color = ['#9acd32','#bbf90f','#aaff32','#ffff14','#ffff00'], figsize=(9, 5));\n",
        "Total_Trans_Amt.plot(kind='line', x='Total_Trans_Amt', y='Churn_rate', color = '#aaff32', figsize=(9, 5));"
      ],
      "execution_count": null,
      "outputs": [
        {
          "output_type": "display_data",
          "data": {
            "image/png": "[encoded data removed]",
            "text/plain": [
              "<Figure size 648x360 with 1 Axes>"
            ]
          },
          "metadata": {
            "needs_background": "light"
          }
        },
        {
          "output_type": "display_data",
          "data": {
            "image/png": "[encoded data removed]",
            "text/plain": [
              "<Figure size 648x360 with 1 Axes>"
            ]
          },
          "metadata": {
            "needs_background": "light"
          }
        }
      ]
    },
    {
      "cell_type": "markdown",
      "metadata": {
        "id": "_OKUfe-Dyw8T"
      },
      "source": [
        "### **Question 14: How does revolving balance affect churn rate?**"
      ]
    },
    {
      "cell_type": "markdown",
      "metadata": {
        "id": "p-t1uqIcK8OP"
      },
      "source": [
        "We divide the number of attrited customers by the total number of customers group by the total revolving balance to see whether the revolving balance will affect the churn rate."
      ]
    },
    {
      "cell_type": "code",
      "metadata": {
        "id": "fbN1gCTTlhf6"
      },
      "source": [
        "%%bigquery Total_Revolving_Bal --project=ba775-team-project\n",
        "/* revolving amount tendency */\n",
        "SELECT sum(CAST(Attrition_Flag = 'Attrited Customer'as int)) as closed_account,count(*) as total_account,sum(CAST(Attrition_Flag = 'Attrited Customer'as int))/count(*)*100 as Churn_rate,\n",
        "CASE\n",
        "      WHEN Total_Revolving_Bal <500 then  '0-500'\n",
        "      WHEN Total_Revolving_Bal <1000 then '0500-1000'\n",
        "      WHEN Total_Revolving_Bal <1500 then '1000-1500'\n",
        "      WHEN Total_Revolving_Bal <2000 then '1500-2000'\n",
        "      ELSE '2000-2500'\n",
        "End as Total_Revolving_Bal\n",
        "    \n",
        "FROM `ba775-team-project.bankchurners.bankchurners`\n",
        "GROUP BY Total_Revolving_Bal\n",
        "ORDER BY Total_Revolving_Bal"
      ],
      "execution_count": null,
      "outputs": []
    },
    {
      "cell_type": "code",
      "metadata": {
        "id": "bhNpeSSkwrTU",
        "colab": {
          "base_uri": "https://localhost:8080/",
          "height": 204
        },
        "outputId": "f77ed06f-59b4-416b-b24e-fb5244b63e5d"
      },
      "source": [
        "Total_Revolving_Bal"
      ],
      "execution_count": null,
      "outputs": [
        {
          "output_type": "execute_result",
          "data": {
            "text/html": [
              "<div>\n",
              "<style scoped>\n",
              "    .dataframe tbody tr th:only-of-type {\n",
              "        vertical-align: middle;\n",
              "    }\n",
              "\n",
              "    .dataframe tbody tr th {\n",
              "        vertical-align: top;\n",
              "    }\n",
              "\n",
              "    .dataframe thead th {\n",
              "        text-align: right;\n",
              "    }\n",
              "</style>\n",
              "<table border=\"1\" class=\"dataframe\">\n",
              "  <thead>\n",
              "    <tr style=\"text-align: right;\">\n",
              "      <th></th>\n",
              "      <th>closed_account</th>\n",
              "      <th>total_account</th>\n",
              "      <th>Churn_rate</th>\n",
              "      <th>Total_Revolving_Bal</th>\n",
              "    </tr>\n",
              "  </thead>\n",
              "  <tbody>\n",
              "    <tr>\n",
              "      <th>0</th>\n",
              "      <td>998</td>\n",
              "      <td>2595</td>\n",
              "      <td>38.458574</td>\n",
              "      <td>0-500</td>\n",
              "    </tr>\n",
              "    <tr>\n",
              "      <th>1</th>\n",
              "      <td>163</td>\n",
              "      <td>1316</td>\n",
              "      <td>12.386018</td>\n",
              "      <td>0500-1000</td>\n",
              "    </tr>\n",
              "    <tr>\n",
              "      <th>2</th>\n",
              "      <td>103</td>\n",
              "      <td>2257</td>\n",
              "      <td>4.563580</td>\n",
              "      <td>1000-1500</td>\n",
              "    </tr>\n",
              "    <tr>\n",
              "      <th>3</th>\n",
              "      <td>108</td>\n",
              "      <td>2287</td>\n",
              "      <td>4.722344</td>\n",
              "      <td>1500-2000</td>\n",
              "    </tr>\n",
              "    <tr>\n",
              "      <th>4</th>\n",
              "      <td>255</td>\n",
              "      <td>1672</td>\n",
              "      <td>15.251196</td>\n",
              "      <td>2000-2500</td>\n",
              "    </tr>\n",
              "  </tbody>\n",
              "</table>\n",
              "</div>"
            ],
            "text/plain": [
              "   closed_account  total_account  Churn_rate Total_Revolving_Bal\n",
              "0             998           2595   38.458574               0-500\n",
              "1             163           1316   12.386018           0500-1000\n",
              "2             103           2257    4.563580           1000-1500\n",
              "3             108           2287    4.722344           1500-2000\n",
              "4             255           1672   15.251196           2000-2500"
            ]
          },
          "metadata": {},
          "execution_count": 45
        }
      ]
    },
    {
      "cell_type": "markdown",
      "metadata": {
        "id": "EfaaFyJdxyeO"
      },
      "source": [
        "Create graphs to see the tendency. We can see the revolving balance does affect the churn rate. customers with very low revolving balance tends to have a very high churn rate."
      ]
    },
    {
      "cell_type": "code",
      "metadata": {
        "id": "HAJu_RAeyyJw",
        "colab": {
          "base_uri": "https://localhost:8080/",
          "height": 715
        },
        "outputId": "0793cc50-16b1-4d72-eda5-999b15b5e438"
      },
      "source": [
        "Total_Revolving_Bal.plot(title = 'The relationship between revolving balance and churn rate', kind='bar', \n",
        "                       x='Total_Revolving_Bal', y='Churn_rate', \n",
        "                       color = ['#d0d0e6','#bcbcdb','#a7a5cf','#928ec8','#7f77b6'], figsize=(9, 5));\n",
        "Total_Revolving_Bal.plot(kind='line', x='Total_Revolving_Bal', y='Churn_rate', color = '#6a3d9a', figsize=(9, 5));"
      ],
      "execution_count": null,
      "outputs": [
        {
          "output_type": "display_data",
          "data": {
            "image/png": "[encoded data removed]",
            "text/plain": [
              "<Figure size 648x360 with 1 Axes>"
            ]
          },
          "metadata": {
            "needs_background": "light"
          }
        },
        {
          "output_type": "display_data",
          "data": {
            "image/png": "[encoded data removed]",
            "text/plain": [
              "<Figure size 648x360 with 1 Axes>"
            ]
          },
          "metadata": {
            "needs_background": "light"
          }
        }
      ]
    },
    {
      "cell_type": "markdown",
      "metadata": {
        "id": "0yhtwJiMIccd"
      },
      "source": [
        "# **Conclusions**"
      ]
    },
    {
      "cell_type": "markdown",
      "metadata": {
        "id": "aVuN9l3PT6xy"
      },
      "source": [
        "Through churn analysis, we found that customers in middle age, with doctorate degrees, holding platinum(highest category) cards, having extremely low or high income, and having extremely high or low credit limit have high tendency to churn. The manager should spend more efforts on customers retention for those with these attributes. \n",
        "\n",
        "In addition, customers with increased engagement with sales representative, customers with few other bank products, and customers with low revolving balance tend to have high churn rate. We recommend the manager to provide promotion bundles to sell more bank products to increase loyalty, prioritize customers with low balance, and optimize customer service efficiency and quality to reduce churn rate.\n",
        "\n",
        "While the results of this analysis produced many interesting insights, there are still some limitations in this study. For example, many of the correlation coefficients as mentioned in the analysis are close to zero, which show that there is no significant relationship between the variables and churn rate. This may be because the relationship between the variables and churn rate is non-linear. \n",
        "\n",
        "\n"
      ]
    },
    {
      "cell_type": "markdown",
      "metadata": {
        "id": "KnW17rquWexP"
      },
      "source": [
        "# **Future Studies**"
      ]
    },
    {
      "cell_type": "markdown",
      "metadata": {
        "id": "H9gS6O3TWj0i"
      },
      "source": [
        "The text or audio analysis can be performed to study why customer service leads to high churn rate. \n",
        "\n",
        "Also, a machine learning model can be built with features of age, educational level, card type, income, credit limit, contacts with sales reprepresentative, holdings of other bank products, and revolving balance. With this machine learning model, the manager can predict whether certain customer will tend to attrite in order to prevent attrition beforehead and reduce customer rentention cost."
      ]
    }
  ]
}