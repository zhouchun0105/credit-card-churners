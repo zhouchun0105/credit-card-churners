{
  "nbformat": 4,
  "nbformat_minor": 0,
  "metadata": {
    "colab": {
      "name": "SUBMIT: creditcard-churners-team1.ipynb",
      "provenance": [],
      "collapsed_sections": [],
      "toc_visible": true,
      "include_colab_link": true
    },
    "kernelspec": {
      "name": "python3",
      "display_name": "Python 3"
    },
    "language_info": {
      "name": "python"
    }
  },
  "cells": [
    {
      "cell_type": "markdown",
      "metadata": {
        "id": "view-in-github",
        "colab_type": "text"
      },
      "source": [
        "<a href=\"https://colab.research.google.com/github/zhouchun0105/credit-card-churners/blob/main/SUBMIT_creditcard_churners_team1.ipynb\" target=\"_parent\"><img src=\"https://colab.research.google.com/assets/colab-badge.svg\" alt=\"Open In Colab\"/></a>"
      ]
    },
    {
      "cell_type": "markdown",
      "metadata": {
        "id": "3t25mxp-rh3j"
      },
      "source": [
        "# **Credit Card Customer Churn Analysis**"
      ]
    },
    {
      "cell_type": "markdown",
      "metadata": {
        "id": "YZEBJkkurplZ"
      },
      "source": [
        "Team 1, Afternoon Session\n",
        "\n",
        "Ana Maharjan, Ann Lu, Chun Zhou, Phyllis Cao, Yuhan Wang, Zijing Wang\n",
        "\n",
        "2021/08/26\n",
        "\n",
        "\n",
        "\n"
      ]
    },
    {
      "cell_type": "markdown",
      "metadata": {
        "id": "zulwSLiLYmHt"
      },
      "source": [
        "# **Data Source**"
      ]
    },
    {
      "cell_type": "markdown",
      "metadata": {
        "id": "iNd2ufSSYokl"
      },
      "source": [
        "The dataset is from:\n",
        "LEAPS https://leapsapp.analyttica.com/cases/11\n",
        "\n",
        "(Data set was created for a case study on LEAPS)\n",
        "\n",
        "Kaggle URL (for data download):\n",
        ": https://www.kaggle.com/sakshigoyal7/credit-card-customers"
      ]
    },
    {
      "cell_type": "markdown",
      "metadata": {
        "id": "RMlYsvGQ2eaQ"
      },
      "source": [
        "# **Project Objective**"
      ]
    },
    {
      "cell_type": "markdown",
      "metadata": {
        "id": "LnBke0-R2keb"
      },
      "source": [
        "This project investigates the relationship between churn rate and factors such as customer attributes, customer activities, credit card attributes and bank services to determine strategies to hedge customer loss and reduce churn rate."
      ]
    },
    {
      "cell_type": "markdown",
      "metadata": {
        "id": "IHqOosRxhK5q"
      },
      "source": [
        "# **Introduction**"
      ]
    },
    {
      "cell_type": "markdown",
      "metadata": {
        "id": "aSKOtv6YhNh9"
      },
      "source": [
        "Similar to many other services, banks rely on returning customers in order to be successful. One measure of customer retention is churn rate, which is the rate at which customers stop doing business with an entity. The ability to maintain low churn rates is essential for financial success. With lower churn rates, banks can also reduce customer aquisition cost as well as maintain stable cash flow and market recognition."
      ]
    },
    {
      "cell_type": "markdown",
      "metadata": {
        "id": "9ngs5TTvZQrb"
      },
      "source": [
        "#**Preliminary**"
      ]
    },
    {
      "cell_type": "markdown",
      "metadata": {
        "id": "bFQWTUWGeTpa"
      },
      "source": [
        "## **Description of Data**"
      ]
    },
    {
      "cell_type": "markdown",
      "metadata": {
        "id": "R368iixlDcWi"
      },
      "source": [
        "This data set provides information on the characteristics of credit card customers, products, and services including demographics, card activities, card features, and service features. It has 21 features and 10128 rows. The detailed feature names and their explanations are shown below:"
      ]
    },
    {
      "cell_type": "markdown",
      "metadata": {
        "id": "Xp6trzQNhZrs"
      },
      "source": [
        "*CLIENTNUM*: Client number. Unique identifier for the customer holding the account\n",
        "\n",
        "*Attrition_Flag*: customer activity variable - if the account is closed then 1 else 0\n",
        "\n",
        "*Customer_Age*: Demographic variable - Customer's Age in Years\n",
        "\n",
        "*Gender*: Demographic variable - M=Male, F=Female\n",
        "\n",
        "*Dependent_count*: Demographic variable - Number of dependents\n",
        "\n",
        "*Education_Level*: Demographic variable - Educational Qualification of the account holder (example: high school, college graduate, etc.)\n",
        "\n",
        "*Marital_Status*: Demographic variable - Married, Single, Divorced, Unknown\n",
        "\n",
        "*Income_Category*: Demographic variable - Annual Income Category of the account holder (<  40𝐾,\n",
        "40\n",
        "K\n",
        ",\n",
        " 40K - 60K,  60𝐾−\n",
        "60\n",
        "K\n",
        "−\n",
        " 80K,  80𝐾−\n",
        "80\n",
        "K\n",
        "−\n",
        " 120K, > $120K, Unknown)\n",
        "\n",
        "*Card_Category*: Product Variable - Type of Card (Blue, Silver, Gold, Platinum)\n",
        "\n",
        "*Months_on_book*: Period of relationship with bank\n",
        "\n",
        "*Total_Relationship_Count*: Total no. of products held by the customer\n",
        "\n",
        "*Months_Inactive_12_mon*: No. of months inactive in the last 12 months\n",
        "\n",
        "*Contacts_Count_12_mon*: No. of Contacts in the last 12 months\n",
        "\n",
        "*Credit_Limit*: Credit Limit on the Credit Card\n",
        "\n",
        "*Total_Revolving_Bal*: Total Revolving Balance on the Credit Card\n",
        "\n",
        "*Avg_Open_To_Buy*: Open to Buy Credit Line (Average of last 12 months)\n",
        "\n",
        "*Total_Amt_Chng_Q4_Q1*: Change in Transaction Amount (Q4 over Q1)\n",
        "\n",
        "*Total_Trans_Amt*: Total Transaction Amount (Last 12 months)\n",
        "\n",
        "*Total_Trans_Ct*: Total Transaction Count (Last 12 months)\n",
        "\n",
        "*Total_Ct_Chng_Q4_Q1*: Change in Transaction Count (Q4 over Q1)\n",
        "\n",
        "*Avg_Utilization_Ratio*: Average Card Utilization Ratio"
      ]
    },
    {
      "cell_type": "markdown",
      "metadata": {
        "id": "wdMknyoTBSaU"
      },
      "source": [
        "## **Data Preview**"
      ]
    },
    {
      "cell_type": "markdown",
      "metadata": {
        "id": "3UBxtIzRZaod"
      },
      "source": [
        "We first connect google colab with the Bigquery dataset. And we also import packages for later use."
      ]
    },
    {
      "cell_type": "code",
      "metadata": {
        "id": "CAuPh33xcc8J"
      },
      "source": [
        "from google.colab import auth\n",
        "auth.authenticate_user()"
      ],
      "execution_count": 1,
      "outputs": []
    },
    {
      "cell_type": "code",
      "metadata": {
        "id": "nRy5KzG2ZrPy"
      },
      "source": [
        "from IPython.display import Image"
      ],
      "execution_count": 2,
      "outputs": []
    },
    {
      "cell_type": "markdown",
      "metadata": {
        "id": "mw1t1PfqZyse"
      },
      "source": [
        "Then we take a preview of the dataset.\n",
        "\n",
        "(Note: The formatting issue in the output is caused by the Income_Category column due to Github deficiency.)"
      ]
    },
    {
      "cell_type": "code",
      "metadata": {
        "colab": {
          "base_uri": "https://localhost:8080/",
          "height": 545
        },
        "id": "-l5xKc9288YM",
        "outputId": "addd2d13-df6a-42e2-a5d8-96c1b123f501"
      },
      "source": [
        "%%bigquery --project=ba775-team-project\n",
        "SELECT *\n",
        "FROM `ba775-team-project.bankchurners.bankchurners`\n",
        "LIMIT 10;"
      ],
      "execution_count": 3,
      "outputs": [
        {
          "output_type": "execute_result",
          "data": {
            "text/html": [
              "<div>\n",
              "<style scoped>\n",
              "    .dataframe tbody tr th:only-of-type {\n",
              "        vertical-align: middle;\n",
              "    }\n",
              "\n",
              "    .dataframe tbody tr th {\n",
              "        vertical-align: top;\n",
              "    }\n",
              "\n",
              "    .dataframe thead th {\n",
              "        text-align: right;\n",
              "    }\n",
              "</style>\n",
              "<table border=\"1\" class=\"dataframe\">\n",
              "  <thead>\n",
              "    <tr style=\"text-align: right;\">\n",
              "      <th></th>\n",
              "      <th>CLIENTNUM</th>\n",
              "      <th>Attrition_Flag</th>\n",
              "      <th>Customer_Age</th>\n",
              "      <th>Gender</th>\n",
              "      <th>Dependent_count</th>\n",
              "      <th>Education_Level</th>\n",
              "      <th>Marital_Status</th>\n",
              "      <th>Income_Category</th>\n",
              "      <th>Card_Category</th>\n",
              "      <th>Months_on_book</th>\n",
              "      <th>Total_Relationship_Count</th>\n",
              "      <th>Months_Inactive_12_mon</th>\n",
              "      <th>Contacts_Count_12_mon</th>\n",
              "      <th>Credit_Limit</th>\n",
              "      <th>Total_Revolving_Bal</th>\n",
              "      <th>Avg_Open_To_Buy</th>\n",
              "      <th>Total_Amt_Chng_Q4_Q1</th>\n",
              "      <th>Total_Trans_Amt</th>\n",
              "      <th>Total_Trans_Ct</th>\n",
              "      <th>Total_Ct_Chng_Q4_Q1</th>\n",
              "      <th>Avg_Utilization_Ratio</th>\n",
              "      <th>Naive_Bayes_Classifier_Attrition_Flag_Card_Category_Contacts_Count_12_mon_Dependent_count_Education_Level_Months_Inactive_12_mon_1</th>\n",
              "      <th>Naive_Bayes_Classifier_Attrition_Flag_Card_Category_Contacts_Count_12_mon_Dependent_count_Education_Level_Months_Inactive_12_mon_2</th>\n",
              "    </tr>\n",
              "  </thead>\n",
              "  <tbody>\n",
              "    <tr>\n",
              "      <th>0</th>\n",
              "      <td>826077033</td>\n",
              "      <td>Attrited Customer</td>\n",
              "      <td>46</td>\n",
              "      <td>F</td>\n",
              "      <td>2</td>\n",
              "      <td>Unknown</td>\n",
              "      <td>Married</td>\n",
              "      <td>Less than $40K</td>\n",
              "      <td>Blue</td>\n",
              "      <td>42</td>\n",
              "      <td>1</td>\n",
              "      <td>0</td>\n",
              "      <td>4</td>\n",
              "      <td>2002.0</td>\n",
              "      <td>0</td>\n",
              "      <td>2002.0</td>\n",
              "      <td>0.803</td>\n",
              "      <td>2423</td>\n",
              "      <td>39</td>\n",
              "      <td>0.857</td>\n",
              "      <td>0.000</td>\n",
              "      <td>0.984680</td>\n",
              "      <td>0.01532</td>\n",
              "    </tr>\n",
              "    <tr>\n",
              "      <th>1</th>\n",
              "      <td>709918158</td>\n",
              "      <td>Existing Customer</td>\n",
              "      <td>43</td>\n",
              "      <td>M</td>\n",
              "      <td>3</td>\n",
              "      <td>High School</td>\n",
              "      <td>Married</td>\n",
              "      <td>$80K - $120K</td>\n",
              "      <td>Blue</td>\n",
              "      <td>23</td>\n",
              "      <td>5</td>\n",
              "      <td>6</td>\n",
              "      <td>1</td>\n",
              "      <td>12315.0</td>\n",
              "      <td>0</td>\n",
              "      <td>12315.0</td>\n",
              "      <td>0.895</td>\n",
              "      <td>2028</td>\n",
              "      <td>51</td>\n",
              "      <td>0.545</td>\n",
              "      <td>0.000</td>\n",
              "      <td>0.000086</td>\n",
              "      <td>0.99991</td>\n",
              "    </tr>\n",
              "    <tr>\n",
              "      <th>2</th>\n",
              "      <td>714757908</td>\n",
              "      <td>Existing Customer</td>\n",
              "      <td>46</td>\n",
              "      <td>M</td>\n",
              "      <td>4</td>\n",
              "      <td>Graduate</td>\n",
              "      <td>Married</td>\n",
              "      <td>$120K +</td>\n",
              "      <td>Silver</td>\n",
              "      <td>36</td>\n",
              "      <td>4</td>\n",
              "      <td>1</td>\n",
              "      <td>3</td>\n",
              "      <td>34516.0</td>\n",
              "      <td>1380</td>\n",
              "      <td>33136.0</td>\n",
              "      <td>0.660</td>\n",
              "      <td>2163</td>\n",
              "      <td>56</td>\n",
              "      <td>0.400</td>\n",
              "      <td>0.040</td>\n",
              "      <td>0.000088</td>\n",
              "      <td>0.99991</td>\n",
              "    </tr>\n",
              "    <tr>\n",
              "      <th>3</th>\n",
              "      <td>721067658</td>\n",
              "      <td>Existing Customer</td>\n",
              "      <td>40</td>\n",
              "      <td>M</td>\n",
              "      <td>4</td>\n",
              "      <td>Graduate</td>\n",
              "      <td>Married</td>\n",
              "      <td>$60K - $80K</td>\n",
              "      <td>Silver</td>\n",
              "      <td>36</td>\n",
              "      <td>6</td>\n",
              "      <td>1</td>\n",
              "      <td>3</td>\n",
              "      <td>27436.0</td>\n",
              "      <td>642</td>\n",
              "      <td>26794.0</td>\n",
              "      <td>0.705</td>\n",
              "      <td>4051</td>\n",
              "      <td>81</td>\n",
              "      <td>0.761</td>\n",
              "      <td>0.023</td>\n",
              "      <td>0.000088</td>\n",
              "      <td>0.99991</td>\n",
              "    </tr>\n",
              "    <tr>\n",
              "      <th>4</th>\n",
              "      <td>826451433</td>\n",
              "      <td>Existing Customer</td>\n",
              "      <td>42</td>\n",
              "      <td>M</td>\n",
              "      <td>4</td>\n",
              "      <td>Graduate</td>\n",
              "      <td>Single</td>\n",
              "      <td>$80K - $120K</td>\n",
              "      <td>Silver</td>\n",
              "      <td>38</td>\n",
              "      <td>2</td>\n",
              "      <td>1</td>\n",
              "      <td>3</td>\n",
              "      <td>34516.0</td>\n",
              "      <td>2273</td>\n",
              "      <td>32243.0</td>\n",
              "      <td>0.860</td>\n",
              "      <td>8502</td>\n",
              "      <td>103</td>\n",
              "      <td>0.717</td>\n",
              "      <td>0.066</td>\n",
              "      <td>0.000088</td>\n",
              "      <td>0.99991</td>\n",
              "    </tr>\n",
              "    <tr>\n",
              "      <th>5</th>\n",
              "      <td>708248358</td>\n",
              "      <td>Existing Customer</td>\n",
              "      <td>42</td>\n",
              "      <td>M</td>\n",
              "      <td>4</td>\n",
              "      <td>Graduate</td>\n",
              "      <td>Unknown</td>\n",
              "      <td>$60K - $80K</td>\n",
              "      <td>Silver</td>\n",
              "      <td>30</td>\n",
              "      <td>3</td>\n",
              "      <td>1</td>\n",
              "      <td>3</td>\n",
              "      <td>29937.0</td>\n",
              "      <td>0</td>\n",
              "      <td>29937.0</td>\n",
              "      <td>0.746</td>\n",
              "      <td>14863</td>\n",
              "      <td>109</td>\n",
              "      <td>0.627</td>\n",
              "      <td>0.000</td>\n",
              "      <td>0.000088</td>\n",
              "      <td>0.99991</td>\n",
              "    </tr>\n",
              "    <tr>\n",
              "      <th>6</th>\n",
              "      <td>717359208</td>\n",
              "      <td>Existing Customer</td>\n",
              "      <td>57</td>\n",
              "      <td>F</td>\n",
              "      <td>0</td>\n",
              "      <td>College</td>\n",
              "      <td>Married</td>\n",
              "      <td>Less than $40K</td>\n",
              "      <td>Blue</td>\n",
              "      <td>47</td>\n",
              "      <td>2</td>\n",
              "      <td>3</td>\n",
              "      <td>1</td>\n",
              "      <td>4945.0</td>\n",
              "      <td>1779</td>\n",
              "      <td>3166.0</td>\n",
              "      <td>0.536</td>\n",
              "      <td>4037</td>\n",
              "      <td>72</td>\n",
              "      <td>0.756</td>\n",
              "      <td>0.360</td>\n",
              "      <td>0.000091</td>\n",
              "      <td>0.99991</td>\n",
              "    </tr>\n",
              "    <tr>\n",
              "      <th>7</th>\n",
              "      <td>710822808</td>\n",
              "      <td>Existing Customer</td>\n",
              "      <td>51</td>\n",
              "      <td>M</td>\n",
              "      <td>0</td>\n",
              "      <td>College</td>\n",
              "      <td>Single</td>\n",
              "      <td>$80K - $120K</td>\n",
              "      <td>Blue</td>\n",
              "      <td>33</td>\n",
              "      <td>1</td>\n",
              "      <td>3</td>\n",
              "      <td>1</td>\n",
              "      <td>34516.0</td>\n",
              "      <td>1228</td>\n",
              "      <td>33288.0</td>\n",
              "      <td>0.747</td>\n",
              "      <td>7854</td>\n",
              "      <td>89</td>\n",
              "      <td>0.648</td>\n",
              "      <td>0.036</td>\n",
              "      <td>0.000091</td>\n",
              "      <td>0.99991</td>\n",
              "    </tr>\n",
              "    <tr>\n",
              "      <th>8</th>\n",
              "      <td>818235408</td>\n",
              "      <td>Existing Customer</td>\n",
              "      <td>30</td>\n",
              "      <td>M</td>\n",
              "      <td>0</td>\n",
              "      <td>College</td>\n",
              "      <td>Married</td>\n",
              "      <td>$60K - $80K</td>\n",
              "      <td>Blue</td>\n",
              "      <td>25</td>\n",
              "      <td>2</td>\n",
              "      <td>3</td>\n",
              "      <td>1</td>\n",
              "      <td>19534.0</td>\n",
              "      <td>0</td>\n",
              "      <td>19534.0</td>\n",
              "      <td>0.616</td>\n",
              "      <td>15634</td>\n",
              "      <td>118</td>\n",
              "      <td>0.639</td>\n",
              "      <td>0.000</td>\n",
              "      <td>0.000091</td>\n",
              "      <td>0.99991</td>\n",
              "    </tr>\n",
              "    <tr>\n",
              "      <th>9</th>\n",
              "      <td>789334458</td>\n",
              "      <td>Existing Customer</td>\n",
              "      <td>43</td>\n",
              "      <td>F</td>\n",
              "      <td>3</td>\n",
              "      <td>Graduate</td>\n",
              "      <td>Unknown</td>\n",
              "      <td>Unknown</td>\n",
              "      <td>Silver</td>\n",
              "      <td>33</td>\n",
              "      <td>3</td>\n",
              "      <td>1</td>\n",
              "      <td>3</td>\n",
              "      <td>34516.0</td>\n",
              "      <td>1858</td>\n",
              "      <td>32658.0</td>\n",
              "      <td>0.622</td>\n",
              "      <td>4197</td>\n",
              "      <td>67</td>\n",
              "      <td>0.523</td>\n",
              "      <td>0.054</td>\n",
              "      <td>0.000087</td>\n",
              "      <td>0.99991</td>\n",
              "    </tr>\n",
              "  </tbody>\n",
              "</table>\n",
              "</div>"
            ],
            "text/plain": [
              "   CLIENTNUM  ... Naive_Bayes_Classifier_Attrition_Flag_Card_Category_Contacts_Count_12_mon_Dependent_count_Education_Level_Months_Inactive_12_mon_2\n",
              "0  826077033  ...                                            0.01532                                                                                \n",
              "1  709918158  ...                                            0.99991                                                                                \n",
              "2  714757908  ...                                            0.99991                                                                                \n",
              "3  721067658  ...                                            0.99991                                                                                \n",
              "4  826451433  ...                                            0.99991                                                                                \n",
              "5  708248358  ...                                            0.99991                                                                                \n",
              "6  717359208  ...                                            0.99991                                                                                \n",
              "7  710822808  ...                                            0.99991                                                                                \n",
              "8  818235408  ...                                            0.99991                                                                                \n",
              "9  789334458  ...                                            0.99991                                                                                \n",
              "\n",
              "[10 rows x 23 columns]"
            ]
          },
          "metadata": {},
          "execution_count": 3
        }
      ]
    },
    {
      "cell_type": "markdown",
      "metadata": {
        "id": "jPvpJjWx7z_8"
      },
      "source": [
        "#**Exploratory Analysis**"
      ]
    },
    {
      "cell_type": "markdown",
      "metadata": {
        "id": "tJqrY4JKhcAb"
      },
      "source": [
        "### **Question 1: What is the overall churn rate of our customer?**"
      ]
    },
    {
      "cell_type": "markdown",
      "metadata": {
        "id": "0as4zrtYXSOw"
      },
      "source": [
        "We want to find the churn rate for all customers regardless of their attributes. "
      ]
    },
    {
      "cell_type": "code",
      "metadata": {
        "id": "nIoCkgfikagF"
      },
      "source": [
        "%%bigquery churn_rate --project=ba775-team-project\n",
        "/* churn rate */\n",
        "SELECT SUM(CAST(Attrition_Flag = 'Attrited Customer' AS INT)) AS closed_account, \n",
        "COUNT(Attrition_Flag) AS total_account, \n",
        "ROUND(SUM(CAST(Attrition_Flag = 'Attrited Customer' AS INT))/COUNT(Attrition_Flag)*100,2)\n",
        "AS Churn_rate\n",
        "FROM `ba775-team-project.bankchurners.bankchurners`\n",
        "WHERE Attrition_Flag IS NOT NULL;"
      ],
      "execution_count": 7,
      "outputs": []
    },
    {
      "cell_type": "code",
      "metadata": {
        "id": "UO3F8SuKOZpk",
        "colab": {
          "base_uri": "https://localhost:8080/",
          "height": 248
        },
        "outputId": "7f821aff-7758-4be8-8fb5-c26e6776d416"
      },
      "source": [
        "import matplotlib.pyplot as plt\n",
        "labels = 'closed account: 16.07%', 'remainning account: 83.93%'\n",
        "sizes=[1627,10127-1627]\n",
        "fig1, ax1 = plt.subplots()\n",
        "ax1.pie(sizes,labels=labels)\n",
        "plt.show()"
      ],
      "execution_count": 8,
      "outputs": [
        {
          "output_type": "display_data",
          "data": {
            "image/png": "[encoded data removed]",
            "text/plain": [
              "<Figure size 432x288 with 1 Axes>"
            ]
          },
          "metadata": {}
        }
      ]
    },
    {
      "cell_type": "markdown",
      "metadata": {
        "id": "mzvP6hxBaRpa"
      },
      "source": [
        "From the 10127 total accounts, 1627 are closed accounts, therefore the churn rate is 16.07%.\n",
        "\n",
        "Above is a pie chart showcasing the distribution of remaining and closed accounts."
      ]
    },
    {
      "cell_type": "markdown",
      "metadata": {
        "id": "oaocYiQ9yN9e"
      },
      "source": [
        "### **Question 2: What is our user portrait like in terms of age, gender, educational level and income?**"
      ]
    },
    {
      "cell_type": "markdown",
      "metadata": {
        "id": "jQg15zgf1NzF"
      },
      "source": [
        "Before we analyze how different features relate with churn rate, we performed a customer portrait analysis to understand our customer base. An overall analysis of our customer demographic demonstrate the following findings:"
      ]
    },
    {
      "cell_type": "markdown",
      "metadata": {
        "id": "op_iGFzvzgHu"
      },
      "source": [
        "\n",
        "- Gender distribution: Distribution between male and female is close to equivalent with slightly more females than males\n",
        "\n",
        "- Product and Gender Breakdown: Females tend to have more blue cards while male clients had the silver, gold and platinum cards\n",
        "\n",
        "- Education: Majority of our client base have post secondary education (high school graduates) \n",
        "\n",
        "- Income: Majority of clients make less than $40,000 per year \n",
        "\n",
        "- Marital Status: Half of our client base are divorced, while 33% are single\n",
        "\n",
        "- Age: Majority of customers are between the ages of 36-55"
      ]
    },
    {
      "cell_type": "code",
      "metadata": {
        "id": "ZfAn1hLSoG9a",
        "colab": {
          "base_uri": "https://localhost:8080/",
          "height": 303
        },
        "outputId": "f15c02a5-4453-4d42-a080-658db1b74b8e"
      },
      "source": [
        "Image(filename='/content/A.png', width=450, height=300)"
      ],
      "execution_count": 9,
      "outputs": [
        {
          "output_type": "error",
          "ename": "FileNotFoundError",
          "evalue": "ignored",
          "traceback": [
            "\u001b[0;31m---------------------------------------------------------------------------\u001b[0m",
            "\u001b[0;31mFileNotFoundError\u001b[0m                         Traceback (most recent call last)",
            "\u001b[0;32m<ipython-input-9-4654024456bd>\u001b[0m in \u001b[0;36m<module>\u001b[0;34m()\u001b[0m\n\u001b[0;32m----> 1\u001b[0;31m \u001b[0mImage\u001b[0m\u001b[0;34m(\u001b[0m\u001b[0mfilename\u001b[0m\u001b[0;34m=\u001b[0m\u001b[0;34m'/content/A.png'\u001b[0m\u001b[0;34m,\u001b[0m \u001b[0mwidth\u001b[0m\u001b[0;34m=\u001b[0m\u001b[0;36m450\u001b[0m\u001b[0;34m,\u001b[0m \u001b[0mheight\u001b[0m\u001b[0;34m=\u001b[0m\u001b[0;36m300\u001b[0m\u001b[0;34m)\u001b[0m\u001b[0;34m\u001b[0m\u001b[0;34m\u001b[0m\u001b[0m\n\u001b[0m",
            "\u001b[0;32m/usr/local/lib/python3.7/dist-packages/IPython/core/display.py\u001b[0m in \u001b[0;36m__init__\u001b[0;34m(self, data, url, filename, format, embed, width, height, retina, unconfined, metadata)\u001b[0m\n\u001b[1;32m   1019\u001b[0m         \u001b[0mself\u001b[0m\u001b[0;34m.\u001b[0m\u001b[0munconfined\u001b[0m \u001b[0;34m=\u001b[0m \u001b[0munconfined\u001b[0m\u001b[0;34m\u001b[0m\u001b[0;34m\u001b[0m\u001b[0m\n\u001b[1;32m   1020\u001b[0m         \u001b[0mself\u001b[0m\u001b[0;34m.\u001b[0m\u001b[0mmetadata\u001b[0m \u001b[0;34m=\u001b[0m \u001b[0mmetadata\u001b[0m\u001b[0;34m\u001b[0m\u001b[0;34m\u001b[0m\u001b[0m\n\u001b[0;32m-> 1021\u001b[0;31m         \u001b[0msuper\u001b[0m\u001b[0;34m(\u001b[0m\u001b[0mImage\u001b[0m\u001b[0;34m,\u001b[0m \u001b[0mself\u001b[0m\u001b[0;34m)\u001b[0m\u001b[0;34m.\u001b[0m\u001b[0m__init__\u001b[0m\u001b[0;34m(\u001b[0m\u001b[0mdata\u001b[0m\u001b[0;34m=\u001b[0m\u001b[0mdata\u001b[0m\u001b[0;34m,\u001b[0m \u001b[0murl\u001b[0m\u001b[0;34m=\u001b[0m\u001b[0murl\u001b[0m\u001b[0;34m,\u001b[0m \u001b[0mfilename\u001b[0m\u001b[0;34m=\u001b[0m\u001b[0mfilename\u001b[0m\u001b[0;34m)\u001b[0m\u001b[0;34m\u001b[0m\u001b[0;34m\u001b[0m\u001b[0m\n\u001b[0m\u001b[1;32m   1022\u001b[0m \u001b[0;34m\u001b[0m\u001b[0m\n\u001b[1;32m   1023\u001b[0m         \u001b[0;32mif\u001b[0m \u001b[0mretina\u001b[0m\u001b[0;34m:\u001b[0m\u001b[0;34m\u001b[0m\u001b[0;34m\u001b[0m\u001b[0m\n",
            "\u001b[0;32m/usr/local/lib/python3.7/dist-packages/IPython/core/display.py\u001b[0m in \u001b[0;36m__init__\u001b[0;34m(self, data, url, filename)\u001b[0m\n\u001b[1;32m    611\u001b[0m         \u001b[0mself\u001b[0m\u001b[0;34m.\u001b[0m\u001b[0mfilename\u001b[0m \u001b[0;34m=\u001b[0m \u001b[0;32mNone\u001b[0m \u001b[0;32mif\u001b[0m \u001b[0mfilename\u001b[0m \u001b[0;32mis\u001b[0m \u001b[0;32mNone\u001b[0m \u001b[0;32melse\u001b[0m \u001b[0municode_type\u001b[0m\u001b[0;34m(\u001b[0m\u001b[0mfilename\u001b[0m\u001b[0;34m)\u001b[0m\u001b[0;34m\u001b[0m\u001b[0;34m\u001b[0m\u001b[0m\n\u001b[1;32m    612\u001b[0m \u001b[0;34m\u001b[0m\u001b[0m\n\u001b[0;32m--> 613\u001b[0;31m         \u001b[0mself\u001b[0m\u001b[0;34m.\u001b[0m\u001b[0mreload\u001b[0m\u001b[0;34m(\u001b[0m\u001b[0;34m)\u001b[0m\u001b[0;34m\u001b[0m\u001b[0;34m\u001b[0m\u001b[0m\n\u001b[0m\u001b[1;32m    614\u001b[0m         \u001b[0mself\u001b[0m\u001b[0;34m.\u001b[0m\u001b[0m_check_data\u001b[0m\u001b[0;34m(\u001b[0m\u001b[0;34m)\u001b[0m\u001b[0;34m\u001b[0m\u001b[0;34m\u001b[0m\u001b[0m\n\u001b[1;32m    615\u001b[0m \u001b[0;34m\u001b[0m\u001b[0m\n",
            "\u001b[0;32m/usr/local/lib/python3.7/dist-packages/IPython/core/display.py\u001b[0m in \u001b[0;36mreload\u001b[0;34m(self)\u001b[0m\n\u001b[1;32m   1041\u001b[0m         \u001b[0;34m\"\"\"Reload the raw data from file or URL.\"\"\"\u001b[0m\u001b[0;34m\u001b[0m\u001b[0;34m\u001b[0m\u001b[0m\n\u001b[1;32m   1042\u001b[0m         \u001b[0;32mif\u001b[0m \u001b[0mself\u001b[0m\u001b[0;34m.\u001b[0m\u001b[0membed\u001b[0m\u001b[0;34m:\u001b[0m\u001b[0;34m\u001b[0m\u001b[0;34m\u001b[0m\u001b[0m\n\u001b[0;32m-> 1043\u001b[0;31m             \u001b[0msuper\u001b[0m\u001b[0;34m(\u001b[0m\u001b[0mImage\u001b[0m\u001b[0;34m,\u001b[0m\u001b[0mself\u001b[0m\u001b[0;34m)\u001b[0m\u001b[0;34m.\u001b[0m\u001b[0mreload\u001b[0m\u001b[0;34m(\u001b[0m\u001b[0;34m)\u001b[0m\u001b[0;34m\u001b[0m\u001b[0;34m\u001b[0m\u001b[0m\n\u001b[0m\u001b[1;32m   1044\u001b[0m             \u001b[0;32mif\u001b[0m \u001b[0mself\u001b[0m\u001b[0;34m.\u001b[0m\u001b[0mretina\u001b[0m\u001b[0;34m:\u001b[0m\u001b[0;34m\u001b[0m\u001b[0;34m\u001b[0m\u001b[0m\n\u001b[1;32m   1045\u001b[0m                 \u001b[0mself\u001b[0m\u001b[0;34m.\u001b[0m\u001b[0m_retina_shape\u001b[0m\u001b[0;34m(\u001b[0m\u001b[0;34m)\u001b[0m\u001b[0;34m\u001b[0m\u001b[0;34m\u001b[0m\u001b[0m\n",
            "\u001b[0;32m/usr/local/lib/python3.7/dist-packages/IPython/core/display.py\u001b[0m in \u001b[0;36mreload\u001b[0;34m(self)\u001b[0m\n\u001b[1;32m    629\u001b[0m         \u001b[0;34m\"\"\"Reload the raw data from file or URL.\"\"\"\u001b[0m\u001b[0;34m\u001b[0m\u001b[0;34m\u001b[0m\u001b[0m\n\u001b[1;32m    630\u001b[0m         \u001b[0;32mif\u001b[0m \u001b[0mself\u001b[0m\u001b[0;34m.\u001b[0m\u001b[0mfilename\u001b[0m \u001b[0;32mis\u001b[0m \u001b[0;32mnot\u001b[0m \u001b[0;32mNone\u001b[0m\u001b[0;34m:\u001b[0m\u001b[0;34m\u001b[0m\u001b[0;34m\u001b[0m\u001b[0m\n\u001b[0;32m--> 631\u001b[0;31m             \u001b[0;32mwith\u001b[0m \u001b[0mopen\u001b[0m\u001b[0;34m(\u001b[0m\u001b[0mself\u001b[0m\u001b[0;34m.\u001b[0m\u001b[0mfilename\u001b[0m\u001b[0;34m,\u001b[0m \u001b[0mself\u001b[0m\u001b[0;34m.\u001b[0m\u001b[0m_read_flags\u001b[0m\u001b[0;34m)\u001b[0m \u001b[0;32mas\u001b[0m \u001b[0mf\u001b[0m\u001b[0;34m:\u001b[0m\u001b[0;34m\u001b[0m\u001b[0;34m\u001b[0m\u001b[0m\n\u001b[0m\u001b[1;32m    632\u001b[0m                 \u001b[0mself\u001b[0m\u001b[0;34m.\u001b[0m\u001b[0mdata\u001b[0m \u001b[0;34m=\u001b[0m \u001b[0mf\u001b[0m\u001b[0;34m.\u001b[0m\u001b[0mread\u001b[0m\u001b[0;34m(\u001b[0m\u001b[0;34m)\u001b[0m\u001b[0;34m\u001b[0m\u001b[0;34m\u001b[0m\u001b[0m\n\u001b[1;32m    633\u001b[0m         \u001b[0;32melif\u001b[0m \u001b[0mself\u001b[0m\u001b[0;34m.\u001b[0m\u001b[0murl\u001b[0m \u001b[0;32mis\u001b[0m \u001b[0;32mnot\u001b[0m \u001b[0;32mNone\u001b[0m\u001b[0;34m:\u001b[0m\u001b[0;34m\u001b[0m\u001b[0;34m\u001b[0m\u001b[0m\n",
            "\u001b[0;31mFileNotFoundError\u001b[0m: [Errno 2] No such file or directory: '/content/A.png'"
          ]
        }
      ]
    },
    {
      "cell_type": "markdown",
      "metadata": {
        "id": "G2L-_gBw1_sR"
      },
      "source": [
        "Most of our customers have graduate degree, followed by the second as high school degree. "
      ]
    },
    {
      "cell_type": "code",
      "metadata": {
        "id": "Cqbap7tWoEwq"
      },
      "source": [
        "Image(filename='/content/B.png', width=400, height=300)"
      ],
      "execution_count": null,
      "outputs": []
    },
    {
      "cell_type": "markdown",
      "metadata": {
        "id": "UBQkLpOx2unK"
      },
      "source": [
        "Majority of our customers have income lower than 40k, followed by those with income between 40k to 60k."
      ]
    },
    {
      "cell_type": "code",
      "metadata": {
        "id": "9-8q1vJ3n1_r"
      },
      "source": [
        "Image(filename='/content/C.png', width=400, height=300)"
      ],
      "execution_count": null,
      "outputs": []
    },
    {
      "cell_type": "markdown",
      "metadata": {
        "id": "ViXVvrPs2m8f"
      },
      "source": [
        "50% of our customers are married, followed by 33.3% as being single."
      ]
    },
    {
      "cell_type": "code",
      "metadata": {
        "id": "PUjUjp50nWEt"
      },
      "source": [
        "Image(filename='/content/D.png', width=400, height=300)"
      ],
      "execution_count": null,
      "outputs": []
    },
    {
      "cell_type": "markdown",
      "metadata": {
        "id": "K_Uv7Q0x2cHY"
      },
      "source": [
        "The age distribution of our customer is mostly between 36 to 55 years old."
      ]
    },
    {
      "cell_type": "markdown",
      "metadata": {
        "id": "cx2AEJXR_JxA"
      },
      "source": [
        "#**Customer Attributes and Churn Rate Analysis**"
      ]
    },
    {
      "cell_type": "markdown",
      "metadata": {
        "id": "hI4sjUUbyWeJ"
      },
      "source": [
        "### **Question 3: What age group of customers has a higher tendency to churn?**"
      ]
    },
    {
      "cell_type": "markdown",
      "metadata": {
        "id": "QXR9GHfsnOp4"
      },
      "source": [
        "Determining churn rate pattern for different age groups:\n",
        "\n",
        "According to the table and bar graph shown below, age groups 40-50 and 50-60 have the highest churn rates, which are approximately 17%. Age groups 20-30 and 70-80 have the lowest churn rates, where the rate is 0% for the 70-80 age group and approximately 8.7% for the 20-30 age group.\n",
        "\n"
      ]
    },
    {
      "cell_type": "code",
      "metadata": {
        "id": "LB_KmbiVk91m"
      },
      "source": [
        "%%bigquery age_tendency --project=ba775-team-project\n",
        "/* age group tendency */\n",
        "SELECT SUM(CAST(Attrition_Flag = 'Attrited Customer'AS INT)) AS\n",
        "closed_account,COUNT(*) AS total_account,\n",
        "SUM(CAST(Attrition_Flag = 'Attrited Customer'AS INT))/COUNT(*)*100 AS Churn_rate,\n",
        "CASE\n",
        "      WHEN Customer_Age <10 THEN '0-10'\n",
        "      WHEN Customer_Age <20 THEN '10-20'\n",
        "      WHEN Customer_Age <30 THEN '20-30'\n",
        "      WHEN Customer_Age <40 THEN '30-40'\n",
        "      WHEN Customer_Age <50 THEN '40-50'\n",
        "      WHEN Customer_Age <60 THEN '50-60'\n",
        "      WHEN Customer_Age <70 THEN '60-70'\n",
        "      ELSE '70-80'\n",
        "End AS Customer_Age\n",
        "    \n",
        "FROM `ba775-team-project.bankchurners.bankchurners`\n",
        "GROUP BY Customer_Age\n",
        "ORDER BY Customer_Age"
      ],
      "execution_count": 17,
      "outputs": []
    },
    {
      "cell_type": "code",
      "metadata": {
        "id": "JsMM8aZpnZ2F",
        "outputId": "1d5c7367-c00d-48fd-fb5d-f6bcd92328d9",
        "colab": {
          "base_uri": "https://localhost:8080/",
          "height": 234
        }
      },
      "source": [
        "age_tendency"
      ],
      "execution_count": 18,
      "outputs": [
        {
          "output_type": "execute_result",
          "data": {
            "text/html": [
              "<div>\n",
              "<style scoped>\n",
              "    .dataframe tbody tr th:only-of-type {\n",
              "        vertical-align: middle;\n",
              "    }\n",
              "\n",
              "    .dataframe tbody tr th {\n",
              "        vertical-align: top;\n",
              "    }\n",
              "\n",
              "    .dataframe thead th {\n",
              "        text-align: right;\n",
              "    }\n",
              "</style>\n",
              "<table border=\"1\" class=\"dataframe\">\n",
              "  <thead>\n",
              "    <tr style=\"text-align: right;\">\n",
              "      <th></th>\n",
              "      <th>closed_account</th>\n",
              "      <th>total_account</th>\n",
              "      <th>Churn_rate</th>\n",
              "      <th>Customer_Age</th>\n",
              "    </tr>\n",
              "  </thead>\n",
              "  <tbody>\n",
              "    <tr>\n",
              "      <th>0</th>\n",
              "      <td>17</td>\n",
              "      <td>195</td>\n",
              "      <td>8.717949</td>\n",
              "      <td>20-30</td>\n",
              "    </tr>\n",
              "    <tr>\n",
              "      <th>1</th>\n",
              "      <td>261</td>\n",
              "      <td>1841</td>\n",
              "      <td>14.177078</td>\n",
              "      <td>30-40</td>\n",
              "    </tr>\n",
              "    <tr>\n",
              "      <th>2</th>\n",
              "      <td>772</td>\n",
              "      <td>4561</td>\n",
              "      <td>16.926113</td>\n",
              "      <td>40-50</td>\n",
              "    </tr>\n",
              "    <tr>\n",
              "      <th>3</th>\n",
              "      <td>506</td>\n",
              "      <td>2998</td>\n",
              "      <td>16.877919</td>\n",
              "      <td>50-60</td>\n",
              "    </tr>\n",
              "    <tr>\n",
              "      <th>4</th>\n",
              "      <td>71</td>\n",
              "      <td>530</td>\n",
              "      <td>13.396226</td>\n",
              "      <td>60-70</td>\n",
              "    </tr>\n",
              "    <tr>\n",
              "      <th>5</th>\n",
              "      <td>0</td>\n",
              "      <td>2</td>\n",
              "      <td>0.000000</td>\n",
              "      <td>70-80</td>\n",
              "    </tr>\n",
              "  </tbody>\n",
              "</table>\n",
              "</div>"
            ],
            "text/plain": [
              "   closed_account  total_account  Churn_rate Customer_Age\n",
              "0              17            195    8.717949        20-30\n",
              "1             261           1841   14.177078        30-40\n",
              "2             772           4561   16.926113        40-50\n",
              "3             506           2998   16.877919        50-60\n",
              "4              71            530   13.396226        60-70\n",
              "5               0              2    0.000000        70-80"
            ]
          },
          "metadata": {},
          "execution_count": 18
        }
      ]
    },
    {
      "cell_type": "code",
      "metadata": {
        "id": "PkhcOiRvnu4X",
        "colab": {
          "base_uri": "https://localhost:8080/",
          "height": 369
        },
        "outputId": "15d9c3b1-5e00-4003-bf46-e893516c37f1"
      },
      "source": [
        "age_tendency.plot(title = 'The relationship between age category and churn rate',kind='bar', \n",
        "                  x='Customer_Age', y='Churn_rate',color = ['#8fc3de', '#5ba3cf','#125ca4','#3181bd','#8fc1de'], figsize=(9, 5));"
      ],
      "execution_count": 19,
      "outputs": [
        {
          "output_type": "display_data",
          "data": {
            "image/png": "[encoded data removed]",
            "text/plain": [
              "<Figure size 648x360 with 1 Axes>"
            ]
          },
          "metadata": {
            "needs_background": "light"
          }
        }
      ]
    },
    {
      "cell_type": "markdown",
      "metadata": {
        "id": "TxvZCDQoyiaT"
      },
      "source": [
        "### **Question 4: How do income and education level influence churn rate?**"
      ]
    },
    {
      "cell_type": "markdown",
      "metadata": {
        "id": "UiU9Oj_-_rHg"
      },
      "source": [
        "The analysis on income and churn rate shows that people with income more than 120,000 or less than 40,000 have the highest churn rates, which are both approximately 17%. Those with income between 60,000 to 80,000 have the lowest churn rates, which is approximately 13.5%."
      ]
    },
    {
      "cell_type": "code",
      "metadata": {
        "id": "tBY7HB-BlEmY"
      },
      "source": [
        "%%bigquery Income_Category --project=ba775-team-project\n",
        "/*income tendency*/\n",
        "SELECT Income_Category, COUNT(*) AS total_account, \n",
        "SUM(CAST(Attrition_Flag = 'Attrited Customer'AS INT)) AS closed_account,\n",
        "SUM(CAST(Attrition_Flag = 'Attrited Customer'AS INT))/COUNT(*)*100 AS Churn_rate,\n",
        "FROM `ba775-team-project.bankchurners.bankchurners`\n",
        "WHERE Income_Category  NOT LIKE 'Unknown'\n",
        "GROUP BY Income_Category\n",
        "ORDER BY Income_Category"
      ],
      "execution_count": 27,
      "outputs": []
    },
    {
      "cell_type": "code",
      "metadata": {
        "id": "MOEIrBVIsGKS",
        "outputId": "6ed964a0-dde0-4f3d-9822-81ad773bc9bd",
        "colab": {
          "base_uri": "https://localhost:8080/",
          "height": 203
        }
      },
      "source": [
        "Income_Category"
      ],
      "execution_count": 28,
      "outputs": [
        {
          "output_type": "execute_result",
          "data": {
            "text/html": [
              "<div>\n",
              "<style scoped>\n",
              "    .dataframe tbody tr th:only-of-type {\n",
              "        vertical-align: middle;\n",
              "    }\n",
              "\n",
              "    .dataframe tbody tr th {\n",
              "        vertical-align: top;\n",
              "    }\n",
              "\n",
              "    .dataframe thead th {\n",
              "        text-align: right;\n",
              "    }\n",
              "</style>\n",
              "<table border=\"1\" class=\"dataframe\">\n",
              "  <thead>\n",
              "    <tr style=\"text-align: right;\">\n",
              "      <th></th>\n",
              "      <th>Income_Category</th>\n",
              "      <th>total_account</th>\n",
              "      <th>closed_account</th>\n",
              "      <th>Churn_rate</th>\n",
              "    </tr>\n",
              "  </thead>\n",
              "  <tbody>\n",
              "    <tr>\n",
              "      <th>0</th>\n",
              "      <td>$120K +</td>\n",
              "      <td>727</td>\n",
              "      <td>126</td>\n",
              "      <td>17.331499</td>\n",
              "    </tr>\n",
              "    <tr>\n",
              "      <th>1</th>\n",
              "      <td>$40K - $60K</td>\n",
              "      <td>1790</td>\n",
              "      <td>271</td>\n",
              "      <td>15.139665</td>\n",
              "    </tr>\n",
              "    <tr>\n",
              "      <th>2</th>\n",
              "      <td>$60K - $80K</td>\n",
              "      <td>1402</td>\n",
              "      <td>189</td>\n",
              "      <td>13.480742</td>\n",
              "    </tr>\n",
              "    <tr>\n",
              "      <th>3</th>\n",
              "      <td>$80K - $120K</td>\n",
              "      <td>1535</td>\n",
              "      <td>242</td>\n",
              "      <td>15.765472</td>\n",
              "    </tr>\n",
              "    <tr>\n",
              "      <th>4</th>\n",
              "      <td>Less than $40K</td>\n",
              "      <td>3561</td>\n",
              "      <td>612</td>\n",
              "      <td>17.186184</td>\n",
              "    </tr>\n",
              "  </tbody>\n",
              "</table>\n",
              "</div>"
            ],
            "text/plain": [
              "  Income_Category  total_account  closed_account  Churn_rate\n",
              "0         $120K +            727             126   17.331499\n",
              "1     $40K - $60K           1790             271   15.139665\n",
              "2     $60K - $80K           1402             189   13.480742\n",
              "3    $80K - $120K           1535             242   15.765472\n",
              "4  Less than $40K           3561             612   17.186184"
            ]
          },
          "metadata": {},
          "execution_count": 28
        }
      ]
    },
    {
      "cell_type": "code",
      "metadata": {
        "id": "5wwHqC_iup18",
        "colab": {
          "base_uri": "https://localhost:8080/",
          "height": 417
        },
        "outputId": "b653c66d-23a8-4d1b-c994-5359c776f0bb"
      },
      "source": [
        "Income_Category.plot(title = 'The relationship between income level and churn rate',kind='bar', \n",
        "                     x='Income_Category', y='Churn_rate',color = ['#b21218','#fc8767', '#fc9e80', '#f6573f','#dc2a25'], figsize=(9, 5));"
      ],
      "execution_count": 29,
      "outputs": [
        {
          "output_type": "display_data",
          "data": {
            "image/png": "[encoded data removed]",
            "text/plain": [
              "<Figure size 648x360 with 1 Axes>"
            ]
          },
          "metadata": {
            "needs_background": "light"
          }
        }
      ]
    },
    {
      "cell_type": "markdown",
      "metadata": {
        "id": "6I8EtuwdqjgH"
      },
      "source": [
        "Among the 6 education levels in the data set, the results show that those with doctorate degrees have the highest churn rate, which is approximately 21%. Additionally, people with high school or college degrees have the lowest churn rates, which are approximately 15.2%.\n"
      ]
    },
    {
      "cell_type": "code",
      "metadata": {
        "id": "eGcdqRLxk_tt"
      },
      "source": [
        "%%bigquery Education_Level --project=ba775-team-project\n",
        "/*educational level tendency*/\n",
        "SELECT Education_Level, COUNT(*) AS total_account, \n",
        "SUM(CAST(Attrition_Flag = 'Attrited Customer' AS INT))\n",
        "AS closed_account,\n",
        "SUM(CAST(Attrition_Flag = 'Attrited Customer'AS INT))/COUNT(*)*100 AS Churn_rate,\n",
        "CASE WHEN Education_Level = 'Uneducated' THEN 0\n",
        "     WHEN Education_Level = 'High School' THEN 1\n",
        "     WHEN Education_Level = 'College' THEN 2\n",
        "     WHEN Education_Level = 'Post-Graduate' THEN 3\n",
        "     WHEN Education_Level = 'Graduate' THEN 4\n",
        "     ELSE 5 END AS num_level\n",
        "FROM `ba775-team-project.bankchurners.bankchurners`\n",
        "WHERE Education_Level  NOT LIKE 'Unknown'\n",
        "GROUP BY Education_Level\n",
        "ORDER BY num_level;"
      ],
      "execution_count": 21,
      "outputs": []
    },
    {
      "cell_type": "code",
      "metadata": {
        "id": "v3adeLliqf_V",
        "colab": {
          "base_uri": "https://localhost:8080/",
          "height": 234
        },
        "outputId": "e8ce53d8-881d-4f2b-81ea-eefc4fc20cec"
      },
      "source": [
        "Education_Level"
      ],
      "execution_count": 22,
      "outputs": [
        {
          "output_type": "execute_result",
          "data": {
            "text/html": [
              "<div>\n",
              "<style scoped>\n",
              "    .dataframe tbody tr th:only-of-type {\n",
              "        vertical-align: middle;\n",
              "    }\n",
              "\n",
              "    .dataframe tbody tr th {\n",
              "        vertical-align: top;\n",
              "    }\n",
              "\n",
              "    .dataframe thead th {\n",
              "        text-align: right;\n",
              "    }\n",
              "</style>\n",
              "<table border=\"1\" class=\"dataframe\">\n",
              "  <thead>\n",
              "    <tr style=\"text-align: right;\">\n",
              "      <th></th>\n",
              "      <th>Education_Level</th>\n",
              "      <th>total_account</th>\n",
              "      <th>closed_account</th>\n",
              "      <th>Churn_rate</th>\n",
              "      <th>num_level</th>\n",
              "    </tr>\n",
              "  </thead>\n",
              "  <tbody>\n",
              "    <tr>\n",
              "      <th>0</th>\n",
              "      <td>Uneducated</td>\n",
              "      <td>1487</td>\n",
              "      <td>237</td>\n",
              "      <td>15.938130</td>\n",
              "      <td>0</td>\n",
              "    </tr>\n",
              "    <tr>\n",
              "      <th>1</th>\n",
              "      <td>High School</td>\n",
              "      <td>2013</td>\n",
              "      <td>306</td>\n",
              "      <td>15.201192</td>\n",
              "      <td>1</td>\n",
              "    </tr>\n",
              "    <tr>\n",
              "      <th>2</th>\n",
              "      <td>College</td>\n",
              "      <td>1013</td>\n",
              "      <td>154</td>\n",
              "      <td>15.202369</td>\n",
              "      <td>2</td>\n",
              "    </tr>\n",
              "    <tr>\n",
              "      <th>3</th>\n",
              "      <td>Post-Graduate</td>\n",
              "      <td>516</td>\n",
              "      <td>92</td>\n",
              "      <td>17.829457</td>\n",
              "      <td>3</td>\n",
              "    </tr>\n",
              "    <tr>\n",
              "      <th>4</th>\n",
              "      <td>Graduate</td>\n",
              "      <td>3128</td>\n",
              "      <td>487</td>\n",
              "      <td>15.569054</td>\n",
              "      <td>4</td>\n",
              "    </tr>\n",
              "    <tr>\n",
              "      <th>5</th>\n",
              "      <td>Doctorate</td>\n",
              "      <td>451</td>\n",
              "      <td>95</td>\n",
              "      <td>21.064302</td>\n",
              "      <td>5</td>\n",
              "    </tr>\n",
              "  </tbody>\n",
              "</table>\n",
              "</div>"
            ],
            "text/plain": [
              "  Education_Level  total_account  closed_account  Churn_rate  num_level\n",
              "0      Uneducated           1487             237   15.938130          0\n",
              "1     High School           2013             306   15.201192          1\n",
              "2         College           1013             154   15.202369          2\n",
              "3   Post-Graduate            516              92   17.829457          3\n",
              "4        Graduate           3128             487   15.569054          4\n",
              "5       Doctorate            451              95   21.064302          5"
            ]
          },
          "metadata": {},
          "execution_count": 22
        }
      ]
    },
    {
      "cell_type": "code",
      "metadata": {
        "id": "jMF8tchFqxut",
        "colab": {
          "base_uri": "https://localhost:8080/",
          "height": 412
        },
        "outputId": "dafd668a-94f5-4003-955e-93f425c6c11f"
      },
      "source": [
        "Education_Level.plot(title = 'The relationship between educational level and churn rate',\n",
        "                     kind='bar', x='Education_Level', y='Churn_rate',\n",
        "                     color = ['#bbe4b5','#81ca82','#a0d89b','#137c39','#60ba6c','#41a75b'], figsize=(9, 5));"
      ],
      "execution_count": 23,
      "outputs": [
        {
          "output_type": "display_data",
          "data": {
            "image/png": "[encoded data removed]",
            "text/plain": [
              "<Figure size 648x360 with 1 Axes>"
            ]
          },
          "metadata": {
            "needs_background": "light"
          }
        }
      ]
    },
    {
      "cell_type": "markdown",
      "metadata": {
        "id": "9mr1jq9F3zMJ"
      },
      "source": [
        "The customers with doctorate degrees tend to have higher churn rate than those with other education levels. Since income and age may be correlated to customers' education levels, we can also break down the distributions and churn rates for each subgroups.\n",
        "\n",
        "The table below shows that for those with Doctorate degrees, the subgroups with the highest churn rates are customers with income between 80k to 120k and between age 30-40, whose churn rate is approximately 33.33%, as well as those with income less than 40k and between age 50-60, whose churn rate is 30%."
      ]
    },
    {
      "cell_type": "code",
      "metadata": {
        "id": "rc_pBYnhwsjb"
      },
      "source": [
        "%%bigquery Education_Level_Doctorate2 --project=ba775-team-project\n",
        "/*educational level Doctorate tendency*/\n",
        "SELECT COUNT(*) AS total_account, \n",
        "SUM(CAST(Attrition_Flag = 'Attrited Customer' AS INT))\n",
        "AS closed_account, Income_Category,\n",
        "SUM(CAST(Attrition_Flag = 'Attrited Customer'AS INT))/COUNT(*)*100 AS Churn_rate,\n",
        "CASE\n",
        "      WHEN Customer_Age <10 THEN '0-10'\n",
        "      WHEN Customer_Age <20 THEN '10-20'\n",
        "      WHEN Customer_Age <30 THEN '20-30'\n",
        "      WHEN Customer_Age <40 THEN '30-40'\n",
        "      WHEN Customer_Age <50 THEN '40-50'\n",
        "      WHEN Customer_Age <60 THEN '50-60'\n",
        "      WHEN Customer_Age <70 THEN '60-70'\n",
        "      ELSE '70-80'\n",
        "End AS Customer_Age\n",
        "FROM `ba775-team-project.bankchurners.bankchurners`\n",
        "WHERE Education_Level LIKE 'Doctorate' AND Income_Category NOT LIKE 'Unknown'\n",
        "GROUP BY Income_Category, Customer_Age\n",
        "ORDER BY Income_Category, Customer_Age"
      ],
      "execution_count": 37,
      "outputs": []
    },
    {
      "cell_type": "code",
      "metadata": {
        "id": "j09BV9TXxW8u",
        "colab": {
          "base_uri": "https://localhost:8080/",
          "height": 634
        },
        "outputId": "47e35e70-11f2-4473-dc8c-74b0a9f669aa"
      },
      "source": [
        "Education_Level_Doctorate2"
      ],
      "execution_count": 38,
      "outputs": [
        {
          "output_type": "execute_result",
          "data": {
            "text/html": [
              "<div>\n",
              "<style scoped>\n",
              "    .dataframe tbody tr th:only-of-type {\n",
              "        vertical-align: middle;\n",
              "    }\n",
              "\n",
              "    .dataframe tbody tr th {\n",
              "        vertical-align: top;\n",
              "    }\n",
              "\n",
              "    .dataframe thead th {\n",
              "        text-align: right;\n",
              "    }\n",
              "</style>\n",
              "<table border=\"1\" class=\"dataframe\">\n",
              "  <thead>\n",
              "    <tr style=\"text-align: right;\">\n",
              "      <th></th>\n",
              "      <th>total_account</th>\n",
              "      <th>closed_account</th>\n",
              "      <th>Income_Category</th>\n",
              "      <th>Churn_rate</th>\n",
              "      <th>Customer_Age</th>\n",
              "    </tr>\n",
              "  </thead>\n",
              "  <tbody>\n",
              "    <tr>\n",
              "      <th>0</th>\n",
              "      <td>5</td>\n",
              "      <td>1</td>\n",
              "      <td>$120K +</td>\n",
              "      <td>20.000000</td>\n",
              "      <td>30-40</td>\n",
              "    </tr>\n",
              "    <tr>\n",
              "      <th>1</th>\n",
              "      <td>18</td>\n",
              "      <td>4</td>\n",
              "      <td>$120K +</td>\n",
              "      <td>22.222222</td>\n",
              "      <td>40-50</td>\n",
              "    </tr>\n",
              "    <tr>\n",
              "      <th>2</th>\n",
              "      <td>13</td>\n",
              "      <td>3</td>\n",
              "      <td>$120K +</td>\n",
              "      <td>23.076923</td>\n",
              "      <td>50-60</td>\n",
              "    </tr>\n",
              "    <tr>\n",
              "      <th>3</th>\n",
              "      <td>1</td>\n",
              "      <td>0</td>\n",
              "      <td>$120K +</td>\n",
              "      <td>0.000000</td>\n",
              "      <td>60-70</td>\n",
              "    </tr>\n",
              "    <tr>\n",
              "      <th>4</th>\n",
              "      <td>12</td>\n",
              "      <td>1</td>\n",
              "      <td>$40K - $60K</td>\n",
              "      <td>8.333333</td>\n",
              "      <td>30-40</td>\n",
              "    </tr>\n",
              "    <tr>\n",
              "      <th>5</th>\n",
              "      <td>35</td>\n",
              "      <td>8</td>\n",
              "      <td>$40K - $60K</td>\n",
              "      <td>22.857143</td>\n",
              "      <td>40-50</td>\n",
              "    </tr>\n",
              "    <tr>\n",
              "      <th>6</th>\n",
              "      <td>16</td>\n",
              "      <td>2</td>\n",
              "      <td>$40K - $60K</td>\n",
              "      <td>12.500000</td>\n",
              "      <td>50-60</td>\n",
              "    </tr>\n",
              "    <tr>\n",
              "      <th>7</th>\n",
              "      <td>7</td>\n",
              "      <td>0</td>\n",
              "      <td>$40K - $60K</td>\n",
              "      <td>0.000000</td>\n",
              "      <td>60-70</td>\n",
              "    </tr>\n",
              "    <tr>\n",
              "      <th>8</th>\n",
              "      <td>12</td>\n",
              "      <td>0</td>\n",
              "      <td>$60K - $80K</td>\n",
              "      <td>0.000000</td>\n",
              "      <td>30-40</td>\n",
              "    </tr>\n",
              "    <tr>\n",
              "      <th>9</th>\n",
              "      <td>29</td>\n",
              "      <td>7</td>\n",
              "      <td>$60K - $80K</td>\n",
              "      <td>24.137931</td>\n",
              "      <td>40-50</td>\n",
              "    </tr>\n",
              "    <tr>\n",
              "      <th>10</th>\n",
              "      <td>17</td>\n",
              "      <td>0</td>\n",
              "      <td>$60K - $80K</td>\n",
              "      <td>0.000000</td>\n",
              "      <td>50-60</td>\n",
              "    </tr>\n",
              "    <tr>\n",
              "      <th>11</th>\n",
              "      <td>1</td>\n",
              "      <td>0</td>\n",
              "      <td>$60K - $80K</td>\n",
              "      <td>0.000000</td>\n",
              "      <td>60-70</td>\n",
              "    </tr>\n",
              "    <tr>\n",
              "      <th>12</th>\n",
              "      <td>6</td>\n",
              "      <td>2</td>\n",
              "      <td>$80K - $120K</td>\n",
              "      <td>33.333333</td>\n",
              "      <td>30-40</td>\n",
              "    </tr>\n",
              "    <tr>\n",
              "      <th>13</th>\n",
              "      <td>31</td>\n",
              "      <td>7</td>\n",
              "      <td>$80K - $120K</td>\n",
              "      <td>22.580645</td>\n",
              "      <td>40-50</td>\n",
              "    </tr>\n",
              "    <tr>\n",
              "      <th>14</th>\n",
              "      <td>20</td>\n",
              "      <td>2</td>\n",
              "      <td>$80K - $120K</td>\n",
              "      <td>10.000000</td>\n",
              "      <td>50-60</td>\n",
              "    </tr>\n",
              "    <tr>\n",
              "      <th>15</th>\n",
              "      <td>26</td>\n",
              "      <td>4</td>\n",
              "      <td>Less than $40K</td>\n",
              "      <td>15.384615</td>\n",
              "      <td>30-40</td>\n",
              "    </tr>\n",
              "    <tr>\n",
              "      <th>16</th>\n",
              "      <td>74</td>\n",
              "      <td>22</td>\n",
              "      <td>Less than $40K</td>\n",
              "      <td>29.729730</td>\n",
              "      <td>40-50</td>\n",
              "    </tr>\n",
              "    <tr>\n",
              "      <th>17</th>\n",
              "      <td>50</td>\n",
              "      <td>15</td>\n",
              "      <td>Less than $40K</td>\n",
              "      <td>30.000000</td>\n",
              "      <td>50-60</td>\n",
              "    </tr>\n",
              "    <tr>\n",
              "      <th>18</th>\n",
              "      <td>8</td>\n",
              "      <td>1</td>\n",
              "      <td>Less than $40K</td>\n",
              "      <td>12.500000</td>\n",
              "      <td>60-70</td>\n",
              "    </tr>\n",
              "  </tbody>\n",
              "</table>\n",
              "</div>"
            ],
            "text/plain": [
              "    total_account  closed_account Income_Category  Churn_rate Customer_Age\n",
              "0               5               1         $120K +   20.000000        30-40\n",
              "1              18               4         $120K +   22.222222        40-50\n",
              "2              13               3         $120K +   23.076923        50-60\n",
              "3               1               0         $120K +    0.000000        60-70\n",
              "4              12               1     $40K - $60K    8.333333        30-40\n",
              "5              35               8     $40K - $60K   22.857143        40-50\n",
              "6              16               2     $40K - $60K   12.500000        50-60\n",
              "7               7               0     $40K - $60K    0.000000        60-70\n",
              "8              12               0     $60K - $80K    0.000000        30-40\n",
              "9              29               7     $60K - $80K   24.137931        40-50\n",
              "10             17               0     $60K - $80K    0.000000        50-60\n",
              "11              1               0     $60K - $80K    0.000000        60-70\n",
              "12              6               2    $80K - $120K   33.333333        30-40\n",
              "13             31               7    $80K - $120K   22.580645        40-50\n",
              "14             20               2    $80K - $120K   10.000000        50-60\n",
              "15             26               4  Less than $40K   15.384615        30-40\n",
              "16             74              22  Less than $40K   29.729730        40-50\n",
              "17             50              15  Less than $40K   30.000000        50-60\n",
              "18              8               1  Less than $40K   12.500000        60-70"
            ]
          },
          "metadata": {},
          "execution_count": 38
        }
      ]
    },
    {
      "cell_type": "markdown",
      "metadata": {
        "id": "xchRGgTBypfa"
      },
      "source": [
        "### **Question 8: Which card type of customers has a higher tendency to churn?**"
      ]
    },
    {
      "cell_type": "markdown",
      "metadata": {
        "id": "v6vepgSeI7zS"
      },
      "source": [
        "We group customers by the card category to see if it's related with churn rate."
      ]
    },
    {
      "cell_type": "markdown",
      "metadata": {
        "id": "6gwMMYXKecR4"
      },
      "source": [
        "Firstly we calculate the number of customers in different Card_Category to see the contribution of the variable itself."
      ]
    },
    {
      "cell_type": "code",
      "metadata": {
        "id": "yTUFBtoYdVLc"
      },
      "source": [
        "%%bigquery Card_distribution --project=ba775-team-project\n",
        "SELECT\n",
        "Card_Category, \n",
        "COUNT(Card_Category) AS Customer_num,\n",
        "FROM `ba775-team-project.bankchurners.bankchurners`\n",
        "GROUP BY Card_Category\n",
        "ORDER BY Customer_num DESC"
      ],
      "execution_count": null,
      "outputs": []
    },
    {
      "cell_type": "code",
      "metadata": {
        "id": "mXzNb62Ddr0S"
      },
      "source": [
        "Card_distribution"
      ],
      "execution_count": null,
      "outputs": []
    },
    {
      "cell_type": "code",
      "metadata": {
        "id": "hf7PfZQIqj7h"
      },
      "source": [
        "Card_distribution.plot(title = 'The distribution of card category',kind='bar', \n",
        "                       x='Card_Category', y='Customer_num',\n",
        "                 color = ['#125ca4','#3181bd','#8fc1de','#5ba3cf'], figsize=(9, 5));"
      ],
      "execution_count": null,
      "outputs": []
    },
    {
      "cell_type": "code",
      "metadata": {
        "id": "_ZUrW-UHcZEi"
      },
      "source": [
        "%%bigquery Card_impact --project=ba775-team-project\n",
        "SELECT\n",
        "Card_Category, \n",
        "COUNT(CLIENTNUM) AS Total_Customer,\n",
        "SUM(CASE WHEN Attrition_Flag = \"Attrited Customer\" THEN 1 ELSE 0 END) AS Churn_Customer,\n",
        "SUM(CASE WHEN Attrition_Flag = \"Attrited Customer\" THEN 1 ELSE 0 END)/COUNT(CLIENTNUM)*100 AS Churn_Rate\n",
        "FROM `ba775-team-project.bankchurners.bankchurners`\n",
        "GROUP BY Card_Category\n",
        "ORDER BY Total_Customer DESC"
      ],
      "execution_count": null,
      "outputs": []
    },
    {
      "cell_type": "code",
      "metadata": {
        "id": "cZe1FfvMck7y"
      },
      "source": [
        "Card_impact"
      ],
      "execution_count": null,
      "outputs": []
    },
    {
      "cell_type": "markdown",
      "metadata": {
        "id": "IrjD_6a9cxBA"
      },
      "source": [
        "We create graphs to see the tendency. We can see the customers who have blue card or platinum card are more likely to attrite."
      ]
    },
    {
      "cell_type": "code",
      "metadata": {
        "id": "-vBtHfPacoWh"
      },
      "source": [
        "Card_impact.plot(title = 'The relationship between card category and churn rate',\n",
        "                 kind='bar', x='Card_Category', y='Churn_Rate',\n",
        "                 color = ['#5ba3cf','#8fc1de','#3181bd','#125ca4'], figsize=(9, 5));"
      ],
      "execution_count": null,
      "outputs": []
    },
    {
      "cell_type": "code",
      "metadata": {
        "id": "O9ejcmRfcp8I"
      },
      "source": [
        "%%bigquery --project=ba775-team-project\n",
        "SELECT ((SUM(cards * attrition_flag)-(SUM(cards) * SUM(attrition_flag)) / COUNT(*)))\n",
        "  / (SQRT(SUM(cards * cards)-(SUM(cards) * SUM (cards)) / COUNT(*) ) * SQRT(SUM(attrition_flag * attrition_flag)\n",
        "  -(SUM(attrition_flag) * SUM(attrition_flag)) / COUNT(*))) AS corr\n",
        "FROM \n",
        "(\n",
        "  SELECT \n",
        "  CASE WHEN card_category = 'Blue' THEN 1\n",
        "       WHEN card_category = 'Silver' THEN 2\n",
        "       WHEN card_category = 'Gold' THEN 3\n",
        "       ELSE 4 END as cards,    \n",
        "  CAST(Attrition_Flag = 'Attrited Customer' AS INT) As attrition_flag\n",
        "  FROM ba775-team-project.bankchurners.bankchurners\n",
        ")"
      ],
      "execution_count": null,
      "outputs": []
    },
    {
      "cell_type": "markdown",
      "metadata": {
        "id": "TPzri89Vc2XA"
      },
      "source": [
        "When we assign each card category a value (assending as the category becomes more prestigious), the calculation below shows that there is no correlation between card category and whether the customer will churn."
      ]
    },
    {
      "cell_type": "markdown",
      "metadata": {
        "id": "rHgafYVjyq1F"
      },
      "source": [
        "### **Question 9: How does credit limit affect churn rate?**"
      ]
    },
    {
      "cell_type": "markdown",
      "metadata": {
        "id": "-tf3to-2gvP3"
      },
      "source": [
        "Firstly we calculate the number of customers in different Credit_Limit to see the contribution of the variable itself."
      ]
    },
    {
      "cell_type": "code",
      "metadata": {
        "id": "YXh3xJX8fW1V"
      },
      "source": [
        "%%bigquery Credit_distribution --project=ba775-team-project\n",
        "SELECT\n",
        "CASE\n",
        "    WHEN Credit_Limit>=0 AND Credit_Limit <5000 THEN '0-5000'\n",
        "    WHEN Credit_Limit>=5000 AND Credit_Limit <10000 THEN '05000-10000'\n",
        "    WHEN Credit_Limit>=10000 AND Credit_Limit <15000 THEN '10000-15000'\n",
        "    WHEN Credit_Limit>=15000 AND Credit_Limit <20000 THEN '15000-20000'\n",
        "    WHEN Credit_Limit>=20000 AND Credit_Limit <25000 THEN '20000-25000'\n",
        "    WHEN Credit_Limit>=25000 AND Credit_Limit <30000 THEN '25000-30000'\n",
        "    WHEN Credit_Limit>=30000 AND Credit_Limit <35000 THEN '30000-35000'\n",
        "END as Credit_Limit,\n",
        "COUNT(Credit_Limit) AS Customer_num,\n",
        "FROM `ba775-team-project.bankchurners.bankchurners`\n",
        "GROUP BY Credit_Limit\n",
        "ORDER BY Credit_Limit"
      ],
      "execution_count": null,
      "outputs": []
    },
    {
      "cell_type": "code",
      "metadata": {
        "id": "aimDW57wgKtR"
      },
      "source": [
        "Credit_distribution"
      ],
      "execution_count": null,
      "outputs": []
    },
    {
      "cell_type": "code",
      "metadata": {
        "id": "Iaj_LQtIrb1F"
      },
      "source": [
        "Credit_distribution.plot(title = 'The distribution of Credit_Limit',kind='bar', x='Credit_Limit', y='Customer_num',\n",
        "                 color = ['#137c39','#29924a', '#60ba6c','#a0d89b','#a0d89b','#bbe4b5','#81ca82',], figsize=(9, 5));"
      ],
      "execution_count": null,
      "outputs": []
    },
    {
      "cell_type": "markdown",
      "metadata": {
        "id": "VvYSCCV3Jr3k"
      },
      "source": [
        "We divide the number of attrited customers by the total number of customers group by the Credit_Limit to see whether the credit limit will affect the churn rate."
      ]
    },
    {
      "cell_type": "code",
      "metadata": {
        "id": "JNo58ta3ds_m"
      },
      "source": [
        "%%bigquery Credit_impact --project=ba775-team-project\n",
        "SELECT\n",
        "CASE\n",
        "    WHEN Credit_Limit>=0 AND Credit_Limit <5000 THEN '0-5000'\n",
        "    WHEN Credit_Limit>=5000 AND Credit_Limit <10000 THEN '05000-10000'\n",
        "    WHEN Credit_Limit>=10000 AND Credit_Limit <15000 THEN '10000-15000'\n",
        "    WHEN Credit_Limit>=15000 AND Credit_Limit <20000 THEN '15000-20000'\n",
        "    WHEN Credit_Limit>=20000 AND Credit_Limit <25000 THEN '20000-25000'\n",
        "    WHEN Credit_Limit>=25000 AND Credit_Limit <30000 THEN '25000-30000'\n",
        "    WHEN Credit_Limit>=30000 AND Credit_Limit <35000 THEN '30000-35000'\n",
        "END as Credit_Limit,\n",
        "SUM(CAST(Attrition_Flag = 'Attrited Customer' AS INT)) AS Churn_Customer,\n",
        "COUNT(*) AS Total_Customer,\n",
        "SUM(CAST(Attrition_Flag = 'Attrited Customer' AS INT))/COUNT(*)*100 AS Churn_Rate\n",
        "\n",
        "FROM `ba775-team-project.bankchurners.bankchurners`\n",
        "GROUP BY Credit_Limit\n",
        "ORDER BY Credit_Limit"
      ],
      "execution_count": null,
      "outputs": []
    },
    {
      "cell_type": "code",
      "metadata": {
        "id": "qc0RPKtndwi_"
      },
      "source": [
        "Credit_impact"
      ],
      "execution_count": null,
      "outputs": []
    },
    {
      "cell_type": "code",
      "metadata": {
        "id": "wCOi6uBNdywX"
      },
      "source": [
        "Credit_impact.plot(title = 'The relationship between credit limit and churn rate', kind='bar', \n",
        "                   x='Credit_Limit', y='Churn_Rate', \n",
        "                   color = ['#137c39','#60ba6c','#41a75b','#a0d89b','#bbe4b5','#81ca82','#29924a'], figsize=(9, 5));"
      ],
      "execution_count": null,
      "outputs": []
    },
    {
      "cell_type": "markdown",
      "metadata": {
        "id": "YcM3GnkFd1UW"
      },
      "source": [
        "Create graphs to see the tendency. We can see there is no significant relationship between credit limit and churn rate."
      ]
    },
    {
      "cell_type": "code",
      "metadata": {
        "id": "W9hZVmFmd3Xm"
      },
      "source": [
        "%%bigquery --project=ba775-team-project\n",
        "SELECT ((SUM(credit_limit * attrition_flag)-(SUM(credit_limit) * SUM(attrition_flag)) / COUNT(*)))\n",
        "  / (SQRT(SUM(credit_limit * credit_limit)-(SUM(credit_limit) * SUM (credit_limit)) / COUNT(*) ) * SQRT(SUM(attrition_flag * attrition_flag)\n",
        "  -(SUM(attrition_flag) * SUM(attrition_flag)) / COUNT(*))) AS corr\n",
        "FROM\n",
        "(\n",
        "  SELECT\n",
        "  credit_limit,\n",
        "  CAST(Attrition_Flag = 'Attrited Customer' AS INT) As attrition_flag\n",
        "  FROM ba775-team-project.bankchurners.bankchurners\n",
        ")"
      ],
      "execution_count": null,
      "outputs": []
    },
    {
      "cell_type": "markdown",
      "metadata": {
        "id": "9K2vsFEPd5sX"
      },
      "source": [
        "The calculation of correlation coefficient also shows that there is no significant relationship between credit limit and loss of customer."
      ]
    },
    {
      "cell_type": "markdown",
      "metadata": {
        "id": "fJDPaMLByr-6"
      },
      "source": [
        "### **Question 10: How does the number of contacts by sales representative in the past 12 month affect churn rate?**"
      ]
    },
    {
      "cell_type": "code",
      "metadata": {
        "id": "0o4CkrnIg809"
      },
      "source": [
        "%%bigquery ContactNum_distribution --project=ba775-team-project\n",
        "SELECT \n",
        "CASE\n",
        "  WHEN Contacts_Count_12_mon=0 THEN 'Contacts_0'\n",
        "  WHEN Contacts_Count_12_mon=1 THEN 'Contacts_1'\n",
        "  WHEN Contacts_Count_12_mon=2 THEN 'Contacts_2'\n",
        "  WHEN Contacts_Count_12_mon=3 THEN 'Contacts_3'\n",
        "  WHEN Contacts_Count_12_mon=4 THEN 'Contacts_4'\n",
        "  WHEN Contacts_Count_12_mon=5 THEN 'Contacts_5'\n",
        "  WHEN Contacts_Count_12_mon=6 THEN 'Contacts_6'\n",
        "END as Contacts_Count_12_mon,\n",
        "COUNT(Contacts_Count_12_mon) AS Customer_num,\n",
        "FROM `ba775-team-project.bankchurners.bankchurners`\n",
        "GROUP BY Contacts_Count_12_mon\n",
        "ORDER BY Contacts_Count_12_mon"
      ],
      "execution_count": null,
      "outputs": []
    },
    {
      "cell_type": "code",
      "metadata": {
        "id": "A4iJLigghi3j"
      },
      "source": [
        "ContactNum_distribution"
      ],
      "execution_count": null,
      "outputs": []
    },
    {
      "cell_type": "code",
      "metadata": {
        "id": "tMU0-1tDry-n"
      },
      "source": [
        "ContactNum_distribution.plot(title = 'The distribution of Contact number in last 12 months',kind='bar', \n",
        "                           x='Contacts_Count_12_mon', y='Customer_num',\n",
        "                 color = ['#a7a5cf','#7f77b6','#6f5aa8','#5f3c99','#928ec8','#bcbcdb','#d0d0e6'], figsize=(9, 5));"
      ],
      "execution_count": null,
      "outputs": []
    },
    {
      "cell_type": "markdown",
      "metadata": {
        "id": "IqM4xK6-J5tP"
      },
      "source": [
        "We divide the number of attrited customers by the total number of customers group by the Contacts_Count_12_mon to see whether the number of contacts in last 12 months will affect the churn rate."
      ]
    },
    {
      "cell_type": "code",
      "metadata": {
        "id": "OpkulCDnd8Y-"
      },
      "source": [
        "%%bigquery ContactNum_impact --project=ba775-team-project\n",
        "SELECT \n",
        "CASE\n",
        "  WHEN Contacts_Count_12_mon=0 THEN 'Contacts_0'\n",
        "  WHEN Contacts_Count_12_mon=1 THEN 'Contacts_1'\n",
        "  WHEN Contacts_Count_12_mon=2 THEN 'Contacts_2'\n",
        "  WHEN Contacts_Count_12_mon=3 THEN 'Contacts_3'\n",
        "  WHEN Contacts_Count_12_mon=4 THEN 'Contacts_4'\n",
        "  WHEN Contacts_Count_12_mon=5 THEN 'Contacts_5'\n",
        "  WHEN Contacts_Count_12_mon=6 THEN 'Contacts_6'\n",
        "END as Contacts_Count_12_mon,\n",
        "SUM(CAST(Attrition_flag='Attrited Customer' AS INT)) AS Churn_Customer,\n",
        "COUNT(*) AS Total_Customer,\n",
        "SUM(CAST(Attrition_flag='Attrited Customer' AS INT))/COUNT(*)*100 AS Churn_Rate\n",
        "FROM `ba775-team-project.bankchurners.bankchurners`\n",
        "GROUP BY Contacts_Count_12_mon\n",
        "ORDER BY Contacts_Count_12_mon"
      ],
      "execution_count": null,
      "outputs": []
    },
    {
      "cell_type": "code",
      "metadata": {
        "id": "dNX1v6tveLu9"
      },
      "source": [
        "ContactNum_impact"
      ],
      "execution_count": null,
      "outputs": []
    },
    {
      "cell_type": "code",
      "metadata": {
        "id": "hAnmpZiteNVX"
      },
      "source": [
        "ContactNum_impact.plot(title = 'The relationship between contact number and churn rate', kind='bar', \n",
        "                       x='Contacts_Count_12_mon', y='Churn_Rate', \n",
        "                       color = ['#d0d0e6','#bcbcdb','#a7a5cf','#928ec8','#7f77b6','#6f5aa8','#5f3c99'], figsize=(9, 5));"
      ],
      "execution_count": null,
      "outputs": []
    },
    {
      "cell_type": "markdown",
      "metadata": {
        "id": "keU7oLcneP_1"
      },
      "source": [
        "Create graphs to see the tendency. We can see there is a positive relationship between the number of contacts and churn rate."
      ]
    },
    {
      "cell_type": "code",
      "metadata": {
        "id": "H9g1Do4_ekQ3"
      },
      "source": [
        "%%bigquery --project=ba775-team-project\n",
        "SELECT ((SUM(Contacts_Count_12_mon * attrition_flag)-(SUM(Contacts_Count_12_mon) * SUM(attrition_flag)) / COUNT(*)))\n",
        "  / (SQRT(SUM(Contacts_Count_12_mon * Contacts_Count_12_mon)-(SUM(Contacts_Count_12_mon) * \n",
        "  SUM (Contacts_Count_12_mon)) / COUNT(*) ) * SQRT(SUM(attrition_flag * attrition_flag)\n",
        "  -(SUM(attrition_flag) * SUM(attrition_flag)) / COUNT(*))) AS corr\n",
        "FROM \n",
        "(\n",
        "  SELECT\n",
        "  Contacts_Count_12_mon,\n",
        "  CAST(Attrition_Flag = 'Attrited Customer' AS INT) AS attrition_flag\n",
        "  FROM ba775-team-project.bankchurners.bankchurners\n",
        ")"
      ],
      "execution_count": null,
      "outputs": []
    },
    {
      "cell_type": "markdown",
      "metadata": {
        "id": "FO-HcYqEjMwE"
      },
      "source": [
        "The correlation coefficient of contacts and attrition flag shows that there is a positive relationship between the two rows."
      ]
    },
    {
      "cell_type": "markdown",
      "metadata": {
        "id": "kYqeM_j-ytOA"
      },
      "source": [
        "### **Question 11: How does time length as being our customer affect churn rate?**"
      ]
    },
    {
      "cell_type": "code",
      "metadata": {
        "id": "v8BHKWxCsQEa"
      },
      "source": [
        "%%bigquery Month_distribution --project=ba775-team-project\n",
        "SELECT \n",
        "CASE\n",
        "      WHEN Months_on_Book>=10 AND Months_on_Book <20 then '10-19'\n",
        "      WHEN Months_on_Book>=20 AND Months_on_Book <30 then '20-29'\n",
        "      WHEN Months_on_Book>=30 AND Months_on_Book <40 then '30-39'\n",
        "      ELSE '>= 40'\n",
        "End as Months_on_Book,\n",
        "COUNT(Months_on_Book) AS Customer_num,\n",
        "FROM `ba775-team-project.bankchurners.bankchurners`\n",
        "GROUP BY Months_on_Book\n",
        "ORDER BY Months_on_Book"
      ],
      "execution_count": null,
      "outputs": []
    },
    {
      "cell_type": "code",
      "metadata": {
        "id": "rhJjX39us7gg"
      },
      "source": [
        "Month_distribution"
      ],
      "execution_count": null,
      "outputs": []
    },
    {
      "cell_type": "code",
      "metadata": {
        "id": "b2-Z8wR4s-Ax"
      },
      "source": [
        "Month_distribution.plot(title = 'The distribution of time length as being our customer',kind='bar', \n",
        "                           x='Months_on_Book', y='Customer_num',\n",
        "                 color = ['#fc8767', '#f6573f', '#b21218', '#dc2a25'], figsize=(9, 5));"
      ],
      "execution_count": null,
      "outputs": []
    },
    {
      "cell_type": "markdown",
      "metadata": {
        "id": "w40n_Ho0KFIh"
      },
      "source": [
        "We divide the number of attrited customers by the total number of customers group by the Months_on_book to see whether the time length as being our customer will affect the churn rate."
      ]
    },
    {
      "cell_type": "code",
      "metadata": {
        "id": "T08uNR0aip2-"
      },
      "source": [
        "%%bigquery Time_impact --project=ba775-team-project\n",
        "SELECT\n",
        "CASE\n",
        "      WHEN Months_on_Book>=10 AND Months_on_Book <20 then '10-19'\n",
        "      WHEN Months_on_Book>=20 AND Months_on_Book <30 then '20-29'\n",
        "      WHEN Months_on_Book>=30 AND Months_on_Book <40 then '30-39'\n",
        "      ELSE '>= 40'\n",
        "End as Months_on_Book,\n",
        "SUM(CAST(Attrition_Flag = 'Attrited Customer' AS INT)) AS Churn_Customer,\n",
        "COUNT(*) AS Total_Customer,\n",
        "SUM(CAST(Attrition_Flag = 'Attrited Customer'AS INT))/COUNT(*)*100 AS Churn_Rate\n",
        "\n",
        "FROM `ba775-team-project.bankchurners.bankchurners`\n",
        "GROUP BY Months_on_Book\n",
        "ORDER BY Months_on_Book"
      ],
      "execution_count": null,
      "outputs": []
    },
    {
      "cell_type": "code",
      "metadata": {
        "id": "1WzGwrzjit8m"
      },
      "source": [
        "Time_impact"
      ],
      "execution_count": null,
      "outputs": []
    },
    {
      "cell_type": "code",
      "metadata": {
        "id": "AofBZlKaivqw"
      },
      "source": [
        "Time_impact.plot(title = 'The relationship between time length as being our customer and churn rate', kind='bar', \n",
        "                 x='Months_on_Book', y='Churn_Rate', color = ['#fc8767', '#f6573f', '#b21218', '#dc2a25'],figsize=(9, 5));"
      ],
      "execution_count": null,
      "outputs": []
    },
    {
      "cell_type": "markdown",
      "metadata": {
        "id": "oLQztvwqix1u"
      },
      "source": [
        "Create graphs to see the tendency. We can see the time lengh does affect the churn rate below 39 months, however, it seems to be less influential when it's longer 40 months."
      ]
    },
    {
      "cell_type": "code",
      "metadata": {
        "id": "SxoAb_Exizll"
      },
      "source": [
        "%%bigquery --project=ba775-team-project\n",
        "SELECT ((SUM(months_on_book * attrition_flag)-(SUM(months_on_book) * SUM(attrition_flag)) / COUNT(*)))\n",
        "  / (SQRT(SUM(months_on_book * months_on_book)-(SUM(months_on_book) * SUM (months_on_book)) / COUNT(*) ) \n",
        "  * SQRT(SUM(attrition_flag * attrition_flag)\n",
        "  -(SUM(attrition_flag) * SUM(attrition_flag)) / COUNT(*))) AS corr\n",
        "FROM \n",
        "(\n",
        "  SELECT \n",
        "  months_on_book,\n",
        "  CAST(Attrition_Flag = 'Attrited Customer' AS INT) AS attrition_flag\n",
        "  FROM ba775-team-project.bankchurners.bankchurners\n",
        ")"
      ],
      "execution_count": null,
      "outputs": []
    },
    {
      "cell_type": "markdown",
      "metadata": {
        "id": "RNRLxu8Ci3MW"
      },
      "source": [
        "Below is the correlation between months on book and whether it is a churned customer. Similar to the results of the graphs, there is no significant correlation between the two rows. "
      ]
    },
    {
      "cell_type": "markdown",
      "metadata": {
        "id": "5FBSSl2KyuXy"
      },
      "source": [
        "### **Question 12: How does the number of other existing service affect churn rate?**"
      ]
    },
    {
      "cell_type": "code",
      "metadata": {
        "id": "0bNigksZEUTe"
      },
      "source": [
        "%%bigquery Relation_Impact --project=ba775-team-project\n",
        "SELECT \n",
        "  Total_Relationship_Count AS Total_Products, \n",
        "  SUM(CAST(Attrition_Flag = 'Attrited Customer'AS INT)) AS Churned_Accounts,\n",
        "  COUNT(*) AS Total_Accounts, \n",
        "  SUM(CAST(Attrition_Flag = 'Attrited Customer'AS INT))/COUNT(*)*100 AS Churn_Rate,\n",
        "FROM `ba775-team-project.bankchurners.bankchurners`\n",
        "GROUP BY Total_Relationship_Count\n",
        "ORDER BY Total_Relationship_Count;"
      ],
      "execution_count": null,
      "outputs": []
    },
    {
      "cell_type": "markdown",
      "metadata": {
        "id": "elV-VZWXEgcq"
      },
      "source": [
        "As seen in the table below, customers in the 1-2 product category have the highest churn rates whereas churn rates are observed to be lower for customers with higher number of products."
      ]
    },
    {
      "cell_type": "code",
      "metadata": {
        "id": "DlC4iPVpo3zI"
      },
      "source": [
        "Relation_Impact.plot(title = 'Relationship Between Number of Products & Churn Rates',kind='bar', x='Total_Products', y='Churn_Rate',color = ['#5ba3cf','#8fc1de','#3181bd','#125ca4','#8fc3de'], figsize=(9, 5));"
      ],
      "execution_count": null,
      "outputs": []
    },
    {
      "cell_type": "code",
      "metadata": {
        "id": "tZKykfTJEtut"
      },
      "source": [
        "Relation_Impact"
      ],
      "execution_count": null,
      "outputs": []
    },
    {
      "cell_type": "markdown",
      "metadata": {
        "id": "o7EMZzBrEv8n"
      },
      "source": [
        "Correlation analysis between total number of products and churn rates: -0.15 which shows a negative but weak correlation between the two variables."
      ]
    },
    {
      "cell_type": "code",
      "metadata": {
        "id": "3qX4BoGSEyrV"
      },
      "source": [
        "%%bigquery --project=ba775-team-project\n",
        "SELECT ((SUM(Total_Relationship_Count * attrition_flag)\n",
        "  -(SUM(Total_Relationship_Count) * SUM(attrition_flag)) / COUNT(*))) / (SQRT(SUM(Total_Relationship_Count * Total_Relationship_Count) \n",
        "  -(SUM(Total_Relationship_Count) * SUM (Total_Relationship_Count)) / COUNT(*) ) * SQRT(SUM(attrition_flag * attrition_flag)\n",
        "  -(SUM(attrition_flag) * SUM(attrition_flag)) / COUNT(*))) AS corr\n",
        "FROM\n",
        "(SELECT \n",
        "  Total_Relationship_Count,\n",
        "  CAST(Attrition_Flag = 'Attrited Customer' AS INT) AS attrition_flag\n",
        "  FROM ba775-team-project.bankchurners.bankchurners)"
      ],
      "execution_count": null,
      "outputs": []
    },
    {
      "cell_type": "markdown",
      "metadata": {
        "id": "aWnEIquRyvxO"
      },
      "source": [
        "### **Question 13: How does transaction amount affect churn rate?**"
      ]
    },
    {
      "cell_type": "markdown",
      "metadata": {
        "id": "VXX15CwpKvpz"
      },
      "source": [
        "We divide the number of attrited customers by the total number of customers group by the total transcation amount to see whether the amount our customer spend will affect the churn rate."
      ]
    },
    {
      "cell_type": "code",
      "metadata": {
        "id": "_9kEYWZMleTN"
      },
      "source": [
        "%%bigquery Total_Trans_Amt --project=ba775-team-project\n",
        "/* transacation amount tendency */\n",
        "SELECT SUM(CAST(Attrition_Flag = 'Attrited Customer'AS INT)) AS closed_account,\n",
        "COUNT(*) AS total_account,SUM(CAST(Attrition_Flag = 'Attrited Customer'AS INT))/\n",
        "COUNT(*)*100 AS Churn_rate,\n",
        "CASE\n",
        "      WHEN Total_Trans_Amt <4000 THEN '0-4000'\n",
        "      WHEN Total_Trans_Amt <8000 THEN '4000-8000'\n",
        "      WHEN Total_Trans_Amt <12000 THEN '8000-12000'\n",
        "      WHEN Total_Trans_Amt <16000 THEN '12000-16000'\n",
        "      ELSE '16000-20000'\n",
        "End AS Total_Trans_Amt\n",
        "    \n",
        "FROM `ba775-team-project.bankchurners.bankchurners`\n",
        "GROUP BY Total_Trans_Amt"
      ],
      "execution_count": null,
      "outputs": []
    },
    {
      "cell_type": "code",
      "metadata": {
        "id": "4oCIPz5-wGED"
      },
      "source": [
        "Total_Trans_Amt"
      ],
      "execution_count": null,
      "outputs": []
    },
    {
      "cell_type": "markdown",
      "metadata": {
        "id": "HPUDKdTtwzXX"
      },
      "source": [
        "Create graphs to see the tendency. We can see the customers with transacation amount below 4k tend to have a high churn rate. and customers with transcation amount between 8k to 12K have the highest churn rate. Moreover customers with transcation amount above 12k tend to stuck with us."
      ]
    },
    {
      "cell_type": "code",
      "metadata": {
        "id": "r6alKv2oyT3A"
      },
      "source": [
        "Total_Trans_Amt.plot(title = 'The relationship between transcation amount and churn rate', kind='bar', \n",
        "                       x='Total_Trans_Amt', y='Churn_rate', \n",
        "                       color = ['#bbf90f','#aaff32','#9acd32','#ffff14','#ffff00'], figsize=(9, 5));"
      ],
      "execution_count": null,
      "outputs": []
    },
    {
      "cell_type": "markdown",
      "metadata": {
        "id": "_OKUfe-Dyw8T"
      },
      "source": [
        "### **Question 14: How does revolving balance affect churn rate?**"
      ]
    },
    {
      "cell_type": "markdown",
      "metadata": {
        "id": "p-t1uqIcK8OP"
      },
      "source": [
        "We divide the number of attrited customers by the total number of customers group by the total revolving balance to see whether the revolving balance will affect the churn rate."
      ]
    },
    {
      "cell_type": "code",
      "metadata": {
        "id": "fbN1gCTTlhf6"
      },
      "source": [
        "%%bigquery Total_Revolving_Bal --project=ba775-team-project\n",
        "/* revolving amount tendency */\n",
        "SELECT SUM(CAST(Attrition_Flag = 'Attrited Customer'AS INT)) AS closed_account,\n",
        "COUNT(*) AS total_account,SUM(CAST(Attrition_Flag = 'Attrited Customer'AS int))/\n",
        "COUNT(*)*100 AS Churn_rate,\n",
        "CASE\n",
        "      WHEN Total_Revolving_Bal <500 THEN  '0-500'\n",
        "      WHEN Total_Revolving_Bal <1000 THEN '0500-1000'\n",
        "      WHEN Total_Revolving_Bal <1500 THEN '1000-1500'\n",
        "      WHEN Total_Revolving_Bal <2000 THEN '1500-2000'\n",
        "      ELSE '2000-2500'\n",
        "End AS Total_Revolving_Bal\n",
        "    \n",
        "FROM `ba775-team-project.bankchurners.bankchurners`\n",
        "GROUP BY Total_Revolving_Bal\n",
        "ORDER BY Total_Revolving_Bal"
      ],
      "execution_count": null,
      "outputs": []
    },
    {
      "cell_type": "code",
      "metadata": {
        "id": "bhNpeSSkwrTU"
      },
      "source": [
        "Total_Revolving_Bal"
      ],
      "execution_count": null,
      "outputs": []
    },
    {
      "cell_type": "markdown",
      "metadata": {
        "id": "EfaaFyJdxyeO"
      },
      "source": [
        "Create graphs to see the tendency. We can see the revolving balance does affect the churn rate. customers with very low revolving balance tends to have a very high churn rate."
      ]
    },
    {
      "cell_type": "code",
      "metadata": {
        "id": "HAJu_RAeyyJw"
      },
      "source": [
        "Total_Revolving_Bal.plot(title = 'The relationship between revolving balance and churn rate', kind='bar', \n",
        "                       x='Total_Revolving_Bal', y='Churn_rate', \n",
        "                       color = ['#7f77b6','#a7a5cf','#d0d0e6','#bcbcdb','#928ec8'], figsize=(9, 5));"
      ],
      "execution_count": null,
      "outputs": []
    },
    {
      "cell_type": "markdown",
      "metadata": {
        "id": "3Ho5ReoJkdFq"
      },
      "source": [
        "### **Q15: What are the characteristics of people with high revolving balance? How about the ones with a low balance?**"
      ]
    },
    {
      "cell_type": "markdown",
      "metadata": {
        "id": "r8xEpaJ7-UlX"
      },
      "source": [
        "Calculate the customer numbers in different characteristics of people, such as income, card type etc. So we can see what specific types of customer will have higher or lower revolving balance. "
      ]
    },
    {
      "cell_type": "code",
      "metadata": {
        "id": "XoMhg3yRsqBh"
      },
      "source": [
        "%%bigquery RevBal_high --project=ba775-team-project\n",
        "SELECT\n",
        "Income_Category, Education_Level, Card_Category, COUNT(Card_Category) AS Customer_count FROM `ba775-team-project.bankchurners.bankchurners`\n",
        "WHERE Total_Revolving_Bal >= 2000 AND Income_Category NOT LIKE '%Unknown' AND Education_Level NOT LIKE '%Unknown' AND Card_Category NOT LIKE '%Unknown'\n",
        "GROUP BY Income_Category, Education_Level, Card_Category\n",
        "ORDER BY Customer_count DESC\n",
        "LIMIT 4"
      ],
      "execution_count": 31,
      "outputs": []
    },
    {
      "cell_type": "code",
      "metadata": {
        "id": "Q0cLZ-mF1qEr",
        "colab": {
          "base_uri": "https://localhost:8080/",
          "height": 172
        },
        "outputId": "8302d046-fbc9-4eda-fe8c-89e02def4ff5"
      },
      "source": [
        "RevBal_high"
      ],
      "execution_count": 33,
      "outputs": [
        {
          "output_type": "execute_result",
          "data": {
            "text/html": [
              "<div>\n",
              "<style scoped>\n",
              "    .dataframe tbody tr th:only-of-type {\n",
              "        vertical-align: middle;\n",
              "    }\n",
              "\n",
              "    .dataframe tbody tr th {\n",
              "        vertical-align: top;\n",
              "    }\n",
              "\n",
              "    .dataframe thead th {\n",
              "        text-align: right;\n",
              "    }\n",
              "</style>\n",
              "<table border=\"1\" class=\"dataframe\">\n",
              "  <thead>\n",
              "    <tr style=\"text-align: right;\">\n",
              "      <th></th>\n",
              "      <th>Income_Category</th>\n",
              "      <th>Education_Level</th>\n",
              "      <th>Card_Category</th>\n",
              "      <th>Customer_count</th>\n",
              "    </tr>\n",
              "  </thead>\n",
              "  <tbody>\n",
              "    <tr>\n",
              "      <th>0</th>\n",
              "      <td>Less than $40K</td>\n",
              "      <td>Graduate</td>\n",
              "      <td>Blue</td>\n",
              "      <td>180</td>\n",
              "    </tr>\n",
              "    <tr>\n",
              "      <th>1</th>\n",
              "      <td>Less than $40K</td>\n",
              "      <td>High School</td>\n",
              "      <td>Blue</td>\n",
              "      <td>111</td>\n",
              "    </tr>\n",
              "    <tr>\n",
              "      <th>2</th>\n",
              "      <td>$80K - $120K</td>\n",
              "      <td>Graduate</td>\n",
              "      <td>Blue</td>\n",
              "      <td>85</td>\n",
              "    </tr>\n",
              "    <tr>\n",
              "      <th>3</th>\n",
              "      <td>Less than $40K</td>\n",
              "      <td>Uneducated</td>\n",
              "      <td>Blue</td>\n",
              "      <td>81</td>\n",
              "    </tr>\n",
              "  </tbody>\n",
              "</table>\n",
              "</div>"
            ],
            "text/plain": [
              "  Income_Category Education_Level Card_Category  Customer_count\n",
              "0  Less than $40K        Graduate          Blue             180\n",
              "1  Less than $40K     High School          Blue             111\n",
              "2    $80K - $120K        Graduate          Blue              85\n",
              "3  Less than $40K      Uneducated          Blue              81"
            ]
          },
          "metadata": {},
          "execution_count": 33
        }
      ]
    },
    {
      "cell_type": "code",
      "metadata": {
        "id": "oyz3h1m137a3"
      },
      "source": [
        "%%bigquery RevBal_low --project=ba775-team-project\n",
        "SELECT \n",
        "Income_Category, \n",
        "Education_Level, \n",
        "Card_Category, \n",
        "COUNT(Card_Category) AS Customer_count FROM `ba775-team-project.bankchurners.bankchurners`\n",
        "WHERE Total_Revolving_Bal < 1000 AND Income_Category NOT LIKE '%Unknown' AND Education_Level NOT LIKE '%Unknown' AND Card_Category NOT LIKE '%Unknown'\n",
        "GROUP BY Customer_Age, Income_Category, Education_Level, Card_Category\n",
        "ORDER BY Customer_count DESC\n",
        "LIMIT 4"
      ],
      "execution_count": 32,
      "outputs": []
    },
    {
      "cell_type": "code",
      "metadata": {
        "id": "-nNyO2Ak4Cxz",
        "colab": {
          "base_uri": "https://localhost:8080/",
          "height": 172
        },
        "outputId": "ba48c3e6-bc21-466f-87ec-dfef01829c3d"
      },
      "source": [
        "RevBal_low"
      ],
      "execution_count": 34,
      "outputs": [
        {
          "output_type": "execute_result",
          "data": {
            "text/html": [
              "<div>\n",
              "<style scoped>\n",
              "    .dataframe tbody tr th:only-of-type {\n",
              "        vertical-align: middle;\n",
              "    }\n",
              "\n",
              "    .dataframe tbody tr th {\n",
              "        vertical-align: top;\n",
              "    }\n",
              "\n",
              "    .dataframe thead th {\n",
              "        text-align: right;\n",
              "    }\n",
              "</style>\n",
              "<table border=\"1\" class=\"dataframe\">\n",
              "  <thead>\n",
              "    <tr style=\"text-align: right;\">\n",
              "      <th></th>\n",
              "      <th>Income_Category</th>\n",
              "      <th>Education_Level</th>\n",
              "      <th>Card_Category</th>\n",
              "      <th>Customer_count</th>\n",
              "    </tr>\n",
              "  </thead>\n",
              "  <tbody>\n",
              "    <tr>\n",
              "      <th>0</th>\n",
              "      <td>Less than $40K</td>\n",
              "      <td>Graduate</td>\n",
              "      <td>Blue</td>\n",
              "      <td>22</td>\n",
              "    </tr>\n",
              "    <tr>\n",
              "      <th>1</th>\n",
              "      <td>Less than $40K</td>\n",
              "      <td>Graduate</td>\n",
              "      <td>Blue</td>\n",
              "      <td>22</td>\n",
              "    </tr>\n",
              "    <tr>\n",
              "      <th>2</th>\n",
              "      <td>Less than $40K</td>\n",
              "      <td>Graduate</td>\n",
              "      <td>Blue</td>\n",
              "      <td>21</td>\n",
              "    </tr>\n",
              "    <tr>\n",
              "      <th>3</th>\n",
              "      <td>Less than $40K</td>\n",
              "      <td>Graduate</td>\n",
              "      <td>Blue</td>\n",
              "      <td>21</td>\n",
              "    </tr>\n",
              "  </tbody>\n",
              "</table>\n",
              "</div>"
            ],
            "text/plain": [
              "  Income_Category Education_Level Card_Category  Customer_count\n",
              "0  Less than $40K        Graduate          Blue              22\n",
              "1  Less than $40K        Graduate          Blue              22\n",
              "2  Less than $40K        Graduate          Blue              21\n",
              "3  Less than $40K        Graduate          Blue              21"
            ]
          },
          "metadata": {},
          "execution_count": 34
        }
      ]
    },
    {
      "cell_type": "markdown",
      "metadata": {
        "id": "ruaO5_U0_MaW"
      },
      "source": [
        "Also, we try to create a simple regression of two continuous variables which is Credit_Limit and Totlal_Revolving_Bal in this part. We assign Credit_Limit as x and Total_Revolving_Bal as y to calculate the average, slope and intercept in order to do regression."
      ]
    },
    {
      "cell_type": "code",
      "metadata": {
        "id": "HR61QGf6yVg7"
      },
      "source": [
        "%%bigquery regression --project=ba775-team-project\n",
        "WITH regression AS (\n",
        "\t\tSELECT \n",
        "\t\t\tslope, \n",
        "            ymS - xmS * slope AS intercept\n",
        "\t\tFROM (\n",
        "\t\t\tSELECT\n",
        "\t\t\t\tSUM((x - xm) * (y - ym)) / SUM((x - xm) * (x - xm)) AS slope,\n",
        "\t\t\t\tMAX(xm) AS xmS,\n",
        "\t\t\t\tMAX(ym) AS ymS\n",
        "\t\t\tFROM (\n",
        "\t\t\t\tselect\n",
        "\t\t\t\t\tCredit_Limit AS x, AVG(Credit_Limit) OVER() AS xm,\n",
        "\t\t\t\t\tTotal_Revolving_Bal AS y, AVG(Total_Revolving_Bal) OVER() AS ym\n",
        "\t\t\t\tFROM ba775-team-project.bankchurners.bankchurners\n",
        "\t\t\t) table1\n",
        "\t\t) table2\n",
        ")\n",
        "SELECT\n",
        "\tCredit_Limit, Total_Revolving_Bal,\n",
        "\t(Credit_Limit * (select slope from regression) + (select intercept from regression)) as predicted_RevolBal\n",
        "FROM ba775-team-project.bankchurners.bankchurners"
      ],
      "execution_count": 35,
      "outputs": []
    },
    {
      "cell_type": "code",
      "metadata": {
        "colab": {
          "base_uri": "https://localhost:8080/",
          "height": 417
        },
        "id": "v04nVihiycG6",
        "outputId": "85e8d71d-5dc8-4834-d25c-7aae9e81e73e"
      },
      "source": [
        "regression"
      ],
      "execution_count": 36,
      "outputs": [
        {
          "output_type": "execute_result",
          "data": {
            "text/html": [
              "<div>\n",
              "<style scoped>\n",
              "    .dataframe tbody tr th:only-of-type {\n",
              "        vertical-align: middle;\n",
              "    }\n",
              "\n",
              "    .dataframe tbody tr th {\n",
              "        vertical-align: top;\n",
              "    }\n",
              "\n",
              "    .dataframe thead th {\n",
              "        text-align: right;\n",
              "    }\n",
              "</style>\n",
              "<table border=\"1\" class=\"dataframe\">\n",
              "  <thead>\n",
              "    <tr style=\"text-align: right;\">\n",
              "      <th></th>\n",
              "      <th>Credit_Limit</th>\n",
              "      <th>Total_Revolving_Bal</th>\n",
              "      <th>predicted_RevolBal</th>\n",
              "    </tr>\n",
              "  </thead>\n",
              "  <tbody>\n",
              "    <tr>\n",
              "      <th>0</th>\n",
              "      <td>2002.0</td>\n",
              "      <td>0</td>\n",
              "      <td>1137.551970</td>\n",
              "    </tr>\n",
              "    <tr>\n",
              "      <th>1</th>\n",
              "      <td>12315.0</td>\n",
              "      <td>0</td>\n",
              "      <td>1176.847561</td>\n",
              "    </tr>\n",
              "    <tr>\n",
              "      <th>2</th>\n",
              "      <td>34516.0</td>\n",
              "      <td>1380</td>\n",
              "      <td>1261.439961</td>\n",
              "    </tr>\n",
              "    <tr>\n",
              "      <th>3</th>\n",
              "      <td>27436.0</td>\n",
              "      <td>642</td>\n",
              "      <td>1234.463059</td>\n",
              "    </tr>\n",
              "    <tr>\n",
              "      <th>4</th>\n",
              "      <td>34516.0</td>\n",
              "      <td>2273</td>\n",
              "      <td>1261.439961</td>\n",
              "    </tr>\n",
              "    <tr>\n",
              "      <th>...</th>\n",
              "      <td>...</td>\n",
              "      <td>...</td>\n",
              "      <td>...</td>\n",
              "    </tr>\n",
              "    <tr>\n",
              "      <th>10122</th>\n",
              "      <td>4742.0</td>\n",
              "      <td>2221</td>\n",
              "      <td>1147.992183</td>\n",
              "    </tr>\n",
              "    <tr>\n",
              "      <th>10123</th>\n",
              "      <td>5542.0</td>\n",
              "      <td>0</td>\n",
              "      <td>1151.040421</td>\n",
              "    </tr>\n",
              "    <tr>\n",
              "      <th>10124</th>\n",
              "      <td>1438.3</td>\n",
              "      <td>0</td>\n",
              "      <td>1135.404106</td>\n",
              "    </tr>\n",
              "    <tr>\n",
              "      <th>10125</th>\n",
              "      <td>9909.0</td>\n",
              "      <td>0</td>\n",
              "      <td>1167.679987</td>\n",
              "    </tr>\n",
              "    <tr>\n",
              "      <th>10126</th>\n",
              "      <td>2475.0</td>\n",
              "      <td>0</td>\n",
              "      <td>1139.354240</td>\n",
              "    </tr>\n",
              "  </tbody>\n",
              "</table>\n",
              "<p>10127 rows × 3 columns</p>\n",
              "</div>"
            ],
            "text/plain": [
              "       Credit_Limit  Total_Revolving_Bal  predicted_RevolBal\n",
              "0            2002.0                    0         1137.551970\n",
              "1           12315.0                    0         1176.847561\n",
              "2           34516.0                 1380         1261.439961\n",
              "3           27436.0                  642         1234.463059\n",
              "4           34516.0                 2273         1261.439961\n",
              "...             ...                  ...                 ...\n",
              "10122        4742.0                 2221         1147.992183\n",
              "10123        5542.0                    0         1151.040421\n",
              "10124        1438.3                    0         1135.404106\n",
              "10125        9909.0                    0         1167.679987\n",
              "10126        2475.0                    0         1139.354240\n",
              "\n",
              "[10127 rows x 3 columns]"
            ]
          },
          "metadata": {},
          "execution_count": 36
        }
      ]
    },
    {
      "cell_type": "markdown",
      "metadata": {
        "id": "pxypaxyw_nbW"
      },
      "source": [
        "However, through the graphs, we can see there is no significant relationship between two variables. Therefore, it is hard to creat a meaningful trend line."
      ]
    },
    {
      "cell_type": "code",
      "metadata": {
        "id": "9R3LtKl4ybfi"
      },
      "source": [
        "regression.plot(kind='scatter', x='Credit_Limit', y='Total_Revolving_Bal', figsize=(9, 5));"
      ],
      "execution_count": null,
      "outputs": []
    },
    {
      "cell_type": "code",
      "metadata": {
        "id": "DlsR2eWf2zrM"
      },
      "source": [
        "regression.plot(kind='scatter', x='Credit_Limit', y='predicted_RevolBal', figsize=(9, 5));"
      ],
      "execution_count": null,
      "outputs": []
    },
    {
      "cell_type": "markdown",
      "metadata": {
        "id": "pdx-eZ3LdsCP"
      },
      "source": [
        "\n",
        "1.\tWhat is the overall churn rate of our customer?\n",
        "2.\tWhat is our user portrait like in terms of age, gender, educational level and income?\n",
        "3.\tWhat age group of customers has a higher tendency to churn?\n",
        "4.\tWhich education category of customers has a higher tendency to churn?\n",
        "5.\tWhich income category of customers has a higher tendency to churn?\n",
        "6.\tWhich marriage type of customers has a higher tendency to churn?\n",
        "7.\tHow does dependent count influence churn rate?\n",
        "8.\tWhich card type of customers has a higher tendency to churn?\n",
        "9.\tHow does credit limit affect churn rate?\n",
        "10.\tHow does the number of contacts by sales representative in the past 12 month affect churn rate?\n",
        "11.\tHow does time length as being our customer affect churn rate?\n",
        "12.\tHow does the number of other existing service affect churn rate?\n",
        "13.\tHow does transaction amount affect churn rate?\n",
        "14.\tHow does revolving balance affect churn rate?\n",
        "15. What are the characteristics of people with high revolving balance. How about the ones with a low balance?\n"
      ]
    },
    {
      "cell_type": "markdown",
      "metadata": {
        "id": "GGyvbXs3r4sN"
      },
      "source": [
        "# **Following are a few questions that we aim to answer through our analysis**"
      ]
    },
    {
      "cell_type": "markdown",
      "metadata": {
        "id": "0yhtwJiMIccd"
      },
      "source": [
        "# **Conclusions**"
      ]
    },
    {
      "cell_type": "markdown",
      "metadata": {
        "id": "aVuN9l3PT6xy"
      },
      "source": [
        "Through churn analysis, we found that customers in middle age, with doctorate degrees, holding platinum(highest category) cards, having extremely low or high income, and having extremely high or low credit limit have high tendency to churn. The manager should spend more efforts on customers retention for those with these attributes. \n",
        "\n",
        "In addition, customers with increased engagement with sales representative, customers with few other bank products, and customers with low revolving balance tend to have high churn rate. We recommend the manager to provide promotion bundles to sell more bank products to increase loyalty, prioritize customers with low balance, and optimize customer service efficiency and quality to reduce churn rate.\n",
        "\n",
        "While the results of this analysis produced many interesting insights, there are still some limitations in this study. For example, many of the correlation coefficients as mentioned in the analysis are close to zero, which show that there is no significant relationship between the variables and churn rate. This may be because the relationship between the variables and churn rate is non-linear. \n",
        "\n",
        "\n"
      ]
    },
    {
      "cell_type": "markdown",
      "metadata": {
        "id": "KnW17rquWexP"
      },
      "source": [
        "# **Future Studies**"
      ]
    },
    {
      "cell_type": "markdown",
      "metadata": {
        "id": "H9gS6O3TWj0i"
      },
      "source": [
        "The text or audio analysis can be performed to study why customer service leads to high churn rate. \n",
        "\n",
        "Also, a machine learning model can be built with features of age, educational level, card type, income, credit limit, contacts with sales reprepresentative, holdings of other bank products, and revolving balance. With this machine learning model, the manager can predict whether certain customer will tend to attrite in order to prevent attrition beforehead and reduce customer rentention cost."
      ]
    }
  ]
}