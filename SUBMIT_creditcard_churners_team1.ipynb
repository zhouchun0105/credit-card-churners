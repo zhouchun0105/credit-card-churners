{
  "nbformat": 4,
  "nbformat_minor": 0,
  "metadata": {
    "colab": {
      "name": "SUBMIT: creditcard-churners-team1.ipynb",
      "provenance": [],
      "collapsed_sections": [],
      "include_colab_link": true
    },
    "kernelspec": {
      "name": "python3",
      "display_name": "Python 3"
    },
    "language_info": {
      "name": "python"
    }
  },
  "cells": [
    {
      "cell_type": "markdown",
      "metadata": {
        "id": "view-in-github",
        "colab_type": "text"
      },
      "source": [
        "<a href=\"https://colab.research.google.com/github/zhouchun0105/credit-card-churners/blob/main/SUBMIT_creditcard_churners_team1.ipynb\" target=\"_parent\"><img src=\"https://colab.research.google.com/assets/colab-badge.svg\" alt=\"Open In Colab\"/></a>"
      ]
    },
    {
      "cell_type": "code",
      "metadata": {
        "id": "kngu_rU0om2O"
      },
      "source": [
        ""
      ],
      "execution_count": null,
      "outputs": []
    },
    {
      "cell_type": "markdown",
      "metadata": {
        "id": "C02XoOdl1oTp"
      },
      "source": [
        "Task:\n",
        "1. Finish this documentation before Tuesday meeting\n",
        "2. Read the SUBMIT file's \"Description of Data\" to fully understand your feature.\n",
        "3. Read the SUBMIT file's \"Introduction\" to fit your smaller question to the project's goal.\n",
        "4. Before each chunk of code, write text of what outcome you try to achieve with this code.\n",
        "5. At the end of your question, write text to answer your question, and how it help to answer the project goal's question.\n",
        "6. Remember to label your graph and table (have headers etc.)\n",
        "7. On Tuesday meeting, find places to improve and spot errors.\n",
        "\n",
        "Note:\n",
        "- Chun works for Overall Documentation and ML (optional)\n",
        "- Ana works for Q2 and Q12 and ML (optional)\n",
        "\n",
        "Please fill in the following:\n",
        "-  Ann Lu is responsible for Question #\n",
        "- Phyllis is responsible for Question #\n",
        "- Zijing is responsible for Question #1,3,4,5,6,7,13,14\n",
        "- Yuhan is responsible for Question #\n",
        "\n",
        "Everyone should be responsible for 2-4 questions\n"
      ]
    },
    {
      "cell_type": "markdown",
      "metadata": {
        "id": "3t25mxp-rh3j"
      },
      "source": [
        "# **Credit Card Customer Churn Analysis and Predictions**"
      ]
    },
    {
      "cell_type": "markdown",
      "metadata": {
        "id": "YZEBJkkurplZ"
      },
      "source": [
        "Team 1, Afternoon Session\n",
        "\n",
        "Ana Maharjan, Ann Lu, Chun Zhou, Phyllis Cao, Yuhan Wang, Zijing Wang\n",
        "\n",
        "2021/08/26\n",
        "\n",
        "\n",
        "\n"
      ]
    },
    {
      "cell_type": "markdown",
      "metadata": {
        "id": "IHqOosRxhK5q"
      },
      "source": [
        "# **Introduction**"
      ]
    },
    {
      "cell_type": "markdown",
      "metadata": {
        "id": "aSKOtv6YhNh9"
      },
      "source": [
        "A manager at the bank wants to know why customers stop their credit card services. Our goal is to perform churn rate analysis to spot the causes of churning and predict which customers will churn. This helps the bank reduce the cost of customer retention."
      ]
    },
    {
      "cell_type": "markdown",
      "metadata": {
        "id": "GGyvbXs3r4sN"
      },
      "source": [
        "## **Following are a few questions that we aim to answer through our analysis**"
      ]
    },
    {
      "cell_type": "markdown",
      "metadata": {
        "id": "pdx-eZ3LdsCP"
      },
      "source": [
        "\n",
        "1.\tWhat is the overall churn rate of our customer?\n",
        "2.\tWhat is our user portrait like in terms of age, gender, educational level and income?\n",
        "3.\tWhat age group of customers has a higher tendency to churn?\n",
        "4.\tWhich education category of customers has a higher tendency to churn?\n",
        "5.\tWhich income category of customers has a higher tendency to churn?\n",
        "6.\tWhich marriage type of customers has a higher tendency to churn?\n",
        "7.\tHow does dependent count influence churn rate?\n",
        "8.\tWhich card type of customers has a higher tendency to churn?\n",
        "9.\tHow does credit limit affect churn rate?\n",
        "10.\tHow does the number of contacts by sales representative in the past 12 month affect churn rate?\n",
        "11.\tHow does time length as being our customer affect churn rate?\n",
        "12.\tHow does the number of other existing service affect churn rate?\n",
        "13.\tHow does transaction amount affect churn rate?\n",
        "14.\tHow does revolving balance affect churn rate?\n"
      ]
    },
    {
      "cell_type": "markdown",
      "metadata": {
        "id": "mcyXdbKHd49A"
      },
      "source": [
        "\n",
        "\n",
        "---\n",
        "\n",
        "\n",
        "Explanation (to be deleted): \n",
        "Q11 refer to month on book column\n",
        "Q12 refer to total relationship count column\n",
        "\n",
        "\n",
        "---\n",
        "\n",
        "\n",
        "\n",
        "\n"
      ]
    },
    {
      "cell_type": "markdown",
      "metadata": {
        "id": "bFQWTUWGeTpa"
      },
      "source": [
        "## **Description of Data**"
      ]
    },
    {
      "cell_type": "markdown",
      "metadata": {
        "id": "R368iixlDcWi"
      },
      "source": [
        "The data is about credit card customer, product and service. It has 21 features and 10128 rows. Customer demographic feature, customer card activity, credit card feature, and service feature are included. The detailed feature names and their explanations are shown below:\n",
        "\n"
      ]
    },
    {
      "cell_type": "markdown",
      "metadata": {
        "id": "Xp6trzQNhZrs"
      },
      "source": [
        "*CLIENTNUM*: Client number. Unique identifier for the customer holding the account\n",
        "\n",
        "*Attrition_Flag*: customer activity variable - if the account is closed then 1 else 0\n",
        "\n",
        "*Customer_Age*: Demographic variable - Customer's Age in Years\n",
        "\n",
        "*Gender*: Demographic variable - M=Male, F=Female\n",
        "\n",
        "*Dependent_count*: Demographic variable - Number of dependents\n",
        "\n",
        "*Education_Level*: Demographic variable - Educational Qualification of the account holder (example: high school, college graduate, etc.)\n",
        "\n",
        "*Marital_Status*: Demographic variable - Married, Single, Divorced, Unknown\n",
        "\n",
        "*Income_Category*: Demographic variable - Annual Income Category of the account holder (<  40𝐾,\n",
        "40\n",
        "K\n",
        ",\n",
        " 40K - 60K,  60𝐾−\n",
        "60\n",
        "K\n",
        "−\n",
        " 80K,  80𝐾−\n",
        "80\n",
        "K\n",
        "−\n",
        " 120K, > $120K, Unknown)\n",
        "\n",
        "*Card_Category*: Product Variable - Type of Card (Blue, Silver, Gold, Platinum)\n",
        "\n",
        "*Months_on_book*: Period of relationship with bank\n",
        "\n",
        "*Total_Relationship_Count*: Total no. of products held by the customer\n",
        "\n",
        "*Months_Inactive_12_mon*: No. of months inactive in the last 12 months\n",
        "\n",
        "*Contacts_Count_12_mon*: No. of Contacts in the last 12 months\n",
        "\n",
        "*Credit_Limit*: Credit Limit on the Credit Card\n",
        "\n",
        "*Total_Revolving_Bal*: Total Revolving Balance on the Credit Card\n",
        "\n",
        "*Avg_Open_To_Buy*: Open to Buy Credit Line (Average of last 12 months)\n",
        "\n",
        "*Total_Amt_Chng_Q4_Q1*: Change in Transaction Amount (Q4 over Q1)\n",
        "\n",
        "*Total_Trans_Amt*: Total Transaction Amount (Last 12 months)\n",
        "\n",
        "*Total_Trans_Ct*: Total Transaction Count (Last 12 months)\n",
        "\n",
        "*Total_Ct_Chng_Q4_Q1*: Change in Transaction Count (Q4 over Q1)\n",
        "\n",
        "*Avg_Utilization_Ratio*: Average Card Utilization Ratio"
      ]
    },
    {
      "cell_type": "code",
      "metadata": {
        "id": "CAuPh33xcc8J"
      },
      "source": [
        "from google.colab import auth\n",
        "auth.authenticate_user()"
      ],
      "execution_count": 1,
      "outputs": []
    },
    {
      "cell_type": "markdown",
      "metadata": {
        "id": "tJqrY4JKhcAb"
      },
      "source": [
        "### **Question 1: What is the overall churn rate of our customer?**"
      ]
    },
    {
      "cell_type": "code",
      "metadata": {
        "colab": {
          "base_uri": "https://localhost:8080/",
          "height": 80
        },
        "id": "nIoCkgfikagF",
        "outputId": "75d02b2f-8917-4a7b-c78b-d8db800f2ade"
      },
      "source": [
        "%%bigquery --project=ba-775-summer-21\n",
        "/* churn rate */\n",
        "SELECT sum(CAST(Attrition_Flag = 'Attrited Customer'as int)) as closed_acctount, count(Attrition_Flag) as total_account, sum(CAST(Attrition_Flag = 'Attrited Customer'as int))/count(Attrition_Flag)*100 as Churn_rate\n",
        "FROM `ba-775-summer-21.project1team1.bankchurners`\n",
        "where Attrition_Flag is not null"
      ],
      "execution_count": 8,
      "outputs": [
        {
          "output_type": "execute_result",
          "data": {
            "text/html": [
              "<div>\n",
              "<style scoped>\n",
              "    .dataframe tbody tr th:only-of-type {\n",
              "        vertical-align: middle;\n",
              "    }\n",
              "\n",
              "    .dataframe tbody tr th {\n",
              "        vertical-align: top;\n",
              "    }\n",
              "\n",
              "    .dataframe thead th {\n",
              "        text-align: right;\n",
              "    }\n",
              "</style>\n",
              "<table border=\"1\" class=\"dataframe\">\n",
              "  <thead>\n",
              "    <tr style=\"text-align: right;\">\n",
              "      <th></th>\n",
              "      <th>closed_acctount</th>\n",
              "      <th>total_account</th>\n",
              "      <th>Churn_rate</th>\n",
              "    </tr>\n",
              "  </thead>\n",
              "  <tbody>\n",
              "    <tr>\n",
              "      <th>0</th>\n",
              "      <td>1627</td>\n",
              "      <td>10127</td>\n",
              "      <td>16.065962</td>\n",
              "    </tr>\n",
              "  </tbody>\n",
              "</table>\n",
              "</div>"
            ],
            "text/plain": [
              "   closed_acctount  total_account  Churn_rate\n",
              "0             1627          10127   16.065962"
            ]
          },
          "metadata": {},
          "execution_count": 8
        }
      ]
    },
    {
      "cell_type": "markdown",
      "metadata": {
        "id": "oaocYiQ9yN9e"
      },
      "source": [
        "### **Question 2: What is our user portrait like in terms of age, gender, educational level and income?**"
      ]
    },
    {
      "cell_type": "markdown",
      "metadata": {
        "id": "hI4sjUUbyWeJ"
      },
      "source": [
        "### **Question 3: What age group of customers has a higher tendency to churn?**"
      ]
    },
    {
      "cell_type": "code",
      "metadata": {
        "id": "LB_KmbiVk91m"
      },
      "source": [
        "%%bigquery age_tendency --project=ba-775-summer-21\n",
        "/* age group tendency */\n",
        "SELECT sum(CAST(Attrition_Flag = 'Attrited Customer'as int)) as closed_account,count(*) as total_account,sum(CAST(Attrition_Flag = 'Attrited Customer'as int))/count(*)*100 as Churn_rate,\n",
        "case\n",
        "      WHEN Customer_Age <10 then '0-10'\n",
        "      WHEN Customer_Age <20 then '10-20'\n",
        "      WHEN Customer_Age <30 then '20-30'\n",
        "      WHEN Customer_Age <40 then '30-40'\n",
        "      WHEN Customer_Age <50 then '40-50'\n",
        "      WHEN Customer_Age <60 then '50-60'\n",
        "      WHEN Customer_Age <70 then '60-70'\n",
        "      ELSE '70-80'\n",
        "    End as Customer_Age\n",
        "    \n",
        "FROM `ba-775-summer-21.project1team1.bankchurners`\n",
        "group by Customer_Age\n",
        "order by Customer_Age"
      ],
      "execution_count": 9,
      "outputs": []
    },
    {
      "cell_type": "markdown",
      "metadata": {
        "id": "QXR9GHfsnOp4"
      },
      "source": [
        "Divide the number of attrited customers by the total number of customers group by the age category to see what's the churn rate of each group"
      ]
    },
    {
      "cell_type": "code",
      "metadata": {
        "colab": {
          "base_uri": "https://localhost:8080/",
          "height": 235
        },
        "id": "JsMM8aZpnZ2F",
        "outputId": "d1dedc31-fc4d-4320-f77d-21a9a9da3f47"
      },
      "source": [
        "age_tendency"
      ],
      "execution_count": 10,
      "outputs": [
        {
          "output_type": "execute_result",
          "data": {
            "text/html": [
              "<div>\n",
              "<style scoped>\n",
              "    .dataframe tbody tr th:only-of-type {\n",
              "        vertical-align: middle;\n",
              "    }\n",
              "\n",
              "    .dataframe tbody tr th {\n",
              "        vertical-align: top;\n",
              "    }\n",
              "\n",
              "    .dataframe thead th {\n",
              "        text-align: right;\n",
              "    }\n",
              "</style>\n",
              "<table border=\"1\" class=\"dataframe\">\n",
              "  <thead>\n",
              "    <tr style=\"text-align: right;\">\n",
              "      <th></th>\n",
              "      <th>closed_account</th>\n",
              "      <th>total_account</th>\n",
              "      <th>Churn_rate</th>\n",
              "      <th>Customer_Age</th>\n",
              "    </tr>\n",
              "  </thead>\n",
              "  <tbody>\n",
              "    <tr>\n",
              "      <th>0</th>\n",
              "      <td>17</td>\n",
              "      <td>195</td>\n",
              "      <td>8.717949</td>\n",
              "      <td>20-30</td>\n",
              "    </tr>\n",
              "    <tr>\n",
              "      <th>1</th>\n",
              "      <td>261</td>\n",
              "      <td>1841</td>\n",
              "      <td>14.177078</td>\n",
              "      <td>30-40</td>\n",
              "    </tr>\n",
              "    <tr>\n",
              "      <th>2</th>\n",
              "      <td>772</td>\n",
              "      <td>4561</td>\n",
              "      <td>16.926113</td>\n",
              "      <td>40-50</td>\n",
              "    </tr>\n",
              "    <tr>\n",
              "      <th>3</th>\n",
              "      <td>506</td>\n",
              "      <td>2998</td>\n",
              "      <td>16.877919</td>\n",
              "      <td>50-60</td>\n",
              "    </tr>\n",
              "    <tr>\n",
              "      <th>4</th>\n",
              "      <td>71</td>\n",
              "      <td>530</td>\n",
              "      <td>13.396226</td>\n",
              "      <td>60-70</td>\n",
              "    </tr>\n",
              "    <tr>\n",
              "      <th>5</th>\n",
              "      <td>0</td>\n",
              "      <td>2</td>\n",
              "      <td>0.000000</td>\n",
              "      <td>70-80</td>\n",
              "    </tr>\n",
              "  </tbody>\n",
              "</table>\n",
              "</div>"
            ],
            "text/plain": [
              "   closed_account  total_account  Churn_rate Customer_Age\n",
              "0              17            195    8.717949        20-30\n",
              "1             261           1841   14.177078        30-40\n",
              "2             772           4561   16.926113        40-50\n",
              "3             506           2998   16.877919        50-60\n",
              "4              71            530   13.396226        60-70\n",
              "5               0              2    0.000000        70-80"
            ]
          },
          "metadata": {},
          "execution_count": 10
        }
      ]
    },
    {
      "cell_type": "markdown",
      "metadata": {
        "id": "zModh2Mdngl-"
      },
      "source": [
        "Create graphs to see the age tendency. We can see the 40-60 group have higher tendency to attrite."
      ]
    },
    {
      "cell_type": "code",
      "metadata": {
        "colab": {
          "base_uri": "https://localhost:8080/",
          "height": 918
        },
        "id": "PkhcOiRvnu4X",
        "outputId": "f1c69c27-277d-4fc7-a898-94134d4ce6ab"
      },
      "source": [
        "age_tendency.plot(title = 'The relationship between age category and churn rate',kind='bar', x='Customer_Age', y='Churn_rate',color = ['#5ba3cf','#8fc1de','#3181bd','#125ca4','#8fc3de'], figsize=(9, 5));\n",
        "age_tendency.plot(kind='line', x='Customer_Age', y='Churn_rate', figsize=(9, 5));\n",
        "age_tendency.plot(kind='pie', x='Customer_Age', y='Churn_rate');"
      ],
      "execution_count": 61,
      "outputs": [
        {
          "output_type": "display_data",
          "data": {
            "image/png": "[encoded data removed]",
            "text/plain": [
              "<Figure size 648x360 with 1 Axes>"
            ]
          },
          "metadata": {
            "needs_background": "light"
          }
        },
        {
          "output_type": "display_data",
          "data": {
            "image/png": "[encoded data removed]",
            "text/plain": [
              "<Figure size 648x360 with 1 Axes>"
            ]
          },
          "metadata": {
            "needs_background": "light"
          }
        },
        {
          "output_type": "display_data",
          "data": {
            "image/png": "[encoded data removed]",
            "text/plain": [
              "<Figure size 432x288 with 1 Axes>"
            ]
          },
          "metadata": {}
        }
      ]
    },
    {
      "cell_type": "markdown",
      "metadata": {
        "id": "LEGD2a7dydq3"
      },
      "source": [
        "### **Question 4: Which education category of customers has a higher tendency to churn?**"
      ]
    },
    {
      "cell_type": "code",
      "metadata": {
        "id": "eGcdqRLxk_tt"
      },
      "source": [
        "%%bigquery Education_Level --project=ba-775-summer-21\n",
        "/*educational level tendency*/\n",
        "Select Education_Level, count(*) as total_account, sum(CAST(Attrition_Flag = 'Attrited Customer'as int)) as closed_account,sum(CAST(Attrition_Flag = 'Attrited Customer'as int))/count(*)*100 as Churn_rate,\n",
        "from `ba-775-summer-21.project1team1.bankchurners`\n",
        "where Education_Level  not like 'Unknown'\n",
        "group by Education_Level"
      ],
      "execution_count": 26,
      "outputs": []
    },
    {
      "cell_type": "markdown",
      "metadata": {
        "id": "qdqlF8W4qXi8"
      },
      "source": [
        "Divide the number of attrited customers by the total number of customers group by the educational level to see what's the churn rate of each group"
      ]
    },
    {
      "cell_type": "code",
      "metadata": {
        "colab": {
          "base_uri": "https://localhost:8080/",
          "height": 235
        },
        "id": "v3adeLliqf_V",
        "outputId": "ac17c725-064b-4ace-b0ad-9a4402af7f26"
      },
      "source": [
        "Education_Level"
      ],
      "execution_count": 27,
      "outputs": [
        {
          "output_type": "execute_result",
          "data": {
            "text/html": [
              "<div>\n",
              "<style scoped>\n",
              "    .dataframe tbody tr th:only-of-type {\n",
              "        vertical-align: middle;\n",
              "    }\n",
              "\n",
              "    .dataframe tbody tr th {\n",
              "        vertical-align: top;\n",
              "    }\n",
              "\n",
              "    .dataframe thead th {\n",
              "        text-align: right;\n",
              "    }\n",
              "</style>\n",
              "<table border=\"1\" class=\"dataframe\">\n",
              "  <thead>\n",
              "    <tr style=\"text-align: right;\">\n",
              "      <th></th>\n",
              "      <th>Education_Level</th>\n",
              "      <th>total_account</th>\n",
              "      <th>closed_account</th>\n",
              "      <th>Churn_rate</th>\n",
              "    </tr>\n",
              "  </thead>\n",
              "  <tbody>\n",
              "    <tr>\n",
              "      <th>0</th>\n",
              "      <td>High School</td>\n",
              "      <td>2013</td>\n",
              "      <td>306</td>\n",
              "      <td>15.201192</td>\n",
              "    </tr>\n",
              "    <tr>\n",
              "      <th>1</th>\n",
              "      <td>Graduate</td>\n",
              "      <td>3128</td>\n",
              "      <td>487</td>\n",
              "      <td>15.569054</td>\n",
              "    </tr>\n",
              "    <tr>\n",
              "      <th>2</th>\n",
              "      <td>College</td>\n",
              "      <td>1013</td>\n",
              "      <td>154</td>\n",
              "      <td>15.202369</td>\n",
              "    </tr>\n",
              "    <tr>\n",
              "      <th>3</th>\n",
              "      <td>Doctorate</td>\n",
              "      <td>451</td>\n",
              "      <td>95</td>\n",
              "      <td>21.064302</td>\n",
              "    </tr>\n",
              "    <tr>\n",
              "      <th>4</th>\n",
              "      <td>Uneducated</td>\n",
              "      <td>1487</td>\n",
              "      <td>237</td>\n",
              "      <td>15.938130</td>\n",
              "    </tr>\n",
              "    <tr>\n",
              "      <th>5</th>\n",
              "      <td>Post-Graduate</td>\n",
              "      <td>516</td>\n",
              "      <td>92</td>\n",
              "      <td>17.829457</td>\n",
              "    </tr>\n",
              "  </tbody>\n",
              "</table>\n",
              "</div>"
            ],
            "text/plain": [
              "  Education_Level  total_account  closed_account  Churn_rate\n",
              "0     High School           2013             306   15.201192\n",
              "1        Graduate           3128             487   15.569054\n",
              "2         College           1013             154   15.202369\n",
              "3       Doctorate            451              95   21.064302\n",
              "4      Uneducated           1487             237   15.938130\n",
              "5   Post-Graduate            516              92   17.829457"
            ]
          },
          "metadata": {},
          "execution_count": 27
        }
      ]
    },
    {
      "cell_type": "markdown",
      "metadata": {
        "id": "6I8EtuwdqjgH"
      },
      "source": [
        "Create graphs to see education level tendency. We can see people with doctorate degree has highest tendency to attrite compare to other groups."
      ]
    },
    {
      "cell_type": "code",
      "metadata": {
        "colab": {
          "base_uri": "https://localhost:8080/",
          "height": 961
        },
        "id": "jMF8tchFqxut",
        "outputId": "a9ab4233-282e-4abb-e7b4-489c5416e2bb"
      },
      "source": [
        "Education_Level.plot(title = 'The relationship between educational level and churn rate',kind='bar', x='Education_Level', y='Churn_rate',color = ['#137c39','#60ba6c','#41a75b','#a0d89b','#bbe4b5','#81ca82'], figsize=(9, 5));\n",
        "Education_Level.plot(kind='line', x='Education_Level', y='Churn_rate', color=['#41a75b'],figsize=(9, 5));\n",
        "Education_Level.plot(kind='pie', x='Education_Level', y='Churn_rate');"
      ],
      "execution_count": 63,
      "outputs": [
        {
          "output_type": "display_data",
          "data": {
            "image/png": "[encoded data removed]",
            "text/plain": [
              "<Figure size 648x360 with 1 Axes>"
            ]
          },
          "metadata": {
            "needs_background": "light"
          }
        },
        {
          "output_type": "display_data",
          "data": {
            "image/png": "[encoded data removed]",
            "text/plain": [
              "<Figure size 648x360 with 1 Axes>"
            ]
          },
          "metadata": {
            "needs_background": "light"
          }
        },
        {
          "output_type": "display_data",
          "data": {
            "image/png": "[encoded data removed]",
            "text/plain": [
              "<Figure size 432x288 with 1 Axes>"
            ]
          },
          "metadata": {}
        }
      ]
    },
    {
      "cell_type": "markdown",
      "metadata": {
        "id": "TxvZCDQoyiaT"
      },
      "source": [
        "### **Question 5: Which income category of customers has a higher tendency to churn?**"
      ]
    },
    {
      "cell_type": "code",
      "metadata": {
        "id": "tBY7HB-BlEmY"
      },
      "source": [
        "%%bigquery Income_Category --project=ba-775-summer-21\n",
        "/*income tendency*/\n",
        "Select Income_Category, count(*) as total_account, sum(CAST(Attrition_Flag = 'Attrited Customer'as int)) as closed_account,sum(CAST(Attrition_Flag = 'Attrited Customer'as int))/count(*)*100 as Churn_rate,\n",
        "from `ba-775-summer-21.project1team1.bankchurners`\n",
        "where Income_Category  not like 'Unknown'\n",
        "group by Income_Category\n",
        "order by Income_Category"
      ],
      "execution_count": 29,
      "outputs": []
    },
    {
      "cell_type": "markdown",
      "metadata": {
        "id": "p25aMGTsrmqI"
      },
      "source": [
        "Divide the number of attrited customers by the total number of customers group by the income level to see what's the churn rate of each group"
      ]
    },
    {
      "cell_type": "code",
      "metadata": {
        "colab": {
          "base_uri": "https://localhost:8080/",
          "height": 204
        },
        "id": "MOEIrBVIsGKS",
        "outputId": "708bd705-f918-48c4-8855-7f6db381d97c"
      },
      "source": [
        "Income_Category"
      ],
      "execution_count": 32,
      "outputs": [
        {
          "output_type": "execute_result",
          "data": {
            "text/html": [
              "<div>\n",
              "<style scoped>\n",
              "    .dataframe tbody tr th:only-of-type {\n",
              "        vertical-align: middle;\n",
              "    }\n",
              "\n",
              "    .dataframe tbody tr th {\n",
              "        vertical-align: top;\n",
              "    }\n",
              "\n",
              "    .dataframe thead th {\n",
              "        text-align: right;\n",
              "    }\n",
              "</style>\n",
              "<table border=\"1\" class=\"dataframe\">\n",
              "  <thead>\n",
              "    <tr style=\"text-align: right;\">\n",
              "      <th></th>\n",
              "      <th>Income_Category</th>\n",
              "      <th>total_account</th>\n",
              "      <th>closed_account</th>\n",
              "      <th>Churn_rate</th>\n",
              "    </tr>\n",
              "  </thead>\n",
              "  <tbody>\n",
              "    <tr>\n",
              "      <th>0</th>\n",
              "      <td>$120K +</td>\n",
              "      <td>727</td>\n",
              "      <td>126</td>\n",
              "      <td>17.331499</td>\n",
              "    </tr>\n",
              "    <tr>\n",
              "      <th>1</th>\n",
              "      <td>$40K - $60K</td>\n",
              "      <td>1790</td>\n",
              "      <td>271</td>\n",
              "      <td>15.139665</td>\n",
              "    </tr>\n",
              "    <tr>\n",
              "      <th>2</th>\n",
              "      <td>$60K - $80K</td>\n",
              "      <td>1402</td>\n",
              "      <td>189</td>\n",
              "      <td>13.480742</td>\n",
              "    </tr>\n",
              "    <tr>\n",
              "      <th>3</th>\n",
              "      <td>$80K - $120K</td>\n",
              "      <td>1535</td>\n",
              "      <td>242</td>\n",
              "      <td>15.765472</td>\n",
              "    </tr>\n",
              "    <tr>\n",
              "      <th>4</th>\n",
              "      <td>Less than $40K</td>\n",
              "      <td>3561</td>\n",
              "      <td>612</td>\n",
              "      <td>17.186184</td>\n",
              "    </tr>\n",
              "  </tbody>\n",
              "</table>\n",
              "</div>"
            ],
            "text/plain": [
              "  Income_Category  total_account  closed_account  Churn_rate\n",
              "0         $120K +            727             126   17.331499\n",
              "1     $40K - $60K           1790             271   15.139665\n",
              "2     $60K - $80K           1402             189   13.480742\n",
              "3    $80K - $120K           1535             242   15.765472\n",
              "4  Less than $40K           3561             612   17.186184"
            ]
          },
          "metadata": {},
          "execution_count": 32
        }
      ]
    },
    {
      "cell_type": "markdown",
      "metadata": {
        "id": "vPSPTOt5sIt4"
      },
      "source": [
        "Create graphs to see the income level tendency. We can see middle class income poeple($60k-80K) have lowest tendency to attrite. "
      ]
    },
    {
      "cell_type": "code",
      "metadata": {
        "colab": {
          "base_uri": "https://localhost:8080/",
          "height": 970
        },
        "id": "5wwHqC_iup18",
        "outputId": "b9b0fcc2-c882-42e4-800f-7e8d8083c291"
      },
      "source": [
        "Income_Category.plot(title = 'The relationship between income level and churn rate',kind='bar', x='Income_Category', y='Churn_rate',color = ['#5ba3cf','#8fc1de','#3181bd','#125ca4'], figsize=(9, 5));\n",
        "Income_Category.plot(kind='line', x='Income_Category', y='Churn_rate', figsize=(9, 5));\n",
        "Income_Category.plot(kind='pie', x='Income_Category', y='Churn_rate');"
      ],
      "execution_count": 52,
      "outputs": [
        {
          "output_type": "display_data",
          "data": {
            "image/png": "[encoded data removed]",
            "text/plain": [
              "<Figure size 648x360 with 1 Axes>"
            ]
          },
          "metadata": {
            "needs_background": "light"
          }
        },
        {
          "output_type": "display_data",
          "data": {
            "image/png": "[encoded data removed]",
            "text/plain": [
              "<Figure size 648x360 with 1 Axes>"
            ]
          },
          "metadata": {
            "needs_background": "light"
          }
        },
        {
          "output_type": "display_data",
          "data": {
            "image/png": "[encoded data removed]",
            "text/plain": [
              "<Figure size 432x288 with 1 Axes>"
            ]
          },
          "metadata": {}
        }
      ]
    },
    {
      "cell_type": "markdown",
      "metadata": {
        "id": "at-QUfTUymyC"
      },
      "source": [
        "### **Question 6: Which marriage type of customers has a higher tendency to churn?**"
      ]
    },
    {
      "cell_type": "code",
      "metadata": {
        "id": "x0Lo-TIAlKZx"
      },
      "source": [
        "%%bigquery Marital_Status --project=ba-775-summer-21\n",
        "/*marital status tendency*/\n",
        "Select Marital_Status, count(*) as total_account, sum(CAST(Attrition_Flag = 'Attrited Customer'as int)) as closed_account,sum(CAST(Attrition_Flag = 'Attrited Customer'as int))/count(*)*100 as Churn_rate,\n",
        "from `ba-775-summer-21.project1team1.bankchurners`\n",
        "where Marital_Status not like 'Unknown'\n",
        "group by Marital_Status\n",
        "order by Marital_Status"
      ],
      "execution_count": 30,
      "outputs": []
    },
    {
      "cell_type": "markdown",
      "metadata": {
        "id": "LiH-1Z86rw8O"
      },
      "source": [
        "Divide the number of attrited customers by the total number of customers group by the marital status to see what's the churn rate of each group"
      ]
    },
    {
      "cell_type": "code",
      "metadata": {
        "colab": {
          "base_uri": "https://localhost:8080/",
          "height": 142
        },
        "id": "K9hYSt3qsoZB",
        "outputId": "da43abe1-bf52-4ed8-bcde-fdb07e3d972f"
      },
      "source": [
        "Marital_Status"
      ],
      "execution_count": 33,
      "outputs": [
        {
          "output_type": "execute_result",
          "data": {
            "text/html": [
              "<div>\n",
              "<style scoped>\n",
              "    .dataframe tbody tr th:only-of-type {\n",
              "        vertical-align: middle;\n",
              "    }\n",
              "\n",
              "    .dataframe tbody tr th {\n",
              "        vertical-align: top;\n",
              "    }\n",
              "\n",
              "    .dataframe thead th {\n",
              "        text-align: right;\n",
              "    }\n",
              "</style>\n",
              "<table border=\"1\" class=\"dataframe\">\n",
              "  <thead>\n",
              "    <tr style=\"text-align: right;\">\n",
              "      <th></th>\n",
              "      <th>Marital_Status</th>\n",
              "      <th>total_account</th>\n",
              "      <th>closed_account</th>\n",
              "      <th>Churn_rate</th>\n",
              "    </tr>\n",
              "  </thead>\n",
              "  <tbody>\n",
              "    <tr>\n",
              "      <th>0</th>\n",
              "      <td>Divorced</td>\n",
              "      <td>748</td>\n",
              "      <td>121</td>\n",
              "      <td>16.176471</td>\n",
              "    </tr>\n",
              "    <tr>\n",
              "      <th>1</th>\n",
              "      <td>Married</td>\n",
              "      <td>4687</td>\n",
              "      <td>709</td>\n",
              "      <td>15.126947</td>\n",
              "    </tr>\n",
              "    <tr>\n",
              "      <th>2</th>\n",
              "      <td>Single</td>\n",
              "      <td>3943</td>\n",
              "      <td>668</td>\n",
              "      <td>16.941415</td>\n",
              "    </tr>\n",
              "  </tbody>\n",
              "</table>\n",
              "</div>"
            ],
            "text/plain": [
              "  Marital_Status  total_account  closed_account  Churn_rate\n",
              "0       Divorced            748             121   16.176471\n",
              "1        Married           4687             709   15.126947\n",
              "2         Single           3943             668   16.941415"
            ]
          },
          "metadata": {},
          "execution_count": 33
        }
      ]
    },
    {
      "cell_type": "markdown",
      "metadata": {
        "id": "Qaeuofltsq2s"
      },
      "source": [
        "Create graphs to see the marital status tendency. We can see the divorced or single status people have higher tendency to attrite."
      ]
    },
    {
      "cell_type": "code",
      "metadata": {
        "colab": {
          "base_uri": "https://localhost:8080/",
          "height": 934
        },
        "id": "e0_37tgXu_6W",
        "outputId": "942bfc5e-19ed-4c89-b54a-464b60e8c207"
      },
      "source": [
        "Marital_Status.plot(title = 'The relationship between marital status and churn rate',kind='bar', x='Marital_Status', y='Churn_rate',color = ['#5ba3cf','#8fc1de','#3181bd','#125ca4'], figsize=(9, 5));\n",
        "Marital_Status.plot(kind='line', x='Marital_Status', y='Churn_rate', figsize=(9, 5));\n",
        "Marital_Status.plot(kind='pie', x='Marital_Status', y='Churn_rate');"
      ],
      "execution_count": 51,
      "outputs": [
        {
          "output_type": "display_data",
          "data": {
            "image/png": "[encoded data removed]",
            "text/plain": [
              "<Figure size 648x360 with 1 Axes>"
            ]
          },
          "metadata": {
            "needs_background": "light"
          }
        },
        {
          "output_type": "display_data",
          "data": {
            "image/png": "[encoded data removed]",
            "text/plain": [
              "<Figure size 648x360 with 1 Axes>"
            ]
          },
          "metadata": {
            "needs_background": "light"
          }
        },
        {
          "output_type": "display_data",
          "data": {
            "image/png": "[encoded data removed]",
            "text/plain": [
              "<Figure size 432x288 with 1 Axes>"
            ]
          },
          "metadata": {}
        }
      ]
    },
    {
      "cell_type": "markdown",
      "metadata": {
        "id": "cTslL70GyoJI"
      },
      "source": [
        "### **Question 7: How does dependent count influence churn rate?**"
      ]
    },
    {
      "cell_type": "code",
      "metadata": {
        "id": "uxwW4bJPlOZh"
      },
      "source": [
        "%%bigquery Dependent_count --project=ba-775-summer-21\n",
        "/*dependent tendency*/\n",
        "Select Dependent_count, count(*) as total_account, sum(CAST(Attrition_Flag = 'Attrited Customer'as int)) as closed_account,sum(CAST(Attrition_Flag = 'Attrited Customer'as int))/count(*)*100 as Churn_rate,\n",
        "from `ba-775-summer-21.project1team1.bankchurners`\n",
        "where Dependent_count is not null\n",
        "group by Dependent_count\n",
        "order by Dependent_count"
      ],
      "execution_count": 31,
      "outputs": []
    },
    {
      "cell_type": "markdown",
      "metadata": {
        "id": "XFwt23mAr65Y"
      },
      "source": [
        "Divide the number of attrited customers by the total number of customers group by the how many dependent they carry to see what's the churn rate of each group"
      ]
    },
    {
      "cell_type": "code",
      "metadata": {
        "colab": {
          "base_uri": "https://localhost:8080/",
          "height": 235
        },
        "id": "geC-aTRWuIm1",
        "outputId": "48d253e8-6d06-4a2b-e267-e346d0a34017"
      },
      "source": [
        "Dependent_count"
      ],
      "execution_count": 34,
      "outputs": [
        {
          "output_type": "execute_result",
          "data": {
            "text/html": [
              "<div>\n",
              "<style scoped>\n",
              "    .dataframe tbody tr th:only-of-type {\n",
              "        vertical-align: middle;\n",
              "    }\n",
              "\n",
              "    .dataframe tbody tr th {\n",
              "        vertical-align: top;\n",
              "    }\n",
              "\n",
              "    .dataframe thead th {\n",
              "        text-align: right;\n",
              "    }\n",
              "</style>\n",
              "<table border=\"1\" class=\"dataframe\">\n",
              "  <thead>\n",
              "    <tr style=\"text-align: right;\">\n",
              "      <th></th>\n",
              "      <th>Dependent_count</th>\n",
              "      <th>total_account</th>\n",
              "      <th>closed_account</th>\n",
              "      <th>Churn_rate</th>\n",
              "    </tr>\n",
              "  </thead>\n",
              "  <tbody>\n",
              "    <tr>\n",
              "      <th>0</th>\n",
              "      <td>0</td>\n",
              "      <td>904</td>\n",
              "      <td>135</td>\n",
              "      <td>14.933628</td>\n",
              "    </tr>\n",
              "    <tr>\n",
              "      <th>1</th>\n",
              "      <td>1</td>\n",
              "      <td>1838</td>\n",
              "      <td>269</td>\n",
              "      <td>14.635473</td>\n",
              "    </tr>\n",
              "    <tr>\n",
              "      <th>2</th>\n",
              "      <td>2</td>\n",
              "      <td>2655</td>\n",
              "      <td>417</td>\n",
              "      <td>15.706215</td>\n",
              "    </tr>\n",
              "    <tr>\n",
              "      <th>3</th>\n",
              "      <td>3</td>\n",
              "      <td>2732</td>\n",
              "      <td>482</td>\n",
              "      <td>17.642753</td>\n",
              "    </tr>\n",
              "    <tr>\n",
              "      <th>4</th>\n",
              "      <td>4</td>\n",
              "      <td>1574</td>\n",
              "      <td>260</td>\n",
              "      <td>16.518424</td>\n",
              "    </tr>\n",
              "    <tr>\n",
              "      <th>5</th>\n",
              "      <td>5</td>\n",
              "      <td>424</td>\n",
              "      <td>64</td>\n",
              "      <td>15.094340</td>\n",
              "    </tr>\n",
              "  </tbody>\n",
              "</table>\n",
              "</div>"
            ],
            "text/plain": [
              "   Dependent_count  total_account  closed_account  Churn_rate\n",
              "0                0            904             135   14.933628\n",
              "1                1           1838             269   14.635473\n",
              "2                2           2655             417   15.706215\n",
              "3                3           2732             482   17.642753\n",
              "4                4           1574             260   16.518424\n",
              "5                5            424              64   15.094340"
            ]
          },
          "metadata": {},
          "execution_count": 34
        }
      ]
    },
    {
      "cell_type": "markdown",
      "metadata": {
        "id": "Uy3mP8VHuK0K"
      },
      "source": [
        "Create graphs to see how amount of dependent peopel carry influence the tendency. We can see people with 3-4 dependent have higher tendency to attrite compare to other groups"
      ]
    },
    {
      "cell_type": "code",
      "metadata": {
        "colab": {
          "base_uri": "https://localhost:8080/",
          "height": 896
        },
        "id": "dW7DRMGlvb5c",
        "outputId": "cf33b6ed-4cc9-4d64-fb88-bc3154f1b06e"
      },
      "source": [
        "Dependent_count.plot(title = 'The relationship between amount of dependet carried and churn rate',kind='bar', x='Dependent_count', y='Churn_rate',color = ['#5ba3cf','#8fc1de','#3181bd','#125ca4'], figsize=(9, 5));\n",
        "Dependent_count.plot(kind='line', x='Dependent_count', y='Churn_rate', figsize=(9, 5));\n",
        "Dependent_count.plot(kind='pie', x='Dependent_count', y='Churn_rate');"
      ],
      "execution_count": 50,
      "outputs": [
        {
          "output_type": "display_data",
          "data": {
            "image/png": "[encoded data removed]",
            "text/plain": [
              "<Figure size 648x360 with 1 Axes>"
            ]
          },
          "metadata": {
            "needs_background": "light"
          }
        },
        {
          "output_type": "display_data",
          "data": {
            "image/png": "[encoded data removed]",
            "text/plain": [
              "<Figure size 648x360 with 1 Axes>"
            ]
          },
          "metadata": {
            "needs_background": "light"
          }
        },
        {
          "output_type": "display_data",
          "data": {
            "image/png": "[encoded data removed]",
            "text/plain": [
              "<Figure size 432x288 with 1 Axes>"
            ]
          },
          "metadata": {}
        }
      ]
    },
    {
      "cell_type": "markdown",
      "metadata": {
        "id": "xchRGgTBypfa"
      },
      "source": [
        "### **Question 8: Which card type of customers has a higher tendency to churn?**"
      ]
    },
    {
      "cell_type": "code",
      "metadata": {
        "id": "_ZUrW-UHcZEi"
      },
      "source": [
        "%%bigquery Card_impact --project=ba775-team-project\n",
        "SELECT\n",
        "Card_Category, \n",
        "COUNT(CLIENTNUM) AS Total_Customer,\n",
        "SUM(CASE WHEN Attrition_Flag = \"Attrited Customer\" then 1 else 0 end) AS Churn_Customer,\n",
        "SUM(CASE WHEN Attrition_Flag = \"Attrited Customer\" then 1 else 0 end)/COUNT(CLIENTNUM)*100 AS Churn_Rate\n",
        "FROM `ba775-team-project.bankchurners.bankchurners`\n",
        "GROUP BY Card_Category\n",
        "ORDER BY Total_Customer DESC"
      ],
      "execution_count": 4,
      "outputs": []
    },
    {
      "cell_type": "markdown",
      "metadata": {
        "id": "ehXP5UCfciYa"
      },
      "source": [
        "Divide the number of attrited customers by the total number of customers group by the card category to see what's the churn rate of each group."
      ]
    },
    {
      "cell_type": "code",
      "metadata": {
        "id": "cZe1FfvMck7y",
        "colab": {
          "base_uri": "https://localhost:8080/",
          "height": 173
        },
        "outputId": "819bde05-6f37-4e3e-8881-7be243a8ea55"
      },
      "source": [
        "Card_impact"
      ],
      "execution_count": 5,
      "outputs": [
        {
          "output_type": "execute_result",
          "data": {
            "text/html": [
              "<div>\n",
              "<style scoped>\n",
              "    .dataframe tbody tr th:only-of-type {\n",
              "        vertical-align: middle;\n",
              "    }\n",
              "\n",
              "    .dataframe tbody tr th {\n",
              "        vertical-align: top;\n",
              "    }\n",
              "\n",
              "    .dataframe thead th {\n",
              "        text-align: right;\n",
              "    }\n",
              "</style>\n",
              "<table border=\"1\" class=\"dataframe\">\n",
              "  <thead>\n",
              "    <tr style=\"text-align: right;\">\n",
              "      <th></th>\n",
              "      <th>Card_Category</th>\n",
              "      <th>Total_Customer</th>\n",
              "      <th>Churn_Customer</th>\n",
              "      <th>Churn_Rate</th>\n",
              "    </tr>\n",
              "  </thead>\n",
              "  <tbody>\n",
              "    <tr>\n",
              "      <th>0</th>\n",
              "      <td>Blue</td>\n",
              "      <td>9436</td>\n",
              "      <td>1519</td>\n",
              "      <td>16.097923</td>\n",
              "    </tr>\n",
              "    <tr>\n",
              "      <th>1</th>\n",
              "      <td>Silver</td>\n",
              "      <td>555</td>\n",
              "      <td>82</td>\n",
              "      <td>14.774775</td>\n",
              "    </tr>\n",
              "    <tr>\n",
              "      <th>2</th>\n",
              "      <td>Gold</td>\n",
              "      <td>116</td>\n",
              "      <td>21</td>\n",
              "      <td>18.103448</td>\n",
              "    </tr>\n",
              "    <tr>\n",
              "      <th>3</th>\n",
              "      <td>Platinum</td>\n",
              "      <td>20</td>\n",
              "      <td>5</td>\n",
              "      <td>25.000000</td>\n",
              "    </tr>\n",
              "  </tbody>\n",
              "</table>\n",
              "</div>"
            ],
            "text/plain": [
              "  Card_Category  Total_Customer  Churn_Customer  Churn_Rate\n",
              "0          Blue            9436            1519   16.097923\n",
              "1        Silver             555              82   14.774775\n",
              "2          Gold             116              21   18.103448\n",
              "3      Platinum              20               5   25.000000"
            ]
          },
          "metadata": {},
          "execution_count": 5
        }
      ]
    },
    {
      "cell_type": "markdown",
      "metadata": {
        "id": "IrjD_6a9cxBA"
      },
      "source": [
        "Create graphs to see the tendency. We can see the customers who have blue card or platinum card are more likely to attrite."
      ]
    },
    {
      "cell_type": "code",
      "metadata": {
        "id": "-vBtHfPacoWh",
        "colab": {
          "base_uri": "https://localhost:8080/",
          "height": 703
        },
        "outputId": "ac03e15b-2bba-4945-8ccd-401df78ea8d7"
      },
      "source": [
        "Card_impact.plot(title = 'The relationship between card category and churn rate',kind='bar', x='Card_Category', y='Churn_Rate',color = ['#5ba3cf','#8fc1de','#3181bd','#125ca4'], figsize=(9, 5));\n",
        "Card_impact.plot(kind='line', x='Card_Category', y='Churn_Rate', figsize=(9, 5));"
      ],
      "execution_count": null,
      "outputs": [
        {
          "output_type": "display_data",
          "data": {
            "image/png": "[encoded data removed]",
            "text/plain": [
              "<Figure size 648x360 with 1 Axes>"
            ]
          },
          "metadata": {
            "needs_background": "light"
          }
        },
        {
          "output_type": "display_data",
          "data": {
            "image/png": "[encoded data removed]",
            "text/plain": [
              "<Figure size 648x360 with 1 Axes>"
            ]
          },
          "metadata": {
            "needs_background": "light"
          }
        }
      ]
    },
    {
      "cell_type": "code",
      "metadata": {
        "id": "O9ejcmRfcp8I",
        "colab": {
          "base_uri": "https://localhost:8080/",
          "height": 80
        },
        "outputId": "bc212715-f3fb-490f-cb8b-93ef3259dbfd"
      },
      "source": [
        "%%bigquery --project=ba775-team-project\n",
        "SELECT ((SUM(cards * attrition_flag)-(SUM(cards) * SUM(attrition_flag)) / COUNT(*)))\n",
        "  / (SQRT(SUM(cards * cards)-(SUM(cards) * SUM (cards)) / COUNT(*) ) * SQRT(SUM(attrition_flag * attrition_flag)\n",
        "  -(SUM(attrition_flag) * SUM(attrition_flag)) / COUNT(*))) AS corr\n",
        "from \n",
        "(\n",
        "  select \n",
        "  CASE when card_category = 'Blue' then 1\n",
        "       when card_category = 'Silver' then 2\n",
        "       when card_category = 'Gold' then 3\n",
        "       else 4 end as cards,    \n",
        "  CAST(Attrition_Flag = 'Attrited Customer' AS INT) As attrition_flag\n",
        "  from ba775-team-project.bankchurners.bankchurners\n",
        ")"
      ],
      "execution_count": null,
      "outputs": [
        {
          "output_type": "execute_result",
          "data": {
            "text/html": [
              "<div>\n",
              "<style scoped>\n",
              "    .dataframe tbody tr th:only-of-type {\n",
              "        vertical-align: middle;\n",
              "    }\n",
              "\n",
              "    .dataframe tbody tr th {\n",
              "        vertical-align: top;\n",
              "    }\n",
              "\n",
              "    .dataframe thead th {\n",
              "        text-align: right;\n",
              "    }\n",
              "</style>\n",
              "<table border=\"1\" class=\"dataframe\">\n",
              "  <thead>\n",
              "    <tr style=\"text-align: right;\">\n",
              "      <th></th>\n",
              "      <th>corr</th>\n",
              "    </tr>\n",
              "  </thead>\n",
              "  <tbody>\n",
              "    <tr>\n",
              "      <th>0</th>\n",
              "      <td>0.002354</td>\n",
              "    </tr>\n",
              "  </tbody>\n",
              "</table>\n",
              "</div>"
            ],
            "text/plain": [
              "       corr\n",
              "0  0.002354"
            ]
          },
          "metadata": {},
          "execution_count": 19
        }
      ]
    },
    {
      "cell_type": "markdown",
      "metadata": {
        "id": "TPzri89Vc2XA"
      },
      "source": [
        "When we assign each card category a value (assending as the category becomes more prestigious), the calculation below shows that there is no correlation between card category and whether the customer will churn."
      ]
    },
    {
      "cell_type": "markdown",
      "metadata": {
        "id": "rHgafYVjyq1F"
      },
      "source": [
        "### **Question 9: How does credit limit affect churn rate?**"
      ]
    },
    {
      "cell_type": "code",
      "metadata": {
        "id": "JNo58ta3ds_m"
      },
      "source": [
        "%%bigquery Credit_impact --project=ba775-team-project\n",
        "SELECT\n",
        "CASE\n",
        "    WHEN Credit_Limit>=0 AND Credit_Limit <5000 THEN '0-5000'\n",
        "    WHEN Credit_Limit>=5000 AND Credit_Limit <10000 THEN '05000-10000'\n",
        "    WHEN Credit_Limit>=10000 AND Credit_Limit <15000 THEN '10000-15000'\n",
        "    WHEN Credit_Limit>=15000 AND Credit_Limit <20000 THEN '15000-20000'\n",
        "    WHEN Credit_Limit>=20000 AND Credit_Limit <25000 THEN '20000-25000'\n",
        "    WHEN Credit_Limit>=25000 AND Credit_Limit <30000 THEN '25000-30000'\n",
        "    WHEN Credit_Limit>=30000 AND Credit_Limit <35000 THEN '30000-35000'\n",
        "  END AS Credit_Limit,\n",
        "SUM(CAST(Attrition_Flag = 'Attrited Customer' AS INT)) AS Churn_Customer,\n",
        "COUNT(*) AS Total_Customer,\n",
        "SUM(CAST(Attrition_Flag = 'Attrited Customer' AS INT))/COUNT(*)*100 AS Churn_Rate\n",
        "\n",
        "FROM `ba775-team-project.bankchurners.bankchurners`\n",
        "GROUP BY Credit_Limit\n",
        "ORDER BY Credit_Limit"
      ],
      "execution_count": null,
      "outputs": []
    },
    {
      "cell_type": "markdown",
      "metadata": {
        "id": "Ub2-qN3jdu2e"
      },
      "source": [
        "Divide the number of attrited customers by the total number of customers group by the Credit_Limit to see whether the credit limit will affect the churn rate."
      ]
    },
    {
      "cell_type": "code",
      "metadata": {
        "id": "qc0RPKtndwi_",
        "colab": {
          "base_uri": "https://localhost:8080/",
          "height": 266
        },
        "outputId": "3a9e7cb3-9f6a-44ce-dc05-b6ad5d2e9093"
      },
      "source": [
        "Credit_impact"
      ],
      "execution_count": null,
      "outputs": [
        {
          "output_type": "execute_result",
          "data": {
            "text/html": [
              "<div>\n",
              "<style scoped>\n",
              "    .dataframe tbody tr th:only-of-type {\n",
              "        vertical-align: middle;\n",
              "    }\n",
              "\n",
              "    .dataframe tbody tr th {\n",
              "        vertical-align: top;\n",
              "    }\n",
              "\n",
              "    .dataframe thead th {\n",
              "        text-align: right;\n",
              "    }\n",
              "</style>\n",
              "<table border=\"1\" class=\"dataframe\">\n",
              "  <thead>\n",
              "    <tr style=\"text-align: right;\">\n",
              "      <th></th>\n",
              "      <th>Credit_Limit</th>\n",
              "      <th>Churn_Customer</th>\n",
              "      <th>Total_Customer</th>\n",
              "      <th>Churn_Rate</th>\n",
              "    </tr>\n",
              "  </thead>\n",
              "  <tbody>\n",
              "    <tr>\n",
              "      <th>0</th>\n",
              "      <td>0-5000</td>\n",
              "      <td>926</td>\n",
              "      <td>5358</td>\n",
              "      <td>17.282568</td>\n",
              "    </tr>\n",
              "    <tr>\n",
              "      <th>1</th>\n",
              "      <td>05000-10000</td>\n",
              "      <td>302</td>\n",
              "      <td>2015</td>\n",
              "      <td>14.987593</td>\n",
              "    </tr>\n",
              "    <tr>\n",
              "      <th>2</th>\n",
              "      <td>10000-15000</td>\n",
              "      <td>145</td>\n",
              "      <td>941</td>\n",
              "      <td>15.409139</td>\n",
              "    </tr>\n",
              "    <tr>\n",
              "      <th>3</th>\n",
              "      <td>15000-20000</td>\n",
              "      <td>70</td>\n",
              "      <td>549</td>\n",
              "      <td>12.750455</td>\n",
              "    </tr>\n",
              "    <tr>\n",
              "      <th>4</th>\n",
              "      <td>20000-25000</td>\n",
              "      <td>43</td>\n",
              "      <td>372</td>\n",
              "      <td>11.559140</td>\n",
              "    </tr>\n",
              "    <tr>\n",
              "      <th>5</th>\n",
              "      <td>25000-30000</td>\n",
              "      <td>33</td>\n",
              "      <td>225</td>\n",
              "      <td>14.666667</td>\n",
              "    </tr>\n",
              "    <tr>\n",
              "      <th>6</th>\n",
              "      <td>30000-35000</td>\n",
              "      <td>108</td>\n",
              "      <td>667</td>\n",
              "      <td>16.191904</td>\n",
              "    </tr>\n",
              "  </tbody>\n",
              "</table>\n",
              "</div>"
            ],
            "text/plain": [
              "  Credit_Limit  Churn_Customer  Total_Customer  Churn_Rate\n",
              "0       0-5000             926            5358   17.282568\n",
              "1  05000-10000             302            2015   14.987593\n",
              "2  10000-15000             145             941   15.409139\n",
              "3  15000-20000              70             549   12.750455\n",
              "4  20000-25000              43             372   11.559140\n",
              "5  25000-30000              33             225   14.666667\n",
              "6  30000-35000             108             667   16.191904"
            ]
          },
          "metadata": {},
          "execution_count": 21
        }
      ]
    },
    {
      "cell_type": "code",
      "metadata": {
        "id": "wCOi6uBNdywX",
        "colab": {
          "base_uri": "https://localhost:8080/",
          "height": 725
        },
        "outputId": "de2de1dd-1690-47bc-8978-35409ab516ec"
      },
      "source": [
        "Credit_impact.plot(title = 'The relationship between credit limit and churn rate', kind='bar', \n",
        "                   x='Credit_Limit', y='Churn_Rate', \n",
        "                   color = ['#137c39','#60ba6c','#41a75b','#a0d89b','#bbe4b5','#81ca82','#29924a'], figsize=(9, 5));\n",
        "Credit_impact.plot(kind='line', x='Credit_Limit', y='Churn_Rate', color = '#33a02c', figsize=(9, 5));"
      ],
      "execution_count": null,
      "outputs": [
        {
          "output_type": "display_data",
          "data": {
            "image/png": "[encoded data removed]",
            "text/plain": [
              "<Figure size 648x360 with 1 Axes>"
            ]
          },
          "metadata": {
            "needs_background": "light"
          }
        },
        {
          "output_type": "display_data",
          "data": {
            "image/png": "[encoded data removed]",
            "text/plain": [
              "<Figure size 648x360 with 1 Axes>"
            ]
          },
          "metadata": {
            "needs_background": "light"
          }
        }
      ]
    },
    {
      "cell_type": "markdown",
      "metadata": {
        "id": "YcM3GnkFd1UW"
      },
      "source": [
        "Create graphs to see the tendency. We can see there is no significant relationship between credit limit and churn rate."
      ]
    },
    {
      "cell_type": "code",
      "metadata": {
        "id": "W9hZVmFmd3Xm",
        "colab": {
          "base_uri": "https://localhost:8080/",
          "height": 80
        },
        "outputId": "62b3c7f7-ca3a-4dd0-cd33-2e30c4652f8d"
      },
      "source": [
        "%%bigquery --project=ba775-team-project\n",
        "SELECT ((SUM(credit_limit * attrition_flag)-(SUM(credit_limit) * SUM(attrition_flag)) / COUNT(*)))\n",
        "  / (SQRT(SUM(credit_limit * credit_limit)-(SUM(credit_limit) * SUM (credit_limit)) / COUNT(*) ) * SQRT(SUM(attrition_flag * attrition_flag)\n",
        "  -(SUM(attrition_flag) * SUM(attrition_flag)) / COUNT(*))) AS corr\n",
        "from \n",
        "(\n",
        "  select \n",
        "  credit_limit,\n",
        "  CAST(Attrition_Flag = 'Attrited Customer' AS INT) As attrition_flag\n",
        "  from ba775-team-project.bankchurners.bankchurners\n",
        ")"
      ],
      "execution_count": null,
      "outputs": [
        {
          "output_type": "execute_result",
          "data": {
            "text/html": [
              "<div>\n",
              "<style scoped>\n",
              "    .dataframe tbody tr th:only-of-type {\n",
              "        vertical-align: middle;\n",
              "    }\n",
              "\n",
              "    .dataframe tbody tr th {\n",
              "        vertical-align: top;\n",
              "    }\n",
              "\n",
              "    .dataframe thead th {\n",
              "        text-align: right;\n",
              "    }\n",
              "</style>\n",
              "<table border=\"1\" class=\"dataframe\">\n",
              "  <thead>\n",
              "    <tr style=\"text-align: right;\">\n",
              "      <th></th>\n",
              "      <th>corr</th>\n",
              "    </tr>\n",
              "  </thead>\n",
              "  <tbody>\n",
              "    <tr>\n",
              "      <th>0</th>\n",
              "      <td>-0.023873</td>\n",
              "    </tr>\n",
              "  </tbody>\n",
              "</table>\n",
              "</div>"
            ],
            "text/plain": [
              "       corr\n",
              "0 -0.023873"
            ]
          },
          "metadata": {},
          "execution_count": 23
        }
      ]
    },
    {
      "cell_type": "markdown",
      "metadata": {
        "id": "9K2vsFEPd5sX"
      },
      "source": [
        "The calculation of correlation coefficient also shows that there is no significant relationship between credit limit and loss of customer."
      ]
    },
    {
      "cell_type": "markdown",
      "metadata": {
        "id": "fJDPaMLByr-6"
      },
      "source": [
        "### **Question 10: How does the number of contacts by sales representative in the past 12 month affect churn rate?**"
      ]
    },
    {
      "cell_type": "code",
      "metadata": {
        "id": "OpkulCDnd8Y-"
      },
      "source": [
        "%%bigquery ContactNum_impact --project=ba775-team-project\n",
        "SELECT \n",
        "CASE\n",
        "  WHEN Contacts_Count_12_mon=0 THEN 'Month_0'\n",
        "  WHEN Contacts_Count_12_mon=1 THEN 'Month_1'\n",
        "  WHEN Contacts_Count_12_mon=2 THEN 'Month_2'\n",
        "  WHEN Contacts_Count_12_mon=3 THEN 'Month_3'\n",
        "  WHEN Contacts_Count_12_mon=4 THEN 'Month_4'\n",
        "  WHEN Contacts_Count_12_mon=5 THEN 'Month_5'\n",
        "  WHEN Contacts_Count_12_mon=6 THEN 'Month_6'\n",
        "  END AS Contacts_Count_12_mon,\n",
        "SUM(CAST(Attrition_flag='Attrited Customer' AS INT)) AS Churn_Customer,\n",
        "COUNT(*) AS Total_Customer,\n",
        "SUM(CAST(Attrition_flag='Attrited Customer' AS INT))/COUNT(*)*100 AS Churn_Rate\n",
        "FROM `ba775-team-project.bankchurners.bankchurners`\n",
        "GROUP BY Contacts_Count_12_mon\n",
        "ORDER BY Contacts_Count_12_mon"
      ],
      "execution_count": null,
      "outputs": []
    },
    {
      "cell_type": "markdown",
      "metadata": {
        "id": "sEjqdAuHeKBt"
      },
      "source": [
        "Divide the number of attrited customers by the total number of customers group by the Contacts_Count_12_mon to see whether the number of contacts in last 12 months will affect the churn rate."
      ]
    },
    {
      "cell_type": "code",
      "metadata": {
        "id": "dNX1v6tveLu9",
        "colab": {
          "base_uri": "https://localhost:8080/",
          "height": 266
        },
        "outputId": "4aeb6ba3-4421-41c1-ca70-f21b7fd0ab0b"
      },
      "source": [
        "ContactNum_impact"
      ],
      "execution_count": null,
      "outputs": [
        {
          "output_type": "execute_result",
          "data": {
            "text/html": [
              "<div>\n",
              "<style scoped>\n",
              "    .dataframe tbody tr th:only-of-type {\n",
              "        vertical-align: middle;\n",
              "    }\n",
              "\n",
              "    .dataframe tbody tr th {\n",
              "        vertical-align: top;\n",
              "    }\n",
              "\n",
              "    .dataframe thead th {\n",
              "        text-align: right;\n",
              "    }\n",
              "</style>\n",
              "<table border=\"1\" class=\"dataframe\">\n",
              "  <thead>\n",
              "    <tr style=\"text-align: right;\">\n",
              "      <th></th>\n",
              "      <th>Contacts_Count_12_mon</th>\n",
              "      <th>Churn_Customer</th>\n",
              "      <th>Total_Customer</th>\n",
              "      <th>Churn_Rate</th>\n",
              "    </tr>\n",
              "  </thead>\n",
              "  <tbody>\n",
              "    <tr>\n",
              "      <th>0</th>\n",
              "      <td>Month_0</td>\n",
              "      <td>7</td>\n",
              "      <td>399</td>\n",
              "      <td>1.754386</td>\n",
              "    </tr>\n",
              "    <tr>\n",
              "      <th>1</th>\n",
              "      <td>Month_1</td>\n",
              "      <td>108</td>\n",
              "      <td>1499</td>\n",
              "      <td>7.204803</td>\n",
              "    </tr>\n",
              "    <tr>\n",
              "      <th>2</th>\n",
              "      <td>Month_2</td>\n",
              "      <td>403</td>\n",
              "      <td>3227</td>\n",
              "      <td>12.488379</td>\n",
              "    </tr>\n",
              "    <tr>\n",
              "      <th>3</th>\n",
              "      <td>Month_3</td>\n",
              "      <td>681</td>\n",
              "      <td>3380</td>\n",
              "      <td>20.147929</td>\n",
              "    </tr>\n",
              "    <tr>\n",
              "      <th>4</th>\n",
              "      <td>Month_4</td>\n",
              "      <td>315</td>\n",
              "      <td>1392</td>\n",
              "      <td>22.629310</td>\n",
              "    </tr>\n",
              "    <tr>\n",
              "      <th>5</th>\n",
              "      <td>Month_5</td>\n",
              "      <td>59</td>\n",
              "      <td>176</td>\n",
              "      <td>33.522727</td>\n",
              "    </tr>\n",
              "    <tr>\n",
              "      <th>6</th>\n",
              "      <td>Month_6</td>\n",
              "      <td>54</td>\n",
              "      <td>54</td>\n",
              "      <td>100.000000</td>\n",
              "    </tr>\n",
              "  </tbody>\n",
              "</table>\n",
              "</div>"
            ],
            "text/plain": [
              "  Contacts_Count_12_mon  Churn_Customer  Total_Customer  Churn_Rate\n",
              "0               Month_0               7             399    1.754386\n",
              "1               Month_1             108            1499    7.204803\n",
              "2               Month_2             403            3227   12.488379\n",
              "3               Month_3             681            3380   20.147929\n",
              "4               Month_4             315            1392   22.629310\n",
              "5               Month_5              59             176   33.522727\n",
              "6               Month_6              54              54  100.000000"
            ]
          },
          "metadata": {},
          "execution_count": 25
        }
      ]
    },
    {
      "cell_type": "code",
      "metadata": {
        "id": "hAnmpZiteNVX",
        "colab": {
          "base_uri": "https://localhost:8080/",
          "height": 702
        },
        "outputId": "0db2afa3-f13f-40d4-e4b4-ec8216024dad"
      },
      "source": [
        "ContactNum_impact.plot(title = 'The relationship between contact number and churn rate', kind='bar', \n",
        "                       x='Contacts_Count_12_mon', y='Churn_Rate', \n",
        "                       color = ['#d0d0e6','#bcbcdb','#a7a5cf','#928ec8','#7f77b6','#6f5aa8','#5f3c99'], figsize=(9, 5));\n",
        "ContactNum_impact.plot(kind='line', x='Contacts_Count_12_mon', y='Churn_Rate', color = '#6a3d9a', figsize=(9, 5));"
      ],
      "execution_count": null,
      "outputs": [
        {
          "output_type": "display_data",
          "data": {
            "image/png": "[encoded data removed]",
            "text/plain": [
              "<Figure size 648x360 with 1 Axes>"
            ]
          },
          "metadata": {
            "needs_background": "light"
          }
        },
        {
          "output_type": "display_data",
          "data": {
            "image/png": "[encoded data removed]",
            "text/plain": [
              "<Figure size 648x360 with 1 Axes>"
            ]
          },
          "metadata": {
            "needs_background": "light"
          }
        }
      ]
    },
    {
      "cell_type": "markdown",
      "metadata": {
        "id": "keU7oLcneP_1"
      },
      "source": [
        "Create graphs to see the tendency. We can see there is a positive relationship between the number of contacts and churn rate."
      ]
    },
    {
      "cell_type": "code",
      "metadata": {
        "id": "H9g1Do4_ekQ3",
        "colab": {
          "base_uri": "https://localhost:8080/",
          "height": 80
        },
        "outputId": "d9419cea-0278-4805-d014-4210f5ca1cb1"
      },
      "source": [
        "%%bigquery --project=ba775-team-project\n",
        "SELECT ((SUM(Contacts_Count_12_mon * attrition_flag)-(SUM(Contacts_Count_12_mon) * SUM(attrition_flag)) / COUNT(*)))\n",
        "  / (SQRT(SUM(Contacts_Count_12_mon * Contacts_Count_12_mon)-(SUM(Contacts_Count_12_mon) * SUM (Contacts_Count_12_mon)) / COUNT(*) ) * SQRT(SUM(attrition_flag * attrition_flag)\n",
        "  -(SUM(attrition_flag) * SUM(attrition_flag)) / COUNT(*))) AS corr\n",
        "from \n",
        "(\n",
        "  select \n",
        "  Contacts_Count_12_mon,\n",
        "  CAST(Attrition_Flag = 'Attrited Customer' AS INT) As attrition_flag\n",
        "  from ba775-team-project.bankchurners.bankchurners\n",
        ")"
      ],
      "execution_count": null,
      "outputs": [
        {
          "output_type": "execute_result",
          "data": {
            "text/html": [
              "<div>\n",
              "<style scoped>\n",
              "    .dataframe tbody tr th:only-of-type {\n",
              "        vertical-align: middle;\n",
              "    }\n",
              "\n",
              "    .dataframe tbody tr th {\n",
              "        vertical-align: top;\n",
              "    }\n",
              "\n",
              "    .dataframe thead th {\n",
              "        text-align: right;\n",
              "    }\n",
              "</style>\n",
              "<table border=\"1\" class=\"dataframe\">\n",
              "  <thead>\n",
              "    <tr style=\"text-align: right;\">\n",
              "      <th></th>\n",
              "      <th>corr</th>\n",
              "    </tr>\n",
              "  </thead>\n",
              "  <tbody>\n",
              "    <tr>\n",
              "      <th>0</th>\n",
              "      <td>0.204491</td>\n",
              "    </tr>\n",
              "  </tbody>\n",
              "</table>\n",
              "</div>"
            ],
            "text/plain": [
              "       corr\n",
              "0  0.204491"
            ]
          },
          "metadata": {},
          "execution_count": 27
        }
      ]
    },
    {
      "cell_type": "markdown",
      "metadata": {
        "id": "FO-HcYqEjMwE"
      },
      "source": [
        "The correlation coefficient of contacts and attrition flag shows that there is a positive relationship between the two rows."
      ]
    },
    {
      "cell_type": "markdown",
      "metadata": {
        "id": "kYqeM_j-ytOA"
      },
      "source": [
        "### **Question 11: How does time length as being our customer affect churn rate?**"
      ]
    },
    {
      "cell_type": "code",
      "metadata": {
        "id": "T08uNR0aip2-"
      },
      "source": [
        "%%bigquery Time_impact --project=ba775-team-project\n",
        "SELECT\n",
        "CASE\n",
        "      WHEN Months_on_Book>=10 AND Months_on_Book <20 then '10-19'\n",
        "      WHEN Months_on_Book>=20 AND Months_on_Book <30 then '20-29'\n",
        "      WHEN Months_on_Book>=30 AND Months_on_Book <40 then '30-39'\n",
        "      ELSE '>= 40'\n",
        "    End as Months_on_Book,\n",
        "SUM(CAST(Attrition_Flag = 'Attrited Customer'as int)) as Churn_Customer,\n",
        "COUNT(*) as Total_Customer,\n",
        "SUM(CAST(Attrition_Flag = 'Attrited Customer'as int))/count(*)*100 as Churn_Rate\n",
        "\n",
        "FROM `ba775-team-project.bankchurners.bankchurners`\n",
        "group by Months_on_Book\n",
        "order by Months_on_Book"
      ],
      "execution_count": null,
      "outputs": []
    },
    {
      "cell_type": "markdown",
      "metadata": {
        "id": "UJPejNxuisGo"
      },
      "source": [
        "Divide the number of attrited customers by the total number of customers group by the Months_on_book to see whether the time length as being our customer will affect the churn rate."
      ]
    },
    {
      "cell_type": "code",
      "metadata": {
        "id": "1WzGwrzjit8m",
        "colab": {
          "base_uri": "https://localhost:8080/",
          "height": 173
        },
        "outputId": "b3588241-01ed-4aaa-9295-65c023f557d6"
      },
      "source": [
        "Time_impact"
      ],
      "execution_count": null,
      "outputs": [
        {
          "output_type": "execute_result",
          "data": {
            "text/html": [
              "<div>\n",
              "<style scoped>\n",
              "    .dataframe tbody tr th:only-of-type {\n",
              "        vertical-align: middle;\n",
              "    }\n",
              "\n",
              "    .dataframe tbody tr th {\n",
              "        vertical-align: top;\n",
              "    }\n",
              "\n",
              "    .dataframe thead th {\n",
              "        text-align: right;\n",
              "    }\n",
              "</style>\n",
              "<table border=\"1\" class=\"dataframe\">\n",
              "  <thead>\n",
              "    <tr style=\"text-align: right;\">\n",
              "      <th></th>\n",
              "      <th>Months_on_Book</th>\n",
              "      <th>Churn_Customer</th>\n",
              "      <th>Total_Customer</th>\n",
              "      <th>Churn_Rate</th>\n",
              "    </tr>\n",
              "  </thead>\n",
              "  <tbody>\n",
              "    <tr>\n",
              "      <th>0</th>\n",
              "      <td>10-19</td>\n",
              "      <td>43</td>\n",
              "      <td>309</td>\n",
              "      <td>13.915858</td>\n",
              "    </tr>\n",
              "    <tr>\n",
              "      <th>1</th>\n",
              "      <td>20-29</td>\n",
              "      <td>238</td>\n",
              "      <td>1611</td>\n",
              "      <td>14.773433</td>\n",
              "    </tr>\n",
              "    <tr>\n",
              "      <th>2</th>\n",
              "      <td>30-39</td>\n",
              "      <td>899</td>\n",
              "      <td>5391</td>\n",
              "      <td>16.675941</td>\n",
              "    </tr>\n",
              "    <tr>\n",
              "      <th>3</th>\n",
              "      <td>&gt;= 40</td>\n",
              "      <td>447</td>\n",
              "      <td>2816</td>\n",
              "      <td>15.873580</td>\n",
              "    </tr>\n",
              "  </tbody>\n",
              "</table>\n",
              "</div>"
            ],
            "text/plain": [
              "  Months_on_Book  Churn_Customer  Total_Customer  Churn_Rate\n",
              "0          10-19              43             309   13.915858\n",
              "1          20-29             238            1611   14.773433\n",
              "2          30-39             899            5391   16.675941\n",
              "3          >= 40             447            2816   15.873580"
            ]
          },
          "metadata": {},
          "execution_count": 29
        }
      ]
    },
    {
      "cell_type": "code",
      "metadata": {
        "id": "AofBZlKaivqw",
        "colab": {
          "base_uri": "https://localhost:8080/",
          "height": 691
        },
        "outputId": "1a09d5bf-6668-44d9-f430-de0fc60a19dd"
      },
      "source": [
        "Time_impact.plot(title = 'The relationship between time length as being our customer and churn rate', kind='bar', \n",
        "                 x='Months_on_Book', y='Churn_Rate', color = ['#fc8767', '#f6573f', '#b21218', '#dc2a25'],figsize=(9, 5));\n",
        "Time_impact.plot(kind='line', x='Months_on_Book', y='Churn_Rate', color = '#dc2a25' ,figsize=(9, 5));"
      ],
      "execution_count": null,
      "outputs": [
        {
          "output_type": "display_data",
          "data": {
            "image/png": "[encoded data removed]",
            "text/plain": [
              "<Figure size 648x360 with 1 Axes>"
            ]
          },
          "metadata": {
            "needs_background": "light"
          }
        },
        {
          "output_type": "display_data",
          "data": {
            "image/png": "[encoded data removed]",
            "text/plain": [
              "<Figure size 648x360 with 1 Axes>"
            ]
          },
          "metadata": {
            "needs_background": "light"
          }
        }
      ]
    },
    {
      "cell_type": "markdown",
      "metadata": {
        "id": "oLQztvwqix1u"
      },
      "source": [
        "Create graphs to see the tendency. We can see the time lengh does affect the churn rate below 39 months, however, it seems to be less influential when it's longer 40 months."
      ]
    },
    {
      "cell_type": "code",
      "metadata": {
        "id": "SxoAb_Exizll",
        "colab": {
          "base_uri": "https://localhost:8080/",
          "height": 80
        },
        "outputId": "5a36bab5-6ecc-47ff-e72c-712ebf3f9815"
      },
      "source": [
        "%%bigquery --project=ba775-team-project\n",
        "SELECT ((SUM(months_on_book * attrition_flag)-(SUM(months_on_book) * SUM(attrition_flag)) / COUNT(*)))\n",
        "  / (SQRT(SUM(months_on_book * months_on_book)-(SUM(months_on_book) * SUM (months_on_book)) / COUNT(*) ) * SQRT(SUM(attrition_flag * attrition_flag)\n",
        "  -(SUM(attrition_flag) * SUM(attrition_flag)) / COUNT(*))) AS corr\n",
        "from \n",
        "(\n",
        "  select \n",
        "  months_on_book,\n",
        "  CAST(Attrition_Flag = 'Attrited Customer' AS INT) As attrition_flag\n",
        "  from ba775-team-project.bankchurners.bankchurners\n",
        ")"
      ],
      "execution_count": null,
      "outputs": [
        {
          "output_type": "execute_result",
          "data": {
            "text/html": [
              "<div>\n",
              "<style scoped>\n",
              "    .dataframe tbody tr th:only-of-type {\n",
              "        vertical-align: middle;\n",
              "    }\n",
              "\n",
              "    .dataframe tbody tr th {\n",
              "        vertical-align: top;\n",
              "    }\n",
              "\n",
              "    .dataframe thead th {\n",
              "        text-align: right;\n",
              "    }\n",
              "</style>\n",
              "<table border=\"1\" class=\"dataframe\">\n",
              "  <thead>\n",
              "    <tr style=\"text-align: right;\">\n",
              "      <th></th>\n",
              "      <th>corr</th>\n",
              "    </tr>\n",
              "  </thead>\n",
              "  <tbody>\n",
              "    <tr>\n",
              "      <th>0</th>\n",
              "      <td>0.013687</td>\n",
              "    </tr>\n",
              "  </tbody>\n",
              "</table>\n",
              "</div>"
            ],
            "text/plain": [
              "       corr\n",
              "0  0.013687"
            ]
          },
          "metadata": {},
          "execution_count": 31
        }
      ]
    },
    {
      "cell_type": "markdown",
      "metadata": {
        "id": "RNRLxu8Ci3MW"
      },
      "source": [
        "Below is the correlation between months on book and whether it is a churned customer. Similar to the results of the graphs, there is no significant correlation between the two rows. "
      ]
    },
    {
      "cell_type": "markdown",
      "metadata": {
        "id": "5FBSSl2KyuXy"
      },
      "source": [
        "### **Question 12: How does the number of other existing service affect churn rate?**"
      ]
    },
    {
      "cell_type": "markdown",
      "metadata": {
        "id": "aWnEIquRyvxO"
      },
      "source": [
        "### **Question 13: How does transaction amount affect churn rate?**"
      ]
    },
    {
      "cell_type": "code",
      "metadata": {
        "id": "_9kEYWZMleTN"
      },
      "source": [
        "%%bigquery Total_Trans_Amt --project=ba-775-summer-21\n",
        "/* transacation amount tendency */\n",
        "SELECT sum(CAST(Attrition_Flag = 'Attrited Customer'as int)) as closed_account,count(*) as total_account,sum(CAST(Attrition_Flag = 'Attrited Customer'as int))/count(*)*100 as Churn_rate,\n",
        "case\n",
        "      WHEN Total_Trans_Amt <4000 then '0-4000'\n",
        "      WHEN Total_Trans_Amt <8000 then '4000-8000'\n",
        "      WHEN Total_Trans_Amt <12000 then '8000-12000'\n",
        "      WHEN Total_Trans_Amt <16000 then '12000-16000'\n",
        "      ELSE '16000-20000'\n",
        "    End as Total_Trans_Amt\n",
        "    \n",
        "FROM `ba-775-summer-21.project1team1.bankchurners`\n",
        "group by Total_Trans_Amt"
      ],
      "execution_count": 40,
      "outputs": []
    },
    {
      "cell_type": "markdown",
      "metadata": {
        "id": "aVIYeMLawGcn"
      },
      "source": [
        "Divide the number of attrited customers by the total number of customers group by the total transcation amount to see whether the amount our customer spend will affect the churn rate."
      ]
    },
    {
      "cell_type": "code",
      "metadata": {
        "colab": {
          "base_uri": "https://localhost:8080/",
          "height": 204
        },
        "id": "4oCIPz5-wGED",
        "outputId": "6561c188-1c30-4d23-e9ea-48b7e5608d53"
      },
      "source": [
        "Total_Trans_Amt"
      ],
      "execution_count": 41,
      "outputs": [
        {
          "output_type": "execute_result",
          "data": {
            "text/html": [
              "<div>\n",
              "<style scoped>\n",
              "    .dataframe tbody tr th:only-of-type {\n",
              "        vertical-align: middle;\n",
              "    }\n",
              "\n",
              "    .dataframe tbody tr th {\n",
              "        vertical-align: top;\n",
              "    }\n",
              "\n",
              "    .dataframe thead th {\n",
              "        text-align: right;\n",
              "    }\n",
              "</style>\n",
              "<table border=\"1\" class=\"dataframe\">\n",
              "  <thead>\n",
              "    <tr style=\"text-align: right;\">\n",
              "      <th></th>\n",
              "      <th>closed_account</th>\n",
              "      <th>total_account</th>\n",
              "      <th>Churn_rate</th>\n",
              "      <th>Total_Trans_Amt</th>\n",
              "    </tr>\n",
              "  </thead>\n",
              "  <tbody>\n",
              "    <tr>\n",
              "      <th>0</th>\n",
              "      <td>1318</td>\n",
              "      <td>5287</td>\n",
              "      <td>24.929071</td>\n",
              "      <td>0-4000</td>\n",
              "    </tr>\n",
              "    <tr>\n",
              "      <th>1</th>\n",
              "      <td>156</td>\n",
              "      <td>3751</td>\n",
              "      <td>4.158891</td>\n",
              "      <td>4000-8000</td>\n",
              "    </tr>\n",
              "    <tr>\n",
              "      <th>2</th>\n",
              "      <td>153</td>\n",
              "      <td>343</td>\n",
              "      <td>44.606414</td>\n",
              "      <td>8000-12000</td>\n",
              "    </tr>\n",
              "    <tr>\n",
              "      <th>3</th>\n",
              "      <td>0</td>\n",
              "      <td>657</td>\n",
              "      <td>0.000000</td>\n",
              "      <td>12000-16000</td>\n",
              "    </tr>\n",
              "    <tr>\n",
              "      <th>4</th>\n",
              "      <td>0</td>\n",
              "      <td>89</td>\n",
              "      <td>0.000000</td>\n",
              "      <td>16000-20000</td>\n",
              "    </tr>\n",
              "  </tbody>\n",
              "</table>\n",
              "</div>"
            ],
            "text/plain": [
              "   closed_account  total_account  Churn_rate Total_Trans_Amt\n",
              "0            1318           5287   24.929071          0-4000\n",
              "1             156           3751    4.158891       4000-8000\n",
              "2             153            343   44.606414      8000-12000\n",
              "3               0            657    0.000000     12000-16000\n",
              "4               0             89    0.000000     16000-20000"
            ]
          },
          "metadata": {},
          "execution_count": 41
        }
      ]
    },
    {
      "cell_type": "markdown",
      "metadata": {
        "id": "HPUDKdTtwzXX"
      },
      "source": [
        "Create graphs to see the tendency. We can see the customers with transacation amount below 4k tend to have a high churn rate. and customers with transcation amount between 8k to 12K have the highest churn rate. Moreover customers with transcation amount above 12k tend to stuck with us."
      ]
    },
    {
      "cell_type": "code",
      "metadata": {
        "colab": {
          "base_uri": "https://localhost:8080/",
          "height": 725
        },
        "id": "r6alKv2oyT3A",
        "outputId": "0a09f7a3-1cb1-460a-8c65-eceba6feb112"
      },
      "source": [
        "Total_Trans_Amt.plot(title = 'The relationship between transcation amount and churn rate', kind='bar', \n",
        "                       x='Total_Trans_Amt', y='Churn_rate', \n",
        "                       color = ['#d0d0e6','#bcbcdb','#a7a5cf','#928ec8','#7f77b6'], figsize=(9, 5));\n",
        "Total_Trans_Amt.plot(kind='line', x='Total_Trans_Amt', y='Churn_rate', color = '#6a3d9a', figsize=(9, 5));"
      ],
      "execution_count": 47,
      "outputs": [
        {
          "output_type": "display_data",
          "data": {
            "image/png": "[encoded data removed]",
            "text/plain": [
              "<Figure size 648x360 with 1 Axes>"
            ]
          },
          "metadata": {
            "needs_background": "light"
          }
        },
        {
          "output_type": "display_data",
          "data": {
            "image/png": "[encoded data removed]",
            "text/plain": [
              "<Figure size 648x360 with 1 Axes>"
            ]
          },
          "metadata": {
            "needs_background": "light"
          }
        }
      ]
    },
    {
      "cell_type": "markdown",
      "metadata": {
        "id": "_OKUfe-Dyw8T"
      },
      "source": [
        "### **Question 14: How does revolving balance affect churn rate?**"
      ]
    },
    {
      "cell_type": "code",
      "metadata": {
        "id": "fbN1gCTTlhf6"
      },
      "source": [
        "%%bigquery Total_Revolving_Bal --project=ba-775-summer-21\n",
        "/* revolving amount tendency */\n",
        "SELECT sum(CAST(Attrition_Flag = 'Attrited Customer'as int)) as closed_account,count(*) as total_account,sum(CAST(Attrition_Flag = 'Attrited Customer'as int))/count(*)*100 as Churn_rate,\n",
        "case\n",
        "      WHEN Total_Revolving_Bal <500 then  '0-500'\n",
        "      WHEN Total_Revolving_Bal <1000 then '0500-1000'\n",
        "      WHEN Total_Revolving_Bal <1500 then '1000-1500'\n",
        "      WHEN Total_Revolving_Bal <2000 then '1500-2000'\n",
        "      ELSE '2000-2500'\n",
        "    End as Total_Revolving_Bal\n",
        "    \n",
        "FROM `ba-775-summer-21.project1team1.bankchurners`\n",
        "group by Total_Revolving_Bal\n",
        "order by Total_Revolving_Bal"
      ],
      "execution_count": 42,
      "outputs": []
    },
    {
      "cell_type": "markdown",
      "metadata": {
        "id": "xJ9CelLzwh0M"
      },
      "source": [
        "Divide the number of attrited customers by the total number of customers group by the total revolving balance to see whether the revolving balance will affect the churn rate."
      ]
    },
    {
      "cell_type": "code",
      "metadata": {
        "colab": {
          "base_uri": "https://localhost:8080/",
          "height": 204
        },
        "id": "bhNpeSSkwrTU",
        "outputId": "f2bb1d3e-f476-490e-f5da-5485610d06a6"
      },
      "source": [
        "Total_Revolving_Bal"
      ],
      "execution_count": 43,
      "outputs": [
        {
          "output_type": "execute_result",
          "data": {
            "text/html": [
              "<div>\n",
              "<style scoped>\n",
              "    .dataframe tbody tr th:only-of-type {\n",
              "        vertical-align: middle;\n",
              "    }\n",
              "\n",
              "    .dataframe tbody tr th {\n",
              "        vertical-align: top;\n",
              "    }\n",
              "\n",
              "    .dataframe thead th {\n",
              "        text-align: right;\n",
              "    }\n",
              "</style>\n",
              "<table border=\"1\" class=\"dataframe\">\n",
              "  <thead>\n",
              "    <tr style=\"text-align: right;\">\n",
              "      <th></th>\n",
              "      <th>closed_account</th>\n",
              "      <th>total_account</th>\n",
              "      <th>Churn_rate</th>\n",
              "      <th>Total_Revolving_Bal</th>\n",
              "    </tr>\n",
              "  </thead>\n",
              "  <tbody>\n",
              "    <tr>\n",
              "      <th>0</th>\n",
              "      <td>998</td>\n",
              "      <td>2595</td>\n",
              "      <td>38.458574</td>\n",
              "      <td>0-500</td>\n",
              "    </tr>\n",
              "    <tr>\n",
              "      <th>1</th>\n",
              "      <td>163</td>\n",
              "      <td>1316</td>\n",
              "      <td>12.386018</td>\n",
              "      <td>0500-1000</td>\n",
              "    </tr>\n",
              "    <tr>\n",
              "      <th>2</th>\n",
              "      <td>103</td>\n",
              "      <td>2257</td>\n",
              "      <td>4.563580</td>\n",
              "      <td>1000-1500</td>\n",
              "    </tr>\n",
              "    <tr>\n",
              "      <th>3</th>\n",
              "      <td>108</td>\n",
              "      <td>2287</td>\n",
              "      <td>4.722344</td>\n",
              "      <td>1500-2000</td>\n",
              "    </tr>\n",
              "    <tr>\n",
              "      <th>4</th>\n",
              "      <td>255</td>\n",
              "      <td>1672</td>\n",
              "      <td>15.251196</td>\n",
              "      <td>2000-2500</td>\n",
              "    </tr>\n",
              "  </tbody>\n",
              "</table>\n",
              "</div>"
            ],
            "text/plain": [
              "   closed_account  total_account  Churn_rate Total_Revolving_Bal\n",
              "0             998           2595   38.458574               0-500\n",
              "1             163           1316   12.386018           0500-1000\n",
              "2             103           2257    4.563580           1000-1500\n",
              "3             108           2287    4.722344           1500-2000\n",
              "4             255           1672   15.251196           2000-2500"
            ]
          },
          "metadata": {},
          "execution_count": 43
        }
      ]
    },
    {
      "cell_type": "markdown",
      "metadata": {
        "id": "EfaaFyJdxyeO"
      },
      "source": [
        "Create graphs to see the tendency. We can see the revolving balance does affect the churn rate. customers with very low revolving balance tends to have a very high churn rate."
      ]
    },
    {
      "cell_type": "code",
      "metadata": {
        "colab": {
          "base_uri": "https://localhost:8080/",
          "height": 715
        },
        "id": "HAJu_RAeyyJw",
        "outputId": "74dedfc5-0098-480c-ebc4-b75f5da9878f"
      },
      "source": [
        "Total_Revolving_Bal.plot(title = 'The relationship between revolving balance and churn rate', kind='bar', \n",
        "                       x='Total_Revolving_Bal', y='Churn_rate', \n",
        "                       color = ['#d0d0e6','#bcbcdb','#a7a5cf','#928ec8','#7f77b6'], figsize=(9, 5));\n",
        "Total_Revolving_Bal.plot(kind='line', x='Total_Revolving_Bal', y='Churn_rate', color = '#6a3d9a', figsize=(9, 5));"
      ],
      "execution_count": 49,
      "outputs": [
        {
          "output_type": "display_data",
          "data": {
            "image/png": "[encoded data removed]",
            "text/plain": [
              "<Figure size 648x360 with 1 Axes>"
            ]
          },
          "metadata": {
            "needs_background": "light"
          }
        },
        {
          "output_type": "display_data",
          "data": {
            "image/png": "[encoded data removed]",
            "text/plain": [
              "<Figure size 648x360 with 1 Axes>"
            ]
          },
          "metadata": {
            "needs_background": "light"
          }
        }
      ]
    },
    {
      "cell_type": "markdown",
      "metadata": {
        "id": "0yhtwJiMIccd"
      },
      "source": [
        "# **Summary**"
      ]
    }
  ]
}