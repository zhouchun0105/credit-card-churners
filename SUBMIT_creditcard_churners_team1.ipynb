{
  "nbformat": 4,
  "nbformat_minor": 0,
  "metadata": {
    "colab": {
      "name": "SUBMIT: creditcard-churners-team1.ipynb",
      "provenance": [],
      "authorship_tag": "ABX9TyNlnyds7z2tQCRO/j3MENXg",
      "include_colab_link": true
    },
    "kernelspec": {
      "name": "python3",
      "display_name": "Python 3"
    },
    "language_info": {
      "name": "python"
    }
  },
  "cells": [
    {
      "cell_type": "markdown",
      "metadata": {
        "id": "view-in-github",
        "colab_type": "text"
      },
      "source": [
        "<a href=\"https://colab.research.google.com/github/zhouchun0105/credit-card-churners/blob/main/SUBMIT_creditcard_churners_team1.ipynb\" target=\"_parent\"><img src=\"https://colab.research.google.com/assets/colab-badge.svg\" alt=\"Open In Colab\"/></a>"
      ]
    },
    {
      "cell_type": "code",
      "metadata": {
        "id": "kngu_rU0om2O"
      },
      "source": [
        ""
      ],
      "execution_count": null,
      "outputs": []
    },
    {
      "cell_type": "markdown",
      "metadata": {
        "id": "C02XoOdl1oTp"
      },
      "source": [
        "Task:\n",
        "1. Finish this documentation by Wednesday\n",
        "2. One person at least choose to answer 2-3 questions regarding to the dataset. Specify the question in the \"Following are a few questions that we aim to answer through our analysis:\" session\n",
        "3. Meeting on Tuesday once and Wednesday again to confirm final submission\n",
        "\n",
        "Note:\n",
        "- Chun works for Overall Documentation and ML (optional)\n",
        "- Ana works for Q2 and Q12 and ML (optional)\n",
        "- For Ann Lu, Phyllis, Zijing and Yuhan, try to finish 2-4 questions, depend on the complexity of your question\n",
        "- Chun will finish the layout/formatting of documentation on Monday evening so everyone can fill in your part"
      ]
    },
    {
      "cell_type": "markdown",
      "metadata": {
        "id": "3t25mxp-rh3j"
      },
      "source": [
        "# **Credit Card Customer Churn Analysis and Predictions**"
      ]
    },
    {
      "cell_type": "markdown",
      "metadata": {
        "id": "YZEBJkkurplZ"
      },
      "source": [
        "Team 1, Afternoon Session\n",
        "\n",
        "Ana Maharjan, Ann Lu, Chun Zhou, Phyllis Cao, Yuhan Wang, Zijing Wang\n",
        "\n",
        "2021/08/26\n",
        "\n",
        "\n",
        "\n"
      ]
    },
    {
      "cell_type": "markdown",
      "metadata": {
        "id": "IHqOosRxhK5q"
      },
      "source": [
        "# **Introduction**"
      ]
    },
    {
      "cell_type": "markdown",
      "metadata": {
        "id": "aSKOtv6YhNh9"
      },
      "source": [
        "A manager at the bank wants to know why customers stop their credit card services. Our goal is to perform churn rate analysis to spot the causes of churning and predict which customers will churn. This helps the bank reduce the cost of customer retention."
      ]
    },
    {
      "cell_type": "markdown",
      "metadata": {
        "id": "GGyvbXs3r4sN"
      },
      "source": [
        "## **Following are a few questions that we aim to answer through our analysis**"
      ]
    },
    {
      "cell_type": "markdown",
      "metadata": {
        "id": "pdx-eZ3LdsCP"
      },
      "source": [
        "\n",
        "1.\tWhat is the churn rate of our customer?\n",
        "2.\tWhat is our user portrait like in terms of age, gender, educational level and income?\n",
        "3.\tWhat age group of customers has a higher tendency to churn?\n",
        "4.\tWhich education category of customers has a higher tendency to churn?\n",
        "5.\tWhich income category of customers has a higher tendency to churn?\n",
        "6.\tWhich marriage type of customers has a higher tendency to churn?\n",
        "7.\tHow does dependent count influence churn rate?\n",
        "8.\tWhich card type of customers has a higher tendency to churn?\n",
        "9.\tHow does credit limit affect churn rate?\n",
        "10.\tHow does the number of contacts by sales representative in the past 12 month affect churn rate?\n",
        "11.\tHow does time length as being our customer affect churn rate?\n",
        "12.\tHow does the number of other existing service affect churn rate?\n",
        "13.\tHow does transaction amount affect churn rate?\n",
        "14.\tHow does revolving balance affect churn rate?\n"
      ]
    },
    {
      "cell_type": "markdown",
      "metadata": {
        "id": "mcyXdbKHd49A"
      },
      "source": [
        "\n",
        "\n",
        "---\n",
        "\n",
        "\n",
        "Explanation (to be deleted): \n",
        "Q11 refer to month on book column\n",
        "Q12 refer to total relationship count column\n",
        "\n",
        "\n",
        "---\n",
        "\n",
        "\n",
        "\n",
        "\n"
      ]
    },
    {
      "cell_type": "markdown",
      "metadata": {
        "id": "bFQWTUWGeTpa"
      },
      "source": [
        "## **Description of Data**"
      ]
    },
    {
      "cell_type": "markdown",
      "metadata": {
        "id": "R368iixlDcWi"
      },
      "source": [
        "The data is about credit card customer, product and service. It has 21 features and 10128 rows. Customer demographic feature, customer card activity, credit card feature, and service feature are included. The detailed feature names and their explanations are shown below:\n",
        "\n"
      ]
    },
    {
      "cell_type": "markdown",
      "metadata": {
        "id": "Xp6trzQNhZrs"
      },
      "source": [
        "*CLIENTNUM*: Client number. Unique identifier for the customer holding the account\n",
        "\n",
        "*Attrition_Flag*: customer activity variable - if the account is closed then 1 else 0\n",
        "\n",
        "*Customer_Age*: Demographic variable - Customer's Age in Years\n",
        "\n",
        "*Gender*: Demographic variable - M=Male, F=Female\n",
        "\n",
        "*Dependent_count*: Demographic variable - Number of dependents\n",
        "\n",
        "*Education_Level*: Demographic variable - Educational Qualification of the account holder (example: high school, college graduate, etc.)\n",
        "\n",
        "*Marital_Status*: Demographic variable - Married, Single, Divorced, Unknown\n",
        "\n",
        "*Income_Category*: Demographic variable - Annual Income Category of the account holder (<  40𝐾,\n",
        "40\n",
        "K\n",
        ",\n",
        " 40K - 60K,  60𝐾−\n",
        "60\n",
        "K\n",
        "−\n",
        " 80K,  80𝐾−\n",
        "80\n",
        "K\n",
        "−\n",
        " 120K, > $120K, Unknown)\n",
        "\n",
        "*Card_Category*: Product Variable - Type of Card (Blue, Silver, Gold, Platinum)\n",
        "\n",
        "*Months_on_book*: Period of relationship with bank\n",
        "\n",
        "*Total_Relationship_Count*: Total no. of products held by the customer\n",
        "\n",
        "*Months_Inactive_12_mon*: No. of months inactive in the last 12 months\n",
        "\n",
        "*Contacts_Count_12_mon*: No. of Contacts in the last 12 months\n",
        "\n",
        "*Credit_Limit*: Credit Limit on the Credit Card\n",
        "\n",
        "*Total_Revolving_Bal*: Total Revolving Balance on the Credit Card\n",
        "\n",
        "*Avg_Open_To_Buy*: Open to Buy Credit Line (Average of last 12 months)\n",
        "\n",
        "*Total_Amt_Chng_Q4_Q1*: Change in Transaction Amount (Q4 over Q1)\n",
        "\n",
        "*Total_Trans_Amt*: Total Transaction Amount (Last 12 months)\n",
        "\n",
        "*Total_Trans_Ct*: Total Transaction Count (Last 12 months)\n",
        "\n",
        "*Total_Ct_Chng_Q4_Q1*: Change in Transaction Count (Q4 over Q1)\n",
        "\n",
        "*Avg_Utilization_Ratio*: Average Card Utilization Ratio"
      ]
    },
    {
      "cell_type": "markdown",
      "metadata": {
        "id": "tJqrY4JKhcAb"
      },
      "source": [
        "### **Question 1: What is the churn rate of our customer?**"
      ]
    },
    {
      "cell_type": "markdown",
      "metadata": {
        "id": "oaocYiQ9yN9e"
      },
      "source": [
        "### **Question 2: What is our user portrait like in terms of age, gender, educational level and income?**"
      ]
    },
    {
      "cell_type": "markdown",
      "metadata": {
        "id": "hI4sjUUbyWeJ"
      },
      "source": [
        "### **Question 3: What age group of customers has a higher tendency to churn?**"
      ]
    },
    {
      "cell_type": "markdown",
      "metadata": {
        "id": "LEGD2a7dydq3"
      },
      "source": [
        "### **Question 4: Which education category of customers has a higher tendency to churn?**"
      ]
    },
    {
      "cell_type": "markdown",
      "metadata": {
        "id": "TxvZCDQoyiaT"
      },
      "source": [
        "### **Question 5: Which income category of customers has a higher tendency to churn?**"
      ]
    },
    {
      "cell_type": "markdown",
      "metadata": {
        "id": "at-QUfTUymyC"
      },
      "source": [
        "### **Question 6: Which marriage type of customers has a higher tendency to churn?**"
      ]
    },
    {
      "cell_type": "markdown",
      "metadata": {
        "id": "cTslL70GyoJI"
      },
      "source": [
        "### **Question 7: How does dependent count influence churn rate?**"
      ]
    },
    {
      "cell_type": "markdown",
      "metadata": {
        "id": "xchRGgTBypfa"
      },
      "source": [
        "### **Question 8: Which card type of customers has a higher tendency to churn?**"
      ]
    },
    {
      "cell_type": "markdown",
      "metadata": {
        "id": "rHgafYVjyq1F"
      },
      "source": [
        "### **Question 9: How does credit limit affect churn rate?**"
      ]
    },
    {
      "cell_type": "markdown",
      "metadata": {
        "id": "fJDPaMLByr-6"
      },
      "source": [
        "### **Question 10: How does the number of contacts by sales representative in the past 12 month affect churn rate?**"
      ]
    },
    {
      "cell_type": "markdown",
      "metadata": {
        "id": "kYqeM_j-ytOA"
      },
      "source": [
        "### **Question 11: How does time length as being our customer affect churn rate?**"
      ]
    },
    {
      "cell_type": "markdown",
      "metadata": {
        "id": "5FBSSl2KyuXy"
      },
      "source": [
        "### **Question 12: How does the number of other existing service affect churn rate?**"
      ]
    },
    {
      "cell_type": "markdown",
      "metadata": {
        "id": "aWnEIquRyvxO"
      },
      "source": [
        "### **Question 13: How does transaction amount affect churn rate?**"
      ]
    },
    {
      "cell_type": "markdown",
      "metadata": {
        "id": "_OKUfe-Dyw8T"
      },
      "source": [
        "### **Question 14: How does revolving balance affect churn rate?**"
      ]
    },
    {
      "cell_type": "markdown",
      "metadata": {
        "id": "0yhtwJiMIccd"
      },
      "source": [
        "# **Summary**"
      ]
    }
  ]
}